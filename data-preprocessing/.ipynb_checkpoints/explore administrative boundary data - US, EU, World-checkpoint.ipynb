{
 "cells": [
  {
   "cell_type": "code",
   "execution_count": 2,
   "metadata": {
    "collapsed": true
   },
   "outputs": [],
   "source": [
    "import numpy as np\n",
    "import pandas as pd\n",
    "\n",
    "import geopandas as gpd\n",
    "from shapely.geometry import Point, Polygon\n",
    "from shapely.wkt import loads\n",
    "import ogr\n",
    "\n",
    "import sys, os, time\n",
    "import glob\n",
    "import unicodedata\n",
    "\n",
    "from matplotlib import pyplot as plt\n",
    "from IPython.display import display, clear_output\n",
    "%matplotlib inline\n",
    "\n",
    "# these magics ensure that external modules that are modified are also automatically reloaded\n",
    "%load_ext autoreload\n",
    "%autoreload 2\n",
    "\n",
    "import seaborn as sns\n",
    "sns.set_style(\"whitegrid\", {'axes.grid' : False})\n",
    "\n",
    "# wrapper for Overpass API\n",
    "import overpy\n",
    "\n",
    "utf8_to_ascii = lambda x: x.decode(\"utf-8\").encode(\"ascii\", \"ignore\")"
   ]
  },
  {
   "cell_type": "code",
   "execution_count": 89,
   "metadata": {},
   "outputs": [
    {
     "name": "stdout",
     "output_type": "stream",
     "text": [
      "Analyzing 25024 cities.\n"
     ]
    },
    {
     "data": {
      "text/html": [
       "<div>\n",
       "<style>\n",
       "    .dataframe thead tr:only-child th {\n",
       "        text-align: right;\n",
       "    }\n",
       "\n",
       "    .dataframe thead th {\n",
       "        text-align: left;\n",
       "    }\n",
       "\n",
       "    .dataframe tbody tr th {\n",
       "        vertical-align: top;\n",
       "    }\n",
       "</style>\n",
       "<table border=\"1\" class=\"dataframe\">\n",
       "  <thead>\n",
       "    <tr style=\"text-align: right;\">\n",
       "      <th></th>\n",
       "      <th>Country</th>\n",
       "      <th>City</th>\n",
       "      <th>Population</th>\n",
       "      <th>Latitude</th>\n",
       "      <th>Longitude</th>\n",
       "      <th>scale</th>\n",
       "      <th>region</th>\n",
       "      <th>subregion</th>\n",
       "      <th>country</th>\n",
       "      <th>geometry</th>\n",
       "      <th>city</th>\n",
       "    </tr>\n",
       "  </thead>\n",
       "  <tbody>\n",
       "    <tr>\n",
       "      <th>0</th>\n",
       "      <td>and</td>\n",
       "      <td>andorra la vella</td>\n",
       "      <td>20430.0</td>\n",
       "      <td>42.500000</td>\n",
       "      <td>1.516667</td>\n",
       "      <td>very-small</td>\n",
       "      <td>Europe</td>\n",
       "      <td>Southern Europe</td>\n",
       "      <td>andorra</td>\n",
       "      <td>POINT (1.5166667 42.5)</td>\n",
       "      <td>andorra la vella, and (pop 20.4k)</td>\n",
       "    </tr>\n",
       "    <tr>\n",
       "      <th>1</th>\n",
       "      <td>and</td>\n",
       "      <td>encamp</td>\n",
       "      <td>11224.0</td>\n",
       "      <td>42.533333</td>\n",
       "      <td>1.583333</td>\n",
       "      <td>very-small</td>\n",
       "      <td>Europe</td>\n",
       "      <td>Southern Europe</td>\n",
       "      <td>andorra</td>\n",
       "      <td>POINT (1.5833333 42.5333333)</td>\n",
       "      <td>encamp, and (pop 11.2k)</td>\n",
       "    </tr>\n",
       "    <tr>\n",
       "      <th>2</th>\n",
       "      <td>and</td>\n",
       "      <td>les escaldes</td>\n",
       "      <td>15854.0</td>\n",
       "      <td>42.500000</td>\n",
       "      <td>1.533333</td>\n",
       "      <td>very-small</td>\n",
       "      <td>Europe</td>\n",
       "      <td>Southern Europe</td>\n",
       "      <td>andorra</td>\n",
       "      <td>POINT (1.5333333 42.5)</td>\n",
       "      <td>les escaldes, and (pop 15.9k)</td>\n",
       "    </tr>\n",
       "    <tr>\n",
       "      <th>3</th>\n",
       "      <td>are</td>\n",
       "      <td>abu dhabi</td>\n",
       "      <td>603687.0</td>\n",
       "      <td>24.466667</td>\n",
       "      <td>54.366667</td>\n",
       "      <td>medium</td>\n",
       "      <td>Asia</td>\n",
       "      <td>Western Asia</td>\n",
       "      <td>united arab emirates</td>\n",
       "      <td>POINT (54.36666700000001 24.466667)</td>\n",
       "      <td>abu dhabi, are (pop 603.7k)</td>\n",
       "    </tr>\n",
       "    <tr>\n",
       "      <th>4</th>\n",
       "      <td>are</td>\n",
       "      <td>dubai</td>\n",
       "      <td>1137376.0</td>\n",
       "      <td>25.258172</td>\n",
       "      <td>55.304717</td>\n",
       "      <td>large</td>\n",
       "      <td>Asia</td>\n",
       "      <td>Western Asia</td>\n",
       "      <td>united arab emirates</td>\n",
       "      <td>POINT (55.304717 25.258172)</td>\n",
       "      <td>dubai, are (pop 1.1M)</td>\n",
       "    </tr>\n",
       "  </tbody>\n",
       "</table>\n",
       "</div>"
      ],
      "text/plain": [
       "  Country              City  Population   Latitude  Longitude       scale  \\\n",
       "0     and  andorra la vella     20430.0  42.500000   1.516667  very-small   \n",
       "1     and            encamp     11224.0  42.533333   1.583333  very-small   \n",
       "2     and      les escaldes     15854.0  42.500000   1.533333  very-small   \n",
       "3     are         abu dhabi    603687.0  24.466667  54.366667      medium   \n",
       "4     are             dubai   1137376.0  25.258172  55.304717       large   \n",
       "\n",
       "   region        subregion               country  \\\n",
       "0  Europe  Southern Europe               andorra   \n",
       "1  Europe  Southern Europe               andorra   \n",
       "2  Europe  Southern Europe               andorra   \n",
       "3    Asia     Western Asia  united arab emirates   \n",
       "4    Asia     Western Asia  united arab emirates   \n",
       "\n",
       "                              geometry                               city  \n",
       "0               POINT (1.5166667 42.5)  andorra la vella, and (pop 20.4k)  \n",
       "1         POINT (1.5833333 42.5333333)            encamp, and (pop 11.2k)  \n",
       "2               POINT (1.5333333 42.5)      les escaldes, and (pop 15.9k)  \n",
       "3  POINT (54.36666700000001 24.466667)        abu dhabi, are (pop 603.7k)  \n",
       "4          POINT (55.304717 25.258172)              dubai, are (pop 1.1M)  "
      ]
     },
     "execution_count": 89,
     "metadata": {},
     "output_type": "execute_result"
    }
   ],
   "source": [
    "# load list of cities of interest\n",
    "cities_df = pd.read_csv(\"/home/data/world-cities/urban_areas_over_10kpop.csv\")\n",
    "cities_df['country'] = cities_df['country'].apply(lambda x: x.lower())\n",
    "cities_df['geometry'] = cities_df['geometry'].apply(lambda x: loads(x))\n",
    "cities_df = gpd.GeoDataFrame(cities_df)\n",
    "print \"Analyzing %d cities.\"%len(cities_df)\n",
    "\n",
    "cities_df.head()"
   ]
  },
  {
   "cell_type": "markdown",
   "metadata": {},
   "source": [
    "# OSM/Overpass-based repository (JamesChevalier/cities)\n",
    "At https://github.com/JamesChevalier/cities\n",
    "\n",
    "Data is stored in .poly files containing, per each city, boundaries stored as polygons in a list of (lon,lat) tuples. As indicated by the author in the repository documentation, these polygons are extracted (via a semi-manual process involving some online tools) from OSM via the Overpass API. \n",
    "\n",
    "Several major drawbacks:\n",
    "* Like with any OSM-based data, there is always the question of how accurate these boundaries are. It's unclear whether they're based on published MSA data, or whether the methodology is consistent somewhat across countries\n",
    "* Even if they were completely accurate, these boundaries reflect administrative regions, which do not always reflect the \"urban morphology\", for which the fabric of built areas may be continuous (e.g., SF Bay Area)\n",
    "* Only a subset of the cities of interest (the 25,000 cities with more than 10,000 inhabitants) are represented. However, this percentage is quite large (~$80\\%$), so not that bad. "
   ]
  },
  {
   "cell_type": "markdown",
   "metadata": {},
   "source": [
    "#### Parse .poly files"
   ]
  },
  {
   "cell_type": "code",
   "execution_count": 3,
   "metadata": {},
   "outputs": [
    {
     "name": "stdout",
     "output_type": "stream",
     "text": [
      "Repository has 153390 cities.\n"
     ]
    },
    {
     "data": {
      "text/html": [
       "<div>\n",
       "<style>\n",
       "    .dataframe thead tr:only-child th {\n",
       "        text-align: right;\n",
       "    }\n",
       "\n",
       "    .dataframe thead th {\n",
       "        text-align: left;\n",
       "    }\n",
       "\n",
       "    .dataframe tbody tr th {\n",
       "        vertical-align: top;\n",
       "    }\n",
       "</style>\n",
       "<table border=\"1\" class=\"dataframe\">\n",
       "  <thead>\n",
       "    <tr style=\"text-align: right;\">\n",
       "      <th></th>\n",
       "      <th>country</th>\n",
       "      <th>province</th>\n",
       "      <th>City</th>\n",
       "      <th>file</th>\n",
       "    </tr>\n",
       "  </thead>\n",
       "  <tbody>\n",
       "    <tr>\n",
       "      <th>0</th>\n",
       "      <td>ireland</td>\n",
       "      <td>county-longford</td>\n",
       "      <td>molly</td>\n",
       "      <td>/home/nbserver/cities/ireland/county-longford/...</td>\n",
       "    </tr>\n",
       "    <tr>\n",
       "      <th>1</th>\n",
       "      <td>germany</td>\n",
       "      <td>rheinland-pfalz</td>\n",
       "      <td>dankerath</td>\n",
       "      <td>/home/nbserver/cities/germany/rheinland-pfalz/...</td>\n",
       "    </tr>\n",
       "    <tr>\n",
       "      <th>2</th>\n",
       "      <td>spain</td>\n",
       "      <td>comunidad-valenciana</td>\n",
       "      <td>guardamar del segura</td>\n",
       "      <td>/home/nbserver/cities/spain/comunidad-valencia...</td>\n",
       "    </tr>\n",
       "    <tr>\n",
       "      <th>3</th>\n",
       "      <td>brazil</td>\n",
       "      <td>rio-de-janeiro</td>\n",
       "      <td>campos dos goytacazes</td>\n",
       "      <td>/home/nbserver/cities/brazil/rio-de-janeiro/ca...</td>\n",
       "    </tr>\n",
       "    <tr>\n",
       "      <th>4</th>\n",
       "      <td>france</td>\n",
       "      <td>midi-pyrenees</td>\n",
       "      <td>roquecourbe</td>\n",
       "      <td>/home/nbserver/cities/france/midi-pyrénées/r...</td>\n",
       "    </tr>\n",
       "  </tbody>\n",
       "</table>\n",
       "</div>"
      ],
      "text/plain": [
       "   country              province                   City  \\\n",
       "0  ireland       county-longford                  molly   \n",
       "1  germany       rheinland-pfalz              dankerath   \n",
       "2    spain  comunidad-valenciana   guardamar del segura   \n",
       "3   brazil        rio-de-janeiro  campos dos goytacazes   \n",
       "4   france         midi-pyrenees            roquecourbe   \n",
       "\n",
       "                                                file  \n",
       "0  /home/nbserver/cities/ireland/county-longford/...  \n",
       "1  /home/nbserver/cities/germany/rheinland-pfalz/...  \n",
       "2  /home/nbserver/cities/spain/comunidad-valencia...  \n",
       "3  /home/nbserver/cities/brazil/rio-de-janeiro/ca...  \n",
       "4  /home/nbserver/cities/france/midi-pyrénées/r...  "
      ]
     },
     "execution_count": 3,
     "metadata": {},
     "output_type": "execute_result"
    }
   ],
   "source": [
    "polyfiles_dir = \"/home/nbserver/cities/\"\n",
    "files = glob.glob(polyfiles_dir + \"*/*/*.poly\")        \n",
    "\n",
    "def extract_info(f):\n",
    "    f = utf8_to_ascii(f)\n",
    "    country, province, city = f.replace(polyfiles_dir, \"\").split(\"/\")\n",
    "    city = city.split(\"_\")[0].replace(\"-\",\" \").replace(\"_\",' ')\n",
    "    country = country.replace(\"_\",\" \")\n",
    "    return country, province, city\n",
    "\n",
    "cities_jc = {extract_info(f):f for f in files}\n",
    "\n",
    "\n",
    "print \"Repository has %d cities.\" % len(cities_jc)\n",
    "\n",
    "city_jc_df = pd.DataFrame([[c,p,t,f] for (c,p,t),f in zip(cities_jc.keys(), cities_jc.values())], \n",
    "                             columns=[\"country\", \"province\", \"City\", \"file\"])\n",
    "city_jc_df.head()"
   ]
  },
  {
   "cell_type": "code",
   "execution_count": 4,
   "metadata": {},
   "outputs": [
    {
     "data": {
      "text/plain": [
       "(153390, 25024)"
      ]
     },
     "execution_count": 4,
     "metadata": {},
     "output_type": "execute_result"
    }
   ],
   "source": [
    "len(city_jc_df), len(cities_df)"
   ]
  },
  {
   "cell_type": "code",
   "execution_count": 5,
   "metadata": {},
   "outputs": [
    {
     "data": {
      "text/html": [
       "<div>\n",
       "<style>\n",
       "    .dataframe thead tr:only-child th {\n",
       "        text-align: right;\n",
       "    }\n",
       "\n",
       "    .dataframe thead th {\n",
       "        text-align: left;\n",
       "    }\n",
       "\n",
       "    .dataframe tbody tr th {\n",
       "        vertical-align: top;\n",
       "    }\n",
       "</style>\n",
       "<table border=\"1\" class=\"dataframe\">\n",
       "  <thead>\n",
       "    <tr style=\"text-align: right;\">\n",
       "      <th></th>\n",
       "      <th>country</th>\n",
       "      <th>province</th>\n",
       "      <th>City</th>\n",
       "      <th>file</th>\n",
       "    </tr>\n",
       "  </thead>\n",
       "  <tbody>\n",
       "    <tr>\n",
       "      <th>0</th>\n",
       "      <td>ireland</td>\n",
       "      <td>county-longford</td>\n",
       "      <td>molly</td>\n",
       "      <td>/home/nbserver/cities/ireland/county-longford/...</td>\n",
       "    </tr>\n",
       "    <tr>\n",
       "      <th>1</th>\n",
       "      <td>germany</td>\n",
       "      <td>rheinland-pfalz</td>\n",
       "      <td>dankerath</td>\n",
       "      <td>/home/nbserver/cities/germany/rheinland-pfalz/...</td>\n",
       "    </tr>\n",
       "    <tr>\n",
       "      <th>2</th>\n",
       "      <td>spain</td>\n",
       "      <td>comunidad-valenciana</td>\n",
       "      <td>guardamar del segura</td>\n",
       "      <td>/home/nbserver/cities/spain/comunidad-valencia...</td>\n",
       "    </tr>\n",
       "    <tr>\n",
       "      <th>3</th>\n",
       "      <td>brazil</td>\n",
       "      <td>rio-de-janeiro</td>\n",
       "      <td>campos dos goytacazes</td>\n",
       "      <td>/home/nbserver/cities/brazil/rio-de-janeiro/ca...</td>\n",
       "    </tr>\n",
       "    <tr>\n",
       "      <th>4</th>\n",
       "      <td>france</td>\n",
       "      <td>midi-pyrenees</td>\n",
       "      <td>roquecourbe</td>\n",
       "      <td>/home/nbserver/cities/france/midi-pyrénées/r...</td>\n",
       "    </tr>\n",
       "  </tbody>\n",
       "</table>\n",
       "</div>"
      ],
      "text/plain": [
       "   country              province                   City  \\\n",
       "0  ireland       county-longford                  molly   \n",
       "1  germany       rheinland-pfalz              dankerath   \n",
       "2    spain  comunidad-valenciana   guardamar del segura   \n",
       "3   brazil        rio-de-janeiro  campos dos goytacazes   \n",
       "4   france         midi-pyrenees            roquecourbe   \n",
       "\n",
       "                                                file  \n",
       "0  /home/nbserver/cities/ireland/county-longford/...  \n",
       "1  /home/nbserver/cities/germany/rheinland-pfalz/...  \n",
       "2  /home/nbserver/cities/spain/comunidad-valencia...  \n",
       "3  /home/nbserver/cities/brazil/rio-de-janeiro/ca...  \n",
       "4  /home/nbserver/cities/france/midi-pyrénées/r...  "
      ]
     },
     "execution_count": 5,
     "metadata": {},
     "output_type": "execute_result"
    }
   ],
   "source": [
    "city_jc_df.head()"
   ]
  },
  {
   "cell_type": "markdown",
   "metadata": {},
   "source": [
    "#### Parse .poly files to polygons"
   ]
  },
  {
   "cell_type": "code",
   "execution_count": 64,
   "metadata": {
    "collapsed": true
   },
   "outputs": [],
   "source": [
    "%%px --local\n",
    "\n",
    "import pandas as pd\n",
    "from shapely.geometry import Point, Polygon\n",
    "\n",
    "def read_poly_file(f):\n",
    "    try:\n",
    "        pointList = pd.read_csv(f, delimiter='\\t', error_bad_lines=False, \n",
    "                                skiprows=2, header=None).drop(0,1).iloc[:-2,:]\n",
    "        pointList = pointList.dropna()\n",
    "        poly = Polygon([[p[0], p[1]] for p in pointList.values])\n",
    "        return poly\n",
    "    except:\n",
    "        return None"
   ]
  },
  {
   "cell_type": "code",
   "execution_count": 14,
   "metadata": {},
   "outputs": [
    {
     "data": {
      "image/svg+xml": [
       "<svg xmlns=\"http://www.w3.org/2000/svg\" xmlns:xlink=\"http://www.w3.org/1999/xlink\" width=\"100.0\" height=\"100.0\" viewBox=\"-7.63530076 53.80346824 0.03919752 0.01805352\" preserveAspectRatio=\"xMinYMin meet\"><g transform=\"matrix(1,0,0,-1,0,107.62499)\"><path fill-rule=\"evenodd\" fill=\"#66cc99\" stroke=\"#555555\" stroke-width=\"0.0007839504\" opacity=\"0.6\" d=\"M -7.633849,53.81268 L -7.633631,53.81278 L -7.633157,53.81297 L -7.631689,53.81355 L -7.630754,53.81393 L -7.630225,53.81418 L -7.629526,53.81453 L -7.629045,53.8147 L -7.628656,53.81486 L -7.62838,53.81502 L -7.627744,53.81536 L -7.627162,53.81565 L -7.626492,53.81592 L -7.625979,53.81611 L -7.625676,53.81624 L -7.625502,53.81639 L -7.625309,53.81663 L -7.625169,53.81688 L -7.624917,53.81734 L -7.624691,53.81766 L -7.624528,53.81794 L -7.624287,53.81837 L -7.624144,53.81855 L -7.624214,53.81864 L -7.624163,53.81873 L -7.624193,53.8188 L -7.624282,53.81885 L -7.624407,53.81894 L -7.624005,53.81923 L -7.623675,53.81931 L -7.623329,53.81939 L -7.622932,53.81948 L -7.622385,53.81959 L -7.621929,53.81969 L -7.621704,53.81975 L -7.62146,53.81984 L -7.621218,53.81995 L -7.621055,53.82001 L -7.620918,53.82007 L -7.620816,53.82 L -7.620604,53.81989 L -7.620325,53.81974 L -7.620051,53.81958 L -7.619641,53.81938 L -7.619279,53.81925 L -7.618981,53.81916 L -7.618627,53.819 L -7.618324,53.81889 L -7.618013,53.81879 L -7.61794,53.81878 L -7.617868,53.81872 L -7.617643,53.81858 L -7.617401,53.81846 L -7.617195,53.81832 L -7.616964,53.81819 L -7.616787,53.81813 L -7.616894,53.81805 L -7.61683,53.81792 L -7.616401,53.8177 L -7.616188,53.81755 L -7.615875,53.81727 L -7.615414,53.8168 L -7.615038,53.81662 L -7.61463,53.81663 L -7.613901,53.81671 L -7.613268,53.81664 L -7.612678,53.81662 L -7.612195,53.81665 L -7.611701,53.81679 L -7.611519,53.8169 L -7.611457,53.81704 L -7.611197,53.81738 L -7.610877,53.81763 L -7.610511,53.81778 L -7.609931,53.81788 L -7.609601,53.81802 L -7.609202,53.81814 L -7.608644,53.8182 L -7.608118,53.81818 L -7.607766,53.818 L -7.60738,53.81767 L -7.607206,53.81758 L -7.60668,53.81742 L -7.606112,53.81734 L -7.605468,53.81731 L -7.604803,53.81724 L -7.604502,53.81674 L -7.604481,53.8165 L -7.604236,53.81631 L -7.604041,53.81604 L -7.603633,53.81554 L -7.603539,53.81525 L -7.603646,53.81474 L -7.603472,53.81461 L -7.60358,53.81442 L -7.603185,53.81401 L -7.602917,53.81396 L -7.602518,53.81383 L -7.602324,53.81367 L -7.601949,53.81347 L -7.601509,53.81333 L -7.601125,53.81332 L -7.600597,53.8133 L -7.600374,53.81315 L -7.600082,53.81307 L -7.599441,53.81317 L -7.599149,53.81304 L -7.59885,53.8128 L -7.598647,53.81259 L -7.598387,53.81232 L -7.598119,53.81204 L -7.597786,53.81183 L -7.597861,53.81171 L -7.597775,53.81157 L -7.597555,53.81149 L -7.597738,53.81124 L -7.597931,53.81091 L -7.598011,53.81073 L -7.598065,53.81051 L -7.598103,53.81025 L -7.598113,53.81007 L -7.598065,53.80994 L -7.598371,53.80987 L -7.59865,53.80983 L -7.599047,53.80982 L -7.599438,53.80977 L -7.600141,53.80971 L -7.600398,53.80961 L -7.600752,53.80945 L -7.601107,53.80931 L -7.601659,53.80922 L -7.602265,53.80908 L -7.602652,53.80898 L -7.603081,53.80881 L -7.603424,53.8086 L -7.60395,53.80834 L -7.604379,53.80803 L -7.604604,53.80792 L -7.605028,53.80776 L -7.605334,53.80756 L -7.605559,53.80737 L -7.605484,53.80708 L -7.60535,53.80659 L -7.605269,53.80622 L -7.605237,53.80595 L -7.605339,53.80581 L -7.605591,53.80559 L -7.605875,53.80536 L -7.606171,53.80523 L -7.606487,53.8051 L -7.606836,53.80503 L -7.607093,53.80502 L -7.607281,53.80498 L -7.607501,53.80497 L -7.607667,53.80492 L -7.607876,53.80497 L -7.608048,53.80495 L -7.608198,53.80493 L -7.608311,53.80498 L -7.608402,53.805 L -7.608429,53.80506 L -7.608531,53.80507 L -7.608703,53.80504 L -7.608864,53.80502 L -7.609057,53.80494 L -7.609164,53.80497 L -7.609357,53.80511 L -7.609534,53.80514 L -7.609701,53.80515 L -7.609935,53.80517 L -7.610146,53.8051 L -7.61028,53.80516 L -7.610471,53.8052 L -7.610579,53.80525 L -7.610698,53.80533 L -7.610865,53.80532 L -7.611029,53.80526 L -7.61123,53.80524 L -7.611369,53.80526 L -7.611544,53.8053 L -7.611675,53.80529 L -7.611825,53.80524 L -7.611927,53.80526 L -7.612211,53.80541 L -7.612506,53.80561 L -7.612716,53.80573 L -7.612912,53.80585 L -7.613193,53.80605 L -7.613536,53.80626 L -7.613845,53.80635 L -7.614287,53.80647 L -7.614583,53.80656 L -7.6149,53.80671 L -7.615349,53.80685 L -7.615699,53.80697 L -7.616052,53.80704 L -7.616284,53.80713 L -7.616527,53.80716 L -7.61678,53.80725 L -7.617171,53.80731 L -7.617498,53.80754 L -7.618301,53.80786 L -7.618843,53.80806 L -7.619526,53.80836 L -7.619952,53.8085 L -7.620483,53.8087 L -7.620832,53.80885 L -7.621034,53.80893 L -7.621312,53.80905 L -7.621773,53.80923 L -7.622015,53.80932 L -7.622131,53.80942 L -7.622337,53.80948 L -7.622463,53.80954 L -7.622543,53.8096 L -7.622685,53.80969 L -7.622793,53.80974 L -7.622868,53.80973 L -7.623018,53.80968 L -7.623138,53.8097 L -7.623415,53.80977 L -7.62378,53.80987 L -7.624067,53.80996 L -7.624429,53.81005 L -7.624692,53.81014 L -7.625129,53.81025 L -7.625768,53.81043 L -7.626035,53.81051 L -7.626682,53.81068 L -7.627245,53.81081 L -7.627804,53.81099 L -7.628249,53.81109 L -7.628914,53.81128 L -7.62948,53.81143 L -7.630477,53.8117 L -7.630819,53.81179 L -7.631073,53.81186 L -7.631248,53.81191 L -7.631408,53.81198 L -7.631563,53.812 L -7.631663,53.81205 L -7.631944,53.81211 L -7.632022,53.81215 L -7.632947,53.81241 L -7.633611,53.81259 L -7.633849,53.81268 z\" /></g></svg>"
      ],
      "text/plain": [
       "<shapely.geometry.polygon.Polygon at 0x7f3298771e10>"
      ]
     },
     "execution_count": 14,
     "metadata": {},
     "output_type": "execute_result"
    }
   ],
   "source": [
    "p = read_poly_file(city_jc_df.iloc[0]['file'])\n",
    "p"
   ]
  },
  {
   "cell_type": "markdown",
   "metadata": {},
   "source": [
    "There are major shortcomings of trying to match cities by name: \n",
    "- within the same country there may be multiple cities with the same name, but in different states (the worldpopcities.txt database does not contain info on subdivisions such as states/provinces)\n",
    "- there may be differences in spelling, writing, accents etc that may result in mismatches\n",
    "\n",
    "Instead, we'll match cities by locating the closest polygon (by center) to the center of the city in our initial database."
   ]
  },
  {
   "cell_type": "code",
   "execution_count": 42,
   "metadata": {},
   "outputs": [
    {
     "name": "stdout",
     "output_type": "stream",
     "text": [
      "48\n"
     ]
    }
   ],
   "source": [
    "from IPython import parallel\n",
    "\n",
    "rc = parallel.Client()\n",
    "all_engines = rc[:]\n",
    "lbv = rc.load_balanced_view()\n",
    "\n",
    "print len(all_engines)"
   ]
  },
  {
   "cell_type": "code",
   "execution_count": 67,
   "metadata": {},
   "outputs": [
    {
     "data": {
      "text/plain": [
       "153390"
      ]
     },
     "execution_count": 67,
     "metadata": {},
     "output_type": "execute_result"
    }
   ],
   "source": [
    "len(city_jc_df['file'].values)"
   ]
  },
  {
   "cell_type": "code",
   "execution_count": 65,
   "metadata": {
    "collapsed": true
   },
   "outputs": [],
   "source": [
    "res = lbv.map_async(lambda src: read_poly_file(src), \n",
    "                    city_jc_df['file'].values)"
   ]
  },
  {
   "cell_type": "code",
   "execution_count": 79,
   "metadata": {},
   "outputs": [
    {
     "data": {
      "text/plain": [
       "country     153331\n",
       "province    153331\n",
       "City        153331\n",
       "file        153331\n",
       "geometry    153331\n",
       "center      153331\n",
       "dtype: int64"
      ]
     },
     "execution_count": 79,
     "metadata": {},
     "output_type": "execute_result"
    }
   ],
   "source": [
    "city_jc_df['geometry'] = res.result()\n",
    "city_jc_df['center'] = city_jc_df['geometry'].apply(lambda x: x.centroid if x is not None else None)\n",
    "city_jc_df.dropna(inplace=True)\n",
    "city_jc_df.drop_duplicates(subset=[\"country\", \"province\", \"City\"], inplace=True)\n",
    "\n",
    "city_jc_gdf = gpd.GeoDataFrame(city_jc_df)\n",
    "\n",
    "city_jc_gdf.count()"
   ]
  },
  {
   "cell_type": "markdown",
   "metadata": {},
   "source": [
    "#### Match each major city to the corresponding bounds geometry, if any"
   ]
  },
  {
   "cell_type": "code",
   "execution_count": 215,
   "metadata": {
    "collapsed": true
   },
   "outputs": [],
   "source": [
    "# 'fuzzy' string match\n",
    "\n",
    "from fuzzywuzzy import fuzz\n",
    "from fuzzywuzzy import process\n",
    "\n",
    "def partial_match(s, choices, thresh=0.8):\n",
    "    name, score = process.extractOne(s, choices, \n",
    "                                     scorer=fuzz.token_sort_ratio)\n",
    "    ret = name if score >= (thresh*100) else None\n",
    "    return ret"
   ]
  },
  {
   "cell_type": "code",
   "execution_count": 136,
   "metadata": {
    "collapsed": true
   },
   "outputs": [],
   "source": [
    "# construct a spatial index for faster query\n",
    "\n",
    "from sklearn.neighbors import KDTree, BallTree\n",
    "\n",
    "lonlat = city_jc_gdf['center'].apply(lambda p: p.bounds[:2])\n",
    "lonlat = np.array([[p[0],p[1]] for p in lonlat])\n",
    "spatial_index = BallTree(lonlat, leaf_size=10)\n",
    "\n",
    "point2loc = lambda p: tuple(np.array(p.centroid.coords.xy).squeeze())"
   ]
  },
  {
   "cell_type": "code",
   "execution_count": 162,
   "metadata": {},
   "outputs": [
    {
     "data": {
      "text/plain": [
       "Country                                and\n",
       "City                                encamp\n",
       "Population                           11224\n",
       "Latitude                           42.5333\n",
       "Longitude                          1.58333\n",
       "scale                           very-small\n",
       "region                              Europe\n",
       "subregion                  Southern Europe\n",
       "country                            andorra\n",
       "geometry      POINT (1.5833333 42.5333333)\n",
       "city               encamp, and (pop 11.2k)\n",
       "Name: 1, dtype: object"
      ]
     },
     "execution_count": 162,
     "metadata": {},
     "output_type": "execute_result"
    }
   ],
   "source": [
    "cities_df.iloc[1]"
   ]
  },
  {
   "cell_type": "code",
   "execution_count": 304,
   "metadata": {
    "collapsed": true
   },
   "outputs": [],
   "source": [
    "def find_matching_city(query, gdf, spatial_index, \\\n",
    "                       topk=5, thresh=0.8, \n",
    "                       fields=['country', 'City']):\n",
    "    loc, country, city = query\n",
    "    \n",
    "    # first get top k closest spatial matches\n",
    "    # this search is O(log N), faster than fuzzy-matching strings in O(N)\n",
    "    loc_match_idx = spatial_index.query(loc, k=topk)[1][0]\n",
    "    match = gdf.iloc[loc_match_idx] \n",
    "    \n",
    "    # now find partial matches for country and city name\n",
    "    for field in fields:\n",
    "        field1 = partial_match(field, match[col_country], thresh=thresh)\n",
    "        if country1 is not None:\n",
    "            match_country = match[match[col_country]==country1]\n",
    "            city1 = partial_match(city, match_country[col_city], thresh=thresh)\n",
    "            if city1 is not None:\n",
    "                return match_country[match_country[col_city]==city1]\n",
    "    return None\n"
   ]
  },
  {
   "cell_type": "code",
   "execution_count": 221,
   "metadata": {},
   "outputs": [
    {
     "name": "stdout",
     "output_type": "stream",
     "text": [
      "('andorra', 'encamp', (1.5833333000000001, 42.533333300000002))\n"
     ]
    },
    {
     "name": "stderr",
     "output_type": "stream",
     "text": [
      "/usr/local/lib/python2.7/dist-packages/sklearn/utils/validation.py:395: DeprecationWarning: Passing 1d arrays as data is deprecated in 0.17 and will raise ValueError in 0.19. Reshape your data either using X.reshape(-1, 1) if your data has a single feature or X.reshape(1, -1) if it contains a single sample.\n",
      "  DeprecationWarning)\n"
     ]
    }
   ],
   "source": [
    "r = cities_df.iloc[1]\n",
    "p = r['geometry']\n",
    "loc = point2loc(p)\n",
    "\n",
    "query = (r['country'], r['City'], loc)\n",
    "print query\n",
    "\n",
    "find_matching_city(query, city_jc_gdf, spatial_index)"
   ]
  },
  {
   "cell_type": "code",
   "execution_count": 223,
   "metadata": {},
   "outputs": [
    {
     "name": "stdout",
     "output_type": "stream",
     "text": [
      "25023 / 25024 : ('zimbabwe', 'victoria falls', (25.8333333, -17.933333300000001))\n"
     ]
    },
    {
     "name": "stderr",
     "output_type": "stream",
     "text": [
      "/usr/local/lib/python2.7/dist-packages/sklearn/utils/validation.py:395: DeprecationWarning: Passing 1d arrays as data is deprecated in 0.17 and will raise ValueError in 0.19. Reshape your data either using X.reshape(-1, 1) if your data has a single feature or X.reshape(1, -1) if it contains a single sample.\n",
      "  DeprecationWarning)\n"
     ]
    }
   ],
   "source": [
    "city_bounds_osm = []\n",
    "for i,r in cities_df.iterrows():\n",
    "    clear_output()\n",
    "    print i, '/', len(cities_df), ':', query\n",
    "\n",
    "    p = r['geometry']\n",
    "    loc = point2loc(p)\n",
    "    query = (r['country'], r['City'], loc)\n",
    "\n",
    "    match = find_matching_city(query, city_jc_gdf, spatial_index)\n",
    "    match = match.iloc[0]['geometry'] if match is not None else match\n",
    "    city_bounds_osm += [match]\n",
    "    \n",
    "city_bounds_df = cities_df.copy()\n",
    "city_bounds_df['bounds_osm'] = city_bounds_osm"
   ]
  },
  {
   "cell_type": "code",
   "execution_count": 225,
   "metadata": {},
   "outputs": [
    {
     "data": {
      "text/plain": [
       "9592"
      ]
     },
     "execution_count": 225,
     "metadata": {},
     "output_type": "execute_result"
    }
   ],
   "source": [
    "pd.Series(city_bounds_osm).count()"
   ]
  },
  {
   "cell_type": "markdown",
   "metadata": {
    "collapsed": true
   },
   "source": [
    "# Integrate accurate MSAs for US cities\n",
    "\n",
    "See basic info here:\n",
    "\n",
    "https://en.wikipedia.org/wiki/Core-based_statistical_area\n",
    "https://en.wikipedia.org/wiki/Micropolitan_statistical_area\n",
    "https://en.wikipedia.org/wiki/Metropolitan_statistical_area\n",
    "\n",
    "There are several notions of importance here defined by the U.S. Office of Management and Budget (OMB):\n",
    "* Micropolitan statistical area ($\\mu$SA): region centered on an urban cluster (urban area) with a population of at least 10,000 but fewer than 50,000 people\n",
    "* Metropolitan statistical area (MSAs): a geographical region with a relatively high population density at its core and close economic ties throughout the area\n",
    "* Core-based statistical area (CBSA): contiguous region of high population density around a major city with economic and commuting ties. This includes both MSAs and $\\mu$SAs\n",
    "* Combined statistical area (CSA): under certain conditions, two or more CBSAs can be merged into a CSA (e.g., several nearby cities, but not one of them more important than the others)\n",
    "\n",
    "Some stats (according to Wikipedia), slightly dated now:\n",
    "- 169 Combined Statistical Areas\n",
    "- 929 Core Based Statistical Areas\n",
    "- 388 Metropolitan Statistical Areas\n",
    "- 540 Micropolitan Statistical Areas"
   ]
  },
  {
   "cell_type": "code",
   "execution_count": 228,
   "metadata": {},
   "outputs": [
    {
     "name": "stdout",
     "output_type": "stream",
     "text": [
      "There are 3601 UAs in the US\n",
      "There are 945 CBSAs in the US\n",
      "There are 174 CSAs in the US\n"
     ]
    }
   ],
   "source": [
    "us_ua_gdf = gpd.read_file(\"/home/data/city-boundaries/US-MSA/cb_2016_us_ua10_500k/cb_2016_us_ua10_500k.shp\")\n",
    "print \"There are %d UAs in the US\" % len(us_ua_gdf)\n",
    "\n",
    "us_cbsa_gdf = gpd.read_file(\"/home/data/city-boundaries/US-MSA/cb_2016_us_cbsa_500k/cb_2016_us_cbsa_500k.shp\")\n",
    "print \"There are %d CBSAs in the US\" % len(us_cbsa_gdf)\n",
    "\n",
    "us_csa_gdf = gpd.read_file(\"/home/data/city-boundaries/US-MSA/cb_2016_us_csa_500k/cb_2016_us_csa_500k.shp\")\n",
    "print \"There are %d CSAs in the US\" % len(us_csa_gdf)\n",
    "\n"
   ]
  },
  {
   "cell_type": "code",
   "execution_count": 249,
   "metadata": {
    "collapsed": true
   },
   "outputs": [],
   "source": [
    "f_parse_city_name = lambda x: x.split(\",\")[0].lower().replace(\"-\",\" \").replace(\"_\", ' ')\n",
    "us_cbsa_gdf['City'] = us_cbsa_gdf['NAME'].apply(f_parse_city_name)\n",
    "us_ua_gdf['City'] = us_ua_gdf['NAME10'].apply(f_parse_city_name)\n",
    "us_csa_gdf['City'] = us_csa_gdf['NAME'].apply(f_parse_city_name)"
   ]
  },
  {
   "cell_type": "code",
   "execution_count": 229,
   "metadata": {
    "collapsed": true
   },
   "outputs": [],
   "source": [
    "from pyproj import Geod\n",
    "\n",
    "wgs84_geod = Geod(ellps='WGS84') #Distance will be measured on this ellipsoid - more accurate than a spherical method\n",
    "\n",
    "#Get distance between pairs of lat-lon points\n",
    "def compute_geo_distance_km(lat1,lon1,lat2,lon2):\n",
    "    az12,az21,dist = wgs84_geod.inv(lon1,lat1,lon2,lat2) #Yes, this order is correct\n",
    "    return dist / 1.0e3 # return km\n",
    "\n",
    "def compute_length_width(p):\n",
    "    bbox = p.bounds\n",
    "    L = compute_geo_distance_km(bbox[1], bbox[0], bbox[3], bbox[0])\n",
    "    W = compute_geo_distance_km(bbox[1], bbox[0], bbox[1], bbox[2])\n",
    "    L, W = max([L,W]), min([L,W])\n",
    "    return L, W\n"
   ]
  },
  {
   "cell_type": "code",
   "execution_count": 230,
   "metadata": {},
   "outputs": [
    {
     "name": "stdout",
     "output_type": "stream",
     "text": [
      "(-91.1568126516435, 42.507059428755895, -90.42580099999999, 43.211455)\n",
      "(78.2513010431917, 60.081489571091666)\n"
     ]
    },
    {
     "data": {
      "image/svg+xml": [
       "<svg xmlns=\"http://www.w3.org/2000/svg\" xmlns:xlink=\"http://www.w3.org/1999/xlink\" width=\"100.0\" height=\"100.0\" viewBox=\"-91.1860531177 42.4778189627 0.789492583775 0.762876503376\" preserveAspectRatio=\"xMinYMin meet\"><g transform=\"matrix(1,0,0,-1,0,85.7185144288)\"><path fill-rule=\"evenodd\" fill=\"#66cc99\" stroke=\"#555555\" stroke-width=\"0.0157898516755\" opacity=\"0.6\" d=\"M -91.1568126516,42.9881698665 L -91.153016,42.990118 L -91.149055,42.993214 L -91.145015,42.99419 L -91.136552,42.998915 L -91.131235,42.999513 L -91.122767,42.999655 L -91.118328,42.999303 L -91.114534,43.000302 L -91.110504,43.000297 L -91.109581,42.999574 L -91.104932,43.00038 L -91.101442,43.000124 L -91.098922,42.998242 L -91.095366,42.997214 L -91.091017,42.994558 L -91.087085,42.993649 L -91.07971,42.993476 L -91.07723,42.99444 L -91.068918,42.992483 L -91.06527,42.992074 L -91.062211,42.992552 L -91.057275,42.994083 L -91.054772,42.996034 L -91.053679,42.997921 L -91.053541,43.000374 L -91.052584,43.001665 L -91.047582,43.003255 L -91.043191,43.004291 L -91.040942,43.004369 L -91.036858,43.00388 L -91.033888,43.004278 L -91.022788,43.007574 L -91.01816,43.010614 L -91.014421,43.011896 L -91.012071,43.013152 L -91.011114,43.014467 L -91.008178,43.016997 L -91.004427,43.022441 L -91.000928,43.024093 L -90.99774,43.025254 L -90.99604,43.025257 L -90.992923,43.025115 L -90.98918,43.026399 L -90.985685,43.026096 L -90.982931,43.026938 L -90.976759,43.029631 L -90.973922,43.031462 L -90.969431,43.033193 L -90.966049,43.035205 L -90.965115,43.037056 L -90.963462,43.038345 L -90.959119,43.039802 L -90.953078,43.043754 L -90.950619,43.046275 L -90.949154,43.048433 L -90.945495,43.055208 L -90.940087,43.061882 L -90.937481,43.063534 L -90.931849,43.065337 L -90.929187,43.065243 L -90.923665,43.064318 L -90.916218,43.062722 L -90.914136,43.062584 L -90.911843,43.063026 L -90.903985,43.065333 L -90.900645,43.067911 L -90.898222,43.069459 L -90.892253,43.070119 L -90.88765,43.071301 L -90.882949,43.073247 L -90.879581,43.073558 L -90.877677,43.073677 L -90.872414,43.072373 L -90.869719,43.073172 L -90.86657,43.072794 L -90.863113,43.073802 L -90.859037,43.074388 L -90.854788,43.076235 L -90.848626,43.076646 L -90.845746,43.077625 L -90.84388,43.079925 L -90.843374,43.081261 L -90.841124,43.084228 L -90.838538,43.085706 L -90.83126,43.085447 L -90.826047,43.08676 L -90.822794,43.088146 L -90.819621,43.091501 L -90.815651,43.094159 L -90.812364,43.095612 L -90.80926,43.097724 L -90.808856,43.099705 L -90.808701,43.102134 L -90.804707,43.105356 L -90.798753,43.10884 L -90.792734,43.110923 L -90.786929,43.111484 L -90.784896,43.112088 L -90.774995,43.114563 L -90.769277,43.11514 L -90.765511,43.11506 L -90.7633,43.115572 L -90.756989,43.118892 L -90.756557,43.119381 L -90.751925,43.123163 L -90.750202,43.123997 L -90.745281,43.123272 L -90.742455,43.123596 L -90.738985,43.126463 L -90.73785,43.128763 L -90.734874,43.131133 L -90.732865,43.13719 L -90.732014,43.138917 L -90.728108,43.142063 L -90.726676,43.144884 L -90.721286,43.148023 L -90.719334,43.150027 L -90.715605,43.151317 L -90.71116,43.153482 L -90.708075,43.154401 L -90.705824,43.155918 L -90.705078,43.156949 L -90.700392,43.159227 L -90.698213,43.160722 L -90.697674,43.161904 L -90.697342,43.165592 L -90.698142,43.16819 L -90.689863,43.172972 L -90.678646,43.17354 L -90.674592,43.172197 L -90.670863,43.17177 L -90.666786,43.171777 L -90.660435,43.17113 L -90.65657,43.171833 L -90.65203,43.174087 L -90.650053,43.175444 L -90.642515,43.178737 L -90.64049,43.179304 L -90.637687,43.178995 L -90.634539,43.179279 L -90.62772,43.182055 L -90.620052,43.18417 L -90.615568,43.184215 L -90.610546,43.184844 L -90.608608,43.185372 L -90.603312,43.189447 L -90.59851,43.193622 L -90.595867,43.195324 L -90.588903,43.200688 L -90.584408,43.202216 L -90.582312,43.203267 L -90.575683,43.204721 L -90.568725,43.205396 L -90.563399,43.206518 L -90.560837,43.206706 L -90.558128,43.206731 L -90.547223,43.210857 L -90.545408,43.211455 L -90.540592,43.211246 L -90.537746,43.209432 L -90.534281,43.208281 L -90.529821,43.207514 L -90.526998,43.20755 L -90.520417,43.206725 L -90.511955,43.208427 L -90.505895,43.208908 L -90.496229,43.206157 L -90.490737,43.205996 L -90.485457,43.205439 L -90.479476,43.203476 L -90.473617,43.202905 L -90.464938,43.201836 L -90.46238,43.201783 L -90.45272,43.202229 L -90.445128,43.200036 L -90.442444,43.199767 L -90.439286,43.199631 L -90.429825,43.20094 L -90.429684,43.192962 L -90.429677,43.192237 L -90.429639,43.188799 L -90.42962,43.186948 L -90.429577,43.182989 L -90.429543,43.179662 L -90.42991,43.118213 L -90.429865,43.11484 L -90.429841,43.11302 L -90.429837,43.112739 L -90.429077,43.055398 L -90.428877,43.053953 L -90.428606,43.031599 L -90.428602,43.031356 L -90.428505,43.009955 L -90.428391,43.002488 L -90.428556,42.977149 L -90.428506,42.972349 L -90.428491,42.967232 L -90.428472,42.962418 L -90.428424,42.951466 L -90.428311,42.944213 L -90.427656,42.907372 L -90.42744,42.892822 L -90.427424,42.871195 L -90.427362,42.856253 L -90.427356,42.84636 L -90.427298,42.84221 L -90.427223,42.837465 L -90.426938,42.81625 L -90.426902,42.812862 L -90.426696,42.798652 L -90.426358,42.783927 L -90.426294,42.776589 L -90.426279,42.769244 L -90.426124,42.733045 L -90.426097,42.725558 L -90.426041,42.710962 L -90.425932,42.681894 L -90.425881,42.667391 L -90.425879,42.658053 L -90.425879,42.655729 L -90.425874,42.638249 L -90.425988,42.623847 L -90.425842,42.61515 L -90.425806,42.61306 L -90.425801,42.610315 L -90.425881,42.594804 L -90.425887,42.578197 L -90.425879,42.576271 L -90.42586,42.572613 L -90.425898,42.568064 L -90.425921,42.565048 L -90.426025,42.550827 L -90.426088,42.543836 L -90.426118,42.539946 L -90.426169,42.533425 L -90.42618,42.532032 L -90.426197,42.529855 L -90.426233,42.525297 L -90.4263779353,42.5070594288 L -90.437011,42.507147 L -90.4371745763,42.5071484528 L -90.474955,42.507484 L -90.479446,42.507416 L -90.4858764615,42.5075250086 L -90.491716,42.507624 L -90.5306194776,42.5075750564 L -90.532254,42.507573 L -90.544347,42.507707 L -90.5443563656,42.5077071243 L -90.544799,42.507713 L -90.551165,42.507691 L -90.555862,42.507509 L -90.5653534994,42.5075991687 L -90.565441,42.5076 L -90.5854273402,42.5077842153 L -90.5899143535,42.5078255723 L -90.6093120796,42.5080043623 L -90.6098136981,42.5080089858 L -90.6106690886,42.5080168699 L -90.6130311137,42.5080386409 L -90.614589,42.508053 L -90.617731,42.508077 L -90.624917135,42.50819261 L -90.6297087601,42.5082696973 L -90.6347862055,42.5083513829 L -90.6390251084,42.508419578 L -90.642843,42.508481 L -90.636927,42.513202 L -90.636727,42.518702 L -90.640627,42.527701 L -90.6421547076,42.5335803594 L -90.643927,42.540401 L -90.645627,42.5441 L -90.6464189473,42.5446403876 L -90.654127,42.5499 L -90.659127,42.5579 L -90.6614240934,42.5675659778 L -90.661527,42.567999 L -90.672727,42.576599 L -90.6747520439,42.5778230099 L -90.677055,42.579215 L -90.679375,42.581503 L -90.685487,42.589614 L -90.686975,42.591774 L -90.687775,42.594606 L -90.687999,42.599198 L -90.6910405482,42.6076226058 L -90.692031,42.610366 L -90.693999,42.614509 L -90.700095,42.622461 L -90.700856,42.626445 L -90.702671,42.630756 L -90.706303,42.634169 L -90.709204,42.636078 L -90.720209,42.640758 L -90.731132,42.643437 L -90.743677,42.64556 L -90.760389,42.649131 L -90.7625316299,42.6496750106 L -90.769495,42.651443 L -90.778752,42.652965 L -90.7793700564,42.6530252139 L -90.7809288686,42.6531770804 L -90.788226,42.653888 L -90.797017,42.655772 L -90.8054203076,42.6571590108 L -90.8281534668,42.6609112403 L -90.832702,42.661662 L -90.84391,42.663071 L -90.852497,42.664822 L -90.867125,42.668728 L -90.8811725241,42.6713168124 L -90.88743,42.67247 L -90.8968978644,42.6752621751 L -90.8990727403,42.6759035694 L -90.900261,42.676254 L -90.9134,42.682949 L -90.921155,42.685406 L -90.923634,42.6855 L -90.929881,42.684128 L -90.937045,42.683399 L -90.941567,42.683844 L -90.949213,42.685573 L -90.952415,42.686778 L -90.9545072417,42.6878470588 L -90.965048,42.693233 L -90.974237,42.695249 L -90.977735,42.696816 L -90.980578,42.698932 L -90.988776,42.708724 L -90.995536,42.713704 L -91.000128,42.716189 L -91.009577,42.720123 L -91.0151009555,42.7193147486 L -91.015687,42.719229 L -91.017239,42.719566 L -91.0179210806,42.7198990742 L -91.026786,42.724228 L -91.029692,42.726774 L -91.030718,42.729684 L -91.0309700788,42.732400007 L -91.030984,42.73255 L -91.032013,42.734484 L -91.035418,42.73734 L -91.039383,42.738478 L -91.044139,42.738605 L -91.046571,42.737167 L -91.049972,42.736905 L -91.051275,42.737001 L -91.053733,42.738238 L -91.054801,42.740529 L -91.05481,42.744686 L -91.056297,42.747341 L -91.058091,42.749246 L -91.060172,42.750481 L -91.06468,42.750914 L -91.065783,42.753387 L -91.065492,42.757081 L -91.06312,42.757273 L -91.061432,42.757974 L -91.060129,42.759986 L -91.060261,42.761847 L -91.063254,42.763947 L -91.069549,42.769628 L -91.0699097662,42.7714438876 L -91.070716,42.775502 L -91.071138,42.783004 L -91.072447,42.787732 L -91.075481,42.795466 L -91.0755999267,42.7959688018 L -91.078097,42.806526 L -91.0788444544,42.8149912124 L -91.079314,42.820309 L -91.078665,42.827678 L -91.08277,42.829977 L -91.090136,42.829237 L -91.09406,42.830813 L -91.095114,42.834966 L -91.0949298289,42.8357049666 L -91.0929781161,42.8435360039 L -91.0916993288,42.8486670003 L -91.091402,42.84986 L -91.091837,42.851225 L -91.095329,42.85532 L -91.097656,42.859871 L -91.09882,42.864421 L -91.098238,42.875798 L -91.100565,42.883078 L -91.104051,42.885971 L -91.112158,42.891149 L -91.115512,42.894672 L -91.117411,42.895837 L -91.130781095,42.9009898342 L -91.138,42.903772 L -91.143375,42.90467 L -91.144706,42.905964 L -91.14556,42.90798 L -91.146177,42.90985 L -91.146182,42.912338 L -91.145868,42.914967 L -91.143878,42.920646 L -91.1438754147,42.9207199458 L -91.1438,42.922877 L -91.144315,42.926592 L -91.145517,42.930378 L -91.149784,42.940244 L -91.14988,42.941955 L -91.14909,42.946554 L -91.14554,42.95651 L -91.14543,42.958211 L -91.14655,42.963345 L -91.147122655,42.9644540011 L -91.148001,42.966155 L -91.150906,42.970514 L -91.155519,42.975774 L -91.156562,42.978226 L -91.156743,42.98783 L -91.1568126516,42.9881698665 z\" /></g></svg>"
      ],
      "text/plain": [
       "<shapely.geometry.polygon.Polygon at 0x7f30558e26d0>"
      ]
     },
     "execution_count": 230,
     "metadata": {},
     "output_type": "execute_result"
    }
   ],
   "source": [
    "p = us_cbsa_gdf.loc[0,'geometry']\n",
    "bbox = p.bounds\n",
    "print bbox\n",
    "print compute_length_width(p)\n",
    "p"
   ]
  },
  {
   "cell_type": "code",
   "execution_count": 231,
   "metadata": {},
   "outputs": [
    {
     "name": "stdout",
     "output_type": "stream",
     "text": [
      "#CBSAs with scale>250km: 17 / 945\n"
     ]
    },
    {
     "data": {
      "text/plain": [
       "<matplotlib.text.Text at 0x7f3055b53490>"
      ]
     },
     "execution_count": 231,
     "metadata": {},
     "output_type": "execute_result"
    },
    {
     "data": {
      "image/png": "[encoded data removed]",
      "text/plain": [
       "<matplotlib.figure.Figure at 0x7f3055de2790>"
      ]
     },
     "metadata": {},
     "output_type": "display_data"
    }
   ],
   "source": [
    "cbsa_scale = us_cbsa_gdf['geometry'].apply(lambda p: max(compute_length_width(p)))\n",
    "print \"#CBSAs with scale>250km: %d / %d\" % (len(cbsa_scale[cbsa_scale>250]), len(cbsa_scale))\n",
    "\n",
    "sns.set_context(\"notebook\", font_scale=1.5, rc={\"lines.linewidth\": 1})\n",
    "cbsa_scale[cbsa_scale<250].hist(bins=50)\n",
    "plt.xlabel(\"scale [km]\")\n",
    "plt.ylabel(\"count\")\n",
    "plt.title(\"Distribution of CBSA scales\")"
   ]
  },
  {
   "cell_type": "code",
   "execution_count": 232,
   "metadata": {},
   "outputs": [
    {
     "name": "stdout",
     "output_type": "stream",
     "text": [
      "#CSAs with scale>500km: 2 / 174\n"
     ]
    },
    {
     "data": {
      "text/plain": [
       "<matplotlib.text.Text at 0x7f3055758fd0>"
      ]
     },
     "execution_count": 232,
     "metadata": {},
     "output_type": "execute_result"
    },
    {
     "data": {
      "image/png": "[encoded data removed]",
      "text/plain": [
       "<matplotlib.figure.Figure at 0x7f305577a390>"
      ]
     },
     "metadata": {},
     "output_type": "display_data"
    }
   ],
   "source": [
    "csa_scale = us_csa_gdf['geometry'].apply(lambda p: max(compute_length_width(p)))\n",
    "print \"#CSAs with scale>500km: %d / %d\" % (len(csa_scale[csa_scale>500]), len(csa_scale))\n",
    "\n",
    "sns.set_context(\"notebook\", font_scale=1.5, rc={\"lines.linewidth\": 1})\n",
    "csa_scale[csa_scale<500].hist(bins=20)\n",
    "plt.xlabel(\"city scale [km]\")\n",
    "plt.ylabel(\"count\")\n",
    "plt.title(\"Distribution of CSA scales\")\n"
   ]
  },
  {
   "cell_type": "code",
   "execution_count": 233,
   "metadata": {},
   "outputs": [
    {
     "name": "stdout",
     "output_type": "stream",
     "text": [
      "#UAs with scale>100km: 14 / 3601\n"
     ]
    },
    {
     "data": {
      "text/plain": [
       "<matplotlib.text.Text at 0x7f305566b950>"
      ]
     },
     "execution_count": 233,
     "metadata": {},
     "output_type": "execute_result"
    },
    {
     "data": {
      "image/png": "[encoded data removed]",
      "text/plain": [
       "<matplotlib.figure.Figure at 0x7f3055724490>"
      ]
     },
     "metadata": {},
     "output_type": "display_data"
    }
   ],
   "source": [
    "ua_scale = us_ua_gdf['geometry'].apply(lambda p: max(compute_length_width(p)))\n",
    "print \"#UAs with scale>100km: %d / %d\" % (len(ua_scale[ua_scale>100]), len(ua_scale))\n",
    "\n",
    "sns.set_context(\"notebook\", font_scale=1.5, rc={\"lines.linewidth\": 1})\n",
    "ua_scale[ua_scale<100].hist(bins=20)\n",
    "plt.xlabel(\"city scale [km]\")\n",
    "plt.ylabel(\"count\")\n",
    "plt.title(\"Distribution of UA scales\")"
   ]
  },
  {
   "cell_type": "code",
   "execution_count": 234,
   "metadata": {},
   "outputs": [
    {
     "data": {
      "text/plain": [
       "<matplotlib.text.Text at 0x7f3055503950>"
      ]
     },
     "execution_count": 234,
     "metadata": {},
     "output_type": "execute_result"
    },
    {
     "data": {
      "image/png": "[encoded data removed]",
      "text/plain": [
       "<matplotlib.figure.Figure at 0x7f305584add0>"
      ]
     },
     "metadata": {},
     "output_type": "display_data"
    }
   ],
   "source": [
    "sns.set_context(\"notebook\", font_scale=1.5, rc={\"lines.linewidth\": 1})\n",
    "fig, ax = plt.subplots(figsize=(16,6))\n",
    "us_ua_gdf.sample(500).plot(ax=ax)\n",
    "plt.title(\"UAs in the US\")"
   ]
  },
  {
   "cell_type": "code",
   "execution_count": 235,
   "metadata": {},
   "outputs": [
    {
     "data": {
      "text/plain": [
       "<matplotlib.text.Text at 0x7f3038cad650>"
      ]
     },
     "execution_count": 235,
     "metadata": {},
     "output_type": "execute_result"
    },
    {
     "data": {
      "image/png": "[encoded data removed]",
      "text/plain": [
       "<matplotlib.figure.Figure at 0x7f305586cd50>"
      ]
     },
     "metadata": {},
     "output_type": "display_data"
    }
   ],
   "source": [
    "sns.set_context(\"notebook\", font_scale=1.5, rc={\"lines.linewidth\": 1})\n",
    "fig, ax = plt.subplots(figsize=(16,6))\n",
    "us_cbsa_gdf.plot(ax=ax)\n",
    "plt.title(\"CBSAs in the US\")"
   ]
  },
  {
   "cell_type": "code",
   "execution_count": 236,
   "metadata": {},
   "outputs": [
    {
     "data": {
      "text/plain": [
       "(3590, 11)"
      ]
     },
     "execution_count": 236,
     "metadata": {},
     "output_type": "execute_result"
    }
   ],
   "source": [
    "cities_df[cities_df.country=='united states'].shape"
   ]
  },
  {
   "cell_type": "markdown",
   "metadata": {},
   "source": [
    "#### Match US cities from original 25k dataset"
   ]
  },
  {
   "cell_type": "code",
   "execution_count": 246,
   "metadata": {
    "collapsed": true
   },
   "outputs": [],
   "source": [
    "# construct a spatial index for faster query\n",
    "us_ua_gdf['center'] = us_ua_gdf['geometry'].apply(lambda x: x.centroid if x is not None else None)\n",
    "us_ua_gdf['country'] = 'united states'\n",
    "\n",
    "lonlat = us_ua_gdf['center'].apply(lambda p: p.bounds[:2])\n",
    "lonlat = np.array([[p[0],p[1]] for p in lonlat])\n",
    "spatial_index = BallTree(lonlat, leaf_size=10)"
   ]
  },
  {
   "cell_type": "code",
   "execution_count": 260,
   "metadata": {},
   "outputs": [
    {
     "data": {
      "text/plain": [
       "(3590, 11)"
      ]
     },
     "execution_count": 260,
     "metadata": {},
     "output_type": "execute_result"
    }
   ],
   "source": [
    "cities_df[cities_df.country == 'united states'].shape"
   ]
  },
  {
   "cell_type": "code",
   "execution_count": 261,
   "metadata": {},
   "outputs": [
    {
     "name": "stdout",
     "output_type": "stream",
     "text": [
      "24496 / 25024 : ('united states', 'rock springs', (-109.20222219999999, 41.587499999999999))\n"
     ]
    },
    {
     "name": "stderr",
     "output_type": "stream",
     "text": [
      "/usr/local/lib/python2.7/dist-packages/sklearn/utils/validation.py:395: DeprecationWarning: Passing 1d arrays as data is deprecated in 0.17 and will raise ValueError in 0.19. Reshape your data either using X.reshape(-1, 1) if your data has a single feature or X.reshape(1, -1) if it contains a single sample.\n",
      "  DeprecationWarning)\n"
     ]
    }
   ],
   "source": [
    "city_bounds_us_ua = []\n",
    "not_found_us = []\n",
    "for i,r in cities_df.iterrows():\n",
    "    if r['country'] != 'united states':\n",
    "        city_bounds_us_ua += [None]\n",
    "        continue\n",
    "    clear_output()\n",
    "    print i, '/', len(cities_df), ':', query\n",
    "\n",
    "    p = r['geometry']\n",
    "    loc = point2loc(p)\n",
    "    query = (r['country'], r['City'], loc)\n",
    "\n",
    "    match = find_matching_city(query, us_ua_gdf, spatial_index, \n",
    "                               thresh=0.7, topk=10)\n",
    "    match = match.iloc[0]['geometry'] if match is not None else match\n",
    "    if match is None:\n",
    "        not_found_us += [i]\n",
    "    city_bounds_us_ua += [match]\n",
    "    \n",
    "city_bounds_df['bounds_us_ua'] = city_bounds_us_ua\n",
    "not_found_us = cities_df.iloc[not_found_us]"
   ]
  },
  {
   "cell_type": "code",
   "execution_count": 262,
   "metadata": {},
   "outputs": [
    {
     "data": {
      "text/plain": [
       "Country         25024\n",
       "City            25024\n",
       "Population      25024\n",
       "Latitude        25024\n",
       "Longitude       25024\n",
       "scale           25024\n",
       "region          25024\n",
       "subregion       25024\n",
       "country         25024\n",
       "geometry        25024\n",
       "city            25024\n",
       "bounds_osm       9592\n",
       "bounds_us_ua     1205\n",
       "dtype: int64"
      ]
     },
     "execution_count": 262,
     "metadata": {},
     "output_type": "execute_result"
    }
   ],
   "source": [
    "city_bounds_df.count()"
   ]
  },
  {
   "cell_type": "code",
   "execution_count": 306,
   "metadata": {},
   "outputs": [
    {
     "data": {
      "text/plain": [
       "(9826, 13)"
      ]
     },
     "execution_count": 306,
     "metadata": {},
     "output_type": "execute_result"
    }
   ],
   "source": [
    "city_bounds_df[(~city_bounds_df.bounds_osm.isnull()) | (~city_bounds_df.bounds_us_ua.isnull())].shape"
   ]
  },
  {
   "cell_type": "markdown",
   "metadata": {},
   "source": [
    "# Parse UMZs for EU cities \n",
    "\n",
    "UMZs are defined as as areas of contiguous built up that are separated by less than 200m. \n",
    "\n",
    "UMZ areas are defined by an ID, and may correspond to several nearby cities. The original dataset contained just these IDs, some work has been done to integrate information on city names. We merge these two datasets here. "
   ]
  },
  {
   "cell_type": "code",
   "execution_count": 307,
   "metadata": {},
   "outputs": [
    {
     "name": "stdout",
     "output_type": "stream",
     "text": [
      "4070\n"
     ]
    },
    {
     "data": {
      "text/html": [
       "<div>\n",
       "<style>\n",
       "    .dataframe thead tr:only-child th {\n",
       "        text-align: right;\n",
       "    }\n",
       "\n",
       "    .dataframe thead th {\n",
       "        text-align: left;\n",
       "    }\n",
       "\n",
       "    .dataframe tbody tr th {\n",
       "        vertical-align: top;\n",
       "    }\n",
       "</style>\n",
       "<table border=\"1\" class=\"dataframe\">\n",
       "  <thead>\n",
       "    <tr style=\"text-align: right;\">\n",
       "      <th></th>\n",
       "      <th>New_ID</th>\n",
       "      <th>geometry</th>\n",
       "    </tr>\n",
       "  </thead>\n",
       "  <tbody>\n",
       "    <tr>\n",
       "      <th>0</th>\n",
       "      <td>1</td>\n",
       "      <td>POLYGON ((14.30838627938947 48.23397801757972,...</td>\n",
       "    </tr>\n",
       "    <tr>\n",
       "      <th>1</th>\n",
       "      <td>2</td>\n",
       "      <td>POLYGON ((13.61623512998554 47.69408107454091,...</td>\n",
       "    </tr>\n",
       "    <tr>\n",
       "      <th>2</th>\n",
       "      <td>3</td>\n",
       "      <td>POLYGON ((16.24413018617133 47.96530954620469,...</td>\n",
       "    </tr>\n",
       "    <tr>\n",
       "      <th>3</th>\n",
       "      <td>4</td>\n",
       "      <td>POLYGON ((16.0832047860983 47.96803325621212, ...</td>\n",
       "    </tr>\n",
       "    <tr>\n",
       "      <th>4</th>\n",
       "      <td>5</td>\n",
       "      <td>POLYGON ((9.843269184583878 47.13444361953892,...</td>\n",
       "    </tr>\n",
       "  </tbody>\n",
       "</table>\n",
       "</div>"
      ],
      "text/plain": [
       "   New_ID                                           geometry\n",
       "0       1  POLYGON ((14.30838627938947 48.23397801757972,...\n",
       "1       2  POLYGON ((13.61623512998554 47.69408107454091,...\n",
       "2       3  POLYGON ((16.24413018617133 47.96530954620469,...\n",
       "3       4  POLYGON ((16.0832047860983 47.96803325621212, ...\n",
       "4       5  POLYGON ((9.843269184583878 47.13444361953892,..."
      ]
     },
     "execution_count": 307,
     "metadata": {},
     "output_type": "execute_result"
    }
   ],
   "source": [
    "eu_umz_gdf = gpd.read_file(\"/home/data/city-boundaries/EU-UMZ/data_UMZ_Named_10K/M4D_UMZ-LAU2_20140114/geometries/UMZ_2000_V2_NAMED_10k_Agregate.shp\")\n",
    "umz_names = pd.read_excel(\"/home/data/city-boundaries/EU-UMZ/data_UMZ_Named_10K/M4D_UMZ-LAU2_20140114/Nomenclature.xls\", sheetname=\"names\")\n",
    "print len(eu_umz_gdf)\n",
    "\n",
    "# original data is in Northing/Easting\n",
    "# reproject to WGS84 (lon,lat) coordinates\n",
    "eu_umz_gdf = eu_umz_gdf.to_crs({'init' :'epsg:4326'})\n",
    "\n",
    "eu_umz_gdf.head()"
   ]
  },
  {
   "cell_type": "code",
   "execution_count": 308,
   "metadata": {},
   "outputs": [
    {
     "data": {
      "text/html": [
       "<div>\n",
       "<style>\n",
       "    .dataframe thead tr:only-child th {\n",
       "        text-align: right;\n",
       "    }\n",
       "\n",
       "    .dataframe thead th {\n",
       "        text-align: left;\n",
       "    }\n",
       "\n",
       "    .dataframe tbody tr th {\n",
       "        vertical-align: top;\n",
       "    }\n",
       "</style>\n",
       "<table border=\"1\" class=\"dataframe\">\n",
       "  <thead>\n",
       "    <tr style=\"text-align: right;\">\n",
       "      <th></th>\n",
       "      <th>New_ID</th>\n",
       "      <th>geometry</th>\n",
       "      <th>cities</th>\n",
       "    </tr>\n",
       "  </thead>\n",
       "  <tbody>\n",
       "    <tr>\n",
       "      <th>0</th>\n",
       "      <td>1</td>\n",
       "      <td>POLYGON ((14.30838627938947 48.23397801757972,...</td>\n",
       "      <td>(ansfelden,)</td>\n",
       "    </tr>\n",
       "    <tr>\n",
       "      <th>1</th>\n",
       "      <td>2</td>\n",
       "      <td>POLYGON ((13.61623512998554 47.69408107454091,...</td>\n",
       "      <td>(bad ischl,)</td>\n",
       "    </tr>\n",
       "    <tr>\n",
       "      <th>2</th>\n",
       "      <td>3</td>\n",
       "      <td>POLYGON ((16.24413018617133 47.96530954620469,...</td>\n",
       "      <td>(bad voslau, kottingbrunn)</td>\n",
       "    </tr>\n",
       "    <tr>\n",
       "      <th>3</th>\n",
       "      <td>4</td>\n",
       "      <td>POLYGON ((16.0832047860983 47.96803325621212, ...</td>\n",
       "      <td>(berndorf, enzesfeld lindabrunn)</td>\n",
       "    </tr>\n",
       "    <tr>\n",
       "      <th>4</th>\n",
       "      <td>5</td>\n",
       "      <td>POLYGON ((9.843269184583878 47.13444361953892,...</td>\n",
       "      <td>(bludenz,)</td>\n",
       "    </tr>\n",
       "  </tbody>\n",
       "</table>\n",
       "</div>"
      ],
      "text/plain": [
       "   New_ID                                           geometry  \\\n",
       "0       1  POLYGON ((14.30838627938947 48.23397801757972,...   \n",
       "1       2  POLYGON ((13.61623512998554 47.69408107454091,...   \n",
       "2       3  POLYGON ((16.24413018617133 47.96530954620469,...   \n",
       "3       4  POLYGON ((16.0832047860983 47.96803325621212, ...   \n",
       "4       5  POLYGON ((9.843269184583878 47.13444361953892,...   \n",
       "\n",
       "                             cities  \n",
       "0                      (ansfelden,)  \n",
       "1                      (bad ischl,)  \n",
       "2        (bad voslau, kottingbrunn)  \n",
       "3  (berndorf, enzesfeld lindabrunn)  \n",
       "4                        (bludenz,)  "
      ]
     },
     "execution_count": 308,
     "metadata": {},
     "output_type": "execute_result"
    }
   ],
   "source": [
    "umz_code2name = dict(zip(umz_names['unit_code'].values, \n",
    "                         umz_names['unit_name'].str.lower().apply(lambda x: x.replace(\"-\", \" \")).values))\n",
    "umz_code2name = {k:tuple(v.split(\" // \")) \n",
    "                 for k,v in umz_code2name.iteritems()}\n",
    "\n",
    "eu_umz_gdf['cities'] = eu_umz_gdf['New_ID'].apply(lambda x: umz_code2name[x])\n",
    "\n",
    "eu_umz_gdf.head()"
   ]
  },
  {
   "cell_type": "code",
   "execution_count": 309,
   "metadata": {},
   "outputs": [
    {
     "name": "stdout",
     "output_type": "stream",
     "text": [
      "#UMZs with scale>50km: 15 / 4070\n"
     ]
    },
    {
     "data": {
      "text/plain": [
       "<matplotlib.text.Text at 0x7f302f7d8490>"
      ]
     },
     "execution_count": 309,
     "metadata": {},
     "output_type": "execute_result"
    },
    {
     "data": {
      "image/png": "[encoded data removed]",
      "text/plain": [
       "<matplotlib.figure.Figure at 0x7f303558f1d0>"
      ]
     },
     "metadata": {},
     "output_type": "display_data"
    }
   ],
   "source": [
    "umz_scale = eu_umz_gdf['geometry'].apply(lambda p: max(compute_length_width(p)))\n",
    "print \"#UMZs with scale>50km: %d / %d\" % (len(umz_scale[umz_scale>50]), len(umz_scale))\n",
    "\n",
    "sns.set_context(\"notebook\", font_scale=1.5, rc={\"lines.linewidth\": 1})\n",
    "umz_scale[umz_scale<50].hist(bins=20)\n",
    "plt.xlabel(\"city scale [km]\")\n",
    "plt.ylabel(\"count\")\n",
    "plt.title(\"Distribution of UMZ scales\")"
   ]
  },
  {
   "cell_type": "markdown",
   "metadata": {},
   "source": [
    "#### Match cities from original 25k list"
   ]
  },
  {
   "cell_type": "code",
   "execution_count": 311,
   "metadata": {
    "collapsed": true
   },
   "outputs": [],
   "source": [
    "# construct a spatial index for faster query\n",
    "eu_umz_gdf['center'] = eu_umz_gdf['geometry'].apply(lambda x: x.centroid if x is not None else None)\n",
    "\n",
    "lonlat = eu_umz_gdf['center'].apply(lambda p: p.bounds[:2])\n",
    "lonlat = np.array([[p[0],p[1]] for p in lonlat])\n",
    "spatial_index = BallTree(lonlat, leaf_size=10)"
   ]
  },
  {
   "cell_type": "code",
   "execution_count": 312,
   "metadata": {},
   "outputs": [
    {
     "data": {
      "text/html": [
       "<div>\n",
       "<style>\n",
       "    .dataframe thead tr:only-child th {\n",
       "        text-align: right;\n",
       "    }\n",
       "\n",
       "    .dataframe thead th {\n",
       "        text-align: left;\n",
       "    }\n",
       "\n",
       "    .dataframe tbody tr th {\n",
       "        vertical-align: top;\n",
       "    }\n",
       "</style>\n",
       "<table border=\"1\" class=\"dataframe\">\n",
       "  <thead>\n",
       "    <tr style=\"text-align: right;\">\n",
       "      <th></th>\n",
       "      <th>New_ID</th>\n",
       "      <th>geometry</th>\n",
       "      <th>cities</th>\n",
       "      <th>center</th>\n",
       "    </tr>\n",
       "  </thead>\n",
       "  <tbody>\n",
       "    <tr>\n",
       "      <th>0</th>\n",
       "      <td>1</td>\n",
       "      <td>POLYGON ((14.30838627938947 48.23397801757972,...</td>\n",
       "      <td>(ansfelden,)</td>\n",
       "      <td>POINT (14.2705230177 48.20748705556698)</td>\n",
       "    </tr>\n",
       "    <tr>\n",
       "      <th>1</th>\n",
       "      <td>2</td>\n",
       "      <td>POLYGON ((13.61623512998554 47.69408107454091,...</td>\n",
       "      <td>(bad ischl,)</td>\n",
       "      <td>POINT (13.59346216519398 47.7131294916275)</td>\n",
       "    </tr>\n",
       "    <tr>\n",
       "      <th>2</th>\n",
       "      <td>3</td>\n",
       "      <td>POLYGON ((16.24413018617133 47.96530954620469,...</td>\n",
       "      <td>(bad voslau, kottingbrunn)</td>\n",
       "      <td>POINT (16.21977818257035 47.9523237139848)</td>\n",
       "    </tr>\n",
       "    <tr>\n",
       "      <th>3</th>\n",
       "      <td>4</td>\n",
       "      <td>POLYGON ((16.0832047860983 47.96803325621212, ...</td>\n",
       "      <td>(berndorf, enzesfeld lindabrunn)</td>\n",
       "      <td>POINT (16.13866057476264 47.93823911431473)</td>\n",
       "    </tr>\n",
       "    <tr>\n",
       "      <th>4</th>\n",
       "      <td>5</td>\n",
       "      <td>POLYGON ((9.843269184583878 47.13444361953892,...</td>\n",
       "      <td>(bludenz,)</td>\n",
       "      <td>POINT (9.800184720392876 47.16881944971048)</td>\n",
       "    </tr>\n",
       "  </tbody>\n",
       "</table>\n",
       "</div>"
      ],
      "text/plain": [
       "   New_ID                                           geometry  \\\n",
       "0       1  POLYGON ((14.30838627938947 48.23397801757972,...   \n",
       "1       2  POLYGON ((13.61623512998554 47.69408107454091,...   \n",
       "2       3  POLYGON ((16.24413018617133 47.96530954620469,...   \n",
       "3       4  POLYGON ((16.0832047860983 47.96803325621212, ...   \n",
       "4       5  POLYGON ((9.843269184583878 47.13444361953892,...   \n",
       "\n",
       "                             cities  \\\n",
       "0                      (ansfelden,)   \n",
       "1                      (bad ischl,)   \n",
       "2        (bad voslau, kottingbrunn)   \n",
       "3  (berndorf, enzesfeld lindabrunn)   \n",
       "4                        (bludenz,)   \n",
       "\n",
       "                                        center  \n",
       "0      POINT (14.2705230177 48.20748705556698)  \n",
       "1   POINT (13.59346216519398 47.7131294916275)  \n",
       "2   POINT (16.21977818257035 47.9523237139848)  \n",
       "3  POINT (16.13866057476264 47.93823911431473)  \n",
       "4  POINT (9.800184720392876 47.16881944971048)  "
      ]
     },
     "execution_count": 312,
     "metadata": {},
     "output_type": "execute_result"
    }
   ],
   "source": [
    "eu_umz_gdf.head()"
   ]
  },
  {
   "cell_type": "code",
   "execution_count": 314,
   "metadata": {},
   "outputs": [
    {
     "name": "stdout",
     "output_type": "stream",
     "text": [
      "0 / 25024 : ('united states', 'alabaster', (-86.816388900000007, 33.244166700000001))\n"
     ]
    },
    {
     "name": "stderr",
     "output_type": "stream",
     "text": [
      "/usr/local/lib/python2.7/dist-packages/sklearn/utils/validation.py:395: DeprecationWarning: Passing 1d arrays as data is deprecated in 0.17 and will raise ValueError in 0.19. Reshape your data either using X.reshape(-1, 1) if your data has a single feature or X.reshape(1, -1) if it contains a single sample.\n",
      "  DeprecationWarning)\n"
     ]
    },
    {
     "ename": "KeyError",
     "evalue": "'country'",
     "output_type": "error",
     "traceback": [
      "\u001b[0;31m---------------------------------------------------------------------------\u001b[0m",
      "\u001b[0;31mKeyError\u001b[0m                                  Traceback (most recent call last)",
      "\u001b[0;32m<ipython-input-314-1a8717ce407f>\u001b[0m in \u001b[0;36m<module>\u001b[0;34m()\u001b[0m\n\u001b[1;32m     10\u001b[0m \u001b[0;34m\u001b[0m\u001b[0m\n\u001b[1;32m     11\u001b[0m     match = find_matching_city(query, eu_umz_gdf, spatial_index, \n\u001b[0;32m---> 12\u001b[0;31m                                thresh=0.7, topk=10)\n\u001b[0m\u001b[1;32m     13\u001b[0m     \u001b[0mmatch\u001b[0m \u001b[0;34m=\u001b[0m \u001b[0mmatch\u001b[0m\u001b[0;34m.\u001b[0m\u001b[0miloc\u001b[0m\u001b[0;34m[\u001b[0m\u001b[0;36m0\u001b[0m\u001b[0;34m]\u001b[0m\u001b[0;34m[\u001b[0m\u001b[0;34m'geometry'\u001b[0m\u001b[0;34m]\u001b[0m \u001b[0;32mif\u001b[0m \u001b[0mmatch\u001b[0m \u001b[0;32mis\u001b[0m \u001b[0;32mnot\u001b[0m \u001b[0mNone\u001b[0m \u001b[0;32melse\u001b[0m \u001b[0mmatch\u001b[0m\u001b[0;34m\u001b[0m\u001b[0m\n\u001b[1;32m     14\u001b[0m     \u001b[0;32mif\u001b[0m \u001b[0mmatch\u001b[0m \u001b[0;32mis\u001b[0m \u001b[0mNone\u001b[0m\u001b[0;34m:\u001b[0m\u001b[0;34m\u001b[0m\u001b[0m\n",
      "\u001b[0;32m<ipython-input-304-8bbe879f8caa>\u001b[0m in \u001b[0;36mfind_matching_city\u001b[0;34m(query, gdf, spatial_index, topk, thresh, fields)\u001b[0m\n\u001b[1;32m     10\u001b[0m \u001b[0;34m\u001b[0m\u001b[0m\n\u001b[1;32m     11\u001b[0m     \u001b[0;31m# now find partial matches for country and city name\u001b[0m\u001b[0;34m\u001b[0m\u001b[0;34m\u001b[0m\u001b[0m\n\u001b[0;32m---> 12\u001b[0;31m     \u001b[0mcountry1\u001b[0m \u001b[0;34m=\u001b[0m \u001b[0mpartial_match\u001b[0m\u001b[0;34m(\u001b[0m\u001b[0mcountry\u001b[0m\u001b[0;34m,\u001b[0m \u001b[0mmatch\u001b[0m\u001b[0;34m[\u001b[0m\u001b[0mcol_country\u001b[0m\u001b[0;34m]\u001b[0m\u001b[0;34m,\u001b[0m \u001b[0mthresh\u001b[0m\u001b[0;34m=\u001b[0m\u001b[0mthresh\u001b[0m\u001b[0;34m)\u001b[0m\u001b[0;34m\u001b[0m\u001b[0m\n\u001b[0m\u001b[1;32m     13\u001b[0m     \u001b[0;32mif\u001b[0m \u001b[0mcountry1\u001b[0m \u001b[0;32mis\u001b[0m \u001b[0;32mnot\u001b[0m \u001b[0mNone\u001b[0m\u001b[0;34m:\u001b[0m\u001b[0;34m\u001b[0m\u001b[0m\n\u001b[1;32m     14\u001b[0m         \u001b[0mmatch_country\u001b[0m \u001b[0;34m=\u001b[0m \u001b[0mmatch\u001b[0m\u001b[0;34m[\u001b[0m\u001b[0mmatch\u001b[0m\u001b[0;34m[\u001b[0m\u001b[0mcol_country\u001b[0m\u001b[0;34m]\u001b[0m\u001b[0;34m==\u001b[0m\u001b[0mcountry1\u001b[0m\u001b[0;34m]\u001b[0m\u001b[0;34m\u001b[0m\u001b[0m\n",
      "\u001b[0;32m/usr/local/lib/python2.7/dist-packages/geopandas/geodataframe.pyc\u001b[0m in \u001b[0;36m__getitem__\u001b[0;34m(self, key)\u001b[0m\n\u001b[1;32m    374\u001b[0m         \u001b[0mGeoDataFrame\u001b[0m\u001b[0;34m.\u001b[0m\u001b[0;34m\u001b[0m\u001b[0m\n\u001b[1;32m    375\u001b[0m         \"\"\"\n\u001b[0;32m--> 376\u001b[0;31m         \u001b[0mresult\u001b[0m \u001b[0;34m=\u001b[0m \u001b[0msuper\u001b[0m\u001b[0;34m(\u001b[0m\u001b[0mGeoDataFrame\u001b[0m\u001b[0;34m,\u001b[0m \u001b[0mself\u001b[0m\u001b[0;34m)\u001b[0m\u001b[0;34m.\u001b[0m\u001b[0m__getitem__\u001b[0m\u001b[0;34m(\u001b[0m\u001b[0mkey\u001b[0m\u001b[0;34m)\u001b[0m\u001b[0;34m\u001b[0m\u001b[0m\n\u001b[0m\u001b[1;32m    377\u001b[0m         \u001b[0mgeo_col\u001b[0m \u001b[0;34m=\u001b[0m \u001b[0mself\u001b[0m\u001b[0;34m.\u001b[0m\u001b[0m_geometry_column_name\u001b[0m\u001b[0;34m\u001b[0m\u001b[0m\n\u001b[1;32m    378\u001b[0m         \u001b[0;32mif\u001b[0m \u001b[0misinstance\u001b[0m\u001b[0;34m(\u001b[0m\u001b[0mkey\u001b[0m\u001b[0;34m,\u001b[0m \u001b[0mstring_types\u001b[0m\u001b[0;34m)\u001b[0m \u001b[0;32mand\u001b[0m \u001b[0mkey\u001b[0m \u001b[0;34m==\u001b[0m \u001b[0mgeo_col\u001b[0m\u001b[0;34m:\u001b[0m\u001b[0;34m\u001b[0m\u001b[0m\n",
      "\u001b[0;32m/usr/local/lib/python2.7/dist-packages/pandas/core/frame.pyc\u001b[0m in \u001b[0;36m__getitem__\u001b[0;34m(self, key)\u001b[0m\n\u001b[1;32m   1962\u001b[0m             \u001b[0;32mreturn\u001b[0m \u001b[0mself\u001b[0m\u001b[0;34m.\u001b[0m\u001b[0m_getitem_multilevel\u001b[0m\u001b[0;34m(\u001b[0m\u001b[0mkey\u001b[0m\u001b[0;34m)\u001b[0m\u001b[0;34m\u001b[0m\u001b[0m\n\u001b[1;32m   1963\u001b[0m         \u001b[0;32melse\u001b[0m\u001b[0;34m:\u001b[0m\u001b[0;34m\u001b[0m\u001b[0m\n\u001b[0;32m-> 1964\u001b[0;31m             \u001b[0;32mreturn\u001b[0m \u001b[0mself\u001b[0m\u001b[0;34m.\u001b[0m\u001b[0m_getitem_column\u001b[0m\u001b[0;34m(\u001b[0m\u001b[0mkey\u001b[0m\u001b[0;34m)\u001b[0m\u001b[0;34m\u001b[0m\u001b[0m\n\u001b[0m\u001b[1;32m   1965\u001b[0m \u001b[0;34m\u001b[0m\u001b[0m\n\u001b[1;32m   1966\u001b[0m     \u001b[0;32mdef\u001b[0m \u001b[0m_getitem_column\u001b[0m\u001b[0;34m(\u001b[0m\u001b[0mself\u001b[0m\u001b[0;34m,\u001b[0m \u001b[0mkey\u001b[0m\u001b[0;34m)\u001b[0m\u001b[0;34m:\u001b[0m\u001b[0;34m\u001b[0m\u001b[0m\n",
      "\u001b[0;32m/usr/local/lib/python2.7/dist-packages/pandas/core/frame.pyc\u001b[0m in \u001b[0;36m_getitem_column\u001b[0;34m(self, key)\u001b[0m\n\u001b[1;32m   1969\u001b[0m         \u001b[0;31m# get column\u001b[0m\u001b[0;34m\u001b[0m\u001b[0;34m\u001b[0m\u001b[0m\n\u001b[1;32m   1970\u001b[0m         \u001b[0;32mif\u001b[0m \u001b[0mself\u001b[0m\u001b[0;34m.\u001b[0m\u001b[0mcolumns\u001b[0m\u001b[0;34m.\u001b[0m\u001b[0mis_unique\u001b[0m\u001b[0;34m:\u001b[0m\u001b[0;34m\u001b[0m\u001b[0m\n\u001b[0;32m-> 1971\u001b[0;31m             \u001b[0;32mreturn\u001b[0m \u001b[0mself\u001b[0m\u001b[0;34m.\u001b[0m\u001b[0m_get_item_cache\u001b[0m\u001b[0;34m(\u001b[0m\u001b[0mkey\u001b[0m\u001b[0;34m)\u001b[0m\u001b[0;34m\u001b[0m\u001b[0m\n\u001b[0m\u001b[1;32m   1972\u001b[0m \u001b[0;34m\u001b[0m\u001b[0m\n\u001b[1;32m   1973\u001b[0m         \u001b[0;31m# duplicate columns & possible reduce dimensionality\u001b[0m\u001b[0;34m\u001b[0m\u001b[0;34m\u001b[0m\u001b[0m\n",
      "\u001b[0;32m/usr/local/lib/python2.7/dist-packages/pandas/core/generic.pyc\u001b[0m in \u001b[0;36m_get_item_cache\u001b[0;34m(self, item)\u001b[0m\n\u001b[1;32m   1643\u001b[0m         \u001b[0mres\u001b[0m \u001b[0;34m=\u001b[0m \u001b[0mcache\u001b[0m\u001b[0;34m.\u001b[0m\u001b[0mget\u001b[0m\u001b[0;34m(\u001b[0m\u001b[0mitem\u001b[0m\u001b[0;34m)\u001b[0m\u001b[0;34m\u001b[0m\u001b[0m\n\u001b[1;32m   1644\u001b[0m         \u001b[0;32mif\u001b[0m \u001b[0mres\u001b[0m \u001b[0;32mis\u001b[0m \u001b[0mNone\u001b[0m\u001b[0;34m:\u001b[0m\u001b[0;34m\u001b[0m\u001b[0m\n\u001b[0;32m-> 1645\u001b[0;31m             \u001b[0mvalues\u001b[0m \u001b[0;34m=\u001b[0m \u001b[0mself\u001b[0m\u001b[0;34m.\u001b[0m\u001b[0m_data\u001b[0m\u001b[0;34m.\u001b[0m\u001b[0mget\u001b[0m\u001b[0;34m(\u001b[0m\u001b[0mitem\u001b[0m\u001b[0;34m)\u001b[0m\u001b[0;34m\u001b[0m\u001b[0m\n\u001b[0m\u001b[1;32m   1646\u001b[0m             \u001b[0mres\u001b[0m \u001b[0;34m=\u001b[0m \u001b[0mself\u001b[0m\u001b[0;34m.\u001b[0m\u001b[0m_box_item_values\u001b[0m\u001b[0;34m(\u001b[0m\u001b[0mitem\u001b[0m\u001b[0;34m,\u001b[0m \u001b[0mvalues\u001b[0m\u001b[0;34m)\u001b[0m\u001b[0;34m\u001b[0m\u001b[0m\n\u001b[1;32m   1647\u001b[0m             \u001b[0mcache\u001b[0m\u001b[0;34m[\u001b[0m\u001b[0mitem\u001b[0m\u001b[0;34m]\u001b[0m \u001b[0;34m=\u001b[0m \u001b[0mres\u001b[0m\u001b[0;34m\u001b[0m\u001b[0m\n",
      "\u001b[0;32m/usr/local/lib/python2.7/dist-packages/pandas/core/internals.pyc\u001b[0m in \u001b[0;36mget\u001b[0;34m(self, item, fastpath)\u001b[0m\n\u001b[1;32m   3588\u001b[0m \u001b[0;34m\u001b[0m\u001b[0m\n\u001b[1;32m   3589\u001b[0m             \u001b[0;32mif\u001b[0m \u001b[0;32mnot\u001b[0m \u001b[0misnull\u001b[0m\u001b[0;34m(\u001b[0m\u001b[0mitem\u001b[0m\u001b[0;34m)\u001b[0m\u001b[0;34m:\u001b[0m\u001b[0;34m\u001b[0m\u001b[0m\n\u001b[0;32m-> 3590\u001b[0;31m                 \u001b[0mloc\u001b[0m \u001b[0;34m=\u001b[0m \u001b[0mself\u001b[0m\u001b[0;34m.\u001b[0m\u001b[0mitems\u001b[0m\u001b[0;34m.\u001b[0m\u001b[0mget_loc\u001b[0m\u001b[0;34m(\u001b[0m\u001b[0mitem\u001b[0m\u001b[0;34m)\u001b[0m\u001b[0;34m\u001b[0m\u001b[0m\n\u001b[0m\u001b[1;32m   3591\u001b[0m             \u001b[0;32melse\u001b[0m\u001b[0;34m:\u001b[0m\u001b[0;34m\u001b[0m\u001b[0m\n\u001b[1;32m   3592\u001b[0m                 \u001b[0mindexer\u001b[0m \u001b[0;34m=\u001b[0m \u001b[0mnp\u001b[0m\u001b[0;34m.\u001b[0m\u001b[0marange\u001b[0m\u001b[0;34m(\u001b[0m\u001b[0mlen\u001b[0m\u001b[0;34m(\u001b[0m\u001b[0mself\u001b[0m\u001b[0;34m.\u001b[0m\u001b[0mitems\u001b[0m\u001b[0;34m)\u001b[0m\u001b[0;34m)\u001b[0m\u001b[0;34m[\u001b[0m\u001b[0misnull\u001b[0m\u001b[0;34m(\u001b[0m\u001b[0mself\u001b[0m\u001b[0;34m.\u001b[0m\u001b[0mitems\u001b[0m\u001b[0;34m)\u001b[0m\u001b[0;34m]\u001b[0m\u001b[0;34m\u001b[0m\u001b[0m\n",
      "\u001b[0;32m/usr/local/lib/python2.7/dist-packages/pandas/core/indexes/base.pyc\u001b[0m in \u001b[0;36mget_loc\u001b[0;34m(self, key, method, tolerance)\u001b[0m\n\u001b[1;32m   2442\u001b[0m                 \u001b[0;32mreturn\u001b[0m \u001b[0mself\u001b[0m\u001b[0;34m.\u001b[0m\u001b[0m_engine\u001b[0m\u001b[0;34m.\u001b[0m\u001b[0mget_loc\u001b[0m\u001b[0;34m(\u001b[0m\u001b[0mkey\u001b[0m\u001b[0;34m)\u001b[0m\u001b[0;34m\u001b[0m\u001b[0m\n\u001b[1;32m   2443\u001b[0m             \u001b[0;32mexcept\u001b[0m \u001b[0mKeyError\u001b[0m\u001b[0;34m:\u001b[0m\u001b[0;34m\u001b[0m\u001b[0m\n\u001b[0;32m-> 2444\u001b[0;31m                 \u001b[0;32mreturn\u001b[0m \u001b[0mself\u001b[0m\u001b[0;34m.\u001b[0m\u001b[0m_engine\u001b[0m\u001b[0;34m.\u001b[0m\u001b[0mget_loc\u001b[0m\u001b[0;34m(\u001b[0m\u001b[0mself\u001b[0m\u001b[0;34m.\u001b[0m\u001b[0m_maybe_cast_indexer\u001b[0m\u001b[0;34m(\u001b[0m\u001b[0mkey\u001b[0m\u001b[0;34m)\u001b[0m\u001b[0;34m)\u001b[0m\u001b[0;34m\u001b[0m\u001b[0m\n\u001b[0m\u001b[1;32m   2445\u001b[0m \u001b[0;34m\u001b[0m\u001b[0m\n\u001b[1;32m   2446\u001b[0m         \u001b[0mindexer\u001b[0m \u001b[0;34m=\u001b[0m \u001b[0mself\u001b[0m\u001b[0;34m.\u001b[0m\u001b[0mget_indexer\u001b[0m\u001b[0;34m(\u001b[0m\u001b[0;34m[\u001b[0m\u001b[0mkey\u001b[0m\u001b[0;34m]\u001b[0m\u001b[0;34m,\u001b[0m \u001b[0mmethod\u001b[0m\u001b[0;34m=\u001b[0m\u001b[0mmethod\u001b[0m\u001b[0;34m,\u001b[0m \u001b[0mtolerance\u001b[0m\u001b[0;34m=\u001b[0m\u001b[0mtolerance\u001b[0m\u001b[0;34m)\u001b[0m\u001b[0;34m\u001b[0m\u001b[0m\n",
      "\u001b[0;32mpandas/_libs/index.pyx\u001b[0m in \u001b[0;36mpandas._libs.index.IndexEngine.get_loc (pandas/_libs/index.c:5280)\u001b[0;34m()\u001b[0m\n",
      "\u001b[0;32mpandas/_libs/index.pyx\u001b[0m in \u001b[0;36mpandas._libs.index.IndexEngine.get_loc (pandas/_libs/index.c:5126)\u001b[0;34m()\u001b[0m\n",
      "\u001b[0;32mpandas/_libs/hashtable_class_helper.pxi\u001b[0m in \u001b[0;36mpandas._libs.hashtable.PyObjectHashTable.get_item (pandas/_libs/hashtable.c:20523)\u001b[0;34m()\u001b[0m\n",
      "\u001b[0;32mpandas/_libs/hashtable_class_helper.pxi\u001b[0m in \u001b[0;36mpandas._libs.hashtable.PyObjectHashTable.get_item (pandas/_libs/hashtable.c:20477)\u001b[0;34m()\u001b[0m\n",
      "\u001b[0;31mKeyError\u001b[0m: 'country'"
     ]
    }
   ],
   "source": [
    "city_bounds_eu_umz = []\n",
    "not_found_eu = []\n",
    "for i,r in cities_df.iterrows():\n",
    "    clear_output()\n",
    "    print i, '/', len(cities_df), ':', query\n",
    "\n",
    "    p = r['geometry']\n",
    "    loc = point2loc(p)\n",
    "    query = (r['country'], \"-\".join(r['City']), loc)\n",
    "\n",
    "    match = find_matching_city(query, eu_umz_gdf, spatial_index, \n",
    "                               thresh=0.7, topk=10)\n",
    "    match = match.iloc[0]['geometry'] if match is not None else match\n",
    "    if match is None:\n",
    "        not_found_eu += [i]\n",
    "    city_bounds_eu_umz += [match]\n",
    "    \n",
    "city_bounds_df['bounds_eu_umz'] = city_bounds_eu_umz\n",
    "not_found_eu = cities_df.iloc[not_found_eu]"
   ]
  },
  {
   "cell_type": "markdown",
   "metadata": {},
   "source": [
    "# Whole world: GADM database\n",
    "\n",
    "Available at http://www.gadm.org/version2."
   ]
  },
  {
   "cell_type": "code",
   "execution_count": null,
   "metadata": {},
   "outputs": [],
   "source": [
    "gadm_gdf = gpd.read_file(\"/home/data/city-boundaries/GADM/world-levels/gadm28_adm3.shp\")\n",
    "gadm_gdf.dropna(subset=['TYPE_2', 'NAME_2'], inplace=True)\n",
    "\n",
    "print gadm_gdf.shape\n",
    "\n",
    "gadm_gdf.head()"
   ]
  },
  {
   "cell_type": "code",
   "execution_count": 316,
   "metadata": {},
   "outputs": [
    {
     "data": {
      "text/plain": [
       "Município                                5665\n",
       "Municipio                                4559\n",
       "County                                   3257\n",
       "Comune                                   2939\n",
       "District                                 2825\n",
       "Raion                                    2484\n",
       "Commune                                  1626\n",
       "Bayan|Munisipyo                          1496\n",
       "Machi                                     854\n",
       "Amphoe                                    795\n",
       "Local Authority                           774\n",
       "Shi                                       771\n",
       "Kommuner                                  728\n",
       "Huyện                                     572\n",
       "Unknown                                   541\n",
       "Provincia                                 509\n",
       "Gemeente                                  489\n",
       "Shire                                     430\n",
       "Distrito                                  418\n",
       "Constituency                              409\n",
       "City                                      387\n",
       "Powiat                                    376\n",
       "Departamento                              374\n",
       "Division                                  355\n",
       "Kabupaten                                 347\n",
       "Muderiah                                  333\n",
       "Wuleswali                                 328\n",
       "Soum                                      327\n",
       "Concelho                                  308\n",
       "Canton                                    292\n",
       "                                         ... \n",
       "Municipal District                          3\n",
       "Island Area                                 3\n",
       "London Borough (city)                       2\n",
       "London Borough (royal)                      2\n",
       "District autonome                           2\n",
       "Shaar                                       2\n",
       "City And Borough                            2\n",
       "Ciudad Autónoma                             2\n",
       "Area                                        2\n",
       "Guyŏk                                       2\n",
       "United Counties                             2\n",
       "Town Council                                1\n",
       "Préfecture de région                        1\n",
       "AOk                                         1\n",
       "Conservancy                                 1\n",
       "Capital                                     1\n",
       "City And County                             1\n",
       "Administrative Area                         1\n",
       "Territory                                   1\n",
       "City council                                1\n",
       "United County                               1\n",
       "Distrito Federal                            1\n",
       "Dependency                                  1\n",
       "Unitary Authority (county)                  1\n",
       "Hoofdstedelijk Gewest|Région Capitale       1\n",
       "Commune and Préfecture                      1\n",
       "Uknown                                      1\n",
       "Municipalité Régionale de Comté             1\n",
       "State reserve                               1\n",
       "Metropolitan Borough (city)                 1\n",
       "Name: TYPE_2, Length: 209, dtype: int64"
      ]
     },
     "execution_count": 316,
     "metadata": {},
     "output_type": "execute_result"
    }
   ],
   "source": [
    "gadm_gdf['TYPE_2'].value_counts()"
   ]
  },
  {
   "cell_type": "code",
   "execution_count": 317,
   "metadata": {
    "collapsed": true
   },
   "outputs": [],
   "source": [
    "gadm_gdf['City'] = gadm_gdf['NAME_2'].apply(lambda x: x.lower().replace(\"-\",\" \"))\n",
    "gadm_gdf['Country'] = gadm_gdf['ISO'].str.lower()"
   ]
  },
  {
   "cell_type": "code",
   "execution_count": 318,
   "metadata": {},
   "outputs": [
    {
     "data": {
      "text/plain": [
       "CCA_2                                                      None\n",
       "CCN_2                                                         0\n",
       "ENGTYPE_2                                              District\n",
       "HASC_2                                                 AF.BD.BA\n",
       "ID_0                                                          1\n",
       "ID_1                                                          1\n",
       "ID_2                                                          1\n",
       "ISO                                                         AFG\n",
       "NAME_0                                              Afghanistan\n",
       "NAME_1                                               Badakhshan\n",
       "NAME_2                                                  Baharak\n",
       "NL_NAME_2                                                  None\n",
       "OBJECTID                                                      1\n",
       "Shape_Area                                             0.304174\n",
       "Shape_Leng                                              3.46454\n",
       "TYPE_2                                                Wuleswali\n",
       "VARNAME_2                                                  None\n",
       "geometry      POLYGON ((71.18168640136724 36.49195861816412,...\n",
       "City                                                    baharak\n",
       "Country                                                     afg\n",
       "Name: 0, dtype: object"
      ]
     },
     "execution_count": 318,
     "metadata": {},
     "output_type": "execute_result"
    }
   ],
   "source": [
    "gadm_gdf.iloc[0]"
   ]
  },
  {
   "cell_type": "code",
   "execution_count": 322,
   "metadata": {},
   "outputs": [
    {
     "name": "stdout",
     "output_type": "stream",
     "text": [
      "#GADMs with scale>150km: 2915 / 45608\n"
     ]
    },
    {
     "data": {
      "text/plain": [
       "<matplotlib.text.Text at 0x7f302771af10>"
      ]
     },
     "execution_count": 322,
     "metadata": {},
     "output_type": "execute_result"
    },
    {
     "data": {
      "image/png": "[encoded data removed]",
      "text/plain": [
       "<matplotlib.figure.Figure at 0x7f3022dd1650>"
      ]
     },
     "metadata": {},
     "output_type": "display_data"
    }
   ],
   "source": [
    "gadm_scale = gadm_gdf['geometry'].apply(lambda p: max(compute_length_width(p)))\n",
    "\n",
    "print \"#GADMs with scale>150km: %d / %d\" % (len(gadm_scale[gadm_scale>150]), len(gadm_scale))\n",
    "\n",
    "sns.set_context(\"notebook\", font_scale=1.5, rc={\"lines.linewidth\": 1})\n",
    "gadm_scale[gadm_scale<150].hist(bins=20)\n",
    "plt.xlabel(\"city scale [km]\")\n",
    "plt.ylabel(\"count\")\n",
    "plt.title(\"Distribution of GADM scales\")"
   ]
  },
  {
   "cell_type": "code",
   "execution_count": null,
   "metadata": {
    "collapsed": true
   },
   "outputs": [],
   "source": [
    "tmp = pd.merge(cities_df[['City', 'Country', 'Population', 'region']], \n",
    "               gadm_gdf, on=['City', 'Country'], how=\"left\")\n",
    "\n",
    "print len(tmp)"
   ]
  },
  {
   "cell_type": "code",
   "execution_count": null,
   "metadata": {
    "collapsed": true
   },
   "outputs": [],
   "source": [
    "tmp.region.value_counts()"
   ]
  },
  {
   "cell_type": "code",
   "execution_count": null,
   "metadata": {
    "collapsed": true
   },
   "outputs": [],
   "source": [
    "cities_df.head()"
   ]
  },
  {
   "cell_type": "code",
   "execution_count": null,
   "metadata": {
    "collapsed": true
   },
   "outputs": [],
   "source": [
    "tmp.iloc[0]"
   ]
  },
  {
   "cell_type": "code",
   "execution_count": null,
   "metadata": {
    "collapsed": true
   },
   "outputs": [],
   "source": []
  }
 ],
 "metadata": {
  "kernelspec": {
   "display_name": "Python 2",
   "language": "python",
   "name": "python2"
  },
  "language_info": {
   "codemirror_mode": {
    "name": "ipython",
    "version": 2
   },
   "file_extension": ".py",
   "mimetype": "text/x-python",
   "name": "python",
   "nbconvert_exporter": "python",
   "pygments_lexer": "ipython2",
   "version": "2.7.12"
  }
 },
 "nbformat": 4,
 "nbformat_minor": 2
}
