{
 "cells": [
  {
   "cell_type": "code",
   "execution_count": 36,
   "metadata": {},
   "outputs": [
    {
     "name": "stdout",
     "output_type": "stream",
     "text": [
      "The autoreload extension is already loaded. To reload it, use:\n",
      "  %reload_ext autoreload\n"
     ]
    }
   ],
   "source": [
    "import numpy as np\n",
    "import pandas as pd\n",
    "\n",
    "import geopandas as gpd\n",
    "from shapely.geometry import Point, Polygon, shape\n",
    "from shapely.wkt import loads\n",
    "import ogr\n",
    "\n",
    "import sys, os, time\n",
    "import glob\n",
    "import unicodedata\n",
    "\n",
    "from matplotlib import pyplot as plt\n",
    "from IPython.display import display, clear_output\n",
    "%matplotlib inline\n",
    "\n",
    "# these magics ensure that external modules that are modified are also automatically reloaded\n",
    "%load_ext autoreload\n",
    "%autoreload 2\n",
    "\n",
    "import seaborn as sns\n",
    "sns.set_style(\"whitegrid\", {'axes.grid' : False})\n",
    "\n",
    "# wrapper for Overpass API\n",
    "import overpy\n",
    "\n",
    "utf8_to_ascii = lambda x: x.decode(\"utf-8\").encode(\"ascii\", \"ignore\")"
   ]
  },
  {
   "cell_type": "code",
   "execution_count": 2,
   "metadata": {},
   "outputs": [
    {
     "name": "stdout",
     "output_type": "stream",
     "text": [
      "Analyzing 25024 cities.\n"
     ]
    },
    {
     "data": {
      "text/html": [
       "<div>\n",
       "<style>\n",
       "    .dataframe thead tr:only-child th {\n",
       "        text-align: right;\n",
       "    }\n",
       "\n",
       "    .dataframe thead th {\n",
       "        text-align: left;\n",
       "    }\n",
       "\n",
       "    .dataframe tbody tr th {\n",
       "        vertical-align: top;\n",
       "    }\n",
       "</style>\n",
       "<table border=\"1\" class=\"dataframe\">\n",
       "  <thead>\n",
       "    <tr style=\"text-align: right;\">\n",
       "      <th></th>\n",
       "      <th>Country</th>\n",
       "      <th>City</th>\n",
       "      <th>Population</th>\n",
       "      <th>Latitude</th>\n",
       "      <th>Longitude</th>\n",
       "      <th>scale</th>\n",
       "      <th>region</th>\n",
       "      <th>subregion</th>\n",
       "      <th>country</th>\n",
       "      <th>geometry</th>\n",
       "      <th>city</th>\n",
       "    </tr>\n",
       "  </thead>\n",
       "  <tbody>\n",
       "    <tr>\n",
       "      <th>0</th>\n",
       "      <td>and</td>\n",
       "      <td>andorra la vella</td>\n",
       "      <td>20430.0</td>\n",
       "      <td>42.500000</td>\n",
       "      <td>1.516667</td>\n",
       "      <td>very-small</td>\n",
       "      <td>Europe</td>\n",
       "      <td>Southern Europe</td>\n",
       "      <td>andorra</td>\n",
       "      <td>POINT (1.5166667 42.5)</td>\n",
       "      <td>andorra la vella, and (pop 20.4k)</td>\n",
       "    </tr>\n",
       "    <tr>\n",
       "      <th>1</th>\n",
       "      <td>and</td>\n",
       "      <td>encamp</td>\n",
       "      <td>11224.0</td>\n",
       "      <td>42.533333</td>\n",
       "      <td>1.583333</td>\n",
       "      <td>very-small</td>\n",
       "      <td>Europe</td>\n",
       "      <td>Southern Europe</td>\n",
       "      <td>andorra</td>\n",
       "      <td>POINT (1.5833333 42.5333333)</td>\n",
       "      <td>encamp, and (pop 11.2k)</td>\n",
       "    </tr>\n",
       "    <tr>\n",
       "      <th>2</th>\n",
       "      <td>and</td>\n",
       "      <td>les escaldes</td>\n",
       "      <td>15854.0</td>\n",
       "      <td>42.500000</td>\n",
       "      <td>1.533333</td>\n",
       "      <td>very-small</td>\n",
       "      <td>Europe</td>\n",
       "      <td>Southern Europe</td>\n",
       "      <td>andorra</td>\n",
       "      <td>POINT (1.5333333 42.5)</td>\n",
       "      <td>les escaldes, and (pop 15.9k)</td>\n",
       "    </tr>\n",
       "    <tr>\n",
       "      <th>3</th>\n",
       "      <td>are</td>\n",
       "      <td>abu dhabi</td>\n",
       "      <td>603687.0</td>\n",
       "      <td>24.466667</td>\n",
       "      <td>54.366667</td>\n",
       "      <td>medium</td>\n",
       "      <td>Asia</td>\n",
       "      <td>Western Asia</td>\n",
       "      <td>united arab emirates</td>\n",
       "      <td>POINT (54.36666700000001 24.466667)</td>\n",
       "      <td>abu dhabi, are (pop 603.7k)</td>\n",
       "    </tr>\n",
       "    <tr>\n",
       "      <th>4</th>\n",
       "      <td>are</td>\n",
       "      <td>dubai</td>\n",
       "      <td>1137376.0</td>\n",
       "      <td>25.258172</td>\n",
       "      <td>55.304717</td>\n",
       "      <td>large</td>\n",
       "      <td>Asia</td>\n",
       "      <td>Western Asia</td>\n",
       "      <td>united arab emirates</td>\n",
       "      <td>POINT (55.304717 25.258172)</td>\n",
       "      <td>dubai, are (pop 1.1M)</td>\n",
       "    </tr>\n",
       "  </tbody>\n",
       "</table>\n",
       "</div>"
      ],
      "text/plain": [
       "  Country              City  Population   Latitude  Longitude       scale  \\\n",
       "0     and  andorra la vella     20430.0  42.500000   1.516667  very-small   \n",
       "1     and            encamp     11224.0  42.533333   1.583333  very-small   \n",
       "2     and      les escaldes     15854.0  42.500000   1.533333  very-small   \n",
       "3     are         abu dhabi    603687.0  24.466667  54.366667      medium   \n",
       "4     are             dubai   1137376.0  25.258172  55.304717       large   \n",
       "\n",
       "   region        subregion               country  \\\n",
       "0  Europe  Southern Europe               andorra   \n",
       "1  Europe  Southern Europe               andorra   \n",
       "2  Europe  Southern Europe               andorra   \n",
       "3    Asia     Western Asia  united arab emirates   \n",
       "4    Asia     Western Asia  united arab emirates   \n",
       "\n",
       "                              geometry                               city  \n",
       "0               POINT (1.5166667 42.5)  andorra la vella, and (pop 20.4k)  \n",
       "1         POINT (1.5833333 42.5333333)            encamp, and (pop 11.2k)  \n",
       "2               POINT (1.5333333 42.5)      les escaldes, and (pop 15.9k)  \n",
       "3  POINT (54.36666700000001 24.466667)        abu dhabi, are (pop 603.7k)  \n",
       "4          POINT (55.304717 25.258172)              dubai, are (pop 1.1M)  "
      ]
     },
     "execution_count": 2,
     "metadata": {},
     "output_type": "execute_result"
    }
   ],
   "source": [
    "# load list of cities of interest\n",
    "cities_df = pd.read_csv(\"/home/data/world-cities/urban_areas_over_10kpop.csv\")\n",
    "cities_df['country'] = cities_df['country'].apply(lambda x: x.lower())\n",
    "print \"Analyzing %d cities.\"%len(cities_df)\n",
    "\n",
    "cities_df.head()"
   ]
  },
  {
   "cell_type": "markdown",
   "metadata": {},
   "source": [
    "# Get polygons from OSM/Overpass API directly"
   ]
  },
  {
   "cell_type": "code",
   "execution_count": 166,
   "metadata": {
    "collapsed": true
   },
   "outputs": [],
   "source": [
    "api = overpy.Overpass()\n",
    "\n",
    "# fetch all ways and nodes\n",
    "result = api.query(\"\"\"\n",
    "way(50.746,7.154,50.748,7.157) [\"highway\"];\n",
    "(._;>;);\n",
    "out body;\n",
    "\"\"\")\n"
   ]
  },
  {
   "cell_type": "code",
   "execution_count": null,
   "metadata": {
    "collapsed": true
   },
   "outputs": [],
   "source": [
    "ds = ogr.Open(\"DatasourceName\")\n",
    "lyr = ds.GetLayerByName(\"LayerName\")   \n",
    "lyr.ResetReading()\n",
    "\n",
    "feat = lyr.GetNextFeature()\n",
    "while feat is not None:\n",
    "    env = feat.GetGeometryRef().GetEnvelope()\n",
    "    ## env returns  [0]=minX,[1]=maxX,[2]=minY,[3]=maxY"
   ]
  },
  {
   "cell_type": "code",
   "execution_count": null,
   "metadata": {
    "collapsed": true
   },
   "outputs": [],
   "source": [
    "api = overpy.Overpass()\n",
    "\n",
    "# fetch all ways and nodes\n",
    "result = api.query(\"\"\"\n",
    "way(50.746,7.154,50.748,7.157) [\"highway\"];\n",
    "(._;>;);\n",
    "out body;\n",
    "\"\"\")\n",
    "\n",
    "for way in result.ways:\n",
    "    print(\"Name: %s\" % way.tags.get(\"name\", \"n/a\"))\n",
    "    print(\"  Highway: %s\" % way.tags.get(\"highway\", \"n/a\"))\n",
    "    print(\"  Nodes:\")\n",
    "    for node in way.nodes:\n",
    "        print(\"    Lat: %f, Lon: %f\" % (node.lat, node.lon))"
   ]
  },
  {
   "cell_type": "markdown",
   "metadata": {},
   "source": [
    "# MapIt API\n",
    "\n",
    "https://github.com/mysociety/mapit\n",
    "\n",
    "This API is a wrapper around OSM/Overpass and supports up to 50,000 requests/year for non-commercial purposes. "
   ]
  },
  {
   "cell_type": "code",
   "execution_count": 2,
   "metadata": {
    "collapsed": true
   },
   "outputs": [],
   "source": [
    "import requests"
   ]
  },
  {
   "cell_type": "code",
   "execution_count": 4,
   "metadata": {},
   "outputs": [],
   "source": [
    "loc = (8.55,47.366667)\n",
    "\n",
    "# get list of administrative areas around given point\n",
    "# this will return all available areas, from neighborhood up to country\n",
    "url = \"http://global.mapit.mysociety.org/point/4326/%2.6f,%2.6f\" % loc\n",
    "response = requests.post(url)\n",
    "areas = response.json()"
   ]
  },
  {
   "cell_type": "code",
   "execution_count": 9,
   "metadata": {},
   "outputs": [],
   "source": [
    "# MapIt has a number of 'types' defined for different administrative areas. \n",
    "# O08 seems to be the type code for a city\n",
    "city_ids = [k for k,v in areas.iteritems() if v['type']=='O08']\n",
    "city_ids"
   ]
  },
  {
   "cell_type": "code",
   "execution_count": 24,
   "metadata": {
    "collapsed": true
   },
   "outputs": [],
   "source": [
    "url = \"http://global.mapit.mysociety.org/area/%s.geojson\" % city_ids[0]\n",
    "response = requests.post(url)\n",
    "bounds = response.json()\n",
    "p = shape(bounds)"
   ]
  },
  {
   "cell_type": "code",
   "execution_count": null,
   "metadata": {
    "collapsed": true
   },
   "outputs": [],
   "source": [
    "# Wait for 1 second\n",
    "time.sleep(5)"
   ]
  }
 ],
 "metadata": {
  "kernelspec": {
   "display_name": "Python 2",
   "language": "python",
   "name": "python2"
  },
  "language_info": {
   "codemirror_mode": {
    "name": "ipython",
    "version": 2
   },
   "file_extension": ".py",
   "mimetype": "text/x-python",
   "name": "python",
   "nbconvert_exporter": "python",
   "pygments_lexer": "ipython2",
   "version": "2.7.12"
  }
 },
 "nbformat": 4,
 "nbformat_minor": 2
}
