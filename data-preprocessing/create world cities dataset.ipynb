{
 "cells": [
  {
   "cell_type": "code",
   "execution_count": 2,
   "metadata": {},
   "outputs": [
    {
     "name": "stdout",
     "output_type": "stream",
     "text": [
      "The autoreload extension is already loaded. To reload it, use:\n",
      "  %reload_ext autoreload\n"
     ]
    }
   ],
   "source": [
    "import numpy as np\n",
    "import pandas as pd\n",
    "\n",
    "import geopandas as gpd\n",
    "from shapely.geometry import Point\n",
    "from shapely.wkt import loads\n",
    "\n",
    "import sys, os, time\n",
    "import glob\n",
    "\n",
    "from matplotlib import pyplot as plt\n",
    "%matplotlib inline\n",
    "\n",
    "# these magics ensure that external modules that are modified are also automatically reloaded\n",
    "%load_ext autoreload\n",
    "%autoreload 2\n",
    "\n",
    "# widgets and interaction\n",
    "from ipywidgets import FloatProgress\n",
    "from IPython.display import display, clear_output\n",
    "\n",
    "import seaborn as sns\n",
    "sns.set_style(\"whitegrid\", {'axes.grid' : False})\n",
    "\n",
    "from skimage.transform import resize\n",
    "\n",
    "import warnings\n",
    "warnings.filterwarnings('ignore')\n",
    "\n",
    "# satellite imagery modules\n",
    "import pysatml"
   ]
  },
  {
   "cell_type": "code",
   "execution_count": 3,
   "metadata": {
    "collapsed": true
   },
   "outputs": [],
   "source": [
    "# path to save data\n",
    "\n",
    "outPath = \"/home/data/world-cities/\"\n",
    "\n",
    "if not os.path.exists(outPath):\n",
    "\tos.makedirs(outPath)"
   ]
  },
  {
   "cell_type": "markdown",
   "metadata": {},
   "source": [
    "# Set up sampling locations"
   ]
  },
  {
   "cell_type": "code",
   "execution_count": 4,
   "metadata": {},
   "outputs": [
    {
     "data": {
      "text/html": [
       "<div>\n",
       "<style>\n",
       "    .dataframe thead tr:only-child th {\n",
       "        text-align: right;\n",
       "    }\n",
       "\n",
       "    .dataframe thead th {\n",
       "        text-align: left;\n",
       "    }\n",
       "\n",
       "    .dataframe tbody tr th {\n",
       "        vertical-align: top;\n",
       "    }\n",
       "</style>\n",
       "<table border=\"1\" class=\"dataframe\">\n",
       "  <thead>\n",
       "    <tr style=\"text-align: right;\">\n",
       "      <th></th>\n",
       "      <th>Country</th>\n",
       "      <th>City</th>\n",
       "      <th>AccentCity</th>\n",
       "      <th>Region</th>\n",
       "      <th>Population</th>\n",
       "      <th>Latitude</th>\n",
       "      <th>Longitude</th>\n",
       "    </tr>\n",
       "  </thead>\n",
       "  <tbody>\n",
       "    <tr>\n",
       "      <th>0</th>\n",
       "      <td>ad</td>\n",
       "      <td>aixas</td>\n",
       "      <td>Aix�s</td>\n",
       "      <td>6</td>\n",
       "      <td>NaN</td>\n",
       "      <td>42.483333</td>\n",
       "      <td>1.466667</td>\n",
       "    </tr>\n",
       "    <tr>\n",
       "      <th>1</th>\n",
       "      <td>ad</td>\n",
       "      <td>aixirivali</td>\n",
       "      <td>Aixirivali</td>\n",
       "      <td>6</td>\n",
       "      <td>NaN</td>\n",
       "      <td>42.466667</td>\n",
       "      <td>1.500000</td>\n",
       "    </tr>\n",
       "    <tr>\n",
       "      <th>2</th>\n",
       "      <td>ad</td>\n",
       "      <td>aixirivall</td>\n",
       "      <td>Aixirivall</td>\n",
       "      <td>6</td>\n",
       "      <td>NaN</td>\n",
       "      <td>42.466667</td>\n",
       "      <td>1.500000</td>\n",
       "    </tr>\n",
       "    <tr>\n",
       "      <th>3</th>\n",
       "      <td>ad</td>\n",
       "      <td>aixirvall</td>\n",
       "      <td>Aixirvall</td>\n",
       "      <td>6</td>\n",
       "      <td>NaN</td>\n",
       "      <td>42.466667</td>\n",
       "      <td>1.500000</td>\n",
       "    </tr>\n",
       "    <tr>\n",
       "      <th>4</th>\n",
       "      <td>ad</td>\n",
       "      <td>aixovall</td>\n",
       "      <td>Aixovall</td>\n",
       "      <td>6</td>\n",
       "      <td>NaN</td>\n",
       "      <td>42.466667</td>\n",
       "      <td>1.483333</td>\n",
       "    </tr>\n",
       "  </tbody>\n",
       "</table>\n",
       "</div>"
      ],
      "text/plain": [
       "  Country        City  AccentCity Region  Population   Latitude  Longitude\n",
       "0      ad       aixas       Aix�s      6         NaN  42.483333   1.466667\n",
       "1      ad  aixirivali  Aixirivali      6         NaN  42.466667   1.500000\n",
       "2      ad  aixirivall  Aixirivall      6         NaN  42.466667   1.500000\n",
       "3      ad   aixirvall   Aixirvall      6         NaN  42.466667   1.500000\n",
       "4      ad    aixovall    Aixovall      6         NaN  42.466667   1.483333"
      ]
     },
     "execution_count": 4,
     "metadata": {},
     "output_type": "execute_result"
    }
   ],
   "source": [
    "cities_df_all = pd.read_csv(outPath + \"worldcitiespop.txt\")\n",
    "cities_df_all.head()"
   ]
  },
  {
   "cell_type": "code",
   "execution_count": null,
   "metadata": {
    "collapsed": true
   },
   "outputs": [],
   "source": [
    "cities_df_all = pd.read_csv(outPath + \"worldcitiespop.txt\")\n",
    "\n",
    "cities_df_all = cities_df_all[(~cities_df_all.Population.isnull()) & \n",
    "                              (~cities_df_all.Latitude.isnull()) & \n",
    "                              (~cities_df_all.Longitude.isnull())]\n",
    "\n",
    "cities_df_all.drop([\"Region\", \"AccentCity\"], 1, inplace=True)\n",
    "cities_df_all.dropna(inplace=True)\n",
    "\n",
    "# convert to geopandas dataframe with a spatial index\n",
    "cities_df_all['geometry'] = map(lambda lat, lon: Point((lon, lat)), \n",
    "                                cities_df_all['Latitude'].values, \n",
    "                                cities_df_all['Longitude'].values)\n",
    "cities_df_all = gpd.GeoDataFrame(cities_df_all)\n",
    "\n",
    "def format_pop(pop):\n",
    "    if pop > 1e6:\n",
    "        div = 1e6\n",
    "        s = 'M'\n",
    "    else:\n",
    "        div = 1e3\n",
    "        s = 'k'\n",
    "    return \"%2.1f%s\"%(float(pop)/div, s)\n",
    "\n",
    "cities_df_all['City'] = map(lambda city, country, pop: \"%s, %s (pop %s)\"%(city, country, format_pop(pop)),\n",
    "                        cities_df_all['City'], \n",
    "                        cities_df_all['Country'], \n",
    "                        cities_df_all['Population'])\n",
    "cities_df_all['City'] = cities_df_all['City'].apply(lambda x: x.replace(\"-\",\" \"))\n",
    "\n",
    "cities_df_all.drop_duplicates(\"City\", inplace=True)\n",
    "\n",
    "cities_df = cities_df_all[cities_df_all.Population>10000]\n",
    "\n",
    "cities_df.to_csv(outPath + \"/urban_areas_over_10kpop.csv\", index=False)\n",
    "cities_df_all.to_csv(outPath + \"/all_urban_areas.csv\", index=False)"
   ]
  },
  {
   "cell_type": "code",
   "execution_count": null,
   "metadata": {
    "collapsed": true
   },
   "outputs": [],
   "source": [
    "import geopy\n",
    "from geopy import distance\n",
    "from collections import OrderedDict\n",
    "from sklearn.neighbors import KDTree, BallTree\n",
    "\n",
    "point2loc = lambda p: tuple(np.array(p.centroid.coords.xy).squeeze())\n",
    "    \n",
    "cities_df.sort_values(\"Population\", ascending=False, inplace=True)\n",
    "cities_df = cities_df[cities_df['Population']>=1e5]\n",
    "cities_df = cities_df.reset_index().drop(\"index\", 1)\n",
    "spatial_index = BallTree(cities_df[['Longitude', 'Latitude']], \n",
    "                         leaf_size=10)\n",
    "\n",
    "# construct ordered dictionary of cities\n",
    "cities_list = cities_df.to_dict(\"records\")\n",
    "cities_list.sort(key=lambda x: x['Population'])\n",
    "cities_list = cities_list[::-1]\n",
    "cities_dict = OrderedDict(zip([x['City'] for x in cities_list], cities_list))"
   ]
  },
  {
   "cell_type": "code",
   "execution_count": null,
   "metadata": {
    "collapsed": true
   },
   "outputs": [],
   "source": [
    "n_neighbors = 10   # number of nearest neighbors to query\n",
    "d_threshold = 20  # radius in KM\n",
    "\n",
    "to_remove = set()\n",
    "already_visited = set()\n",
    "new_pop = {}\n",
    "\n",
    "i = 0\n",
    "while i < len(cities_dict):\n",
    "    c0 = cities_dict.keys()[i]\n",
    "    if c0 in to_remove:\n",
    "        i += 1\n",
    "        continue\n",
    "    already_visited = already_visited.union(set([c0]))\n",
    "    print i, '/', len(cities_dict), \":\", c0\n",
    "    clear_output(wait=True)\n",
    "    r0 = cities_dict[c0]\n",
    "    p = r0['geometry']\n",
    "    loc0 = point2loc(p)\n",
    "    neighbors = spatial_index.query(loc0, k=n_neighbors)[1][0][1:]\n",
    "    new_pop[c0] = r0['Population']\n",
    "    for j,n in enumerate(neighbors):\n",
    "        r = cities_df.iloc[n]\n",
    "        c = r['City']\n",
    "        loc = point2loc(r['geometry'])\n",
    "        d = distance.distance(loc0, loc).km\n",
    "        if d > 0 and d <= d_threshold and c not in already_visited:\n",
    "            to_remove = to_remove.union(set([c]))\n",
    "            new_pop[c0] += r['Population']\n",
    "    i += 1\n",
    "    \n",
    "cities_df_sel = cities_df[~cities_df['City'].isin(to_remove)]\n",
    "cities_df_sel['Adj. population'] = map(lambda c,p: new_pop[c] if c in new_pop else p,\n",
    "                                  cities_df_sel['City'], cities_df_sel['Population'])\n",
    "cities_df_sel.reset_index(inplace=True)\n",
    "\n",
    "print \"Removing %d cities. \"%(len(to_remove))"
   ]
  },
  {
   "cell_type": "code",
   "execution_count": null,
   "metadata": {
    "collapsed": true
   },
   "outputs": [],
   "source": [
    "# cities_df_sel.to_csv(outPath + \"/selected_urban_areas.csv\")\n",
    "\n",
    "cities_df_sel = gpd.GeoDataFrame(pd.read_csv(outPath + \"/selected_urban_areas.csv\"))\n",
    "cities_df_sel['geometry'] = cities_df_sel['geometry'].apply(lambda x: loads(x))"
   ]
  },
  {
   "cell_type": "code",
   "execution_count": null,
   "metadata": {},
   "outputs": [],
   "source": [
    "cities_df_sel.plot(figsize=(10,6), cmap='Greys')\n",
    "plt.title(\"Test Samples: Large Metropolitan Areas\", fontsize=16)\n",
    "plt.ylabel(\"latitude\", fontsize=16)\n",
    "plt.xlabel(\"longitude\", fontsize=16)\n",
    "plt.xticks(fontsize=12)\n",
    "plt.yticks(fontsize=12)"
   ]
  },
  {
   "cell_type": "code",
   "execution_count": null,
   "metadata": {
    "collapsed": true
   },
   "outputs": [],
   "source": [
    "def f_classify_by_pop(d):\n",
    "    if d < 50000:\n",
    "        return \"very-small\"\n",
    "    elif d < 100000:\n",
    "        return \"small\"\n",
    "    elif d < 1e6:\n",
    "        return \"medium\"\n",
    "    elif d < 2e6:\n",
    "        return \"large\"\n",
    "    elif d < 5e6:\n",
    "        return \"very-large\"\n",
    "    else:\n",
    "        return \"megalopolis\"\n",
    "\n",
    "cities_df['class'] = cities_df[\"Population\"].apply(f_classify_by_pop)\n",
    "cities_df_all['class'] = cities_df_all[\"Population\"].apply(f_classify_by_pop)\n",
    "cities_df_sel['class'] = cities_df_sel[\"Population\"].apply(f_classify_by_pop)\n"
   ]
  },
  {
   "cell_type": "code",
   "execution_count": null,
   "metadata": {
    "collapsed": true
   },
   "outputs": [],
   "source": [
    "dist_25 = cities_df['class'].value_counts() / float(len(cities_df))\n",
    "dist_03 = cities_df_sel['class'].value_counts() / float(len(cities_df_sel))"
   ]
  },
  {
   "cell_type": "markdown",
   "metadata": {
    "collapsed": true
   },
   "source": [
    "# Extract city samples"
   ]
  },
  {
   "cell_type": "code",
   "execution_count": null,
   "metadata": {},
   "outputs": [],
   "source": [
    "# client for SAR built geometry\n",
    "sarPath = \"/home/data/guf28_merged.tif\"\n",
    "sarFiles = glob.glob(sarPath)\n",
    "sarImgClient = satimg.SatImage(sarFiles)"
   ]
  },
  {
   "cell_type": "code",
   "execution_count": null,
   "metadata": {},
   "outputs": [],
   "source": [
    "# client for nightlights\n",
    "nliPath = \"/home/data/VIIRS/2015/\"\n",
    "nliFiles = glob.glob(nliPath + \"/viirs_merged.tif\")\n",
    "nliImgClient = satimg.SatImage(nliFiles)"
   ]
  },
  {
   "cell_type": "code",
   "execution_count": null,
   "metadata": {},
   "outputs": [],
   "source": [
    "# client for nightlights\n",
    "nliPath = \"/home/data/\"\n",
    "nliFiles = glob.glob(nliPath + \"/F16_20100111-20110731_rad_v4.avg_vis.tif\")\n",
    "nliImgClientOld = satimg.SatImage(nliFiles)"
   ]
  },
  {
   "cell_type": "code",
   "execution_count": null,
   "metadata": {},
   "outputs": [],
   "source": [
    "# client for population density\n",
    "popPath = \"/home/data/landscan-population/LandScan2012/ArcGIS/Population/lspop2012/\"\n",
    "popFiles = glob.glob(popPath + \"w001001x.adf\")\n",
    "popImgClient = satimg.SatImage(popFiles)"
   ]
  },
  {
   "cell_type": "code",
   "execution_count": null,
   "metadata": {
    "collapsed": true,
    "scrolled": false
   },
   "outputs": [],
   "source": [
    "def basic_preprocess(img, res, log=False, scale=True):\n",
    "    if img is None:\n",
    "        return None\n",
    "    img[img<0] = 0\n",
    "    img = np.ceil(resize(img.squeeze(), (res,res), preserve_range=True))#.astype(int)\n",
    "    if log:\n",
    "        img = np.log(img + 1e-3)\n",
    "    if scale:\n",
    "        img = (img - img.min()) / (img.max() - img.min())\n",
    "    return img"
   ]
  },
  {
   "cell_type": "markdown",
   "metadata": {},
   "source": [
    "#### Plot some examples"
   ]
  },
  {
   "cell_type": "code",
   "execution_count": null,
   "metadata": {
    "collapsed": true
   },
   "outputs": [],
   "source": [
    "nimg = 4\n",
    "nrow = 4\n",
    "\n",
    "# smpl_df = cities_df_sel[cities_df_sel['Population']>2e6].sample(nimg).reset_index()\n",
    "\n",
    "mycities = [\"paris, fr\", \"delhi, in\", \"san francisco, us\", \"boston, us\"]\n",
    "\n",
    "smpl_df = cities_df_sel[cities_df_sel['City']\\\n",
    "            .apply(lambda x: sum([s in x for s in mycities])>0)].reset_index()\n"
   ]
  },
  {
   "cell_type": "code",
   "execution_count": null,
   "metadata": {
    "scrolled": false
   },
   "outputs": [],
   "source": [
    "import matplotlib.gridspec as gridspec\n",
    "\n",
    "sns.set_context(\"notebook\", font_scale=1.5, rc={\"lines.linewidth\": 1})\n",
    "fig = plt.figure(figsize=(12,8))\n",
    "gs1 = gridspec.GridSpec(nrow, nimg)\n",
    "gs1.update(wspace=0, hspace=0.025) # set the spacing between axes. \n",
    "\n",
    "for k,(i,r) in enumerate(smpl_df.iterrows()):\n",
    "    lat, lon, city, pop, country = r['Latitude'], r['Longitude'], r['City'], r['Population'], r['Country']\n",
    "    # print city, lat, lon, pop, country\n",
    "    imgSAR = sarImgClient.get_image_at_location((lat, lon), w=200)\n",
    "    imgSAR = basic_preprocess(imgSAR, 286)\n",
    "    imgNLI = nliImgClient.get_image_at_location((lat, lon), w=200)\n",
    "    imgNLI = basic_preprocess(imgNLI, 286, log=True)\n",
    "    imgNLO = nliImgClientOld.get_image_at_location((lat, lon), w=200)\n",
    "    imgNLO = basic_preprocess(imgNLO, 286, log=True)\n",
    "    imgPOP = popImgClient.get_image_at_location((lat, lon), w=200)\n",
    "    imgPOP = basic_preprocess(imgPOP, 286, log=False, scale=False)\n",
    "    ax0 = plt.subplot(gs1[0,i]); ax0.set_xticks([]); ax0.set_yticks([])\n",
    "    ax1 = plt.subplot(gs1[1,i]); ax1.set_xticks([]); ax1.set_yticks([])\n",
    "    ax2 = plt.subplot(gs1[2,i]); ax2.set_xticks([]); ax2.set_yticks([])\n",
    "    ax3 = plt.subplot(gs1[3,i]); ax3.set_xticks([]); ax3.set_yticks([])\n",
    "    ax0.imshow(imgSAR,cmap='Greys'); ax0.set_ylabel(\"built areas \\n (SAR)\") if i==0 else None\n",
    "    ax1.imshow(imgNLI,cmap='Greys'); ax1.set_ylabel(\"nightlights \\n (VIIRS)\") if i==0 else None\n",
    "    ax2.imshow(imgNLO,cmap='Greys'); ax2.set_ylabel(\"nightlights \\n (OLS)\") if i==0 else None\n",
    "    ax3.imshow(imgPOP,cmap='Greys'); ax3.set_ylabel(\"population \\n (LandScan)\") if i==0 else None\n",
    "    ax0.set_title(city.replace(\" (\", \"\\n(\"))\n",
    "    "
   ]
  },
  {
   "cell_type": "markdown",
   "metadata": {},
   "source": [
    "#### Extract  samples: \n",
    "* training: all cities > 10k population\n",
    "* test: filtered cities (by population & location)"
   ]
  },
  {
   "cell_type": "code",
   "execution_count": null,
   "metadata": {},
   "outputs": [],
   "source": [
    "kmScale = 200 # window of 200km width around center\n",
    "res = 286\n",
    "\n",
    "# training samples\n",
    "df = cities_df_all[cities_df_all.Population>10000]\n",
    "phase = \"urban_areas_over_10kpop_raw\"\n",
    "\n",
    "cur_dir = outPath + \"/%s\"%(phase)\n",
    "if not os.path.exists(cur_dir):\n",
    "    os.makedirs(cur_dir)\n",
    "\n",
    "from skimage.io import imsave\n",
    "\n",
    "fig, ax = plt.subplots(1,3, figsize=(12,4))\n",
    "\n",
    "for i,(idx,r) in enumerate(df.iterrows()):\n",
    "    imgLat, imgLon = r['Latitude'], r['Longitude']\n",
    "    city, country = r['City'].replace(\" \", \"-\"), r['Country']\n",
    "    popNum, popClass = int(r['Population']), r['class'].replace(\" \",\"-\")\n",
    "    \n",
    "    clear_output(wait=True)\n",
    "    print \"city %d/%d\" % (i, len(df))\n",
    "\n",
    "    imgSAR = sarImgClient.get_image_at_location((imgLat, imgLon), w=kmScale)\n",
    "    imgSAR = basic_preprocess(imgSAR, res)\n",
    "    imgNLI = nliImgClient.get_image_at_location((imgLat, imgLon), w=kmScale)\n",
    "    imgNLI = basic_preprocess(imgNLI, res, log=False, scale=False)\n",
    "    imgNLO = nliImgClientOld.get_image_at_location((imgLat, imgLon), w=kmScale)\n",
    "    imgNLO = basic_preprocess(imgNLO, res, log=False, scale=False)\n",
    "    imgPOP = popImgClient.get_image_at_location((imgLat, imgLon), w=kmScale)\n",
    "    imgPOP = basic_preprocess(imgPOP, res, log=False, scale=False)\n",
    "    if imgSAR is None or imgNLI is None or imgPOP is None:\n",
    "        continue\n",
    "    if imgNLO is None:\n",
    "        continue\n",
    "        \n",
    "    # construct water mask (areas restricted to building)\n",
    "    imgWTR = (np.abs(imgSAR-128)>1).astype(np.uint8)\n",
    "               \n",
    "    # save images to files\n",
    "    filename = \"%s/SAR_%s_%s_%s_%d_%2.4f_%2.4f.tif\"%(cur_dir, country, city, popClass, popNum, imgLat, imgLon) \n",
    "    imsave(filename, imgSAR)\n",
    "    filename = \"%s/NLO_%s_%s_%s_%d_%2.4f_%2.4f.tif\"%(cur_dir, country, city, popClass, popNum, imgLat, imgLon) \n",
    "    imsave(filename, imgNLO)\n",
    "    filename = \"%s/NLI_%s_%s_%s_%d_%2.4f_%2.4f.tif\"%(cur_dir, country, city, popClass, popNum, imgLat, imgLon) \n",
    "    imsave(filename, imgNLI)\n",
    "    filename = \"%s/POP_%s_%s_%s_%d_%2.4f_%2.4f.tif\"%(cur_dir, country, city, popClass, popNum, imgLat, imgLon) \n",
    "    imsave(filename, imgPOP)\n",
    "    filename = \"%s/POP_%s_%s_%s_%d_%2.4f_%2.4f.tif\"%(cur_dir, country, city, popClass, popNum, imgLat, imgLon) \n",
    "    imsave(filename, imgPOP)\n",
    "\n",
    "    # display samples every now and then\n",
    "    if i % 100 == 0 and imgSAR is not None:\n",
    "        sns.set_context(\"notebook\", font_scale=1.5, rc={\"lines.linewidth\": 1})\n",
    "        ax[0].imshow(imgSAR); ax[0].set_title(\"built areas \\n (SAR)\")\n",
    "        ax[1].imshow(imgNLO); ax[1].set_title(\"nightlights \\n (VIIRS)\")\n",
    "        ax[2].imshow(imgPOP); ax[2].set_title(\"population \\n (LandScan)\")\n",
    "        fig.suptitle(city.replace(\" (\", \"\\n(\"), fontsize=20)\n",
    "        for a in ax:\n",
    "            a.set_xticks([])\n",
    "            a.set_yticks([])"
   ]
  },
  {
   "cell_type": "code",
   "execution_count": null,
   "metadata": {
    "collapsed": true
   },
   "outputs": [],
   "source": []
  }
 ],
 "metadata": {
  "kernelspec": {
   "display_name": "Python 2",
   "language": "python",
   "name": "python2"
  },
  "language_info": {
   "codemirror_mode": {
    "name": "ipython",
    "version": 2
   },
   "file_extension": ".py",
   "mimetype": "text/x-python",
   "name": "python",
   "nbconvert_exporter": "python",
   "pygments_lexer": "ipython2",
   "version": "2.7.12"
  }
 },
 "nbformat": 4,
 "nbformat_minor": 2
}
