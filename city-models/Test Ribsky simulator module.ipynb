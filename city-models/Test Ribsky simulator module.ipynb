{
 "cells": [
  {
   "cell_type": "code",
   "execution_count": 1,
   "metadata": {
    "collapsed": false
   },
   "outputs": [],
   "source": [
    "# Import several packages that will be used throughout\n",
    "\n",
    "# numeric packages\n",
    "import numpy as np\n",
    "import scipy\n",
    "import scipy.io\n",
    "import pandas as pd\n",
    "\n",
    "# filesystem and OS\n",
    "import sys, os, time\n",
    "import glob\n",
    "\n",
    "# images\n",
    "import skimage\n",
    "import skimage\n",
    "import skimage.io\n",
    "\n",
    "# plotting\n",
    "from matplotlib import pyplot as plt\n",
    "%matplotlib inline\n",
    "import seaborn as sns\n",
    "sns.set_style(\"whitegrid\", {'axes.grid' : False})\n",
    "from IPython.display import clear_output\n",
    "\n",
    "import warnings\n",
    "warnings.filterwarnings('ignore')\n",
    "\n",
    "# these magics ensure that external modules that are modified are also automatically reloaded\n",
    "%load_ext autoreload\n",
    "%autoreload 2"
   ]
  },
  {
   "cell_type": "code",
   "execution_count": 2,
   "metadata": {
    "collapsed": false
   },
   "outputs": [],
   "source": [
    "import citymodel"
   ]
  },
  {
   "cell_type": "code",
   "execution_count": 2,
   "metadata": {
    "collapsed": false
   },
   "outputs": [
    {
     "name": "stdout",
     "output_type": "stream",
     "text": [
      "48\n"
     ]
    }
   ],
   "source": [
    "from IPython import parallel\n",
    "\n",
    "rc = parallel.Client()\n",
    "all_engines = rc[:]\n",
    "lbv = rc.load_balanced_view()\n",
    "\n",
    "print len(all_engines)"
   ]
  },
  {
   "cell_type": "markdown",
   "metadata": {},
   "source": [
    "# Generate samples"
   ]
  },
  {
   "cell_type": "code",
   "execution_count": 12,
   "metadata": {
    "collapsed": false
   },
   "outputs": [
    {
     "data": {
      "text/plain": [
       "(5000, 5)"
      ]
     },
     "execution_count": 12,
     "metadata": {},
     "output_type": "execute_result"
    }
   ],
   "source": [
    "Hu_vec = np.linspace(40, 90, 5)\n",
    "Hr_vec = 100 - Hu_vec\n",
    "Gu =[2,2.2,2.4,2.6,2.8,3,3.2,3.4,3.6,3.8] # Urban gamma\n",
    "Gr =[2,2.2,2.4,2.6,2.8,3,3.2,3.4,3.6,3.8] # Rural gamma\n",
    "T_vec = np.linspace(0.01, 0.4, 10)        # threshold of built land\n",
    "N_SIM = 1\n",
    "\n",
    "params_vec = np.array(np.meshgrid(Hu_vec, Gu, Gr, T_vec, range(N_SIM)))\\\n",
    "                .T.reshape((-1,5))\n",
    "\n",
    "params_vec.shape"
   ]
  },
  {
   "cell_type": "code",
   "execution_count": 13,
   "metadata": {
    "collapsed": true
   },
   "outputs": [],
   "source": [
    "%%px --local \n",
    "import os\n",
    "import numpy as np\n",
    "import skimage\n",
    "import skimage.io"
   ]
  },
  {
   "cell_type": "code",
   "execution_count": 50,
   "metadata": {
    "collapsed": true
   },
   "outputs": [],
   "source": [
    "savepath = \"/home/adalbert/data/world-cities/simulations/\"\n",
    "\n",
    "def generate_samples(params, savepath=savepath):\n",
    "    Ue, Gu, Gr, T, n = params\n",
    "    Ue = int(Ue)\n",
    "    Ur = 100 - Ue\n",
    "    nseed = 100\n",
    "    max_niter = 100\n",
    "    L = 300  # map size\n",
    "    TRE=5 # threshold of area from rural to urban NOW IN NUMBER OF PIXEL\n",
    "    iter_save = 3\n",
    "    \n",
    "    basedir = savepath + \\\n",
    "        \"/Hu%d_Gu%2.2f_Gr%2.2f_T%2.2f\"%(Ue, Gu, Gr, T)\n",
    "    if not os.path.exists(basedir):\n",
    "        os.makedirs(basedir)\n",
    "\n",
    "    Mu0 = initialize_matrix(L, 1)\n",
    "    Mr0 = initialize_matrix(L, nseed)\n",
    "    M, M_dict = updated_ribsky_model(Mu0, Mr0, Gu, Gr, Ue, Ur, T, TRE, \\\n",
    "                             niter=max_niter)\n",
    "\n",
    "    if iter_save is not None:\n",
    "        ret = []\n",
    "        for it, M in M_dict.iteritems():\n",
    "            if it % iter_save == 0:\n",
    "                filename = \"%s/%d_iter%d.png\"%(basedir,n,it)\n",
    "                skimage.io.imsave(filename, M)\n",
    "                ret.append(filename)\n",
    "    else:\n",
    "        filename = \"%s/%d_iter%d.png\"%(basedir,n,max(M_dict.keys()))\n",
    "        skimage.io.imsave(filename, M)\n",
    "        ret = [filename]\n",
    "        \n",
    "    return ret"
   ]
  },
  {
   "cell_type": "code",
   "execution_count": 48,
   "metadata": {
    "collapsed": false
   },
   "outputs": [
    {
     "data": {
      "text/plain": [
       "['/home/adalbert/data/world-cities/simulations//Hu40_Gu2.00_Gr2.00_T0.01/0_iter0.png',\n",
       " '/home/adalbert/data/world-cities/simulations//Hu40_Gu2.00_Gr2.00_T0.01/0_iter3.png',\n",
       " '/home/adalbert/data/world-cities/simulations//Hu40_Gu2.00_Gr2.00_T0.01/0_iter6.png']"
      ]
     },
     "execution_count": 48,
     "metadata": {},
     "output_type": "execute_result"
    }
   ],
   "source": [
    "generate_samples(params_vec[0], iter_save=3)"
   ]
  },
  {
   "cell_type": "code",
   "execution_count": 55,
   "metadata": {
    "collapsed": false
   },
   "outputs": [],
   "source": [
    "amr = lbv.map_async(generate_samples, params_vec)"
   ]
  },
  {
   "cell_type": "code",
   "execution_count": 56,
   "metadata": {
    "collapsed": false
   },
   "outputs": [
    {
     "data": {
      "text/plain": [
       "268"
      ]
     },
     "execution_count": 56,
     "metadata": {},
     "output_type": "execute_result"
    }
   ],
   "source": [
    "amr.progress"
   ]
  },
  {
   "cell_type": "code",
   "execution_count": null,
   "metadata": {
    "collapsed": false
   },
   "outputs": [],
   "source": [
    "amr.result()"
   ]
  },
  {
   "cell_type": "code",
   "execution_count": 18,
   "metadata": {
    "collapsed": false
   },
   "outputs": [
    {
     "data": {
      "text/plain": [
       "(10, 5)"
      ]
     },
     "execution_count": 18,
     "metadata": {},
     "output_type": "execute_result"
    }
   ],
   "source": [
    "params_vec[:10].shape"
   ]
  },
  {
   "cell_type": "code",
   "execution_count": null,
   "metadata": {
    "collapsed": true
   },
   "outputs": [],
   "source": []
  }
 ],
 "metadata": {
  "kernelspec": {
   "display_name": "Python 2",
   "language": "python",
   "name": "python2"
  },
  "language_info": {
   "codemirror_mode": {
    "name": "ipython",
    "version": 2
   },
   "file_extension": ".py",
   "mimetype": "text/x-python",
   "name": "python",
   "nbconvert_exporter": "python",
   "pygments_lexer": "ipython2",
   "version": "2.7.6"
  }
 },
 "nbformat": 4,
 "nbformat_minor": 2
}
