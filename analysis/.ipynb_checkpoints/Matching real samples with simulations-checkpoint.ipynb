{
 "cells": [
  {
   "cell_type": "code",
   "execution_count": 3,
   "metadata": {
    "collapsed": false
   },
   "outputs": [
    {
     "name": "stdout",
     "output_type": "stream",
     "text": [
      "The autoreload extension is already loaded. To reload it, use:\n",
      "  %reload_ext autoreload\n"
     ]
    }
   ],
   "source": [
    "# Import several packages that will be used throughout\n",
    "\n",
    "# numeric packages\n",
    "import numpy as np\n",
    "import scipy\n",
    "import scipy.io\n",
    "import pandas as pd\n",
    "\n",
    "# filesystem and OS\n",
    "import sys, os, time\n",
    "import glob\n",
    "\n",
    "# images\n",
    "import skimage\n",
    "import skimage\n",
    "import skimage.io\n",
    "import cv2\n",
    "\n",
    "# plotting\n",
    "from matplotlib import pyplot as plt\n",
    "%matplotlib inline\n",
    "import seaborn as sns\n",
    "sns.set_style(\"whitegrid\", {'axes.grid' : False})\n",
    "from IPython.display import clear_output\n",
    "\n",
    "import warnings\n",
    "warnings.filterwarnings('ignore')\n",
    "\n",
    "# these magics ensure that external modules that are modified are also automatically reloaded\n",
    "%load_ext autoreload\n",
    "%autoreload 2"
   ]
  },
  {
   "cell_type": "code",
   "execution_count": 2,
   "metadata": {
    "collapsed": true
   },
   "outputs": [],
   "source": [
    "from skimage.feature import local_binary_pattern"
   ]
  },
  {
   "cell_type": "code",
   "execution_count": 4,
   "metadata": {
    "collapsed": true
   },
   "outputs": [],
   "source": [
    "experiment_dir = \"/home/adalbert/data/world-cities/simulations/\""
   ]
  },
  {
   "cell_type": "code",
   "execution_count": null,
   "metadata": {
    "collapsed": true
   },
   "outputs": [],
   "source": [
    "for train_image in train_images:\n",
    "    # Read the image 10 \n",
    "    im = cv2.imread(train_image) \n",
    "    # Convert to grayscale as LBP works on grayscale image 12 \n",
    "    im_gray = cv2.cvtColor(im, cv2.COLOR_BGR2GRAY) \n",
    "    radius = 3 # Number of points to be considered as neighbourers\n",
    "    no_points = 8 * radius 16 # Uniform LBP is used\n",
    "    lbp = local_binary_pattern(im_gray, no_points, radius, method='uniform') # Calculate the histogram\n",
    "    x = itemfreq(lbp.ravel()) # Normalize the histogram\n",
    "    hist = x[:, 1]/sum(x[:, 1]) # Append image path in X_name \n",
    "    X_name.append(train_image) # Append histogram to X_name\n",
    "    X_test.append(hist) # Append class label in y_test \n",
    "    y_test.append(train_dic[os.path.split(train_image)[1]]) \n",
    "    "
   ]
  }
 ],
 "metadata": {
  "kernelspec": {
   "display_name": "Python 2",
   "language": "python",
   "name": "python2"
  },
  "language_info": {
   "codemirror_mode": {
    "name": "ipython",
    "version": 2
   },
   "file_extension": ".py",
   "mimetype": "text/x-python",
   "name": "python",
   "nbconvert_exporter": "python",
   "pygments_lexer": "ipython2",
   "version": "2.7.6"
  }
 },
 "nbformat": 4,
 "nbformat_minor": 2
}
