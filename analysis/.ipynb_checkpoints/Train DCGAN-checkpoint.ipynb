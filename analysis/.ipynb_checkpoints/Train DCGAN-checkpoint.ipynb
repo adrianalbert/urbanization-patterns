{
 "cells": [
  {
   "cell_type": "markdown",
   "metadata": {},
   "source": [
    "# Initializations"
   ]
  },
  {
   "cell_type": "code",
   "execution_count": 1,
   "metadata": {
    "collapsed": false
   },
   "outputs": [],
   "source": [
    "import numpy as np\n",
    "import pandas as pd\n",
    "\n",
    "import sys, os, time\n",
    "import glob\n",
    "\n",
    "from matplotlib import pyplot as plt\n",
    "%matplotlib inline\n",
    "\n",
    "# these magics ensure that external modules that are modified are also automatically reloaded\n",
    "%load_ext autoreload\n",
    "%autoreload 2\n",
    "\n",
    "# widgets and interaction\n",
    "from ipywidgets import FloatProgress\n",
    "from IPython.display import display, clear_output\n",
    "\n",
    "import seaborn as sns\n",
    "sns.set_style(\"whitegrid\", {'axes.grid' : False})\n",
    "\n",
    "from skimage.io import imread, imsave\n",
    "\n",
    "import warnings\n",
    "warnings.filterwarnings('ignore')\n",
    "\n"
   ]
  },
  {
   "cell_type": "code",
   "execution_count": 14,
   "metadata": {
    "collapsed": false
   },
   "outputs": [],
   "source": [
    "import torch\n",
    "import torch.nn as nn\n",
    "from torch.autograd import Variable\n",
    "import torchvision.utils as vutils\n",
    "import torch\n",
    "import torch.nn as nn\n",
    "import torch.nn.parallel\n",
    "import torch.backends.cudnn as cudnn\n",
    "import torch.optim as optim\n",
    "import torch.utils.data\n",
    "import torchvision.datasets as dset\n",
    "import torchvision.transforms as transforms\n",
    "import torchvision.utils as vutils\n",
    "from torch.autograd import Variable\n",
    "\n",
    "import sys\n",
    "sys.path.append(\"../models/\")\n",
    "\n",
    "import models.dcgan as dcgan\n",
    "import models.mlp as mlp\n",
    "import models.dcgan_orig as do"
   ]
  },
  {
   "cell_type": "markdown",
   "metadata": {},
   "source": [
    "# Set up data sources"
   ]
  },
  {
   "cell_type": "code",
   "execution_count": 2,
   "metadata": {
    "collapsed": true
   },
   "outputs": [],
   "source": [
    "dataroot = \"/home/adalbert/data/world-cities/\""
   ]
  },
  {
   "cell_type": "markdown",
   "metadata": {},
   "source": [
    "#### Training data is in ./train (all cities > 10k population)"
   ]
  },
  {
   "cell_type": "code",
   "execution_count": 3,
   "metadata": {
    "collapsed": false
   },
   "outputs": [
    {
     "data": {
      "text/plain": [
       "24986"
      ]
     },
     "execution_count": 3,
     "metadata": {},
     "output_type": "execute_result"
    }
   ],
   "source": [
    "import glob\n",
    "\n",
    "files = glob.glob(dataroot + \"/train/*/*.png\")\n",
    "files_df = []\n",
    "for f in files:\n",
    "    s = f.split(\"/\")\n",
    "    fname, cls = s[-1], s[-2]\n",
    "    _,country,city,_,pop,lat,lon = fname.split(\"_\")\n",
    "    files_df.append((f, cls, country, pop))\n",
    "    \n",
    "files_df = pd.DataFrame(files_df, \\\n",
    "                columns=[\"filename\", \"class\", \"country\", \"population\"])\n",
    "\n",
    "len(files_df)"
   ]
  },
  {
   "cell_type": "markdown",
   "metadata": {},
   "source": [
    "#### Add in region information"
   ]
  },
  {
   "cell_type": "code",
   "execution_count": 16,
   "metadata": {
    "collapsed": true
   },
   "outputs": [],
   "source": [
    "regions_df = pd.read_csv(\"/home/adalbert/data/countries_regions.csv\")\n",
    "\n",
    "country2region = {r:c for r,c in zip(regions_df['alpha-2'].str.lower(), regions_df['region'])}\n",
    "\n",
    "files_df['region'] = files_df['country'].apply(lambda x: country2region[x] if x in country2region else np.nan)\n"
   ]
  },
  {
   "cell_type": "markdown",
   "metadata": {},
   "source": [
    "#### Preprocessing: assign class of \"built area\"\n",
    "- by deciles"
   ]
  },
  {
   "cell_type": "code",
   "execution_count": 17,
   "metadata": {
    "collapsed": false
   },
   "outputs": [],
   "source": [
    "from skimage.io import imread\n",
    "\n",
    "def compute_built_area(f):\n",
    "    img = imread(f)\n",
    "    img[img==128] = 0\n",
    "    return (img > 0).sum() / float(img.shape[0]*img.shape[1])\n",
    "\n",
    "files_df['built pct'] = files_df['filename'].apply(compute_built_area)"
   ]
  },
  {
   "cell_type": "code",
   "execution_count": 18,
   "metadata": {
    "collapsed": false
   },
   "outputs": [
    {
     "data": {
      "text/plain": [
       "<matplotlib.text.Text at 0x7f899e77ca50>"
      ]
     },
     "execution_count": 18,
     "metadata": {},
     "output_type": "execute_result"
    },
    {
     "data": {
      "image/png": "[encoded data removed]",
      "text/plain": [
       "<matplotlib.figure.Figure at 0x7f899e7cdd90>"
      ]
     },
     "metadata": {},
     "output_type": "display_data"
    }
   ],
   "source": [
    "files_df['built pct'].hist(bins=100, figsize=(6,4))\n",
    "sns.set_style(\"whitegrid\", {'axes.grid' : False})\n",
    "plt.xticks(fontsize=12)\n",
    "plt.yticks(fontsize=12)\n",
    "plt.title(\"Fraction of built land: 25k worldwide cities\", fontsize=16)\n",
    "plt.xlabel(\"% built land\", fontsize=14)\n",
    "plt.ylabel(\"# cities\", fontsize=14)"
   ]
  },
  {
   "cell_type": "code",
   "execution_count": 19,
   "metadata": {
    "collapsed": false
   },
   "outputs": [],
   "source": [
    "q = files_df['built pct'].quantile(np.linspace(0.1,1,10))\n",
    "files_df['decile'] = files_df['built pct'].apply(lambda x: np.searchsorted(q.values, x) )"
   ]
  },
  {
   "cell_type": "markdown",
   "metadata": {},
   "source": [
    "#### Split into training and validation"
   ]
  },
  {
   "cell_type": "code",
   "execution_count": 20,
   "metadata": {
    "collapsed": false
   },
   "outputs": [
    {
     "data": {
      "text/plain": [
       "(23736, 1250)"
      ]
     },
     "execution_count": 20,
     "metadata": {},
     "output_type": "execute_result"
    }
   ],
   "source": [
    "idx = np.random.choice(range(len(files_df)), int(len(files_df)*0.95), \\\n",
    "                       replace=False)\n",
    "train_df = files_df.iloc[idx]\n",
    "valid_df  = files_df.iloc[list(set(range(len(files_df))) - set(idx))]\n",
    "\n",
    "# train_df.to_csv(dataroot + \"/train.csv\")\n",
    "# valid_df.to_csv(dataroot + \"/valid.csv\")\n",
    "\n",
    "len(train_df), len(valid_df)"
   ]
  },
  {
   "cell_type": "markdown",
   "metadata": {},
   "source": [
    "#### Test data is under ./test/ and contains more carefully-filtered samples"
   ]
  },
  {
   "cell_type": "code",
   "execution_count": 21,
   "metadata": {
    "collapsed": false
   },
   "outputs": [
    {
     "data": {
      "text/plain": [
       "3012"
      ]
     },
     "execution_count": 21,
     "metadata": {},
     "output_type": "execute_result"
    }
   ],
   "source": [
    "import glob\n",
    "\n",
    "files = glob.glob(dataroot + \"/test/*/*.png\")\n",
    "test_df = []\n",
    "for f in files:\n",
    "    s = f.split(\"/\")\n",
    "    fname, cls = s[-1], s[-2]\n",
    "    _,country,city,_,pop,lat,lon = fname.split(\"_\")\n",
    "    test_df.append((f, cls, country, pop))\n",
    "    \n",
    "test_df = pd.DataFrame(test_df, \\\n",
    "                columns=[\"filename\", \"class\", \"country\", \"population\"])\n",
    "\n",
    "len(test_df)"
   ]
  },
  {
   "cell_type": "code",
   "execution_count": 22,
   "metadata": {
    "collapsed": false
   },
   "outputs": [],
   "source": [
    "test_df['built pct'] = test_df['filename'].apply(compute_built_area)\n",
    "test_df['decile'] = test_df['built pct'].apply(lambda x: np.searchsorted(q.values, x) )\n",
    "test_df['region'] = test_df['country'].apply(lambda x: country2region[x] if x in country2region else np.nan)\n",
    "\n",
    "# test_df.to_csv(dataroot + \"/test.csv\")\n"
   ]
  },
  {
   "cell_type": "code",
   "execution_count": 23,
   "metadata": {
    "collapsed": false
   },
   "outputs": [
    {
     "data": {
      "text/plain": [
       "<matplotlib.text.Text at 0x7f899e507b10>"
      ]
     },
     "execution_count": 23,
     "metadata": {},
     "output_type": "execute_result"
    },
    {
     "data": {
      "image/png": "[encoded data removed]",
      "text/plain": [
       "<matplotlib.figure.Figure at 0x7f899e83ba90>"
      ]
     },
     "metadata": {},
     "output_type": "display_data"
    }
   ],
   "source": [
    "test_df['built pct'].hist(bins=100, figsize=(6,4))\n",
    "plt.title(\"Fraction of built land: 3k global cities\", fontsize=16)\n",
    "plt.xlabel(\"% built land\", fontsize=14)\n",
    "plt.ylabel(\"# cities\", fontsize=14)"
   ]
  },
  {
   "cell_type": "markdown",
   "metadata": {},
   "source": [
    "# Train GAN\n",
    "We could spawn external process, but better just copy the command into an external script and run in a separate terminal. "
   ]
  },
  {
   "cell_type": "code",
   "execution_count": 24,
   "metadata": {
    "collapsed": false
   },
   "outputs": [
    {
     "data": {
      "text/html": [
       "<div>\n",
       "<table border=\"1\" class=\"dataframe\">\n",
       "  <thead>\n",
       "    <tr style=\"text-align: right;\">\n",
       "      <th></th>\n",
       "      <th>filename</th>\n",
       "      <th>class</th>\n",
       "      <th>country</th>\n",
       "      <th>population</th>\n",
       "      <th>built pct</th>\n",
       "      <th>decile</th>\n",
       "      <th>region</th>\n",
       "    </tr>\n",
       "  </thead>\n",
       "  <tbody>\n",
       "    <tr>\n",
       "      <th>23638</th>\n",
       "      <td>/home/adalbert/data/world-cities//train/small/...</td>\n",
       "      <td>small</td>\n",
       "      <td>my</td>\n",
       "      <td>52746</td>\n",
       "      <td>0.040263</td>\n",
       "      <td>5</td>\n",
       "      <td>Asia</td>\n",
       "    </tr>\n",
       "    <tr>\n",
       "      <th>20487</th>\n",
       "      <td>/home/adalbert/data/world-cities//train/very-s...</td>\n",
       "      <td>very-small</td>\n",
       "      <td>in</td>\n",
       "      <td>18326</td>\n",
       "      <td>0.020891</td>\n",
       "      <td>3</td>\n",
       "      <td>Asia</td>\n",
       "    </tr>\n",
       "    <tr>\n",
       "      <th>20638</th>\n",
       "      <td>/home/adalbert/data/world-cities//train/very-s...</td>\n",
       "      <td>very-small</td>\n",
       "      <td>it</td>\n",
       "      <td>22105</td>\n",
       "      <td>0.047971</td>\n",
       "      <td>5</td>\n",
       "      <td>Europe</td>\n",
       "    </tr>\n",
       "    <tr>\n",
       "      <th>20815</th>\n",
       "      <td>/home/adalbert/data/world-cities//train/very-s...</td>\n",
       "      <td>very-small</td>\n",
       "      <td>us</td>\n",
       "      <td>20823</td>\n",
       "      <td>0.025012</td>\n",
       "      <td>3</td>\n",
       "      <td>Americas</td>\n",
       "    </tr>\n",
       "    <tr>\n",
       "      <th>4671</th>\n",
       "      <td>/home/adalbert/data/world-cities//train/very-s...</td>\n",
       "      <td>very-small</td>\n",
       "      <td>fr</td>\n",
       "      <td>38098</td>\n",
       "      <td>0.125314</td>\n",
       "      <td>8</td>\n",
       "      <td>Europe</td>\n",
       "    </tr>\n",
       "  </tbody>\n",
       "</table>\n",
       "</div>"
      ],
      "text/plain": [
       "                                                filename       class country  \\\n",
       "23638  /home/adalbert/data/world-cities//train/small/...       small      my   \n",
       "20487  /home/adalbert/data/world-cities//train/very-s...  very-small      in   \n",
       "20638  /home/adalbert/data/world-cities//train/very-s...  very-small      it   \n",
       "20815  /home/adalbert/data/world-cities//train/very-s...  very-small      us   \n",
       "4671   /home/adalbert/data/world-cities//train/very-s...  very-small      fr   \n",
       "\n",
       "      population  built pct  decile    region  \n",
       "23638      52746   0.040263       5      Asia  \n",
       "20487      18326   0.020891       3      Asia  \n",
       "20638      22105   0.047971       5    Europe  \n",
       "20815      20823   0.025012       3  Americas  \n",
       "4671       38098   0.125314       8    Europe  "
      ]
     },
     "execution_count": 24,
     "metadata": {},
     "output_type": "execute_result"
    }
   ],
   "source": [
    "train_df.head()"
   ]
  },
  {
   "cell_type": "markdown",
   "metadata": {},
   "source": [
    "#### Set up batching"
   ]
  },
  {
   "cell_type": "code",
   "execution_count": null,
   "metadata": {
    "collapsed": true
   },
   "outputs": [],
   "source": [
    "import sys\n",
    "sys.path.append(\"/home/adalbert/nbserver/urbanization-patterns/models/pytorch_utils\")\n",
    "from loader_dataframe import ImageDataFrame, grayscale_loader, default_loader"
   ]
  },
  {
   "cell_type": "code",
   "execution_count": null,
   "metadata": {
    "collapsed": false
   },
   "outputs": [],
   "source": [
    "val_nodata = 128\n",
    "\n",
    "pimg = grayscale_loader(test_df['filename'].iloc[0])\n",
    "\n",
    "plt.imshow(pimg)"
   ]
  },
  {
   "cell_type": "code",
   "execution_count": null,
   "metadata": {
    "collapsed": true
   },
   "outputs": [],
   "source": [
    "sys.path.append(\"./pytorch_utils\")\n",
    "from loader_dataframe import ImageDataFrame, grayscale_loader\n",
    "dataset = ImageDataFrame(df=train_df, classCol=opt.classCol,\n",
    "                         loader=grayscale_loader,\n",
    "                         transform=transforms.Compose([\n",
    "                               transforms.RandomHorizontalFlip(),\n",
    "                               transforms.Scale(opt.imageSize),\n",
    "                               transforms.CenterCrop(opt.imageSize),\n",
    "                               transforms.ToTensor(),\n",
    "                               transforms.Normalize((0.5, 0.5, 0.5), (0.5, 0.5, 0.5)),\n",
    "                           ]))\n",
    "\n",
    "dataloader = torch.utils.data.DataLoader(dataset, batch_size=opt.batchSize,\n",
    "                                         shuffle=True, num_workers=int(opt.workers))"
   ]
  },
  {
   "cell_type": "markdown",
   "metadata": {},
   "source": [
    "#### Set up models"
   ]
  },
  {
   "cell_type": "code",
   "execution_count": 26,
   "metadata": {
    "collapsed": false
   },
   "outputs": [
    {
     "name": "stdout",
     "output_type": "stream",
     "text": [
      "_netG (\n",
      "  (main): Sequential (\n",
      "    (0): ConvTranspose2d(100, 512, kernel_size=(4, 4), stride=(1, 1), bias=False)\n",
      "    (1): BatchNorm2d(512, eps=1e-05, momentum=0.1, affine=True)\n",
      "    (2): ReLU (inplace)\n",
      "    (3): ConvTranspose2d(512, 256, kernel_size=(4, 4), stride=(2, 2), padding=(1, 1), bias=False)\n",
      "    (4): BatchNorm2d(256, eps=1e-05, momentum=0.1, affine=True)\n",
      "    (5): ReLU (inplace)\n",
      "    (6): ConvTranspose2d(256, 128, kernel_size=(4, 4), stride=(2, 2), padding=(1, 1), bias=False)\n",
      "    (7): BatchNorm2d(128, eps=1e-05, momentum=0.1, affine=True)\n",
      "    (8): ReLU (inplace)\n",
      "    (9): ConvTranspose2d(128, 64, kernel_size=(4, 4), stride=(2, 2), padding=(1, 1), bias=False)\n",
      "    (10): BatchNorm2d(64, eps=1e-05, momentum=0.1, affine=True)\n",
      "    (11): ReLU (inplace)\n",
      "    (12): ConvTranspose2d(64, 1, kernel_size=(4, 4), stride=(2, 2), padding=(1, 1), bias=False)\n",
      "    (13): Tanh ()\n",
      "  )\n",
      ")\n",
      "_netD (\n",
      "  (main): Sequential (\n",
      "    (0): Conv2d(1, 64, kernel_size=(4, 4), stride=(2, 2), padding=(1, 1), bias=False)\n",
      "    (1): LeakyReLU (0.2, inplace)\n",
      "    (2): Conv2d(64, 128, kernel_size=(4, 4), stride=(2, 2), padding=(1, 1), bias=False)\n",
      "    (3): BatchNorm2d(128, eps=1e-05, momentum=0.1, affine=True)\n",
      "    (4): LeakyReLU (0.2, inplace)\n",
      "    (5): Conv2d(128, 256, kernel_size=(4, 4), stride=(2, 2), padding=(1, 1), bias=False)\n",
      "    (6): BatchNorm2d(256, eps=1e-05, momentum=0.1, affine=True)\n",
      "    (7): LeakyReLU (0.2, inplace)\n",
      "    (8): Conv2d(256, 512, kernel_size=(4, 4), stride=(2, 2), padding=(1, 1), bias=False)\n",
      "    (9): BatchNorm2d(512, eps=1e-05, momentum=0.1, affine=True)\n",
      "    (10): LeakyReLU (0.2, inplace)\n",
      "    (11): Conv2d(512, 1, kernel_size=(4, 4), stride=(1, 1), bias=False)\n",
      "    (12): Sigmoid ()\n",
      "  )\n",
      ")\n"
     ]
    }
   ],
   "source": [
    "ngpu = 4\n",
    "nz = 100\n",
    "ngf = 64\n",
    "ndf = 64\n",
    "nc = 1\n",
    "n_extra_layers = 0\n",
    "\n",
    "# custom weights initialization called on netG and netD\n",
    "def weights_init(m):\n",
    "    classname = m.__class__.__name__\n",
    "    if classname.find('Conv') != -1:\n",
    "        m.weight.data.normal_(0.0, 0.02)\n",
    "    elif classname.find('BatchNorm') != -1:\n",
    "        m.weight.data.normal_(1.0, 0.02)\n",
    "        m.bias.data.fill_(0)\n",
    "\n",
    "# initialize generator\n",
    "netG = do._netG(ngpu, nc, nz, ngf)\n",
    "netG.apply(weights_init)\n",
    "print(netG)\n",
    "\n",
    "# initialize discriminator\n",
    "netD = do._netD(ngpu, nc, ndf)\n",
    "netD.apply(weights_init)\n",
    "print(netD)\n"
   ]
  },
  {
   "cell_type": "markdown",
   "metadata": {},
   "source": [
    "#### Set up optimization"
   ]
  },
  {
   "cell_type": "code",
   "execution_count": 27,
   "metadata": {
    "collapsed": false
   },
   "outputs": [
    {
     "ename": "NameError",
     "evalue": "name 'opt' is not defined",
     "output_type": "error",
     "traceback": [
      "\u001b[0;31m---------------------------------------------------------------------------\u001b[0m",
      "\u001b[0;31mNameError\u001b[0m                                 Traceback (most recent call last)",
      "\u001b[0;32m<ipython-input-27-63a82c3015b1>\u001b[0m in \u001b[0;36m<module>\u001b[0;34m()\u001b[0m\n\u001b[1;32m      1\u001b[0m \u001b[0mcriterion\u001b[0m \u001b[0;34m=\u001b[0m \u001b[0mnn\u001b[0m\u001b[0;34m.\u001b[0m\u001b[0mBCELoss\u001b[0m\u001b[0;34m(\u001b[0m\u001b[0;34m)\u001b[0m\u001b[0;34m\u001b[0m\u001b[0m\n\u001b[1;32m      2\u001b[0m \u001b[0;34m\u001b[0m\u001b[0m\n\u001b[0;32m----> 3\u001b[0;31m \u001b[0minput\u001b[0m \u001b[0;34m=\u001b[0m \u001b[0mtorch\u001b[0m\u001b[0;34m.\u001b[0m\u001b[0mFloatTensor\u001b[0m\u001b[0;34m(\u001b[0m\u001b[0mopt\u001b[0m\u001b[0;34m.\u001b[0m\u001b[0mbatchSize\u001b[0m\u001b[0;34m,\u001b[0m \u001b[0mnc\u001b[0m\u001b[0;34m,\u001b[0m \u001b[0mopt\u001b[0m\u001b[0;34m.\u001b[0m\u001b[0mimageSize\u001b[0m\u001b[0;34m,\u001b[0m \u001b[0mopt\u001b[0m\u001b[0;34m.\u001b[0m\u001b[0mimageSize\u001b[0m\u001b[0;34m)\u001b[0m\u001b[0;34m\u001b[0m\u001b[0m\n\u001b[0m\u001b[1;32m      4\u001b[0m \u001b[0mnoise\u001b[0m \u001b[0;34m=\u001b[0m \u001b[0mtorch\u001b[0m\u001b[0;34m.\u001b[0m\u001b[0mFloatTensor\u001b[0m\u001b[0;34m(\u001b[0m\u001b[0mopt\u001b[0m\u001b[0;34m.\u001b[0m\u001b[0mbatchSize\u001b[0m\u001b[0;34m,\u001b[0m \u001b[0mnz\u001b[0m\u001b[0;34m,\u001b[0m \u001b[0;36m1\u001b[0m\u001b[0;34m,\u001b[0m \u001b[0;36m1\u001b[0m\u001b[0;34m)\u001b[0m\u001b[0;34m\u001b[0m\u001b[0m\n\u001b[1;32m      5\u001b[0m \u001b[0mfixed_noise\u001b[0m \u001b[0;34m=\u001b[0m \u001b[0mtorch\u001b[0m\u001b[0;34m.\u001b[0m\u001b[0mFloatTensor\u001b[0m\u001b[0;34m(\u001b[0m\u001b[0mopt\u001b[0m\u001b[0;34m.\u001b[0m\u001b[0mbatchSize\u001b[0m\u001b[0;34m,\u001b[0m \u001b[0mnz\u001b[0m\u001b[0;34m,\u001b[0m \u001b[0;36m1\u001b[0m\u001b[0;34m,\u001b[0m \u001b[0;36m1\u001b[0m\u001b[0;34m)\u001b[0m\u001b[0;34m.\u001b[0m\u001b[0mnormal_\u001b[0m\u001b[0;34m(\u001b[0m\u001b[0;36m0\u001b[0m\u001b[0;34m,\u001b[0m \u001b[0;36m1\u001b[0m\u001b[0;34m)\u001b[0m\u001b[0;34m\u001b[0m\u001b[0m\n",
      "\u001b[0;31mNameError\u001b[0m: name 'opt' is not defined"
     ]
    }
   ],
   "source": [
    "criterion = nn.BCELoss()\n",
    "\n",
    "input = torch.FloatTensor(batchSize, nc, imageSize, imageSize)\n",
    "noise = torch.FloatTensor(batchSize, nz, 1, 1)\n",
    "fixed_noise = torch.FloatTensor(batchSize, nz, 1, 1).normal_(0, 1)\n",
    "label = torch.FloatTensor(batchSize)\n",
    "cond  = torch.FloatTensor(batchSize)\n",
    "shift = torch.FloatTensor(batchSize, nz, 1, 1)\n",
    "real_label = 1\n",
    "fake_label = 0\n",
    "\n",
    "if torch.cuda.is_available():\n",
    "    netD.cuda()\n",
    "    netG.cuda()\n",
    "    criterion.cuda()\n",
    "    input, label, cond = input.cuda(), label.cuda(), cond.cuda()\n",
    "    noise, fixed_noise = noise.cuda(), fixed_noise.cuda()\n",
    "    shift = shift.cuda()\n",
    "\n",
    "input = Variable(input)\n",
    "label = Variable(label)\n",
    "noise = Variable(noise)\n",
    "cond  = Variable(cond)\n",
    "\n",
    "fixed_noise = Variable(fixed_noise)\n",
    "\n",
    "# setup optimizer\n",
    "optimizerD = optim.Adam(netD.parameters(), lr = opt.lr, betas = (beta1, 0.999))\n",
    "optimizerG = optim.Adam(netG.parameters(), lr = opt.lr, betas = (beta1, 0.999))\n"
   ]
  },
  {
   "cell_type": "markdown",
   "metadata": {},
   "source": [
    "#### Train"
   ]
  },
  {
   "cell_type": "code",
   "execution_count": null,
   "metadata": {
    "collapsed": true
   },
   "outputs": [],
   "source": [
    "lossD = []\n",
    "lossG = []\n",
    "for epoch in range(opt.niter):\n",
    "    lossD_epoch = []\n",
    "    lossG_epoch = []\n",
    "    for i, data in enumerate(dataloader, 0):\n",
    "\n",
    "        ############################\n",
    "        # (1) Update D network: maximize log(D(x)) + log(1 - D(G(z)))\n",
    "        ###########################\n",
    "        real_cpu, cond_cpu = data\n",
    "        batch_size = real_cpu.size(0)\n",
    "\n",
    "        input.data.resize_(real_cpu.size()).copy_(real_cpu)\n",
    "        cond.data.resize_(cond_cpu.size()).copy_(cond_cpu)\n",
    "        label.data.resize_(batch_size).fill_(real_label)\n",
    "\n",
    "        # train with real\n",
    "        netD.zero_grad()\n",
    "        output = netD(input)\n",
    "        errD_real = criterion(output, label)\n",
    "        errD_real.backward()\n",
    "        D_x = output.data.mean()\n",
    "\n",
    "        # train with fake\n",
    "        mu = cond_cpu.numpy()\n",
    "        mu = np.repeat(mu, nz).reshape((-1,nz))\n",
    "        mu = mu.reshape(mu.shape + (1,1,))\n",
    "        # print(mu.shape, shift.size(), noise.size())\n",
    "        shift.resize_(batch_size, nz, 1, 1)\n",
    "        shift.copy_(torch.FloatTensor(mu))\n",
    "   \n",
    "        noise.data.resize_(batch_size, nz, 1, 1)\n",
    "        noise.data.normal_(0, 1)        \n",
    "        noise.data.add_(shift)\n",
    "        fake = netG(noise)\n",
    "        p_fake = fake.data.sum()\n",
    "        label.data.fill_(fake_label)\n",
    "        output = netD(fake.detach())\n",
    "        errD_fake = criterion(output, label)\n",
    "        errD_fake.backward()\n",
    "        D_G_z1 = output.data.mean()\n",
    "        errD = errD_real + errD_fake\n",
    "        \n",
    "        optimizerD.step()\n",
    "\n",
    "        ############################\n",
    "        # (2) Update G network: maximize log(D(G(z)))\n",
    "        ###########################\n",
    "        netG.zero_grad()\n",
    "        label.data.fill_(real_label) # fake labels are real for generator cost\n",
    "        output = netD(fake)\n",
    "        errG = criterion(output, label)\n",
    "        errG.backward()\n",
    "        D_G_z2 = output.data.mean()\n",
    "        optimizerG.step()\n",
    "\n",
    "        lossD_epoch.append(errD.data[0])\n",
    "        lossG_epoch.append(errG.data[0])\n",
    "        print('[%d/%d][%d/%d] Loss_D: %.4f Loss_G: %.4f D(x): %.4f D(G(z)): %.4f / %.4f'\n",
    "              % (epoch, opt.niter, i, len(dataloader),\n",
    "                 errD.data[0], errG.data[0], D_x, D_G_z1, D_G_z2))\n",
    "        if i % 100 == 0:\n",
    "            vutils.save_image(real_cpu,\n",
    "                    '%s/real_samples.png' % opt.outf)\n",
    "            fake = netG(fixed_noise)\n",
    "            vutils.save_image(fake.data,\n",
    "                    '%s/fake_samples_epoch_%03d.png' % (opt.outf, epoch))\n",
    "\n",
    "    # save plot of losses for G and D\n",
    "    lossD.append((np.mean(lossD_epoch), np.std(lossD_epoch)))\n",
    "    lossG.append((np.mean(lossG_epoch), np.std(lossG_epoch)))\n",
    "\n",
    "    with gzip.open(opt.outf + \"/training-loss.pickle.gz\", \"w\") as f:\n",
    "        pickle.dump([lossD, lossG], f)\n",
    "\n",
    "    plt.ioff()\n",
    "    fig = plt.figure()\n",
    "    plt.errorbar(range(len(lossD)), [x[0] for x in lossD], \n",
    "        yerr=[x[1] for x in lossD], label=\"D loss\")\n",
    "    plt.errorbar(range(len(lossG)), [x[0] for x in lossG], \n",
    "        yerr=[x[1] for x in lossG], label=\"G loss\")\n",
    "    plt.legend(loc=\"best\")\n",
    "    plt.title(\"DCGAN training on SAR urban patches\")\n",
    "    plt.savefig(\"%s/training_progress.jpg\"%opt.outf)\n",
    "    plt.close(fig)\n",
    "\n",
    "    # do checkpointing\n",
    "    torch.save(netG.state_dict(), '%s/netG_epoch_%d.pth' % (opt.outf, epoch))\n",
    "    torch.save(netD.state_dict(), '%s/netD_epoch_%d.pth' % (opt.outf, epoch))\n"
   ]
  },
  {
   "cell_type": "markdown",
   "metadata": {},
   "source": [
    "# Plot fake and real samples"
   ]
  },
  {
   "cell_type": "code",
   "execution_count": null,
   "metadata": {
    "collapsed": true
   },
   "outputs": [],
   "source": [
    "# experiment_dir = \"/home/adalbert/nbserver/pytorch-workspace/DCGAN/25k-cities-128/\"\n",
    "\n",
    "experiment_dir = \"/home/adalbert/nbserver/pytorch-workspace/DCGAN/25k-64-z-shift-2/\"\n"
   ]
  },
  {
   "cell_type": "code",
   "execution_count": null,
   "metadata": {
    "collapsed": false,
    "scrolled": false
   },
   "outputs": [],
   "source": [
    "files_fake = glob.glob(experiment_dir + \"/fake*.png\")\n",
    "files_fake.sort(key=lambda x: int(os.path.basename(x).split(\"_\")[-1].replace(\".png\",\"\")))\n",
    "\n",
    "files_real = glob.glob(experiment_dir + \"/real*.png\")\n",
    "\n",
    "img_real = imread(files_real[0])\n",
    "img_real = img_real / float(img_real.max())\n",
    "plt.imshow(1-np.abs(img_real))\n",
    "plt.title(\"Real Samples\")\n",
    "plt.axis(\"off\")\n",
    "plt.show()\n",
    "\n",
    "for f in files_fake[-5:]:\n",
    "    img = imread(f)\n",
    "    img = img / float(img.max())\n",
    "    plt.imshow(1 - np.abs(img))\n",
    "    plt.title(os.path.basename(f))\n",
    "    plt.axis(\"off\")\n",
    "    plt.show()\n"
   ]
  },
  {
   "cell_type": "code",
   "execution_count": null,
   "metadata": {
    "collapsed": false
   },
   "outputs": [],
   "source": [
    "import cPickle as pickle\n",
    "import gzip\n",
    "\n",
    "with gzip.open(experiment_dir + \"./training-loss.pickle.gz\", \"r\") as f:\n",
    "    lossD, lossG = pickle.load(f)\n",
    "    \n",
    "lossD = np.array(lossD)\n",
    "lossG = np.array(lossG)\n",
    "\n",
    "# plot\n",
    "fig,ax = plt.subplots(1,2, figsize=(12,4))\n",
    "ax[0].plot(lossD[:,0], label=\"D loss\")\n",
    "ax[0].legend()\n",
    "ax[1].plot(lossG[:,0], label=\"G loss\")\n",
    "ax[1].legend()"
   ]
  }
 ],
 "metadata": {
  "kernelspec": {
   "display_name": "Python 2",
   "language": "python",
   "name": "python2"
  },
  "language_info": {
   "codemirror_mode": {
    "name": "ipython",
    "version": 2
   },
   "file_extension": ".py",
   "mimetype": "text/x-python",
   "name": "python",
   "nbconvert_exporter": "python",
   "pygments_lexer": "ipython2",
   "version": "2.7.6"
  }
 },
 "nbformat": 4,
 "nbformat_minor": 0
}
