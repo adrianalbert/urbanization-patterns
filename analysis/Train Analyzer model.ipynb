{
 "cells": [
  {
   "cell_type": "markdown",
   "metadata": {},
   "source": [
    "# Initializations"
   ]
  },
  {
   "cell_type": "code",
   "execution_count": 1,
   "metadata": {
    "collapsed": false
   },
   "outputs": [],
   "source": [
    "import numpy as np\n",
    "import pandas as pd\n",
    "\n",
    "import sys, os, time\n",
    "import glob\n",
    "\n",
    "from matplotlib import pyplot as plt\n",
    "%matplotlib inline\n",
    "\n",
    "# these magics ensure that external modules that are modified are also automatically reloaded\n",
    "%load_ext autoreload\n",
    "%autoreload 2\n",
    "\n",
    "# widgets and interaction\n",
    "from ipywidgets import FloatProgress\n",
    "from IPython.display import display, clear_output\n",
    "\n",
    "import seaborn as sns\n",
    "sns.set_style(\"whitegrid\", {'axes.grid' : False})\n",
    "\n",
    "from skimage.io import imread, imsave\n",
    "\n",
    "import warnings\n",
    "warnings.filterwarnings('ignore')\n",
    "\n",
    "import gzip\n",
    "import cPickle as pickle"
   ]
  },
  {
   "cell_type": "code",
   "execution_count": 2,
   "metadata": {
    "collapsed": false
   },
   "outputs": [],
   "source": [
    "import torch\n",
    "import torch.nn as nn\n",
    "from torch.autograd import Variable\n",
    "import torchvision.utils as vutils\n",
    "import torch\n",
    "import torch.nn as nn\n",
    "import torch.nn.parallel\n",
    "import torch.backends.cudnn as cudnn\n",
    "import torch.optim as optim\n",
    "import torch.utils.data\n",
    "import torchvision.datasets as dset\n",
    "import torchvision.transforms as transforms\n",
    "import torchvision.utils as vutils\n",
    "from torch.autograd import Variable\n",
    "\n",
    "import sys\n",
    "sys.path.append(\"../ml-model/\")\n",
    "\n",
    "import models.dcgan as dcgan\n",
    "import models.mlp as mlp\n",
    "import models.dcgan_orig as do"
   ]
  },
  {
   "cell_type": "markdown",
   "metadata": {},
   "source": [
    "# Set up data sources"
   ]
  },
  {
   "cell_type": "code",
   "execution_count": 5,
   "metadata": {
    "collapsed": true
   },
   "outputs": [],
   "source": [
    "dataroot = \"/home/data/world-cities/\""
   ]
  },
  {
   "cell_type": "code",
   "execution_count": 6,
   "metadata": {
    "collapsed": false
   },
   "outputs": [
    {
     "data": {
      "text/plain": [
       "24986"
      ]
     },
     "execution_count": 6,
     "metadata": {},
     "output_type": "execute_result"
    }
   ],
   "source": [
    "import glob\n",
    "\n",
    "files = glob.glob(dataroot + \"/train/*/*.png\")\n",
    "files_df = []\n",
    "for f in files:\n",
    "    s = f.split(\"/\")\n",
    "    fname, cls = s[-1], s[-2]\n",
    "    _,country,city,_,pop,lat,lon = fname.split(\"_\")\n",
    "    files_df.append((f, cls, country, pop))\n",
    "    \n",
    "files_df = pd.DataFrame(files_df, \\\n",
    "                columns=[\"filename\", \"class\", \"country\", \"population\"])\n",
    "files_df['city'] = files_df['filename'].apply(lambda s: os.path.basename(s).split(\"_\")[2].replace(\"-\",\" \"))\n",
    "files_df['phase'] = 'train'\n",
    "\n",
    "len(files_df)"
   ]
  },
  {
   "cell_type": "code",
   "execution_count": 15,
   "metadata": {
    "collapsed": false
   },
   "outputs": [
    {
     "name": "stdout",
     "output_type": "stream",
     "text": [
      "19988 4998\n"
     ]
    }
   ],
   "source": [
    "idx = np.random.choice(range(len(files_df)), size=int(0.8*len(files_df)), replace=False)\n",
    "train_df = files_df.iloc[idx]\n",
    "valid_df = files_df.iloc[list(set(range(len(files_df)))-set(idx))]\n",
    "\n",
    "print len(train_df), len(valid_df)"
   ]
  },
  {
   "cell_type": "code",
   "execution_count": 85,
   "metadata": {
    "collapsed": true
   },
   "outputs": [],
   "source": [
    "train_df.to_csv(dataroot + \"train.csv\")\n",
    "valid_df.to_csv(dataroot + \"valid.csv\")"
   ]
  },
  {
   "cell_type": "markdown",
   "metadata": {},
   "source": [
    "#### Set up batching"
   ]
  },
  {
   "cell_type": "code",
   "execution_count": 21,
   "metadata": {
    "collapsed": true
   },
   "outputs": [],
   "source": [
    "pxCrop    = 448\n",
    "classCol  = \"class\"\n",
    "imageSize = 128\n",
    "batchSize = 64\n",
    "workers   = 4"
   ]
  },
  {
   "cell_type": "code",
   "execution_count": 22,
   "metadata": {
    "collapsed": false
   },
   "outputs": [],
   "source": [
    "import sys\n",
    "sys.path.append(\"./../ml-model/pytorch_utils\")\n",
    "from loader_dataframe import ImageDataFrame, grayscale_loader, WeightedRandomSampler\n",
    "\n",
    "from PIL import Image\n",
    "\n",
    "def fn_rotate(img, max_angle=90):\n",
    "    theta = np.random.randn()*max_angle\n",
    "    return img.rotate(theta, expand=True)\n",
    "\n",
    "train_dataset = ImageDataFrame(df=train_df, \n",
    "                         classCol=classCol,\n",
    "                         loader=grayscale_loader,\n",
    "                         transform=transforms.Compose([\n",
    "                               transforms.RandomHorizontalFlip(),\n",
    "                               transforms.CenterCrop(pxCrop),\n",
    "                               transforms.Lambda(lambda img: fn_rotate(img)),\n",
    "                               transforms.Scale(imageSize),\n",
    "                               transforms.ToTensor()\n",
    "                           ]))\n",
    "test_dataset = ImageDataFrame(df=test_df, \n",
    "                         classCol=classCol,\n",
    "                         loader=grayscale_loader,\n",
    "                         transform=transforms.Compose([\n",
    "                               transforms.CenterCrop(pxCrop),\n",
    "                               transforms.Scale(imageSize),\n",
    "                               transforms.ToTensor()\n",
    "                           ]))\n",
    "n_classes = len(train_dataset.classes)\n",
    "\n",
    "weights = None #train_df['built pct']\n",
    "train_dataloader = torch.utils.data.DataLoader(train_dataset, batch_size=batchSize,\n",
    "                                         shuffle=True, \n",
    "                                         #sampler=WeightedRandomSampler(weights, len(train_df)),\n",
    "                                         num_workers=int(workers))\n",
    "\n",
    "test_dataloader = torch.utils.data.DataLoader(test_dataset, batch_size=batchSize,\n",
    "                                         shuffle=False, \n",
    "                                         num_workers=int(workers))"
   ]
  },
  {
   "cell_type": "markdown",
   "metadata": {},
   "source": [
    "# Define model\n",
    "- should work on arbitrary size images (multiple of 16)\n",
    "- dual output: 0/1 for fake/real, vector of stats"
   ]
  },
  {
   "cell_type": "code",
   "execution_count": 23,
   "metadata": {
    "collapsed": true
   },
   "outputs": [],
   "source": [
    "nz = 100\n",
    "nc = 1\n",
    "ndf= 64\n",
    "ngpu = 2\n",
    "lr = 0.00005\n",
    "n_extra_layers = 0\n",
    "beta1 = 0.5\n",
    "lam = 0.5"
   ]
  },
  {
   "cell_type": "code",
   "execution_count": 24,
   "metadata": {
    "collapsed": true
   },
   "outputs": [],
   "source": [
    "import torch\n",
    "import torch.nn as nn\n",
    "import torch.nn.parallel\n",
    "\n",
    "def weights_init(m):\n",
    "    classname = m.__class__.__name__\n",
    "    if classname.find('Conv') != -1:\n",
    "        m.weight.data.normal_(0.0, 0.02)\n",
    "    elif classname.find('BatchNorm') != -1:\n",
    "        m.weight.data.normal_(1.0, 0.02)\n",
    "        m.bias.data.fill_(0)\n",
    "\n",
    "class DCGAN_D_DUAL(nn.Module):\n",
    "    def __init__(self, isize, nz, nc, ndf, ngpu, n_extra_layers=0, n_classes=1):\n",
    "        super(DCGAN_D_DUAL, self).__init__()\n",
    "        self.ngpu = ngpu\n",
    "        assert isize % 16 == 0, \"isize has to be a multiple of 16\"\n",
    "\n",
    "        features = nn.Sequential()\n",
    "        # input is nc x isize x isize\n",
    "        features.add_module('initial.conv.{0}-{1}'.format(nc, ndf),\n",
    "                        nn.Conv2d(nc, ndf, 4, 2, 1, bias=False))\n",
    "        features.add_module('initial.relu.{0}'.format(ndf),\n",
    "                        nn.LeakyReLU(0.2, inplace=True))\n",
    "        csize, cndf = isize / 2, ndf\n",
    "\n",
    "        # Extra layers\n",
    "        for t in range(n_extra_layers):\n",
    "            features.add_module('extra-layers-{0}.{1}.conv'.format(t, cndf),\n",
    "                            nn.Conv2d(cndf, cndf, 3, 1, 1, bias=False))\n",
    "            features.add_module('extra-layers-{0}.{1}.batchnorm'.format(t, cndf),\n",
    "                            nn.BatchNorm2d(cndf))\n",
    "            features.add_module('extra-layers-{0}.{1}.relu'.format(t, cndf),\n",
    "                            nn.LeakyReLU(0.2, inplace=True))\n",
    "\n",
    "        while csize > 4:\n",
    "            in_feat = cndf\n",
    "            out_feat = cndf * 2\n",
    "            features.add_module('pyramid.{0}-{1}.conv'.format(in_feat, out_feat),\n",
    "                            nn.Conv2d(in_feat, out_feat, 4, 2, 1, bias=False))\n",
    "            features.add_module('pyramid.{0}.batchnorm'.format(out_feat),\n",
    "                            nn.BatchNorm2d(out_feat))\n",
    "            features.add_module('pyramid.{0}.relu'.format(out_feat),\n",
    "                            nn.LeakyReLU(0.2, inplace=True))\n",
    "            cndf = cndf * 2\n",
    "            csize = csize / 2\n",
    "\n",
    "        # state size. K x 4 x 4\n",
    "        features.add_module('final.{0}-{1}.conv'.format(cndf, 1),\n",
    "                        nn.Conv2d(cndf, cndf, 4, 1, 0, bias=False))\n",
    "        self.features = features\n",
    "        self.flat_fts = self.get_flat_fts((nc,isize,isize), self.features)\n",
    "\n",
    "        self.classifier_src = nn.Sequential(\n",
    "            nn.Linear(self.flat_fts, 100),\n",
    "            nn.Dropout(p=0.2),\n",
    "            nn.ReLU(),\n",
    "            nn.Linear(100,1),\n",
    "            nn.Sigmoid()\n",
    "        )\n",
    "        self.classifier_cls = nn.Sequential(\n",
    "            nn.Linear(self.flat_fts, 100),\n",
    "            nn.Dropout(p=0.2),\n",
    "            nn.ReLU(),\n",
    "            nn.Linear(100,n_classes),\n",
    "            nn.Softmax()\n",
    "        )\n",
    "        \n",
    "    def get_flat_fts(self, in_size, fts):\n",
    "        f = fts(Variable(torch.ones(1,*in_size)))\n",
    "        return int(np.prod(f.size()[1:]))\n",
    "    \n",
    "    def forward(self, x):\n",
    "        fts = self.features(x)\n",
    "        flat_fts = fts.view(-1, self.flat_fts)\n",
    "        out1 = self.classifier1(flat_fts)\n",
    "        out2 = self.classifier2(flat_fts)\n",
    "        return out1, out2\n",
    "    \n",
    "    def forward(self, input):\n",
    "        if isinstance(input.data, torch.cuda.FloatTensor) and self.ngpu > 1:\n",
    "            fts = nn.parallel.data_parallel(self.features, input, range(self.ngpu))\n",
    "            flat_fts = fts.view(-1, self.flat_fts)\n",
    "            out_src= nn.parallel.data_parallel(self.classifier_src, flat_fts, range(self.ngpu))\n",
    "            out_cls= nn.parallel.data_parallel(self.classifier_cls, flat_fts, range(self.ngpu))            \n",
    "        else: \n",
    "            fts = self.features(input)\n",
    "            out_src= self.classifier_src(fts)\n",
    "            out_cls= self.classifier_cls(fts)\n",
    "                \n",
    "        return out_src, out_cls\n"
   ]
  },
  {
   "cell_type": "code",
   "execution_count": 25,
   "metadata": {
    "collapsed": false
   },
   "outputs": [
    {
     "data": {
      "text/plain": [
       "DCGAN_D_DUAL (\n",
       "  (features): Sequential (\n",
       "    (initial.conv.1-64): Conv2d(1, 64, kernel_size=(4, 4), stride=(2, 2), padding=(1, 1), bias=False)\n",
       "    (initial.relu.64): LeakyReLU (0.2, inplace)\n",
       "    (pyramid.64-128.conv): Conv2d(64, 128, kernel_size=(4, 4), stride=(2, 2), padding=(1, 1), bias=False)\n",
       "    (pyramid.128.batchnorm): BatchNorm2d(128, eps=1e-05, momentum=0.1, affine=True)\n",
       "    (pyramid.128.relu): LeakyReLU (0.2, inplace)\n",
       "    (pyramid.128-256.conv): Conv2d(128, 256, kernel_size=(4, 4), stride=(2, 2), padding=(1, 1), bias=False)\n",
       "    (pyramid.256.batchnorm): BatchNorm2d(256, eps=1e-05, momentum=0.1, affine=True)\n",
       "    (pyramid.256.relu): LeakyReLU (0.2, inplace)\n",
       "    (pyramid.256-512.conv): Conv2d(256, 512, kernel_size=(4, 4), stride=(2, 2), padding=(1, 1), bias=False)\n",
       "    (pyramid.512.batchnorm): BatchNorm2d(512, eps=1e-05, momentum=0.1, affine=True)\n",
       "    (pyramid.512.relu): LeakyReLU (0.2, inplace)\n",
       "    (pyramid.512-1024.conv): Conv2d(512, 1024, kernel_size=(4, 4), stride=(2, 2), padding=(1, 1), bias=False)\n",
       "    (pyramid.1024.batchnorm): BatchNorm2d(1024, eps=1e-05, momentum=0.1, affine=True)\n",
       "    (pyramid.1024.relu): LeakyReLU (0.2, inplace)\n",
       "    (final.1024-1.conv): Conv2d(1024, 1024, kernel_size=(4, 4), stride=(1, 1), bias=False)\n",
       "  )\n",
       "  (classifier_src): Sequential (\n",
       "    (0): Linear (1024 -> 100)\n",
       "    (1): Dropout (p = 0.2)\n",
       "    (2): ReLU ()\n",
       "    (3): Linear (100 -> 1)\n",
       "    (4): Sigmoid ()\n",
       "  )\n",
       "  (classifier_cls): Sequential (\n",
       "    (0): Linear (1024 -> 100)\n",
       "    (1): Dropout (p = 0.2)\n",
       "    (2): ReLU ()\n",
       "    (3): Linear (100 -> 6)\n",
       "    (4): Softmax ()\n",
       "  )\n",
       ")"
      ]
     },
     "execution_count": 25,
     "metadata": {},
     "output_type": "execute_result"
    }
   ],
   "source": [
    "net = DCGAN_D_DUAL(imageSize, nz, nc, ndf, ngpu, n_extra_layers, n_classes=n_classes)\n",
    "net.apply(weights_init)\n"
   ]
  },
  {
   "cell_type": "markdown",
   "metadata": {},
   "source": [
    "# Train model"
   ]
  },
  {
   "cell_type": "code",
   "execution_count": 77,
   "metadata": {
    "collapsed": false
   },
   "outputs": [],
   "source": [
    "input = torch.FloatTensor(batchSize, nc, imageSize, imageSize)\n",
    "label = torch.LongTensor(batchSize, nc, imageSize, imageSize)\n",
    "source_label = torch.FloatTensor(batchSize)\n",
    "one = torch.FloatTensor([1])\n",
    "mone = one * -1\n",
    "\n",
    "if torch.cuda.is_available():\n",
    "    net.cuda()\n",
    "    input = input.cuda()\n",
    "    label, source_label = label.cuda(), source_label.cuda()\n",
    "    one, mone = one.cuda(), mone.cuda()\n",
    "\n",
    "input = Variable(input)\n",
    "label = Variable(label, requires_grad=False)\n",
    "source_label = Variable(source_label, requires_grad=False)\n",
    "\n",
    "    \n",
    "# setup optimizer\n",
    "optimizer = optim.Adam(net.parameters(), lr=lr, betas=(beta1, 0.999))\n",
    "\n",
    "# optimization criteria\n",
    "criterion_bce = nn.BCELoss()\n",
    "criterion_mse = nn.MSELoss()\n",
    "criterion_cls = nn.CrossEntropyLoss()\n"
   ]
  },
  {
   "cell_type": "code",
   "execution_count": 79,
   "metadata": {
    "collapsed": false
   },
   "outputs": [],
   "source": [
    "for i, (imgs, labs) in enumerate(train_dataloader):  \n",
    "    batch_size = imgs.size(0)\n",
    "    input.data.resize_(imgs.size()).copy_(imgs)\n",
    "    label.data.resize_(labs.size()).copy_(labs)\n",
    "    source_label.data.resize_(batch_size).fill_(0)\n",
    "    break"
   ]
  },
  {
   "cell_type": "code",
   "execution_count": 81,
   "metadata": {
    "collapsed": false
   },
   "outputs": [],
   "source": [
    "out_src, out_sts = net(input)\n",
    "\n",
    "loss_src = criterion_bce(out_src, source_label)\n",
    "loss_sts = criterion_cls(out_sts, label)\n",
    "loss = loss_src + lam * loss_sts"
   ]
  },
  {
   "cell_type": "code",
   "execution_count": null,
   "metadata": {
    "collapsed": true
   },
   "outputs": [],
   "source": [
    "for epoch in range(num_epochs):\n",
    "    \n",
    "    # Train for this epoch\n",
    "    \n",
    "    net.train(True)\n",
    "    for i, (imgs, labs) in enumerate(train_dataloader):        \n",
    "        batch_size = imgs.size(0)\n",
    "        input.data.resize_(imgs.size()).copy_(imgs)\n",
    "        label.data.resize_(labs.size()).copy_(labs)\n",
    "        source_label.data.resize_(batch_size).fill_(0)\n",
    "\n",
    "        # Forward + Backward + Optimize\n",
    "        net.zero_grad()\n",
    "        out_src, out_sts = net(input)\n",
    "        loss_src = criterion_bce(out_src, source_label)\n",
    "        loss_sts = criterion_cls(out_sts, label)\n",
    "        loss = loss_src + lam * loss_sts        \n",
    "        \n",
    "        optimizer.zero_grad()\n",
    "        loss.backward()\n",
    "        optimizer.step()\n",
    "        \n",
    "        if (i+1) % 100 == 0:\n",
    "            print ('Epoch [%d/%d], Iter [%d/%d] Loss: %.4f' \n",
    "                   %(epoch+1, num_epochs, i+1, len(train_dataset)//batch_size, loss.data[0]))\n",
    "    \n",
    "    # Test for this epoch\n",
    "    net.eval()  # Change model to 'eval' mode (BN uses moving mean/var).\n",
    "    correct = 0\n",
    "    total = 0\n",
    "    for imgs, labs in test_dataloader:\n",
    "        imgs = Variable(imgs)\n",
    "        outputs = net(images)\n",
    "        _, predicted = torch.max(outputs.data, 1)\n",
    "        total += labels.size(0)\n",
    "        correct += (predicted == labels).sum()\n",
    "\n",
    "    print('Test Accuracy of the model on the 10000 test images: %d %%' % (100 * correct / total))\n",
    "\n",
    "    # checkpoint best model\n",
    "    torch.save(netD.state_dict(), '{0}/netD_epoch_{1}.pth'.format(opt.experiment, epoch))\n"
   ]
  },
  {
   "cell_type": "code",
   "execution_count": null,
   "metadata": {
    "collapsed": true
   },
   "outputs": [],
   "source": [
    "net.train(mode=True)"
   ]
  }
 ],
 "metadata": {
  "kernelspec": {
   "display_name": "Python 2",
   "language": "python",
   "name": "python2"
  },
  "language_info": {
   "codemirror_mode": {
    "name": "ipython",
    "version": 2
   },
   "file_extension": ".py",
   "mimetype": "text/x-python",
   "name": "python",
   "nbconvert_exporter": "python",
   "pygments_lexer": "ipython2",
   "version": "2.7.6"
  }
 },
 "nbformat": 4,
 "nbformat_minor": 0
}
