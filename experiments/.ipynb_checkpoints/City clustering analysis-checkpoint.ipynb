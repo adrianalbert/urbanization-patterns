{
 "cells": [
  {
   "cell_type": "markdown",
   "metadata": {},
   "source": [
    "# Classes of cities -- clustering analysis"
   ]
  },
  {
   "cell_type": "markdown",
   "metadata": {},
   "source": [
    "This notebook presents an analysis of cities using remote-sensing data on macro-level socio-demographic indicators. In particular, we characterize cities by the dependence with distance (from the city center) of several macroeconomic quantities:\n",
    "* built areas $x_{bldg}(d)$ estimated from SAR/GUF data\n",
    "* population density $x_{pop}(d)$ estimated from LandScan data\n",
    "* luminosity $x_{lum}(d)$ estimated from VIIRS (nightlights) data.\n",
    "\n",
    "We model each quantity (population, luminosity, built area) by breaking it down into a scale component and a spatial profile component:\n",
    "\n",
    "<p><center> $\\displaystyle x(d) = c \\cdot \\hat{x}(d)$ </center></p>\n",
    "\n",
    "We analyze cities from the perspective of patterns in each of the components $c$ and $\\hat{x}(\\cdot)$. We'll have one such set of objects for each data source we consider (population, luminosity, building density).\n",
    "\n",
    "We expect (as shown empirically below) that the distribution of the scale factor $c$ across cities is heavily skewed towards small $c$, and is approximately a log-normal. \n",
    "\n",
    "At the same time, prior research on urban form typically models the relationship of $x (d)$ with distance $d$ using an exponential form:\n",
    "\n",
    "<p><center> $\\displaystyle x(d) = x_0 e^{-\\gamma d}$ </center></p>\n",
    "\n",
    "Above, $\\gamma$ is the _average (radial) spatial gradient_ which previous studies (e.g., Alain Bertaud's work) have investigated. This can be estimated readily via linear regression:\n",
    "\n",
    "<p><center> $\\displaystyle \\text{log } x(d) = \\text{log } x_0 -\\gamma d$ </center></p>\n",
    "\n",
    "(Note we will use 10-base logarithm, but still refer to it as _log_ for ease of notation.)\n",
    "\n",
    "The two expressions for $x(d)$ are equivalent, so $c$ could be identified as $\\text{log }x_0$, but we'll prefer to retain the scale factor $c$, because it has a more direct interpretation. \n",
    "\n",
    "\n"
   ]
  },
  {
   "cell_type": "markdown",
   "metadata": {},
   "source": [
    "\n",
    "# Packages"
   ]
  },
  {
   "cell_type": "code",
   "execution_count": 331,
   "metadata": {},
   "outputs": [
    {
     "name": "stdout",
     "output_type": "stream",
     "text": [
      "The autoreload extension is already loaded. To reload it, use:\n",
      "  %reload_ext autoreload\n"
     ]
    }
   ],
   "source": [
    "import numpy as np\n",
    "import pandas as pd\n",
    "\n",
    "import geopandas as gpd\n",
    "import shapely.wkt\n",
    "from shapely import geometry\n",
    "import geojson\n",
    "from shapely.geometry import shape\n",
    "from shapely.wkt import loads\n",
    "\n",
    "import re\n",
    "\n",
    "import sys, os, time\n",
    "import glob\n",
    "\n",
    "from matplotlib import pyplot as plt\n",
    "from matplotlib.colors import ListedColormap\n",
    "\n",
    "%matplotlib inline\n",
    "\n",
    "# these magics ensure that external modules that are modified are also automatically reloaded\n",
    "%load_ext autoreload\n",
    "%autoreload 2\n",
    "\n",
    "# widgets and interaction\n",
    "from ipywidgets import FloatProgress\n",
    "from IPython.display import display, clear_output\n",
    "\n",
    "import seaborn as sns\n",
    "sns.set_style(\"whitegrid\", {'axes.grid' : False})\n",
    "\n",
    "from skimage.io import imread, imsave\n",
    "\n",
    "import warnings\n",
    "warnings.filterwarnings('ignore')\n",
    "\n",
    "import gzip\n",
    "import cPickle as pickle\n",
    "import copy\n",
    "\n",
    "colormap = {\"bldg\":\"black\", \"pop\":\"green\", \"lum\":\"orange\", \"all\":\"blue\"}\n",
    "\n",
    "cmap_bld = sns.light_palette(\"black\", n_colors=10)\n",
    "cmap_pop = sns.light_palette(\"green\", n_colors=10)\n",
    "cmap_lum = sns.light_palette(\"orange\",n_colors=10)\n",
    "\n",
    "\n",
    "cmap_dict = {\"bldg\":ListedColormap(cmap_bld), \n",
    "             \"pop\":ListedColormap(cmap_pop), \n",
    "             \"lum\":ListedColormap(cmap_lum)}\n"
   ]
  },
  {
   "cell_type": "code",
   "execution_count": 2,
   "metadata": {},
   "outputs": [
    {
     "data": {
      "image/png": "[encoded data removed]",
      "text/plain": [
       "<matplotlib.figure.Figure at 0x7f955181a090>"
      ]
     },
     "metadata": {},
     "output_type": "display_data"
    }
   ],
   "source": [
    "from matplotlib.colors import ListedColormap\n",
    "import matplotlib\n",
    "\n",
    "# define a custom color palette\n",
    "my_colors = [\n",
    " (102, 48, 52),\n",
    " (218, 96, 75),\n",
    " (249, 171, 174),\n",
    " (179, 99, 149),\n",
    " # (215, 187, 208),\n",
    " # (218, 198, 199),\n",
    " (161, 185, 59),\n",
    " # (214, 227, 140),\n",
    " (255, 250, 182),\n",
    " (25, 101, 64),\n",
    " (189, 225, 237),\n",
    " (60, 60, 60),\n",
    " (214, 227, 140),\n",
    " (135, 100, 83),\n",
    " (236, 174, 128)]\n",
    "\n",
    "my_colors = [(np.array(v)/float(255)).tolist() + [1.0] for v in my_colors]\n",
    "\n",
    "my_cmap = matplotlib.colors.ListedColormap(my_colors)\n",
    "\n",
    "sns.palplot(sns.color_palette(my_colors))"
   ]
  },
  {
   "cell_type": "markdown",
   "metadata": {},
   "source": [
    "# Load city feature data for analysis"
   ]
  },
  {
   "cell_type": "code",
   "execution_count": 3,
   "metadata": {
    "collapsed": true
   },
   "outputs": [],
   "source": [
    "dataroot = \"/home/data/world-cities/\""
   ]
  },
  {
   "cell_type": "markdown",
   "metadata": {},
   "source": [
    "#### Data on raw variable profiles with distance"
   ]
  },
  {
   "cell_type": "code",
   "execution_count": 4,
   "metadata": {},
   "outputs": [
    {
     "name": "stdout",
     "output_type": "stream",
     "text": [
      "29850\n"
     ]
    }
   ],
   "source": [
    "# load pre-computed profile data\n",
    "\n",
    "with gzip.open(dataroot + \"spatial-maps/stats_cities_over10kpop.pickle.gz\", \"r\") as f:\n",
    "    cities = pickle.load(f)\n",
    "print len(cities)  \n",
    "\n",
    "# load pruned list of cities\n",
    "cities_sel_df = pd.read_csv(dataroot + \"/selected_urban_areas_100k.csv\").drop(\"index\",axis=1)\n",
    "\n",
    "parse_location = lambda s: shape(loads(s))\n",
    "cities_sel_df['location'] = cities_sel_df['location'].apply(parse_location)\n",
    "\n",
    "def include(v):\n",
    "    return ((cities_sel_df.city.str.contains(v['city'])) & \\\n",
    "           (cities_sel_df.population==v['population']) & \\\n",
    "           (cities_sel_df.country.str.contains(v['country']))).sum()>0 \n",
    " \n",
    "cities_sel = {k:v for k,v in cities.iteritems() if include(v)}\n",
    "print len(cities_sel)\n",
    "\n",
    "L = len(cities.values()[0]['profiles']['bldg'][0]) # length of profile in km\n",
    "distance_km = np.arange(L)"
   ]
  },
  {
   "cell_type": "markdown",
   "metadata": {},
   "source": [
    "# Analyze city scale"
   ]
  },
  {
   "cell_type": "markdown",
   "metadata": {},
   "source": [
    "#### Format scale data"
   ]
  },
  {
   "cell_type": "code",
   "execution_count": 55,
   "metadata": {},
   "outputs": [
    {
     "data": {
      "text/html": [
       "<div>\n",
       "<style>\n",
       "    .dataframe thead tr:only-child th {\n",
       "        text-align: right;\n",
       "    }\n",
       "\n",
       "    .dataframe thead th {\n",
       "        text-align: left;\n",
       "    }\n",
       "\n",
       "    .dataframe tbody tr th {\n",
       "        vertical-align: top;\n",
       "    }\n",
       "</style>\n",
       "<table border=\"1\" class=\"dataframe\">\n",
       "  <thead>\n",
       "    <tr style=\"text-align: right;\">\n",
       "      <th></th>\n",
       "      <th>city</th>\n",
       "      <th>scale-pop</th>\n",
       "      <th>subregion</th>\n",
       "      <th>region</th>\n",
       "      <th>bldg-in</th>\n",
       "      <th>pop-in</th>\n",
       "      <th>lum-in</th>\n",
       "      <th>bldg-tot</th>\n",
       "      <th>pop-tot</th>\n",
       "      <th>lum-tot</th>\n",
       "      <th>bldg-max</th>\n",
       "      <th>pop-max</th>\n",
       "      <th>lum-max</th>\n",
       "    </tr>\n",
       "  </thead>\n",
       "  <tbody>\n",
       "    <tr>\n",
       "      <th>0</th>\n",
       "      <td>pcs</td>\n",
       "      <td>small-1</td>\n",
       "      <td>Eastern Europe</td>\n",
       "      <td>Europe</td>\n",
       "      <td>0.079496</td>\n",
       "      <td>179109.0</td>\n",
       "      <td>1.255444</td>\n",
       "      <td>0.033861</td>\n",
       "      <td>7.258769e+05</td>\n",
       "      <td>0.337202</td>\n",
       "      <td>0.642461</td>\n",
       "      <td>2095.800000</td>\n",
       "      <td>18.472693</td>\n",
       "    </tr>\n",
       "    <tr>\n",
       "      <th>1</th>\n",
       "      <td>goyang</td>\n",
       "      <td>large</td>\n",
       "      <td>Eastern Asia</td>\n",
       "      <td>Asia</td>\n",
       "      <td>0.349494</td>\n",
       "      <td>1033714.0</td>\n",
       "      <td>21.358686</td>\n",
       "      <td>0.195003</td>\n",
       "      <td>2.231682e+07</td>\n",
       "      <td>11.698015</td>\n",
       "      <td>0.663632</td>\n",
       "      <td>12563.666667</td>\n",
       "      <td>31.203003</td>\n",
       "    </tr>\n",
       "    <tr>\n",
       "      <th>2</th>\n",
       "      <td>mazowe</td>\n",
       "      <td>small-1</td>\n",
       "      <td>Eastern Africa</td>\n",
       "      <td>Africa</td>\n",
       "      <td>0.002294</td>\n",
       "      <td>161956.0</td>\n",
       "      <td>0.023511</td>\n",
       "      <td>0.003470</td>\n",
       "      <td>5.314265e+05</td>\n",
       "      <td>0.034665</td>\n",
       "      <td>0.030290</td>\n",
       "      <td>64.934282</td>\n",
       "      <td>0.155501</td>\n",
       "    </tr>\n",
       "    <tr>\n",
       "      <th>3</th>\n",
       "      <td>ihorombe</td>\n",
       "      <td>small-1</td>\n",
       "      <td>Eastern Africa</td>\n",
       "      <td>Africa</td>\n",
       "      <td>0.000716</td>\n",
       "      <td>135148.0</td>\n",
       "      <td>0.000587</td>\n",
       "      <td>0.000627</td>\n",
       "      <td>1.002725e+05</td>\n",
       "      <td>0.000502</td>\n",
       "      <td>0.057143</td>\n",
       "      <td>153.371429</td>\n",
       "      <td>0.124188</td>\n",
       "    </tr>\n",
       "    <tr>\n",
       "      <th>4</th>\n",
       "      <td>magelang</td>\n",
       "      <td>large</td>\n",
       "      <td>South-Eastern Asia</td>\n",
       "      <td>Asia</td>\n",
       "      <td>0.114572</td>\n",
       "      <td>1494199.0</td>\n",
       "      <td>0.547013</td>\n",
       "      <td>0.125196</td>\n",
       "      <td>1.009845e+07</td>\n",
       "      <td>0.868255</td>\n",
       "      <td>0.590235</td>\n",
       "      <td>3859.000000</td>\n",
       "      <td>6.042631</td>\n",
       "    </tr>\n",
       "  </tbody>\n",
       "</table>\n",
       "</div>"
      ],
      "text/plain": [
       "       city scale-pop           subregion  region   bldg-in     pop-in  \\\n",
       "0       pcs   small-1      Eastern Europe  Europe  0.079496   179109.0   \n",
       "1    goyang     large        Eastern Asia    Asia  0.349494  1033714.0   \n",
       "2    mazowe   small-1      Eastern Africa  Africa  0.002294   161956.0   \n",
       "3  ihorombe   small-1      Eastern Africa  Africa  0.000716   135148.0   \n",
       "4  magelang     large  South-Eastern Asia    Asia  0.114572  1494199.0   \n",
       "\n",
       "      lum-in  bldg-tot       pop-tot    lum-tot  bldg-max       pop-max  \\\n",
       "0   1.255444  0.033861  7.258769e+05   0.337202  0.642461   2095.800000   \n",
       "1  21.358686  0.195003  2.231682e+07  11.698015  0.663632  12563.666667   \n",
       "2   0.023511  0.003470  5.314265e+05   0.034665  0.030290     64.934282   \n",
       "3   0.000587  0.000627  1.002725e+05   0.000502  0.057143    153.371429   \n",
       "4   0.547013  0.125196  1.009845e+07   0.868255  0.590235   3859.000000   \n",
       "\n",
       "     lum-max  \n",
       "0  18.472693  \n",
       "1  31.203003  \n",
       "2   0.155501  \n",
       "3   0.124188  \n",
       "4   6.042631  "
      ]
     },
     "execution_count": 55,
     "metadata": {},
     "output_type": "execute_result"
    }
   ],
   "source": [
    "scales_within = np.vstack([\n",
    "                    [v['avg area bnds']['bldg'] for k,v in cities_sel.iteritems()],\n",
    "                    [v['population'] for k,v in cities_sel.iteritems()],\n",
    "                    [v['avg area bnds']['lum'] for k,v in cities_sel.iteritems()]\n",
    "]).T\n",
    "\n",
    "scales_total = np.vstack([\n",
    "                    [v['avg area']['bldg'] for k,v in cities_sel.iteritems()],\n",
    "                    [v['sum area']['pop'] for k,v in cities_sel.iteritems()],\n",
    "                    [v['avg area']['lum'] for k,v in cities_sel.iteritems()]\n",
    " ]).T\n",
    "\n",
    "scales_max = np.vstack([\n",
    "                    [v['profiles']['bldg'][0].max() for k,v in cities_sel.iteritems()],\n",
    "                    [v['profiles']['pop'][0].max() for k,v in cities_sel.iteritems()],\n",
    "                    [v['profiles']['lum'][0].max() for k,v in cities_sel.iteritems()]   \n",
    "]).T\n",
    "\n",
    "scales = np.hstack([scales_within, scales_total, scales_max])\n",
    "columns_scales = [\"bldg-in\", \"pop-in\", \"lum-in\", \n",
    "                  \"bldg-tot\", \"pop-tot\", \"lum-tot\",\n",
    "                  \"bldg-max\", \"pop-max\", \"lum-max\"]\n",
    "scales_df = pd.DataFrame(scales, columns=columns_scales)\n",
    "scales_df.fillna(0, inplace=True)\n",
    "\n",
    "info_df = pd.DataFrame(np.array(\n",
    "                        [[v['city'] for k,v in cities_sel.iteritems()],\n",
    "                        [v['size'] for k,v in cities_sel.iteritems()],\n",
    "                        [v['subregion'] for k,v in cities_sel.iteritems()],\n",
    "                        [v['region'] for k,v in cities_sel.iteritems()]]).T,\n",
    "                      columns=['city', 'scale-pop', 'subregion', 'region'])\n",
    "scales_df = pd.concat([info_df, scales_df], axis=1)\n",
    "\n",
    "scales_df.head()"
   ]
  },
  {
   "cell_type": "markdown",
   "metadata": {},
   "source": [
    "Let's standardize the profiles by subtracting the mean and scaling by variance. This is to compare relative variation across cities between population, luminosity, and buildings."
   ]
  },
  {
   "cell_type": "code",
   "execution_count": 35,
   "metadata": {
    "collapsed": true
   },
   "outputs": [],
   "source": [
    "from sklearn.preprocessing import StandardScaler\n",
    "\n",
    "scales_std = StandardScaler().fit_transform(scales)\n",
    "scales_std_df = pd.DataFrame(scales_std, columns=columns_scales)\n",
    "scales_std_df = pd.concat([info_df, scales_std_df], axis=1)"
   ]
  },
  {
   "cell_type": "markdown",
   "metadata": {},
   "source": [
    "#### Create scale-based classifications for bld and lum\n",
    "\n",
    "For population we have a standard classification system (5 classes of cities by population). Let's create a simple classification for built density and for luminosity.\n",
    "\n",
    "For each dimension (lum, bld) we can try different statistics to classify by\n",
    "* average within bounds\n",
    "* average total (including city + 50km area around city center)\n",
    "* maximum density"
   ]
  },
  {
   "cell_type": "code",
   "execution_count": 56,
   "metadata": {},
   "outputs": [
    {
     "data": {
      "text/plain": [
       "small-1       1443\n",
       "small-2       1440\n",
       "large          915\n",
       "medium         626\n",
       "very-large     135\n",
       "Name: scale-pop, dtype: int64"
      ]
     },
     "execution_count": 56,
     "metadata": {},
     "output_type": "execute_result"
    }
   ],
   "source": [
    "scales_df['scale-pop'].value_counts()"
   ]
  },
  {
   "cell_type": "code",
   "execution_count": 85,
   "metadata": {
    "collapsed": true
   },
   "outputs": [],
   "source": [
    "typ = \"in\"\n",
    "classes = ['low', 'med', 'hi']\n",
    "\n",
    "q_bld = np.percentile(scales_df['bldg-%s'%typ].dropna(), (0,25, 75,100))\n",
    "scales_df['scale-bldg'] = ''\n",
    "for p in range(3):\n",
    "    idx = (scales_df['bldg-%s'%typ]>=q_bld[p]) & (scales_df['bldg-%s'%typ]<=q_bld[p+1])\n",
    "    scales_df.ix[idx,'scale-bldg'] = classes[p]\n",
    "\n",
    "q_lum = np.percentile(scales_df['lum-%s'%typ].dropna(), (0,25, 75,100))\n",
    "scales_df['scale-lum'] = ''\n",
    "for p in range(3):\n",
    "    idx = (scales_df['lum-%s'%typ]>=q_lum[p]) & (scales_df['lum-%s'%typ]<=q_lum[p+1])\n",
    "    scales_df.ix[idx,'scale-lum'] = classes[p]\n"
   ]
  },
  {
   "cell_type": "code",
   "execution_count": 316,
   "metadata": {
    "scrolled": false
   },
   "outputs": [
    {
     "data": {
      "text/plain": [
       "<matplotlib.legend.Legend at 0x7f94c2fb1d50>"
      ]
     },
     "execution_count": 316,
     "metadata": {},
     "output_type": "execute_result"
    },
    {
     "data": {
      "image/png": "[encoded data removed]",
      "text/plain": [
       "<matplotlib.figure.Figure at 0x7f94c5316ad0>"
      ]
     },
     "metadata": {},
     "output_type": "display_data"
    }
   ],
   "source": [
    "sns.set_context(\"notebook\", font_scale=1.5)\n",
    "\n",
    "fig, ax = plt.subplots(3,3, figsize=(9,6),\n",
    "                      gridspec_kw={\"wspace\":0.1, \"hspace\":0.25},\n",
    "                      sharex=True, sharey=True)\n",
    "pop_scales = [\"small-1\", \"small-2\", \"medium\", \"large\", \"very-large\"]\n",
    "pop_colors = sns.color_palette(\"Set1\", n_colors=len(pop_scales), desat=.5)\n",
    "for i,l in enumerate([\"low\", \"med\", \"hi\"]):\n",
    "    for j,b in enumerate([\"low\", \"med\", \"hi\"]):\n",
    "        a = ax[i,j]\n",
    "        cur_df = scales_df[(scales_df['scale-lum']==l) & (scales_df['scale-bldg']==b)]\n",
    "        a.set_xlabel(''); a.set_ylabel('')\n",
    "        a.set_xticklabels(g.get_xticklabels(), rotation=60)\n",
    "        a.set_ylim([0, 1])\n",
    "\n",
    "        if i==0:\n",
    "            a.set_title(\"bldg: %s\"%b)\n",
    "        if j==0:\n",
    "            a.set_ylabel(\"lum: %s\"%l)\n",
    "        if len(cur_df) < 3:\n",
    "            continue\n",
    "#         pcts = cur_df.groupby(\"scale-pop\").apply(lambda x: x['region'].value_counts()/float(len(x)))\n",
    "#         pcts = pd.DataFrame(pcts).reset_index()\n",
    "#         pcts.columns = [\"scale-pop\", \"region\", \"pct\"]\n",
    "#         g = sns.barplot(x=\"region\", y=\"pct\", hue=\"scale-pop\", \n",
    "#                         data=pcts, ax=a)\n",
    "        pcts = cur_df['scale-pop'].value_counts() / float(len(cur_df))\n",
    "        g = sns.barplot(pcts.index, pcts.values, order=pop_scales, ax=a,\n",
    "                       palette=pop_colors)\n",
    "        # a.legend_.remove() #, bbox_to_anchor=(1.1, 1.05))\n",
    "  \n",
    "# fig.delaxes(ax[2,0])\n",
    "# ax[2,0].set_xticks([]); ax[2,0].set_yticks([])\n",
    "\n",
    "import matplotlib.patches as mpatches\n",
    "import matplotlib.pyplot as plt\n",
    "\n",
    "legend_patches = [mpatches.Patch(color=c, label=l) \\\n",
    "                  for l,c in zip(pop_scales, pop_colors)]\n",
    "\n",
    "plt.legend(handles=legend_patches, bbox_to_anchor=(-1.2, 1.), \n",
    "           ncol=1, labelspacing=0. )\n",
    "\n"
   ]
  },
  {
   "cell_type": "code",
   "execution_count": 257,
   "metadata": {},
   "outputs": [
    {
     "data": {
      "text/plain": [
       "<matplotlib.text.Annotation at 0x7f94c51ea8d0>"
      ]
     },
     "execution_count": 257,
     "metadata": {},
     "output_type": "execute_result"
    },
    {
     "data": {
      "image/png": "[encoded data removed]",
      "text/plain": [
       "<matplotlib.figure.Figure at 0x7f94c4b5d6d0>"
      ]
     },
     "metadata": {},
     "output_type": "display_data"
    }
   ],
   "source": [
    "sns.set_context(\"notebook\", font_scale=1.5)\n",
    "\n",
    "fig, ax = plt.subplots()\n",
    "scales_df['bldg-in'].apply(lambda x: np.log10(x) if x>0 else np.nan).hist(bins=100, log=True, figsize=(6,4), alpha=0.5, ax=ax)\n",
    "for q in q_bld[1:-1]:\n",
    "    ax.axvline(x=np.log10(q), color=colormap[\"bldg\"])\n",
    "ax.set_title(\"Building density classes\")\n",
    "ax.set_xlabel(\"$c_{bld}$\")\n",
    "ax.set_ylabel(\"# cities\")\n",
    "ax.grid(False)\n",
    "fig.canvas.draw()\n",
    "new_labels = [\"$10^{%s}$\"%x.get_text() for x in ax.get_xticklabels()]\n",
    "ax.set_xticklabels(new_labels)\n",
    "ax.annotate(\"low\", xy=(-3,1))\n",
    "ax.annotate(\"med\", xy=(-2,1))\n",
    "ax.annotate(\"hi\", xy=(-1,1))"
   ]
  },
  {
   "cell_type": "code",
   "execution_count": 258,
   "metadata": {},
   "outputs": [
    {
     "data": {
      "text/plain": [
       "<matplotlib.text.Annotation at 0x7f94c5592c50>"
      ]
     },
     "execution_count": 258,
     "metadata": {},
     "output_type": "execute_result"
    },
    {
     "data": {
      "image/png": "[encoded data removed]",
      "text/plain": [
       "<matplotlib.figure.Figure at 0x7f94c6494350>"
      ]
     },
     "metadata": {},
     "output_type": "display_data"
    }
   ],
   "source": [
    "sns.set_context(\"notebook\", font_scale=1.5)\n",
    "\n",
    "fig, ax = plt.subplots()\n",
    "scales_df['lum-in'].apply(lambda x: np.log10(x) if x>0 else np.nan).hist(bins=100, log=True, figsize=(6,4), alpha=0.5, ax=ax)\n",
    "for q in q_bld[1:-1]:\n",
    "    ax.axvline(x=np.log10(q), color=colormap[\"lum\"])\n",
    "ax.set_title(\"Luminosity density classes\")\n",
    "ax.set_xlabel(\"$c_{lum}$\")\n",
    "ax.set_ylabel(\"# cities\")\n",
    "ax.grid(False)\n",
    "fig.canvas.draw()\n",
    "new_labels = [\"$10^{%s}$\"%x.get_text() for x in ax.get_xticklabels()]\n",
    "ax.set_xticklabels(new_labels)\n",
    "ax.annotate(\"low\", xy=(-3.2,1), color=colormap[\"lum\"])\n",
    "ax.annotate(\"med\", xy=(-2.2,1), color=colormap[\"lum\"])\n",
    "ax.annotate(\"hi\", xy=(-1,1), color=colormap[\"lum\"])"
   ]
  },
  {
   "cell_type": "markdown",
   "metadata": {},
   "source": [
    "Let's segment the built-area normalized city scales into _low_, _medium_, and _high_ categories by the percentiles of the marginal distributions for population and density."
   ]
  },
  {
   "cell_type": "code",
   "execution_count": 308,
   "metadata": {},
   "outputs": [
    {
     "data": {
      "image/png": "[encoded data removed]",
      "text/plain": [
       "<matplotlib.figure.Figure at 0x7f94c3a80890>"
      ]
     },
     "metadata": {},
     "output_type": "display_data"
    }
   ],
   "source": [
    "sns.set_context(\"notebook\", font_scale=1.5)\n",
    "sns.set(style=\"ticks\")\n",
    "\n",
    "idx_ok = (scales_df['bldg-in']>0) & (scales_df['lum-in']>0)\n",
    "\n",
    "g = sns.jointplot(np.log10(scales_df['bldg-in'][idx_ok]), \n",
    "                  np.log10(scales_df['lum-in'][idx_ok]), \n",
    "                  kind=\"hex\", color=\"black\", size=5, xlim=(-4,0), ylim=(-4,2.1))\n",
    "g.fig.suptitle(\"$bld$ vs $lum$ scale\", fontsize=16)\n",
    "g.ax_joint.set_xlabel(\"$log_{10} \\ c_{bld}$\", fontsize=16)\n",
    "g.ax_joint.set_ylabel(\"$log_{10} \\ c_{lum}$\", fontsize=16)\n",
    "\n",
    "for q in q_bld[1:-1]:\n",
    "    g.ax_joint.axvline(x=np.log10(q), color=colormap[\"bldg\"])\n",
    "    \n",
    "for q in q_lum[1:-1]:\n",
    "    g.ax_joint.axhline(y=np.log10(q), color=colormap[\"lum\"])\n",
    "    \n",
    "for qp,sp in zip([-2.8,-1.9, -0.8], [\"low\", \"med\", \"hi\"]):\n",
    "    g.ax_joint.annotate(sp, xy=(qp, 1.2), color=colormap[\"bldg\"], weight='bold')   \n",
    "for qp,sp in zip([0.6, -0.6, -2], [\"low\", \"med\", \"hi\"]):\n",
    "    g.ax_joint.annotate(sp, xy=(-3.5, qp), color=colormap[\"lum\"], weight='bold')           "
   ]
  },
  {
   "cell_type": "code",
   "execution_count": 321,
   "metadata": {},
   "outputs": [
    {
     "data": {
      "text/html": [
       "<div>\n",
       "<style>\n",
       "    .dataframe thead tr:only-child th {\n",
       "        text-align: right;\n",
       "    }\n",
       "\n",
       "    .dataframe thead th {\n",
       "        text-align: left;\n",
       "    }\n",
       "\n",
       "    .dataframe tbody tr th {\n",
       "        vertical-align: top;\n",
       "    }\n",
       "</style>\n",
       "<table border=\"1\" class=\"dataframe\">\n",
       "  <thead>\n",
       "    <tr style=\"text-align: right;\">\n",
       "      <th></th>\n",
       "      <th>city</th>\n",
       "      <th>scale-pop</th>\n",
       "      <th>subregion</th>\n",
       "      <th>region</th>\n",
       "      <th>bldg-in</th>\n",
       "      <th>pop-in</th>\n",
       "      <th>lum-in</th>\n",
       "      <th>bldg-tot</th>\n",
       "      <th>pop-tot</th>\n",
       "      <th>lum-tot</th>\n",
       "      <th>bldg-max</th>\n",
       "      <th>pop-max</th>\n",
       "      <th>lum-max</th>\n",
       "      <th>scale-bld</th>\n",
       "      <th>scale-lum</th>\n",
       "      <th>scale-bldg</th>\n",
       "    </tr>\n",
       "  </thead>\n",
       "  <tbody>\n",
       "    <tr>\n",
       "      <th>0</th>\n",
       "      <td>pcs</td>\n",
       "      <td>small-1</td>\n",
       "      <td>Eastern Europe</td>\n",
       "      <td>Europe</td>\n",
       "      <td>0.079496</td>\n",
       "      <td>179109.0</td>\n",
       "      <td>1.255444</td>\n",
       "      <td>0.033861</td>\n",
       "      <td>7.258769e+05</td>\n",
       "      <td>0.337202</td>\n",
       "      <td>0.642461</td>\n",
       "      <td>2095.800000</td>\n",
       "      <td>18.472693</td>\n",
       "      <td>med</td>\n",
       "      <td>med</td>\n",
       "      <td>hi</td>\n",
       "    </tr>\n",
       "    <tr>\n",
       "      <th>1</th>\n",
       "      <td>goyang</td>\n",
       "      <td>large</td>\n",
       "      <td>Eastern Asia</td>\n",
       "      <td>Asia</td>\n",
       "      <td>0.349494</td>\n",
       "      <td>1033714.0</td>\n",
       "      <td>21.358686</td>\n",
       "      <td>0.195003</td>\n",
       "      <td>2.231682e+07</td>\n",
       "      <td>11.698015</td>\n",
       "      <td>0.663632</td>\n",
       "      <td>12563.666667</td>\n",
       "      <td>31.203003</td>\n",
       "      <td>med</td>\n",
       "      <td>hi</td>\n",
       "      <td>hi</td>\n",
       "    </tr>\n",
       "    <tr>\n",
       "      <th>2</th>\n",
       "      <td>mazowe</td>\n",
       "      <td>small-1</td>\n",
       "      <td>Eastern Africa</td>\n",
       "      <td>Africa</td>\n",
       "      <td>0.002294</td>\n",
       "      <td>161956.0</td>\n",
       "      <td>0.023511</td>\n",
       "      <td>0.003470</td>\n",
       "      <td>5.314265e+05</td>\n",
       "      <td>0.034665</td>\n",
       "      <td>0.030290</td>\n",
       "      <td>64.934282</td>\n",
       "      <td>0.155501</td>\n",
       "      <td>low</td>\n",
       "      <td>low</td>\n",
       "      <td>low</td>\n",
       "    </tr>\n",
       "    <tr>\n",
       "      <th>3</th>\n",
       "      <td>ihorombe</td>\n",
       "      <td>small-1</td>\n",
       "      <td>Eastern Africa</td>\n",
       "      <td>Africa</td>\n",
       "      <td>0.000716</td>\n",
       "      <td>135148.0</td>\n",
       "      <td>0.000587</td>\n",
       "      <td>0.000627</td>\n",
       "      <td>1.002725e+05</td>\n",
       "      <td>0.000502</td>\n",
       "      <td>0.057143</td>\n",
       "      <td>153.371429</td>\n",
       "      <td>0.124188</td>\n",
       "      <td>low</td>\n",
       "      <td>low</td>\n",
       "      <td>low</td>\n",
       "    </tr>\n",
       "    <tr>\n",
       "      <th>4</th>\n",
       "      <td>magelang</td>\n",
       "      <td>large</td>\n",
       "      <td>South-Eastern Asia</td>\n",
       "      <td>Asia</td>\n",
       "      <td>0.114572</td>\n",
       "      <td>1494199.0</td>\n",
       "      <td>0.547013</td>\n",
       "      <td>0.125196</td>\n",
       "      <td>1.009845e+07</td>\n",
       "      <td>0.868255</td>\n",
       "      <td>0.590235</td>\n",
       "      <td>3859.000000</td>\n",
       "      <td>6.042631</td>\n",
       "      <td>med</td>\n",
       "      <td>med</td>\n",
       "      <td>hi</td>\n",
       "    </tr>\n",
       "  </tbody>\n",
       "</table>\n",
       "</div>"
      ],
      "text/plain": [
       "       city scale-pop           subregion  region   bldg-in     pop-in  \\\n",
       "0       pcs   small-1      Eastern Europe  Europe  0.079496   179109.0   \n",
       "1    goyang     large        Eastern Asia    Asia  0.349494  1033714.0   \n",
       "2    mazowe   small-1      Eastern Africa  Africa  0.002294   161956.0   \n",
       "3  ihorombe   small-1      Eastern Africa  Africa  0.000716   135148.0   \n",
       "4  magelang     large  South-Eastern Asia    Asia  0.114572  1494199.0   \n",
       "\n",
       "      lum-in  bldg-tot       pop-tot    lum-tot  bldg-max       pop-max  \\\n",
       "0   1.255444  0.033861  7.258769e+05   0.337202  0.642461   2095.800000   \n",
       "1  21.358686  0.195003  2.231682e+07  11.698015  0.663632  12563.666667   \n",
       "2   0.023511  0.003470  5.314265e+05   0.034665  0.030290     64.934282   \n",
       "3   0.000587  0.000627  1.002725e+05   0.000502  0.057143    153.371429   \n",
       "4   0.547013  0.125196  1.009845e+07   0.868255  0.590235   3859.000000   \n",
       "\n",
       "     lum-max scale-bld scale-lum scale-bldg  \n",
       "0  18.472693       med       med         hi  \n",
       "1  31.203003       med        hi         hi  \n",
       "2   0.155501       low       low        low  \n",
       "3   0.124188       low       low        low  \n",
       "4   6.042631       med       med         hi  "
      ]
     },
     "execution_count": 321,
     "metadata": {},
     "output_type": "execute_result"
    }
   ],
   "source": [
    "scales_df.head()"
   ]
  },
  {
   "cell_type": "markdown",
   "metadata": {},
   "source": [
    "# Analyze profile data"
   ]
  },
  {
   "cell_type": "markdown",
   "metadata": {},
   "source": [
    "#### Format spatial profile data"
   ]
  },
  {
   "cell_type": "code",
   "execution_count": 318,
   "metadata": {
    "collapsed": true
   },
   "outputs": [],
   "source": [
    "# extract profile data\n",
    "\n",
    "Xbld = np.vstack([v['profiles']['bldg'][0] for k,v in cities_sel.iteritems()])\n",
    "Xpop = np.vstack([v['profiles']['pop'][0] for k,v in cities_sel.iteritems()])\n",
    "Xlum = np.vstack([v['profiles']['lum'][0] for k,v in cities_sel.iteritems()])\n",
    "Xbnd = np.vstack([v['profiles']['bnds'][0] for k,v in cities_sel.iteritems()])\n",
    "Xpop[np.isnan(Xpop)] = 0; Xlum[np.isnan(Xlum)] = 0; Xbld[np.isnan(Xbld)] = 0\n",
    "\n",
    "# normalize profiles by the scale\n",
    "\n",
    "Xpop_hat = Xpop / Xpop.max(1)[:,None]\n",
    "Xlum_hat = Xlum / Xlum.max(1)[:,None]\n",
    "Xbld_hat = Xbld / Xbld.max(1)[:,None]\n",
    "Xall_hat = np.hstack([Xbld_hat, Xpop_hat, Xlum_hat])\n",
    "\n",
    "# convert to logarithmic space\n",
    "\n",
    "Xpop_hat_log = np.log10(Xpop_hat)\n",
    "Xlum_hat_log = np.log10(Xlum_hat)\n",
    "Xbld_hat_log = np.log10(Xbld_hat)\n",
    "Xpop_hat_log[np.isnan(Xpop_hat_log)] = 0; \n",
    "Xlum_hat_log[np.isnan(Xlum_hat_log)] = 0; \n",
    "Xbld_hat_log[np.isnan(Xbld_hat_log)] = 0\n",
    "Xpop_hat_log[np.isneginf(Xpop_hat_log) | np.isinf(Xpop_hat_log)] = 0\n",
    "Xlum_hat_log[np.isneginf(Xlum_hat_log) | np.isinf(Xlum_hat_log)] = 0\n",
    "Xbld_hat_log[np.isneginf(Xbld_hat_log) | np.isinf(Xbld_hat_log)] = 0\n",
    "Xall_hat_log = np.hstack([Xbld_hat_log, Xpop_hat_log, Xlum_hat_log])\n"
   ]
  },
  {
   "cell_type": "markdown",
   "metadata": {},
   "source": [
    "#### Estimate spatial gradient by linear regression"
   ]
  },
  {
   "cell_type": "code",
   "execution_count": 345,
   "metadata": {},
   "outputs": [
    {
     "data": {
      "text/html": [
       "<div>\n",
       "<style>\n",
       "    .dataframe thead tr:only-child th {\n",
       "        text-align: right;\n",
       "    }\n",
       "\n",
       "    .dataframe thead th {\n",
       "        text-align: left;\n",
       "    }\n",
       "\n",
       "    .dataframe tbody tr th {\n",
       "        vertical-align: top;\n",
       "    }\n",
       "</style>\n",
       "<table border=\"1\" class=\"dataframe\">\n",
       "  <thead>\n",
       "    <tr style=\"text-align: right;\">\n",
       "      <th></th>\n",
       "      <th>city</th>\n",
       "      <th>scale-pop</th>\n",
       "      <th>subregion</th>\n",
       "      <th>region</th>\n",
       "      <th>slope</th>\n",
       "      <th>intercept</th>\n",
       "      <th>rvalue</th>\n",
       "      <th>pvalue</th>\n",
       "      <th>stderr</th>\n",
       "    </tr>\n",
       "  </thead>\n",
       "  <tbody>\n",
       "    <tr>\n",
       "      <th>0</th>\n",
       "      <td>pcs</td>\n",
       "      <td>small-1</td>\n",
       "      <td>Eastern Europe</td>\n",
       "      <td>Europe</td>\n",
       "      <td>-0.017605</td>\n",
       "      <td>-1.309279</td>\n",
       "      <td>0.138343</td>\n",
       "      <td>9.238179e-03</td>\n",
       "      <td>0.006478</td>\n",
       "    </tr>\n",
       "    <tr>\n",
       "      <th>1</th>\n",
       "      <td>goyang</td>\n",
       "      <td>large</td>\n",
       "      <td>Eastern Asia</td>\n",
       "      <td>Asia</td>\n",
       "      <td>-0.037660</td>\n",
       "      <td>-0.544130</td>\n",
       "      <td>0.656994</td>\n",
       "      <td>2.929242e-12</td>\n",
       "      <td>0.004012</td>\n",
       "    </tr>\n",
       "    <tr>\n",
       "      <th>2</th>\n",
       "      <td>mazowe</td>\n",
       "      <td>small-1</td>\n",
       "      <td>Eastern Africa</td>\n",
       "      <td>Africa</td>\n",
       "      <td>0.000000</td>\n",
       "      <td>-0.368931</td>\n",
       "      <td>0.010609</td>\n",
       "      <td>4.860160e-01</td>\n",
       "      <td>0.001980</td>\n",
       "    </tr>\n",
       "    <tr>\n",
       "      <th>3</th>\n",
       "      <td>ihorombe</td>\n",
       "      <td>small-1</td>\n",
       "      <td>Eastern Africa</td>\n",
       "      <td>Africa</td>\n",
       "      <td>-0.018066</td>\n",
       "      <td>-0.840406</td>\n",
       "      <td>0.310635</td>\n",
       "      <td>3.874128e-05</td>\n",
       "      <td>0.003968</td>\n",
       "    </tr>\n",
       "    <tr>\n",
       "      <th>4</th>\n",
       "      <td>magelang</td>\n",
       "      <td>large</td>\n",
       "      <td>South-Eastern Asia</td>\n",
       "      <td>Asia</td>\n",
       "      <td>-0.012824</td>\n",
       "      <td>-0.488487</td>\n",
       "      <td>0.343464</td>\n",
       "      <td>1.205908e-05</td>\n",
       "      <td>0.002614</td>\n",
       "    </tr>\n",
       "  </tbody>\n",
       "</table>\n",
       "</div>"
      ],
      "text/plain": [
       "       city scale-pop           subregion  region     slope  intercept  \\\n",
       "0       pcs   small-1      Eastern Europe  Europe -0.017605  -1.309279   \n",
       "1    goyang     large        Eastern Asia    Asia -0.037660  -0.544130   \n",
       "2    mazowe   small-1      Eastern Africa  Africa  0.000000  -0.368931   \n",
       "3  ihorombe   small-1      Eastern Africa  Africa -0.018066  -0.840406   \n",
       "4  magelang     large  South-Eastern Asia    Asia -0.012824  -0.488487   \n",
       "\n",
       "     rvalue        pvalue    stderr  \n",
       "0  0.138343  9.238179e-03  0.006478  \n",
       "1  0.656994  2.929242e-12  0.004012  \n",
       "2  0.010609  4.860160e-01  0.001980  \n",
       "3  0.310635  3.874128e-05  0.003968  \n",
       "4  0.343464  1.205908e-05  0.002614  "
      ]
     },
     "execution_count": 345,
     "metadata": {},
     "output_type": "execute_result"
    }
   ],
   "source": [
    "from scipy.stats import linregress\n",
    "\n",
    "def f_ols(y):\n",
    "    g, c, R, p, s = linregress(distance_km,y)\n",
    "    return g, c, R**2, p, s\n",
    "\n",
    "# population\n",
    "\n",
    "grad_pop = map(f_ols, Xpop_hat_log)\n",
    "grad_pop = pd.DataFrame(grad_pop, \n",
    "                        columns=[\"slope\", \"intercept\", \"rvalue\", \"pvalue\", \"stderr\"])\n",
    "grad_pop = pd.concat([info_df, grad_pop], axis=1)\n",
    "grad_pop['slope'][grad_pop['pvalue']>0.05] = 0\n",
    "\n",
    "# luminosity\n",
    "\n",
    "grad_lum = map(f_ols, Xlum_hat_log)\n",
    "grad_lum = pd.DataFrame(grad_lum, \n",
    "                        columns=[\"slope\", \"intercept\", \"rvalue\", \"pvalue\", \"stderr\"])\n",
    "grad_lum = pd.concat([info_df, grad_lum], axis=1)\n",
    "grad_lum['slope'][grad_lum['pvalue']>0.05] = 0\n",
    "\n",
    "# buildings\n",
    "\n",
    "grad_bld = map(f_ols, Xbld_hat_log)\n",
    "grad_bld = pd.DataFrame(grad_bld, \n",
    "                        columns=[\"slope\", \"intercept\", \"rvalue\", \"pvalue\", \"stderr\"])\n",
    "grad_bld = pd.concat([info_df, grad_bld], axis=1)\n",
    "grad_bld['slope'][grad_bld['pvalue']>0.05] = 0\n",
    "\n",
    "\n",
    "grad_pop.head()"
   ]
  },
  {
   "cell_type": "code",
   "execution_count": 414,
   "metadata": {},
   "outputs": [
    {
     "data": {
      "text/plain": [
       "<matplotlib.text.Text at 0x7f9499ce71d0>"
      ]
     },
     "execution_count": 414,
     "metadata": {},
     "output_type": "execute_result"
    },
    {
     "data": {
      "image/png": "[encoded data removed]",
      "text/plain": [
       "<matplotlib.figure.Figure at 0x7f949a4f2e90>"
      ]
     },
     "metadata": {},
     "output_type": "display_data"
    }
   ],
   "source": [
    "fig, ax = plt.subplots(1,3, figsize=(10,3), \n",
    "                       gridspec_kw={\"wspace\":0.05, \"hspace\":0.1},\n",
    "                       sharex=True, sharey=True)\n",
    "\n",
    "for a,df,src in zip(ax, [grad_bld, grad_pop, grad_lum], ['bldg', \"pop\", \"lum\"]):\n",
    "    exp_model_ok = df.groupby([\"region\", \"scale-pop\"]).apply(lambda x: (x['rvalue']>0.8).sum() / float(len(x)))\n",
    "    exp_model_ok = pd.DataFrame(exp_model_ok.reset_index()).rename(columns={0:\"pct\"})\n",
    "\n",
    "    sns.barplot(x=\"region\", y=\"pct\", hue=\"scale-pop\", palette=pop_colors,\n",
    "                data=exp_model_ok, ax=a, hue_order=pop_scales)\n",
    "    a.set_xlabel(\"\"); a.set_ylabel(\"\"); \n",
    "    a.set_xticklabels(a.get_xticklabels(), rotation=30)\n",
    "    a.set_title(src)\n",
    "    a.legend_.remove()\n",
    "    \n",
    "ax[0].set_ylabel(\"% cities\")\n",
    "ax[-1].legend(borderaxespad=0., fontsize=16, bbox_to_anchor=(1,1))\n",
    "fig.subplots_adjust(top=0.75)\n",
    "fig.suptitle(\"Pct. cities following exponential model $S(s) \\sim S_0 e^{-\\gamma d}$\")"
   ]
  },
  {
   "cell_type": "code",
   "execution_count": 419,
   "metadata": {},
   "outputs": [
    {
     "data": {
      "text/plain": [
       "<matplotlib.text.Text at 0x7f9498ea0190>"
      ]
     },
     "execution_count": 419,
     "metadata": {},
     "output_type": "execute_result"
    },
    {
     "data": {
      "image/png": "[encoded data removed]",
      "text/plain": [
       "<matplotlib.figure.Figure at 0x7f94c000d950>"
      ]
     },
     "metadata": {},
     "output_type": "display_data"
    }
   ],
   "source": [
    "fig, ax = plt.subplots(1,3, figsize=(12,3), \n",
    "                       gridspec_kw={\"wspace\":0.05, \"hspace\":0.1},\n",
    "                       sharex=True, sharey=True)\n",
    "\n",
    "for a,df,src in zip(ax, [grad_bld, grad_pop, grad_lum], ['bldg', \"pop\", \"lum\"]):\n",
    "    cur_df = df[df['rvalue']>0.8]\n",
    "    \n",
    "    sns.boxplot(x=\"region\", y=\"slope\", hue=\"scale-pop\", palette=pop_colors,\n",
    "                data=cur_df, ax=a, hue_order=pop_scales)\n",
    "    a.set_xlabel(\"\"); a.set_ylabel(\"\"); \n",
    "    a.set_xticklabels(a.get_xticklabels(), rotation=30)\n",
    "    a.set_title(src)\n",
    "    a.legend_.remove()\n",
    "    \n",
    "ax[0].set_ylabel(\"$\\gamma$\")\n",
    "ax[-1].legend(borderaxespad=0., fontsize=16, bbox_to_anchor=(1,1))\n",
    "fig.subplots_adjust(top=0.75)\n",
    "fig.suptitle(\"Exponential model slope $\\gamma$\")"
   ]
  },
  {
   "cell_type": "markdown",
   "metadata": {},
   "source": [
    "Let's plot the $\\gamma$s on a map to see any spatial patterns."
   ]
  },
  {
   "cell_type": "code",
   "execution_count": 342,
   "metadata": {},
   "outputs": [],
   "source": [
    "grad_pop_gdf = gpd.GeoDataFrame(pd.merge(grad_pop, cities_sel_df[['city', 'location']], \n",
    "                        left_on=\"city\", right_on=\"city\")).rename(columns={\"location\":\"geometry\"})\n",
    "grad_lum_gdf = gpd.GeoDataFrame(pd.merge(grad_lum, cities_sel_df[['city', 'location']], \n",
    "                        left_on=\"city\", right_on=\"city\")).rename(columns={\"location\":\"geometry\"})\n",
    "grad_bld_gdf = gpd.GeoDataFrame(pd.merge(grad_bld, cities_sel_df[['city', 'location']], \n",
    "                        left_on=\"city\", right_on=\"city\")).rename(columns={\"location\":\"geometry\"})\n"
   ]
  },
  {
   "cell_type": "code",
   "execution_count": 424,
   "metadata": {},
   "outputs": [
    {
     "data": {
      "text/plain": [
       "<matplotlib.text.Text at 0x7f948f2d0fd0>"
      ]
     },
     "execution_count": 424,
     "metadata": {},
     "output_type": "execute_result"
    },
    {
     "data": {
      "image/png": "[encoded data removed]",
      "text/plain": [
       "<matplotlib.figure.Figure at 0x7f9492be3a50>"
      ]
     },
     "metadata": {},
     "output_type": "display_data"
    }
   ],
   "source": [
    "sns.set_context('notebook', font_scale=1.5)\n",
    "\n",
    "world = gpd.read_file(gpd.datasets.get_path('naturalearth_lowres'))\n",
    "world['country'] = world['iso_a3'].apply(lambda x: x[:2].lower())\n",
    "\n",
    "fig, ax = plt.subplots(1,3,gridspec_kw={\"wspace\":0.03, \"hspace\":0.13},\n",
    "                           figsize=(16,3), sharex=True, sharey=True)\n",
    "for c,cur_gdf,a in zip(['pop', 'lum', 'bldg'], \n",
    "                       [grad_pop_gdf[grad_pop_gdf['rvalue']>0.8], \n",
    "                        grad_lum_gdf[grad_lum_gdf['rvalue']>0.8], \n",
    "                        grad_bld_gdf[grad_bld_gdf['rvalue']>0.8]], \n",
    "                       ax.flatten()):\n",
    "    world.plot(ax=a, color=[0.9,0.9,0.9,0.2], edgecolor=[0.8,0.8,0.8,0.9])\n",
    "    cur_gdf.plot(ax=a, marker='.', \n",
    "                 column=\"slope\",\n",
    "                 cmap=cmap_dict[c], \n",
    "                 markersize=6, alpha=0.9)\n",
    "    a.set_title(\"$\\gamma_{%s}$\"%c)\n",
    "fig.subplots_adjust(top=0.75)\n",
    "fig.suptitle(\"$\\gamma$ for cities following exponential model $S(s) \\sim S_0 e^{-\\gamma d}$\")\n"
   ]
  },
  {
   "cell_type": "markdown",
   "metadata": {},
   "source": [
    "# Find polycentric cities \n",
    "\n",
    "We implement a local peak search on profiles to identify \"rings\" of mass accumulation. "
   ]
  },
  {
   "cell_type": "code",
   "execution_count": null,
   "metadata": {
    "collapsed": true
   },
   "outputs": [],
   "source": []
  },
  {
   "cell_type": "markdown",
   "metadata": {},
   "source": [
    "# Analyze \"discrepancy\" between $bld$, $pop$, and $lum$ profiles\n",
    "\n",
    "We take as reference the population distribution profile $x_{pop}$. We then define discrepancy through Earth Mover's Distance, i.e., the amount of work needed to transform $x_{bld}$ and $x_{lum}$ into $x_{pop}$."
   ]
  },
  {
   "cell_type": "code",
   "execution_count": null,
   "metadata": {
    "collapsed": true
   },
   "outputs": [],
   "source": []
  },
  {
   "cell_type": "markdown",
   "metadata": {},
   "source": [
    "# Cluster cities by spatial profiles\n",
    "\n",
    "The examples above invite the following questions:\n",
    "* can we identify \"classes\" of cities by their general macroeconomic urban form (population density, built area density, luminosity), as described by the average profiles $\\hat{x}_\\cdot (d)$?\n",
    "* how do we model the large amount of variance around these profiles observed in the real data? In particular, can we arrive at a 'functional' model that can, in practice, emulate the real data without the need of complex modeling assumptions?"
   ]
  },
  {
   "cell_type": "code",
   "execution_count": 428,
   "metadata": {},
   "outputs": [
    {
     "data": {
      "text/html": [
       "<div>\n",
       "<style>\n",
       "    .dataframe thead tr:only-child th {\n",
       "        text-align: right;\n",
       "    }\n",
       "\n",
       "    .dataframe thead th {\n",
       "        text-align: left;\n",
       "    }\n",
       "\n",
       "    .dataframe tbody tr th {\n",
       "        vertical-align: top;\n",
       "    }\n",
       "</style>\n",
       "<table border=\"1\" class=\"dataframe\">\n",
       "  <thead>\n",
       "    <tr style=\"text-align: right;\">\n",
       "      <th></th>\n",
       "      <th>city</th>\n",
       "      <th>scale-pop</th>\n",
       "      <th>subregion</th>\n",
       "      <th>region</th>\n",
       "      <th>bldg-in</th>\n",
       "      <th>pop-in</th>\n",
       "      <th>lum-in</th>\n",
       "      <th>bldg-tot</th>\n",
       "      <th>pop-tot</th>\n",
       "      <th>lum-tot</th>\n",
       "      <th>bldg-max</th>\n",
       "      <th>pop-max</th>\n",
       "      <th>lum-max</th>\n",
       "      <th>scale-bld</th>\n",
       "      <th>scale-lum</th>\n",
       "      <th>scale-bldg</th>\n",
       "    </tr>\n",
       "  </thead>\n",
       "  <tbody>\n",
       "    <tr>\n",
       "      <th>0</th>\n",
       "      <td>pcs</td>\n",
       "      <td>small-1</td>\n",
       "      <td>Eastern Europe</td>\n",
       "      <td>Europe</td>\n",
       "      <td>0.079496</td>\n",
       "      <td>179109.0</td>\n",
       "      <td>1.255444</td>\n",
       "      <td>0.033861</td>\n",
       "      <td>7.258769e+05</td>\n",
       "      <td>0.337202</td>\n",
       "      <td>0.642461</td>\n",
       "      <td>2095.800000</td>\n",
       "      <td>18.472693</td>\n",
       "      <td>med</td>\n",
       "      <td>med</td>\n",
       "      <td>hi</td>\n",
       "    </tr>\n",
       "    <tr>\n",
       "      <th>1</th>\n",
       "      <td>goyang</td>\n",
       "      <td>large</td>\n",
       "      <td>Eastern Asia</td>\n",
       "      <td>Asia</td>\n",
       "      <td>0.349494</td>\n",
       "      <td>1033714.0</td>\n",
       "      <td>21.358686</td>\n",
       "      <td>0.195003</td>\n",
       "      <td>2.231682e+07</td>\n",
       "      <td>11.698015</td>\n",
       "      <td>0.663632</td>\n",
       "      <td>12563.666667</td>\n",
       "      <td>31.203003</td>\n",
       "      <td>med</td>\n",
       "      <td>hi</td>\n",
       "      <td>hi</td>\n",
       "    </tr>\n",
       "    <tr>\n",
       "      <th>2</th>\n",
       "      <td>mazowe</td>\n",
       "      <td>small-1</td>\n",
       "      <td>Eastern Africa</td>\n",
       "      <td>Africa</td>\n",
       "      <td>0.002294</td>\n",
       "      <td>161956.0</td>\n",
       "      <td>0.023511</td>\n",
       "      <td>0.003470</td>\n",
       "      <td>5.314265e+05</td>\n",
       "      <td>0.034665</td>\n",
       "      <td>0.030290</td>\n",
       "      <td>64.934282</td>\n",
       "      <td>0.155501</td>\n",
       "      <td>low</td>\n",
       "      <td>low</td>\n",
       "      <td>low</td>\n",
       "    </tr>\n",
       "    <tr>\n",
       "      <th>3</th>\n",
       "      <td>ihorombe</td>\n",
       "      <td>small-1</td>\n",
       "      <td>Eastern Africa</td>\n",
       "      <td>Africa</td>\n",
       "      <td>0.000716</td>\n",
       "      <td>135148.0</td>\n",
       "      <td>0.000587</td>\n",
       "      <td>0.000627</td>\n",
       "      <td>1.002725e+05</td>\n",
       "      <td>0.000502</td>\n",
       "      <td>0.057143</td>\n",
       "      <td>153.371429</td>\n",
       "      <td>0.124188</td>\n",
       "      <td>low</td>\n",
       "      <td>low</td>\n",
       "      <td>low</td>\n",
       "    </tr>\n",
       "    <tr>\n",
       "      <th>4</th>\n",
       "      <td>magelang</td>\n",
       "      <td>large</td>\n",
       "      <td>South-Eastern Asia</td>\n",
       "      <td>Asia</td>\n",
       "      <td>0.114572</td>\n",
       "      <td>1494199.0</td>\n",
       "      <td>0.547013</td>\n",
       "      <td>0.125196</td>\n",
       "      <td>1.009845e+07</td>\n",
       "      <td>0.868255</td>\n",
       "      <td>0.590235</td>\n",
       "      <td>3859.000000</td>\n",
       "      <td>6.042631</td>\n",
       "      <td>med</td>\n",
       "      <td>med</td>\n",
       "      <td>hi</td>\n",
       "    </tr>\n",
       "  </tbody>\n",
       "</table>\n",
       "</div>"
      ],
      "text/plain": [
       "       city scale-pop           subregion  region   bldg-in     pop-in  \\\n",
       "0       pcs   small-1      Eastern Europe  Europe  0.079496   179109.0   \n",
       "1    goyang     large        Eastern Asia    Asia  0.349494  1033714.0   \n",
       "2    mazowe   small-1      Eastern Africa  Africa  0.002294   161956.0   \n",
       "3  ihorombe   small-1      Eastern Africa  Africa  0.000716   135148.0   \n",
       "4  magelang     large  South-Eastern Asia    Asia  0.114572  1494199.0   \n",
       "\n",
       "      lum-in  bldg-tot       pop-tot    lum-tot  bldg-max       pop-max  \\\n",
       "0   1.255444  0.033861  7.258769e+05   0.337202  0.642461   2095.800000   \n",
       "1  21.358686  0.195003  2.231682e+07  11.698015  0.663632  12563.666667   \n",
       "2   0.023511  0.003470  5.314265e+05   0.034665  0.030290     64.934282   \n",
       "3   0.000587  0.000627  1.002725e+05   0.000502  0.057143    153.371429   \n",
       "4   0.547013  0.125196  1.009845e+07   0.868255  0.590235   3859.000000   \n",
       "\n",
       "     lum-max scale-bld scale-lum scale-bldg  \n",
       "0  18.472693       med       med         hi  \n",
       "1  31.203003       med        hi         hi  \n",
       "2   0.155501       low       low        low  \n",
       "3   0.124188       low       low        low  \n",
       "4   6.042631       med       med         hi  "
      ]
     },
     "execution_count": 428,
     "metadata": {},
     "output_type": "execute_result"
    }
   ],
   "source": [
    "scales_df.head()"
   ]
  },
  {
   "cell_type": "markdown",
   "metadata": {},
   "source": [
    "#### Cluster profiles and plot cluster centers"
   ]
  },
  {
   "cell_type": "code",
   "execution_count": 429,
   "metadata": {
    "collapsed": true
   },
   "outputs": [],
   "source": [
    "def construct_scale_sim_matrix(scales_vec):\n",
    "    N = len(scales_vec)\n",
    "    S = np.zeros((N,N))\n",
    "    for i in range(N):\n",
    "        S[i,:] = [scales_vec[j]==scales_vec[i] for j in range(N)]\n",
    "    return S"
   ]
  },
  {
   "cell_type": "code",
   "execution_count": 430,
   "metadata": {},
   "outputs": [],
   "source": [
    "Sbld = construct_scale_sim_matrix(scales_df['scale-bldg'].values)\n",
    "Spop = construct_scale_sim_matrix(scales_df['scale-pop'].values)\n",
    "Slum = construct_scale_sim_matrix(scales_df['scale-lum'].values)\n"
   ]
  },
  {
   "cell_type": "code",
   "execution_count": null,
   "metadata": {
    "collapsed": true
   },
   "outputs": [],
   "source": [
    "from sklearn.metrics.pairwise import rbf_kernel, euclidean_distances\n",
    "from sklearn.neighbors import kneighbors_graph\n",
    "from sklearn.cluster import SpectralClustering\n",
    "from sklearn.manifold import SpectralEmbedding\n",
    "\n",
    "def spectral_clustering(X, S, K, alpha=1):\n",
    "    N, L = X.shape\n",
    "    \n",
    "    # compute similarity matrix\n",
    "    W = euclidean_distances(X) # rbf_kernel(X) #\n",
    "    W = -W * W / (float(X.shape[1])**2)\n",
    "    # W = -kneighbors_graph(X, 30)\n",
    "    Wt = W + (alpha * S)\n",
    "    Wt = np.exp(Wt - Wt.max())\n",
    "\n",
    "    # cluster similarity matrix\n",
    "    mod = SpectralClustering(n_clusters=K,eigen_solver='arpack', \n",
    "                             affinity=\"precomputed\")\n",
    "    C = mod.fit_predict(Wt)\n",
    "    lambdas = mod.eigenvalues_\n",
    "    centroids = np.array([X[C==c].mean(0) for c in range(K)])\n",
    "\n",
    "    return C, centroids, lambdas\n",
    "\n",
    "\n",
    "def plot_clusters(X, C, centroids, \n",
    "                  nrow=1, text=\"\", figsize=(6,4), top=0.75,\n",
    "                  xlabels=True):\n",
    "    K = len(np.unique(C))\n",
    "    clust_sizes = pd.Series(C).value_counts().values\n",
    "    nx = nrow\n",
    "    ny = K / nx\n",
    "    fig, ax = plt.subplots(nx,ny, \n",
    "                           gridspec_kw={\"wspace\":0.15, \"hspace\":0.3},\n",
    "                           figsize=figsize, sharex=True, sharey=True)\n",
    "    if len(ax.shape)==1:\n",
    "        ax = np.expand_dims(ax, axis=0)\n",
    "    for k,a in zip(range(K), ax.flatten()):\n",
    "        idx = np.where(C == k)[0]\n",
    "        std = X[idx,:].std(0)\n",
    "        a.fill_between(xtick_labels,\n",
    "           centroids[k,:]-std, \n",
    "           centroids[k,:]+std, \n",
    "           color=colormap[text], alpha=0.3)\n",
    "        a.plot(xtick_labels, centroids[k,:], lw=5, color=colormap[text])\n",
    "        # a.axis(\"off\")\n",
    "        a.set_title(\"C%d: %2.1f%%\"%(k,100*float(clust_sizes[k])/clust_sizes.sum()))\n",
    "        if k / ny == nx-1:\n",
    "            if xlabels: a.set_xlabel(\"d [km]\")\n",
    "            a.set_xticks(xtick_labels[::6])\n",
    "            a.set_xticklabels(xtick_labels[::6], rotation=30)\n",
    "        if k % ny == 0:\n",
    "            a.set_ylabel(\"log $x_{\\cdot}(d)$\")\n",
    "\n",
    "    plt.suptitle(\"Clustering cities by $x_{%s}(d)$\"%text)\n",
    "    fig.subplots_adjust(top=top)"
   ]
  },
  {
   "cell_type": "code",
   "execution_count": null,
   "metadata": {
    "collapsed": true
   },
   "outputs": [],
   "source": [
    "C_bld, cntr_bld, lambda_bld = spectral_clustering(Xbld_hat, Sbld, 5)\n",
    "city2clust_bld = dict(zip([k for k,v in cities_sel.iteritems()], C_bld))\n",
    "\n",
    "C_pop, cntr_pop, lambda_pop = spectral_clustering(Xpop_hat, Spop, 5)\n",
    "city2clust_pop = dict(zip([k for k,v in cities_sel.iteritems()], C_pop))\n",
    "\n",
    "C_lum, cntr_lum, lambda_lum = spectral_clustering(Xlum_hat, Slum, 5)\n",
    "city2clust_lum = dict(zip([k for k,v in cities_sel.iteritems()], C_lum))"
   ]
  },
  {
   "cell_type": "code",
   "execution_count": null,
   "metadata": {
    "collapsed": true
   },
   "outputs": [],
   "source": [
    "fig, ax = plt.subplots(figsize=(5,3))\n",
    "ax.scatter(np.arange(1,len(lambda_bld)+1), lambda_bld, label=\"bld\", color=colormap['bldg'])\n",
    "ax.scatter(np.arange(1,len(lambda_pop)+1), lambda_pop, label=\"pop\", color=colormap['pop'])\n",
    "ax.scatter(np.arange(1,len(lambda_lum)+1), lambda_lum, label=\"lum\", color=colormap['lum'])\n",
    "ax.set_title(\"Eigenspectrum for clustering\")\n",
    "ax.set_ylabel(\"$\\lambda$\")\n",
    "ax.set_xlabel(\"# clusters\")\n",
    "plt.legend(loc=\"best\")"
   ]
  },
  {
   "cell_type": "code",
   "execution_count": null,
   "metadata": {
    "collapsed": true
   },
   "outputs": [],
   "source": [
    "sns.set_context(\"notebook\", font_scale=1.5)\n",
    "\n",
    "plot_clusters(Xbld_hat_log, C_bld, cntr_bld, text=\"bldg\", \n",
    "              nrow=1, figsize=(14,3), top=0.75, xlabels=False)"
   ]
  },
  {
   "cell_type": "code",
   "execution_count": null,
   "metadata": {
    "collapsed": true
   },
   "outputs": [],
   "source": [
    "sns.set_context(\"notebook\", font_scale=1.5)\n",
    "\n",
    "plot_clusters(Xpop_hat_log, C_pop, cntr_pop, text=\"pop\", \n",
    "              nrow=1, figsize=(14,3), top=0.75, xlabels=False)"
   ]
  },
  {
   "cell_type": "code",
   "execution_count": null,
   "metadata": {
    "collapsed": true
   },
   "outputs": [],
   "source": [
    "sns.set_context(\"notebook\", font_scale=1.5)\n",
    "\n",
    "plot_clusters(Xlum_hat_log, C_lum, cntr_lum, text=\"lum\", \n",
    "              nrow=1, figsize=(14,3), top=0.75)"
   ]
  },
  {
   "cell_type": "markdown",
   "metadata": {},
   "source": [
    "#### Combine luminosity & population clusters"
   ]
  },
  {
   "cell_type": "code",
   "execution_count": null,
   "metadata": {
    "collapsed": true
   },
   "outputs": [],
   "source": [
    "# cross-tabulate the clusters for pop, lum, bld\n",
    "\n",
    "clust_cross = (pd.crosstab(C_bld, [C_pop,C_lum], \n",
    "                           colnames=[\"pop\", \"lum\"], rownames=[\"bld\"]).astype(float) / len(C_pop) * 100).round(1)\n",
    "\n",
    "clust_coverage = clust_cross.values.flatten()\n",
    "clust_coverage = np.sort(clust_coverage)[::-1]\n",
    "clust_coverage = clust_coverage.cumsum()\n",
    "K_opt = np.where(clust_coverage>55)[0][0]\n",
    "print K_opt\n",
    "\n",
    "sns.set_context(\"notebook\", font_scale=1.5)\n",
    "\n",
    "plt.figure(figsize=(5,3))\n",
    "plt.plot(clust_coverage, lw=3)\n",
    "plt.xlabel(\"# combined clusters (bld+pop+lum)\")\n",
    "plt.ylabel(\"% coverage\")\n",
    "plt.title(\"Selecting the number of clusters $K^*$\")\n",
    "plt.axhline(55, color=\"red\")"
   ]
  },
  {
   "cell_type": "code",
   "execution_count": null,
   "metadata": {
    "collapsed": true
   },
   "outputs": [],
   "source": [
    "# find those clusters with at least 2% coverage\n",
    "\n",
    "K_star = 12\n",
    "\n",
    "pct_thresh=2.5\n",
    "print \"Nr. clusters with at least %d pct coverage (%2.2f): %d\" % \\\n",
    "    (pct_thresh, \n",
    "     clust_cross[(clust_cross >= pct_thresh)].sum().sum(), \n",
    "     (clust_cross >= pct_thresh).sum().sum())\n",
    "\n",
    "cols_pl = clust_cross.columns.values\n",
    "k_bld, k_pl = np.where(clust_cross>=pct_thresh)\n",
    "k_pop = np.array([cols_pl[c][0] for c in k_pl])\n",
    "k_lum = np.array([cols_pl[c][1] for c in k_pl])\n",
    "\n",
    "C_all = np.ones(len(C_bld)) * np.nan\n",
    "for k,(kb,kp,kl) in enumerate(zip(k_bld, k_pop, k_lum)):\n",
    "    C_all[(C_bld==kb) & (C_pop==kp) & (C_lum==kl)] = k\n",
    "\n",
    "# assign the rest the cities based on maximal partial match\n",
    "\n",
    "idx_na = np.where(np.isnan(C_all))[0]\n",
    "idx_assgn = []\n",
    "for i in idx_na:\n",
    "    score = []\n",
    "    for k,(kb,kp,kl) in enumerate(zip(k_bld, k_pop, k_lum)):\n",
    "        score.append((C_bld[i]==kb) + (C_pop[i]==kp) + (C_lum[i]==kl))\n",
    "    idx_assgn.append(np.argmax(score))\n",
    "idx_assgn = np.array(idx_assgn)\n",
    "C_all[idx_na] = idx_assgn\n",
    "\n",
    "city2clust_all = dict(zip([k for k,v in cities_sel.iteritems()], C_all))"
   ]
  },
  {
   "cell_type": "code",
   "execution_count": null,
   "metadata": {
    "collapsed": true
   },
   "outputs": [],
   "source": [
    "sns.set_context(\"notebook\", font_scale=1.5)\n",
    "\n",
    "pd.Series(C_all.astype(int)).value_counts().plot(kind=\"bar\", figsize=(5,3))\n",
    "plt.title(\"Groups of cities by $\\hat x_{%s}(d)$\"%\"+\".join([\"pop\",\"bld\",\"lum\"]))\n",
    "plt.xlabel(\"Spatial profile cluster\")\n",
    "plt.ylabel(\"# cities\")"
   ]
  },
  {
   "cell_type": "code",
   "execution_count": null,
   "metadata": {
    "collapsed": true
   },
   "outputs": [],
   "source": [
    "nx = 3\n",
    "ny = len(k_pop) / nx\n",
    "\n",
    "sns.set_context(\"notebook\", font_scale=1.5)\n",
    "\n",
    "fig, ax = plt.subplots(nx,ny, gridspec_kw={\"wspace\":0.03, \"hspace\":0.55},\n",
    "                       figsize=(12,9), sharex=True, sharey=True)\n",
    "\n",
    "for k,(kb,kp,kl,a) in enumerate(zip(k_bld, k_pop, k_lum, ax.flatten())):\n",
    "    # plot building centroid\n",
    "    idx_bld = np.where(C_bld == kb)[0]\n",
    "    std = Xbld_hat_log[idx_bld,:].std(0)\n",
    "    a.plot(xtick_labels, cntr_bld[kb,:], lw=3, color=colormap['bldg'], \n",
    "           label=\"bld: C%d\"%kb)\n",
    "    a.fill_between(xtick_labels,\n",
    "                   cntr_bld[kb,:]-std, \n",
    "                   cntr_bld[kb,:]+std, \n",
    "                   color=colormap['bldg'], alpha=0.3)\n",
    "    # plot population centroid\n",
    "    idx_pop = np.where(C_pop == kp)[0]\n",
    "    std = Xpop_hat_log[idx_pop,:].std(0)\n",
    "    a.plot(xtick_labels, cntr_pop[kp,:], lw=3, color=colormap['pop'], \n",
    "           label=\"pop: C%d\"%kp)\n",
    "    a.fill_between(xtick_labels,\n",
    "                   cntr_pop[kp,:]-std, \n",
    "                   cntr_pop[kp,:]+std, \n",
    "                   color=colormap['pop'], alpha=0.3)\n",
    "    # plot luminosity centroid\n",
    "    idx_lum = np.where(C_lum == kl)[0]\n",
    "    std = Xlum_hat_log[idx_lum,:].std(0)\n",
    "    a.plot(xtick_labels, cntr_lum[kl,:], lw=3, color=colormap['lum'], \n",
    "           label=\"lum: C%d\"%kl)\n",
    "    a.fill_between(xtick_labels,\n",
    "                   cntr_lum[kl,:]-std, \n",
    "                   cntr_lum[kl,:]+std, \n",
    "                   color=colormap['lum'], alpha=0.3)\n",
    "    # a.axis(\"off\")\n",
    "    a.set_title(\"C%d: %2.1f%%\\n (C %d/%d/%d)\"%(k,\\\n",
    "                    clust_cross.ix[kb,(kp,kl)], kb, kp, kl))\n",
    "    if k / ny == nx-1:\n",
    "        a.set_xlabel(\"d [km]\")\n",
    "        a.set_xticks(xtick_labels[::6])\n",
    "        a.set_xticklabels(xtick_labels[::6], rotation=30)\n",
    "    if k % ny == 0:\n",
    "        a.set_ylabel(\"log $\\hat x_{\\cdot}(d)$\")\n",
    "\n",
    "    # a.legend(loc=\"best\")\n",
    "        \n",
    "plt.suptitle(\"City clusters by log $\\hat x_{bld,pop,lum}(d)$\")\n",
    "fig.subplots_adjust(top=0.85)\n",
    "plt.show()\n"
   ]
  },
  {
   "cell_type": "markdown",
   "metadata": {},
   "source": [
    "# Analyze variance in profiles (\"signal to noise\")\n",
    "\n",
    "There is much more to the spatial distribution of macroeconomic quantities than the simple average profile with distance from the city centre. We analyze how this variance behaves across the world and different continents."
   ]
  },
  {
   "cell_type": "code",
   "execution_count": null,
   "metadata": {
    "collapsed": true
   },
   "outputs": [],
   "source": [
    "Vbld = np.vstack([v['profiles']['bldg'][1] for k,v in cities_sel.iteritems()])\n",
    "Vpop = np.vstack([v['profiles']['pop'][1] for k,v in cities_sel.iteritems()])\n",
    "Vlum = np.vstack([v['profiles']['lum'][1] for k,v in cities_sel.iteritems()])\n",
    "\n",
    "Rbld = Vbld / (Xbld)\n",
    "Rpop = Vpop / (Xpop)\n",
    "Rlum = Vlum / (Xlum)"
   ]
  },
  {
   "cell_type": "code",
   "execution_count": null,
   "metadata": {
    "collapsed": true
   },
   "outputs": [],
   "source": [
    "sns.set_context(\"notebook\", font_scale=1.5)\n",
    "\n",
    "fig, ax = plt.subplots(1,3, figsize=(16,4),\n",
    "                      gridspec_kw={\"wspace\":0.1, \"hspace\":0.25},\n",
    "                      sharex=True, sharey=False)\n",
    "\n",
    "cmap_bld = sns.light_palette(\"black\", n_colors=Rbld.shape[1])\n",
    "cmap_pop = sns.light_palette(\"green\", n_colors=Rbld.shape[1])\n",
    "cmap_lum = sns.light_palette(\"orange\",n_colors=Rbld.shape[1])\n",
    "for i in np.arange(1,Rbld.shape[1],3):\n",
    "    sns.kdeplot(Rbld[:,i], ax=ax[0], color=cmap_bld[i], label=\"%d km\"%(i*2.86))\n",
    "    sns.kdeplot(Rpop[:,i], ax=ax[1], color=cmap_pop[i])\n",
    "    sns.kdeplot(Rlum[:,i], ax=ax[2], color=cmap_lum[i])\n",
    "    \n",
    "ax[0].set_title(\"Building density\"); \n",
    "ax[1].set_title(\"Population density\")\n",
    "ax[2].set_title(\"Luminosity\")\n",
    "\n",
    "ax[0].set_xlabel(\"$var \\ [x_{bld}]/\\hat{x}_{bld}(d)$\")\n",
    "ax[1].set_xlabel(\"$var \\ [x_{pop}]/\\hat{x}_{pop}(d)$\")\n",
    "ax[2].set_xlabel(\"$var \\ [x_{lum}]/\\hat{x}_{lum}(d)$\")\n",
    "\n",
    "fig.subplots_adjust(top=0.75)\n",
    "plt.suptitle(\"Variance to mean ratio dependence with distance\")"
   ]
  },
  {
   "cell_type": "code",
   "execution_count": null,
   "metadata": {
    "collapsed": true
   },
   "outputs": [],
   "source": [
    "sns.set_context(\"notebook\", font_scale=1.5, rc={\"lines.linewidth\": 1})\n",
    "fig, ax = plt.subplots(3,1, gridspec_kw={\"wspace\":0.03, \"hspace\":0.15},\n",
    "                       figsize=(14,10), sharex=True, sharey=True)\n",
    "\n",
    "for a,R,txt in zip(ax.flatten(), [Rbld,Rpop,Rlum], [\"bld\", \"pop\", \"lum\"]):\n",
    "    R_df = pd.DataFrame(R)\n",
    "    R_df['region'] = [v['region'] for k,v in cities_sel.iteritems()]\n",
    "    R_df['city'] = [v['city'] for k,v in cities_sel.iteritems()]\n",
    "    R_df = pd.melt(R_df, id_vars=[\"region\", \"city\"])\n",
    "\n",
    "    g = sns.boxplot(data=R_df, hue=\"region\", ax=a,\n",
    "                    y=\"value\", x=\"variable\", showfliers=False)\n",
    "    _ = g.set_xticklabels(((10*200./286)*np.arange(20)).astype(int), \n",
    "                          rotation=90)\n",
    "    if txt == \"lum\" : \n",
    "        g.set_xlabel(\"distance from city center $d$ [km]\")\n",
    "    else:\n",
    "        g.set_xlabel(\"\")\n",
    "    g.set_ylabel(\"$var \\ [x_{%s}]/\\hat{x}_{%s}(d)$\" % (txt,txt))\n",
    "    g.set_title(\"%s. density\" % txt)\n",
    "    g.legend(loc='upper left', ncol=5)\n",
    "    # a.annotate(\"C%d\"%c, xy=(-140, -45))\n",
    "fig.subplots_adjust(top=0.9)\n",
    "fig.suptitle(\"Distance dependence of variance to mean ratio\")"
   ]
  },
  {
   "cell_type": "markdown",
   "metadata": {},
   "source": [
    "There is significant variance in the spatial distributions of all three quantities studied. The variance increases with the distance from city center, but there may be many factors as to why that is the case. We don't have data to carefully model every key aspect. Yet, we'd like to be able to perform case studies and scenario analyses with realistic simulations. This suggests that a model with high capacity (a neural network) is suited for such an analysis."
   ]
  },
  {
   "cell_type": "markdown",
   "metadata": {},
   "source": [
    "# Integrate scale-based and profile-based clusters"
   ]
  },
  {
   "cell_type": "code",
   "execution_count": null,
   "metadata": {
    "collapsed": true
   },
   "outputs": [],
   "source": [
    "ctab = pd.crosstab(scales_norm_df['scale'].values, \n",
    "                   C_all.astype(int)) / float(len(C_all)) * 100\n",
    "\n",
    "sns.set_context(\"notebook\", font_scale=1.2, rc={\"lines.linewidth\": 1})\n",
    "g = sns.heatmap(ctab[ctab>1], annot=True, fmt=\"2.0f\", \n",
    "            cmap=sns.light_palette((210, 90, 60), input=\"husl\"))\n",
    "\n",
    "g.set_xlabel(\"Spatial profile ($\\hat x_{\\cdot}(d)$)-based clustering\")\n",
    "g.set_ylabel(\"Scale ($\\hat{c}_{\\cdot}$)-based clustering\")\n",
    "\n",
    "plt.suptitle(\"Clustering cities by scale and spatial profile\")"
   ]
  },
  {
   "cell_type": "code",
   "execution_count": null,
   "metadata": {
    "collapsed": true
   },
   "outputs": [],
   "source": [
    "clust_tot = pd.DataFrame(np.vstack([scales_norm_df['scale'].values, \n",
    "                                    C_all.astype(int)]).T, \n",
    "                         columns=[\"scale\", \"profile\"])\n",
    "clust_tot.head()"
   ]
  },
  {
   "cell_type": "code",
   "execution_count": null,
   "metadata": {
    "collapsed": true
   },
   "outputs": [],
   "source": [
    "clust_tot_hist = clust_tot.groupby(\"scale\")\\\n",
    " .apply(lambda x: x['profile'].value_counts()/float(len(x)))\n",
    "clust_tot_hist = pd.DataFrame(clust_tot_hist).reset_index()\n",
    "clust_tot_hist.columns = [\"scale\", \"profile\", \"share\"]\n",
    "clust_tot_hist['scale'] = clust_tot_hist['scale'].apply(lambda x: x.replace(\",\",\",\\n\"))\n",
    "clust_tot_hist.head()\n"
   ]
  },
  {
   "cell_type": "code",
   "execution_count": null,
   "metadata": {
    "collapsed": true
   },
   "outputs": [],
   "source": [
    "sns.set_context(\"notebook\", font_scale=2.4, rc={\"lines.linewidth\": 1})\n",
    "\n",
    "fig, ax = plt.subplots(figsize=(18,5))\n",
    "g = sns.barplot(x=\"scale\", y=\"share\", hue=\"profile\", data=clust_tot_hist, \n",
    "                  palette=my_colors);\n",
    "g.legend(loc='upper left', bbox_to_anchor=(1.0, 1.2)) #, ncol=len(set(C_all)))\n",
    "plt.xticks(rotation=45)\n",
    "plt.title(\"Shares of spatial profile clusters within scale clusters\")"
   ]
  },
  {
   "cell_type": "markdown",
   "metadata": {},
   "source": [
    "#### Gradient spreads across profile-based clusters"
   ]
  },
  {
   "cell_type": "code",
   "execution_count": null,
   "metadata": {
    "collapsed": true
   },
   "outputs": [],
   "source": [
    "grad_tot = pd.DataFrame(np.vstack([grad_bld['slope'], \n",
    "                                   grad_pop['slope'], \n",
    "                                   grad_lum['slope']]).T,\n",
    "                        columns=[\"bld\", \"pop\", \"lum\"])\n",
    "grad_tot = pd.concat([info_df, grad_tot, clust_tot], axis=1)\n",
    "grad_tot.head()"
   ]
  },
  {
   "cell_type": "code",
   "execution_count": null,
   "metadata": {
    "collapsed": true
   },
   "outputs": [],
   "source": [
    "sns.set_context(\"notebook\", font_scale=1.5, rc={\"lines.linewidth\": 1})\n",
    "fig, ax = plt.subplots(figsize=(9,3))\n",
    "\n",
    "tmp = grad_tot[['bld', 'pop', 'lum', 'profile']]\n",
    "tmp = pd.melt(tmp, id_vars=[\"profile\"])\n",
    "\n",
    "sns.boxplot(x=\"profile\", y='value', hue=\"variable\", ax=ax, showfliers=False,\\\n",
    "            data=tmp[tmp['value']>0], palette=colormap.values()[1:])\n",
    "plt.legend(loc=\"best\")\n",
    "plt.xlabel(\"Spatial profile cluster\")\n",
    "plt.ylabel(\"$\\gamma_{\\cdot}$\")\n",
    "plt.title(\"Average spatial gradient $\\gamma$ across city clusters\")"
   ]
  },
  {
   "cell_type": "markdown",
   "metadata": {},
   "source": [
    "# Illustrate example cities in each class"
   ]
  },
  {
   "cell_type": "markdown",
   "metadata": {},
   "source": [
    "#### Read in all image source paths"
   ]
  },
  {
   "cell_type": "code",
   "execution_count": null,
   "metadata": {
    "collapsed": true
   },
   "outputs": [],
   "source": [
    "import glob\n",
    "\n",
    "files = glob.glob(dataroot + \"urban_areas_over_10kpop_log/*.tif\")\n",
    "files_df = []\n",
    "for f in files:\n",
    "    s = f.split(\"/\")\n",
    "    fname = s[-1]\n",
    "    cls = fname.split(\"_\")[3]\n",
    "    _,country,city,_,pop,lat,lon = fname.split(\"_\")\n",
    "    files_df.append((f, cls, country, pop))\n",
    "    \n",
    "files_df = pd.DataFrame(files_df, \\\n",
    "                columns=[\"filename\", \"class\", \"country\", \"population\"])\n",
    "files_df['city'] = files_df['filename'].apply(lambda s: os.path.basename(s).split(\"_\")[2].replace(\"-\",\" \"))\n",
    "files_df['source'] = files_df['filename'].apply(lambda s: os.path.basename(s).split(\"_\")[0])\n",
    "\n",
    "files_df = files_df[files_df['city'].isin(cities_sel.keys())]\n",
    "\n",
    "sources = files_df.groupby(\"city\").apply(\\\n",
    "                    lambda x: (x[['city', 'country', 'population', 'class']].iloc[0].to_dict(), \n",
    "                               dict(zip(x['source'], x['filename']))))\n",
    "sources = dict(zip(sources.index.tolist(), sources.values.tolist()))\n",
    "\n",
    "print len(sources)"
   ]
  },
  {
   "cell_type": "markdown",
   "metadata": {},
   "source": [
    "#### Make example canvass to plot for each "
   ]
  },
  {
   "cell_type": "code",
   "execution_count": null,
   "metadata": {
    "collapsed": true
   },
   "outputs": [],
   "source": [
    "from skimage.transform import resize\n",
    "from skimage.io import imread, imsave\n",
    "\n",
    "def read_img(f, imgSize=None):\n",
    "    img = imread(f)\n",
    "    if imgSize is not None:\n",
    "        img = resize(img, (imgSize, imgSize), preserve_range=True)\n",
    "    img = (img - img.min()) / float((img.max() - img.min()))\n",
    "    return img\n",
    "\n",
    "def concat_sources(src):\n",
    "    i0 = read_img(src[1]['POP'])\n",
    "    i1 = read_img(src[1]['NLI'])\n",
    "    i2 = read_img(src[1]['SAR'])\n",
    "    mask = i0==0\n",
    "    img= np.zeros(i1.shape+(3,))\n",
    "    img[:,:,0] = i0; img[:,:,1] = i1; img[:,:,2] = i2;\n",
    "    img[mask] = 0\n",
    "    return img"
   ]
  },
  {
   "cell_type": "code",
   "execution_count": null,
   "metadata": {
    "collapsed": true
   },
   "outputs": [],
   "source": [
    "def make_canvass(image_paths, labels, nExamples=10, thumbSize = (64,64,3), pad_pix=2, title=\"example\"):\n",
    "    \n",
    "    clustLabels = np.unique(labels)\n",
    "    nClusters = clustLabels.size\n",
    "    canvas = np.ones(((thumbSize[0]+pad_pix)*nClusters, nExamples*(thumbSize[1]+pad_pix), 3))\n",
    "    for i,c in enumerate(clustLabels):\n",
    "        cur_class_samples = np.where(labels==c)[0]\n",
    "        idx = np.random.choice(cur_class_samples, replace=False, size=min([nExamples, len(cur_class_samples)]))\n",
    "        for j in range(len(idx)):\n",
    "            img = concat_sources(image_paths[idx[j]])\n",
    "            img = resize(img, thumbSize, preserve_range=True)\n",
    "            canvas[i*(thumbSize[0]+pad_pix):(i*pad_pix + (i+1)*thumbSize[0]), \n",
    "                   j*(thumbSize[1]+pad_pix):(j*pad_pix + (j+1)*thumbSize[1])] = img\n",
    "    return canvas"
   ]
  },
  {
   "cell_type": "code",
   "execution_count": null,
   "metadata": {
    "collapsed": true
   },
   "outputs": [],
   "source": [
    "canvas = make_canvass(sources.values(), \n",
    "                      [city2clust_all[x] for x in sources.keys()])"
   ]
  },
  {
   "cell_type": "code",
   "execution_count": null,
   "metadata": {
    "collapsed": true
   },
   "outputs": [],
   "source": [
    "nClusters = len(np.unique(C_all))\n",
    "\n",
    "# plot examples of each class\n",
    "fig,ax = plt.subplots(1, figsize=(12,10))\n",
    "plt.tight_layout()\n",
    "print canvas.shape\n",
    "ax.imshow(canvas.swapaxes(0,1))#, aspect='auto')\n",
    "ax.set_title(\"Classes of cities: examples\", fontsize=18)\n",
    "ax.set_ylabel(\"-- examples --\", fontsize=16)\n",
    "ax.set_xlabel(\"-- classes --\", fontsize=16)\n",
    "# Turn off tick labels\n",
    "ax.set_xticks([64 * (0.5 + x*1.03) + 2 for x in range(nClusters)])\n",
    "ax.set_xticklabels([\"C%d\"%x for x in range(nClusters)], fontsize=16, rotation=90)\n",
    "ax.set_yticklabels([])\n",
    "# plt.axis(\"off\")\n",
    "plt.show()"
   ]
  },
  {
   "cell_type": "markdown",
   "metadata": {},
   "source": [
    "#### Geographical distribution of clusters"
   ]
  },
  {
   "cell_type": "code",
   "execution_count": null,
   "metadata": {
    "collapsed": true
   },
   "outputs": [],
   "source": [
    "cities_gdf = gpd.GeoDataFrame(cities_sel_df)\n",
    "#cities_gdf['geometry'] = cities_gdf['geometry'].apply(lambda s: shapely.wkt.loads(s))\n",
    "cities_gdf['cluster'] = cities_gdf['City'].apply(lambda x: int(city2clust_all[x]) if x in city2clust_all else np.nan)\n",
    "# cities_gdf.dropna(inplace=True)"
   ]
  },
  {
   "cell_type": "code",
   "execution_count": null,
   "metadata": {
    "collapsed": true
   },
   "outputs": [],
   "source": [
    "sns.set_context('notebook', font_scale=1.5)\n",
    "\n",
    "world = gpd.read_file(gpd.datasets.get_path('naturalearth_lowres'))\n",
    "\n",
    "fig, ax = plt.subplots(3,4,gridspec_kw={\"wspace\":0.03, \"hspace\":0.03},\n",
    "                           figsize=(16,7), sharex=True, sharey=True)\n",
    "for c,a in zip(range(len(set(C_all))), ax.flatten()):\n",
    "    world.plot(ax=a, color=[0.9,0.9,0.9,0.2], edgecolor=[0.8,0.8,0.8,0.9])\n",
    "    cur_gdf = cities_gdf[cities_gdf['cluster']==c].sort_values(\"Population\", ascending=False)\n",
    "    cur_gdf.plot(ax=a, marker='.', color=my_colors[c], markersize=6, alpha=1.0)\n",
    "    print \"C%d:\"%c, cur_gdf.head(3)['City'].values.tolist()\n",
    "    a.annotate(\"C%d\"%c, xy=(-140, -45))\n",
    "plt.suptitle(\"Communities of Metropolitan Regions: Detail View\")\n",
    "fig.subplots_adjust(top=0.93)"
   ]
  },
  {
   "cell_type": "code",
   "execution_count": null,
   "metadata": {
    "collapsed": true
   },
   "outputs": [],
   "source": [
    "sns.set_context('notebook', font_scale=2)\n",
    "\n",
    "ax = cities_gdf.plot(figsize=(20,6), marker='*', color='black', markersize=3)\n",
    "for c,col in zip(range(len(set(C_all))), my_colors):\n",
    "    cities_gdf[cities_gdf['cluster']==c].plot(ax=ax, marker='.', color=col, markersize=6, alpha=0.9)\n",
    "plt.title(\"Communities of Metropolitan Regions\")\n",
    "plt.xlabel(\"longitude\")\n",
    "plt.ylabel(\"latitude\")\n",
    "\n",
    "# add colorbar\n",
    "fig = ax.get_figure()\n",
    "cax = fig.add_axes([0.835, 0.1, 0.03, 0.8])\n",
    "\n",
    "# This function formatter will replace integers with target names\n",
    "formatter = plt.FuncFormatter(lambda val, loc: \"C%d\"%val)\n",
    "\n",
    "sm = plt.cm.ScalarMappable(cmap=my_cmap, norm=matplotlib.colors.Normalize(0,8))\n",
    "# fake up the array of the scalar mappable. Urgh...\n",
    "sm._A = []\n",
    "sm.set_clim(-0.5, len(set(C_all))-0.5)\n",
    "\n",
    "# We must be sure to specify the ticks matching our target names\n",
    "cb = fig.colorbar(sm, ticks=range(len(set(C_all))), format=formatter, cax=cax);\n",
    "cb.set_ticks(range(len(set(C_all))))"
   ]
  },
  {
   "cell_type": "markdown",
   "metadata": {},
   "source": [
    "# Relate clusters to macroeconomic data on cities\n",
    "\n",
    "In this section, we analyze the relationship between several macroeconomic indicators measured at the level of cities or countries to the classes of urban form that the city belongs to. We use a discrete-choice modeling approach, where the dependent variable is the city class, and the independent variables (covariates) are the macroeconomic indicators. "
   ]
  },
  {
   "cell_type": "markdown",
   "metadata": {},
   "source": [
    "#### Integrate data at city level"
   ]
  },
  {
   "cell_type": "code",
   "execution_count": null,
   "metadata": {
    "collapsed": true
   },
   "outputs": [],
   "source": [
    "# load data on cities\n",
    "\n",
    "attributes_df = pd.read_csv(dataroot + \"cities_macroeconomic_data.csv\")\n",
    "attributes_df['city'] = attributes_df['city'].apply(\\\n",
    "                                        lambda x: re.sub(r' \\([^)]*\\)', '', x))\n",
    "attributes_df = attributes_df.fillna(attributes_df.mean())\n",
    "attributes_df.set_index(\"city\", inplace=True)\n",
    "\n",
    "with gzip.open(dataroot + \"cities_macroeconomic_variables.pickle.gz\", \"r\") as f:\n",
    "    vars_dict = pickle.load(f)\n",
    "\n",
    "print attributes_df.shape\n",
    "\n",
    "attributes_df.head()"
   ]
  },
  {
   "cell_type": "code",
   "execution_count": null,
   "metadata": {
    "collapsed": true
   },
   "outputs": [],
   "source": [
    "clust_tot.head()"
   ]
  },
  {
   "cell_type": "code",
   "execution_count": null,
   "metadata": {
    "collapsed": true
   },
   "outputs": [],
   "source": [
    "# format cluster info: city level\n",
    "\n",
    "clust_df = pd.DataFrame(np.vstack([C_pop, C_bld, C_lum, C_all, ]).T, \\\n",
    "                        columns=[\"pop\", \"bld\", \"lum\", \"all\"], \n",
    "                        index=[v['city'] for k,v in cities_sel.iteritems()])\n",
    "clust_df.index = [s.split(\"(\")[0][:-1] for s in clust_df.index]\n",
    "clust_df['scale'] = clust_tot['scale'].values\n",
    "clust_df.head()"
   ]
  },
  {
   "cell_type": "code",
   "execution_count": null,
   "metadata": {
    "collapsed": true
   },
   "outputs": [],
   "source": [
    "city_data_df = attributes_df.join(clust_df)\n",
    "city_data_df.dropna(inplace=True)\n",
    "city_train_cols = attributes_df.columns.values.tolist() \n",
    "city_weights = np.ones(len(city_data_df))"
   ]
  },
  {
   "cell_type": "markdown",
   "metadata": {},
   "source": [
    "#### Integrate data at country level"
   ]
  },
  {
   "cell_type": "markdown",
   "metadata": {},
   "source": [
    "This kind of classification with \"soft labels\" is not supported in standard machine learning or statistics packages like `scikit-learn` or `statsmodels`. However, this is equivalent to a standard logistic regression, with weights on each sample corresponding to the soft label (between 0 and 1)."
   ]
  },
  {
   "cell_type": "code",
   "execution_count": null,
   "metadata": {
    "collapsed": true
   },
   "outputs": [],
   "source": [
    "# load data on countries\n",
    "\n",
    "country_df = pd.read_csv(dataroot + \"country_macro_indicators.csv\")\n",
    "country_df.set_index(\"code\", inplace=True)\n",
    "country_df.drop('CountryName', axis=1, inplace=True)\n",
    "country_df = pd.get_dummies(country_df)\n",
    "country_df.head()"
   ]
  },
  {
   "cell_type": "code",
   "execution_count": null,
   "metadata": {
    "collapsed": true
   },
   "outputs": [],
   "source": [
    "clust_df.head()"
   ]
  },
  {
   "cell_type": "code",
   "execution_count": null,
   "metadata": {
    "collapsed": true
   },
   "outputs": [],
   "source": [
    "# format cluster info: country level\n",
    "\n",
    "clust_country_df = clust_df.reset_index().rename(columns={\"index\":\"city\"})\n",
    "clust_country_df['country'] = clust_country_df['city'].apply(lambda x: x.split(\",\")[1][1:])\n",
    "clust_country_df = clust_country_df[['country', \"all\", \"scale\"]]\n",
    "clust_country_df = pd.get_dummies(clust_country_df, columns=[\"scale\"], prefix_sep=\"\")\n",
    "# clust_country_df = pd.get_dummies(clust_country_df, columns=[\"all\"])\n",
    "# clust_country_df.columns = ['country'] + [i for i in range(clust_country_df.shape[1]-1)]\n",
    "# clust_country_df = clust_country_df.groupby(\"country\").apply(lambda x:  x.iloc[:,1:].sum(0)/float(len(x)))\n",
    "# clust_country_df = pd.melt(clust_country_df.reset_index(), id_vars=\"country\",\n",
    "#                            var_name=\"cluster\", value_name=\"weight\")\n",
    "# clust_country_df = clust_country_df[clust_country_df['weight']>0]\n",
    "clust_country_df.rename(columns={\"all\":\"cluster\"}, inplace=True)\n",
    "clust_country_df.set_index(\"country\", inplace=True)\n",
    "clust_country_df.head()"
   ]
  },
  {
   "cell_type": "code",
   "execution_count": null,
   "metadata": {
    "collapsed": true
   },
   "outputs": [],
   "source": [
    "country_data_df = country_df.join(clust_country_df)\n",
    "country_data_df.dropna(inplace=True)\n",
    "country_train_cols = list(set(country_data_df.columns.values.tolist()) - set(['cluster']))\n",
    "\n",
    "# country_weights = country_data_df['weight'].values\n",
    "# country_data_df.drop(\"weight\", axis=1, inplace=True)\n",
    "country_weights = np.ones(len(country_data_df))"
   ]
  },
  {
   "cell_type": "markdown",
   "metadata": {},
   "source": [
    "#### Perform analysis"
   ]
  },
  {
   "cell_type": "markdown",
   "metadata": {},
   "source": [
    "Since we have so few data points (150) and relatively many features (40), let's first find the most important ones via a random forest classifier."
   ]
  },
  {
   "cell_type": "code",
   "execution_count": null,
   "metadata": {
    "collapsed": true
   },
   "outputs": [],
   "source": [
    "data_df = country_data_df\n",
    "X = country_data_df[country_train_cols].values\n",
    "weights = country_weights\n",
    "train_cols = country_train_cols\n",
    "\n",
    "# X = city_data_df[city_train_cols].values\n",
    "\n",
    "X = (X - X.mean(0)) / (X.std(0) + 1e-6)\n",
    "X = np.hstack([X, np.ones((len(X),1))])\n",
    "train_cols += ['intercept']\n",
    "\n",
    "print X.shape, weights.shape"
   ]
  },
  {
   "cell_type": "code",
   "execution_count": null,
   "metadata": {
    "collapsed": true
   },
   "outputs": [],
   "source": [
    "import statsmodels.api as st\n",
    "from sklearn.ensemble import RandomForestClassifier\n",
    "\n",
    "def mnl_analysis(resp_col=\"pop\", reg=0, top=10):\n",
    "    y = data_df[resp_col].astype(str).values\n",
    "    \n",
    "    # select a few important variables\n",
    "    clf = RandomForestClassifier(n_estimators=100)\n",
    "    clf.fit(X, y, weights)\n",
    "    feat_imp = pd.Series(clf.feature_importances_)\n",
    "    feat_imp.index = train_cols\n",
    "    feat_imp.sort_values(ascending=False, inplace=True)\n",
    "    feat_imp.head(top)[::-1].plot(kind='barh')\n",
    "    imp_cols = feat_imp.head(top)[::-1].index.values.tolist() + ['intercept']\n",
    "    print \"top %d features: \"% top, imp_cols\n",
    "    \n",
    "    mnl = st.MNLogit(y, X[:,[train_cols.index(c) for c in imp_cols]])\n",
    "    mnl_fit = mnl.fit_regularized(alpha=reg)\n",
    "    mnl_stats = mnl_fit.summary()\n",
    "    \n",
    "    # extract statistically-significant variables\n",
    "    \n",
    "    param_df = pd.DataFrame(mnl_fit.params, index=imp_cols )\n",
    "    pvals_df = pd.DataFrame(mnl_fit.pvalues, index=imp_cols )\n",
    "    idx_ok = (pvals_df<=0.05).sum(1)>0\n",
    "    signif_vars_df = param_df[idx_ok]\n",
    "    signif_vars_df[pvals_df>0.05] = np.nan\n",
    "    signif_vars_df.index = [vars_dict[x] if x in vars_dict else x\\\n",
    "                            for x in signif_vars_df.index]\n",
    "    signif_vars_df.columns = [\"C%d\"%(c+1) for c in signif_vars_df.columns]\n",
    "    # signif_vars_df = signif_vars_df.fillna(0)\n",
    "    \n",
    "    return signif_vars_df #signif_vars_df.ix[signif_vars_df.abs().sum(1) > 0]"
   ]
  },
  {
   "cell_type": "code",
   "execution_count": null,
   "metadata": {
    "collapsed": true
   },
   "outputs": [],
   "source": [
    "signif_vars = mnl_analysis(\"cluster\", reg=0.00)\n",
    "signif_vars.index = [x.replace(\"scale\",\"\").replace(\",\",\",\\n\") for x in signif_vars.index]"
   ]
  },
  {
   "cell_type": "code",
   "execution_count": null,
   "metadata": {
    "collapsed": true
   },
   "outputs": [],
   "source": [
    "sns.set_context('notebook', font_scale=1.5)\n",
    "\n",
    "fig, ax = plt.subplots(figsize=(8,6))\n",
    "sns.heatmap(signif_vars, cmap=\"RdBu_r\", center=0, ax=ax, \n",
    "            annot=True, fmt=\"2.1f\", )\n",
    "\n",
    "plt.title(\"Significant country-level effects\")\n",
    "plt.xlabel(\"Spatial profile clusters\")"
   ]
  },
  {
   "cell_type": "markdown",
   "metadata": {},
   "source": [
    "#### Save data to file"
   ]
  },
  {
   "cell_type": "code",
   "execution_count": null,
   "metadata": {
    "collapsed": true
   },
   "outputs": [],
   "source": [
    "sav_df = pd.concat([info_df, clust_df.reset_index().drop(\"index\",1)], axis=1)\n",
    "sav_df['country'] = sav_df['city'].apply(lambda x: x.split(\",\")[1].split('(')[0][1:])\n",
    "sav_df.to_csv(dataroot + \"cities_clusters.csv\")"
   ]
  },
  {
   "cell_type": "code",
   "execution_count": null,
   "metadata": {
    "collapsed": true
   },
   "outputs": [],
   "source": [
    "sav_df.head()"
   ]
  },
  {
   "cell_type": "code",
   "execution_count": null,
   "metadata": {
    "collapsed": true
   },
   "outputs": [],
   "source": [
    "pd.DataFrame(cntr_pop).to_csv(dataroot + \"cluster_centers_pop.csv\")\n",
    "pd.DataFrame(cntr_lum).to_csv(dataroot + \"cluster_centers_lum.csv\")\n",
    "pd.DataFrame(cntr_bld).to_csv(dataroot + \"cluster_centers_bld.csv\")"
   ]
  },
  {
   "cell_type": "markdown",
   "metadata": {
    "collapsed": true
   },
   "source": [
    "# SCRATCH"
   ]
  },
  {
   "cell_type": "code",
   "execution_count": null,
   "metadata": {
    "collapsed": true
   },
   "outputs": [],
   "source": []
  },
  {
   "cell_type": "code",
   "execution_count": null,
   "metadata": {
    "collapsed": true
   },
   "outputs": [],
   "source": [
    "from sklearn.cluster import KMeans, MiniBatchKMeans, SpectralClustering\n",
    "from numpy.random import random_sample\n",
    "from math import sqrt, log\n",
    "\n",
    "# returns series of random values sampled between min and max values of passed col\n",
    "def get_rand_data(col):\n",
    "\trng = col.max() - col.min()\n",
    "\treturn pd.Series(random_sample(len(col))*rng + col.min())\n",
    "\n",
    "def iter_kmeans(df, n_clusters, num_iters=10):\n",
    "    rng =  range(1, num_iters + 1)\n",
    "    vals = pd.Series(index=rng)\n",
    "    for i in rng:\n",
    "        k = KMeans(n_clusters=n_clusters, n_init=10)\n",
    "        k.fit(df)\n",
    "        # print \"Ref k: %s\" % k.get_params()['n_clusters']\n",
    "        vals[i] = k.inertia_\n",
    "    return vals\n",
    "\n",
    "def gap_statistic(df, max_k=10):\n",
    "    gaps = pd.Series(index = range(1, max_k + 1))\n",
    "    for k in range(1, max_k + 1):\n",
    "        print k,\n",
    "        km_act = KMeans(n_clusters=k, n_init=10)\n",
    "        km_act.fit(df)\n",
    "\n",
    "        # get ref dataset\n",
    "        ref = df.apply(get_rand_data)\n",
    "        ref_inertia = iter_kmeans(ref, n_clusters=k).mean()\n",
    "\n",
    "        gap = log(ref_inertia - km_act.inertia_)\n",
    "\n",
    "        # print \"Ref: %s   Act: %s  Gap: %s\" % ( ref_inertia, km_act.inertia_, gap)\n",
    "        gaps[k] = gap\n",
    "    print \"Done!\"\n",
    "\n",
    "    return gaps"
   ]
  },
  {
   "cell_type": "code",
   "execution_count": null,
   "metadata": {
    "collapsed": true
   },
   "outputs": [],
   "source": [
    "# gap statistic analysis to find optimum number of clusters\n",
    "\n",
    "# population profiles\n",
    "gaps_pop = gap_statistic(pd.DataFrame(Xpop_hat_log), max_k=25)\n",
    "K_pop = np.argmax(gaps_pop)\n",
    "\n",
    "# luminosity profiles\n",
    "gaps_lum = gap_statistic(pd.DataFrame(Xlum_hat_log), max_k=25)\n",
    "K_lum = np.argmax(gaps_lum)\n",
    "\n",
    "# building density profiles\n",
    "gaps_bld = gap_statistic(pd.DataFrame(Xbld_hat_log), max_k=25)\n",
    "K_bld = np.argmax(gaps_bld)\n"
   ]
  },
  {
   "cell_type": "code",
   "execution_count": null,
   "metadata": {
    "collapsed": true
   },
   "outputs": [],
   "source": [
    "plt.figure(figsize=(6,4))\n",
    "plt.plot(gaps_pop/gaps_pop.max(), lw=3, label=\"pop\", color=colormap['pop'])\n",
    "plt.plot(gaps_lum/gaps_lum.max(), lw=3, label=\"lum\", color=colormap['lum'])\n",
    "plt.plot(gaps_bld/gaps_bld.max(), lw=3, label=\"bld\", color=colormap['bldg'])\n",
    "plt.title(\"Optimum # clusters $K^*$\")\n",
    "plt.xlabel(\"# clusters K\")\n",
    "plt.ylabel(\"gap statistic\")\n",
    "plt.legend(loc=\"best\")\n",
    "plt.show()\n"
   ]
  }
 ],
 "metadata": {
  "kernelspec": {
   "display_name": "Python 2",
   "language": "python",
   "name": "python2"
  },
  "language_info": {
   "codemirror_mode": {
    "name": "ipython",
    "version": 2
   },
   "file_extension": ".py",
   "mimetype": "text/x-python",
   "name": "python",
   "nbconvert_exporter": "python",
   "pygments_lexer": "ipython2",
   "version": "2.7.12"
  }
 },
 "nbformat": 4,
 "nbformat_minor": 1
}
