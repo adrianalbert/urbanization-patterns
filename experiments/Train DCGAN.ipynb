{
 "cells": [
  {
   "cell_type": "markdown",
   "metadata": {},
   "source": [
    "# Initializations"
   ]
  },
  {
   "cell_type": "code",
   "execution_count": 1,
   "metadata": {
    "collapsed": false
   },
   "outputs": [],
   "source": [
    "import numpy as np\n",
    "import pandas as pd\n",
    "\n",
    "import sys, os, time\n",
    "import glob\n",
    "\n",
    "from matplotlib import pyplot as plt\n",
    "%matplotlib inline\n",
    "\n",
    "# these magics ensure that external modules that are modified are also automatically reloaded\n",
    "%load_ext autoreload\n",
    "%autoreload 2\n",
    "\n",
    "# widgets and interaction\n",
    "from ipywidgets import FloatProgress\n",
    "from IPython.display import display, clear_output\n",
    "\n",
    "import seaborn as sns\n",
    "sns.set_style(\"whitegrid\", {'axes.grid' : False})\n",
    "\n",
    "from skimage.io import imread, imsave\n",
    "\n",
    "import warnings\n",
    "warnings.filterwarnings('ignore')\n",
    "\n",
    "import gzip\n",
    "import cPickle as pickle"
   ]
  },
  {
   "cell_type": "code",
   "execution_count": 2,
   "metadata": {
    "collapsed": false
   },
   "outputs": [],
   "source": [
    "import torch\n",
    "import torch.nn as nn\n",
    "from torch.autograd import Variable\n",
    "import torchvision.utils as vutils\n",
    "import torch\n",
    "import torch.nn as nn\n",
    "import torch.nn.parallel\n",
    "import torch.backends.cudnn as cudnn\n",
    "import torch.optim as optim\n",
    "import torch.utils.data\n",
    "import torchvision.datasets as dset\n",
    "import torchvision.transforms as transforms\n",
    "import torchvision.utils as vutils\n",
    "from torch.autograd import Variable\n",
    "\n",
    "import sys\n",
    "sys.path.append(\"../models/\")\n",
    "\n",
    "import models.dcgan as dcgan\n",
    "import models.mlp as mlp\n",
    "import models.dcgan_orig as do"
   ]
  },
  {
   "cell_type": "markdown",
   "metadata": {},
   "source": [
    "# Train GAN\n",
    "We could spawn external process, but better just copy the command into an external script and run in a separate terminal. "
   ]
  },
  {
   "cell_type": "code",
   "execution_count": 4,
   "metadata": {
    "collapsed": true
   },
   "outputs": [],
   "source": [
    "dataroot = \"/home/data/world-cities/\"\n",
    "\n",
    "nz   = 100\n",
    "ngf  = 16\n",
    "ndf  = 16\n",
    "nc   = 1\n",
    "imageSize = 64\n",
    "batchSize = 64\n",
    "workers   = 4\n",
    "val_nodata = 128\n",
    "classCol = \"decile\"\n",
    "ncond = 1 # number of stats or other conditions\n",
    "\n",
    "beta1 = 0.5\n",
    "lr = 0.0002\n",
    "\n",
    "ngpu = 4\n",
    "n_extra_layers = 0"
   ]
  },
  {
   "cell_type": "code",
   "execution_count": 5,
   "metadata": {
    "collapsed": false
   },
   "outputs": [
    {
     "name": "stdout",
     "output_type": "stream",
     "text": [
      "17300\n"
     ]
    }
   ],
   "source": [
    "train_df = pd.read_csv(dataroot + \"train-2pct.csv\")\n",
    "print len(train_df)"
   ]
  },
  {
   "cell_type": "code",
   "execution_count": 6,
   "metadata": {
    "collapsed": false
   },
   "outputs": [],
   "source": [
    "# img_smpl = np.array([imread(f) for f in train_df.sample(1000)['filename']])\n",
    "\n",
    "# mu, std = img_smpl.mean(), img_smpl.std()\n",
    "# mu, std"
   ]
  },
  {
   "cell_type": "code",
   "execution_count": 62,
   "metadata": {
    "collapsed": true
   },
   "outputs": [],
   "source": [
    "def compute_stats(batch):\n",
    "    return batch.abs().mean(2).mean(3)\n",
    "\n",
    "from skimage import morphology\n",
    "from skimage.transform import resize\n",
    "\n",
    "def compute_patch_areas(M):\n",
    "    mask = morphology.label(M)\n",
    "    areas = []\n",
    "    for i in np.arange(1,mask.max()):\n",
    "        areas.append((i,(mask==i).sum()))\n",
    "    areas.sort(key=lambda x: x[1], reverse=True)\n",
    "    return areas, mask"
   ]
  },
  {
   "cell_type": "code",
   "execution_count": 65,
   "metadata": {
    "collapsed": false
   },
   "outputs": [],
   "source": [
    "areas, mask = compute_patch_areas(resize(np.array(img),(imageSize,imageSize)))"
   ]
  },
  {
   "cell_type": "code",
   "execution_count": 70,
   "metadata": {
    "collapsed": false
   },
   "outputs": [
    {
     "data": {
      "text/plain": [
       "[(10, 21),\n",
       " (12, 5),\n",
       " (4, 4),\n",
       " (5, 4),\n",
       " (16, 4),\n",
       " (6, 2),\n",
       " (20, 2),\n",
       " (22, 2),\n",
       " (1, 1),\n",
       " (2, 1),\n",
       " (3, 1),\n",
       " (7, 1),\n",
       " (8, 1),\n",
       " (9, 1),\n",
       " (11, 1),\n",
       " (13, 1),\n",
       " (14, 1),\n",
       " (15, 1),\n",
       " (17, 1),\n",
       " (18, 1),\n",
       " (19, 1),\n",
       " (21, 1)]"
      ]
     },
     "execution_count": 70,
     "metadata": {},
     "output_type": "execute_result"
    }
   ],
   "source": [
    "areas"
   ]
  },
  {
   "cell_type": "markdown",
   "metadata": {},
   "source": [
    "areas"
   ]
  },
  {
   "cell_type": "code",
   "execution_count": 53,
   "metadata": {
    "collapsed": false
   },
   "outputs": [
    {
     "ename": "AttributeError",
     "evalue": "'Image' object has no attribute 'shape'",
     "output_type": "error",
     "traceback": [
      "\u001b[0;31m---------------------------------------------------------------------------\u001b[0m",
      "\u001b[0;31mAttributeError\u001b[0m                            Traceback (most recent call last)",
      "\u001b[0;32m<ipython-input-53-2480a1edd351>\u001b[0m in \u001b[0;36m<module>\u001b[0;34m()\u001b[0m\n\u001b[0;32m----> 1\u001b[0;31m \u001b[0mcompute_patch_areas\u001b[0m\u001b[0;34m(\u001b[0m\u001b[0mimg\u001b[0m\u001b[0;34m)\u001b[0m\u001b[0;34m\u001b[0m\u001b[0m\n\u001b[0m",
      "\u001b[0;32m<ipython-input-50-cdd47cbfe12e>\u001b[0m in \u001b[0;36mcompute_patch_areas\u001b[0;34m(M)\u001b[0m\n\u001b[1;32m      5\u001b[0m \u001b[0;34m\u001b[0m\u001b[0m\n\u001b[1;32m      6\u001b[0m \u001b[0;32mdef\u001b[0m \u001b[0mcompute_patch_areas\u001b[0m\u001b[0;34m(\u001b[0m\u001b[0mM\u001b[0m\u001b[0;34m)\u001b[0m\u001b[0;34m:\u001b[0m\u001b[0;34m\u001b[0m\u001b[0m\n\u001b[0;32m----> 7\u001b[0;31m     \u001b[0mmask\u001b[0m \u001b[0;34m=\u001b[0m \u001b[0mmorphology\u001b[0m\u001b[0;34m.\u001b[0m\u001b[0mlabel\u001b[0m\u001b[0;34m(\u001b[0m\u001b[0mM\u001b[0m\u001b[0;34m)\u001b[0m\u001b[0;34m\u001b[0m\u001b[0m\n\u001b[0m\u001b[1;32m      8\u001b[0m     \u001b[0mareas\u001b[0m \u001b[0;34m=\u001b[0m \u001b[0;34m[\u001b[0m\u001b[0;34m]\u001b[0m\u001b[0;34m\u001b[0m\u001b[0m\n\u001b[1;32m      9\u001b[0m     \u001b[0;32mfor\u001b[0m \u001b[0mi\u001b[0m \u001b[0;32min\u001b[0m \u001b[0mnp\u001b[0m\u001b[0;34m.\u001b[0m\u001b[0marange\u001b[0m\u001b[0;34m(\u001b[0m\u001b[0;36m1\u001b[0m\u001b[0;34m,\u001b[0m\u001b[0mmask\u001b[0m\u001b[0;34m.\u001b[0m\u001b[0mmax\u001b[0m\u001b[0;34m(\u001b[0m\u001b[0;34m)\u001b[0m\u001b[0;34m)\u001b[0m\u001b[0;34m:\u001b[0m\u001b[0;34m\u001b[0m\u001b[0m\n",
      "\u001b[0;32m/usr/local/lib/python2.7/dist-packages/skimage/measure/_label.pyc\u001b[0m in \u001b[0;36mlabel\u001b[0;34m(input, neighbors, background, return_num, connectivity)\u001b[0m\n\u001b[1;32m      3\u001b[0m def label(input, neighbors=None, background=None, return_num=False,\n\u001b[1;32m      4\u001b[0m           connectivity=None):\n\u001b[0;32m----> 5\u001b[0;31m     \u001b[0;32mreturn\u001b[0m \u001b[0m_label\u001b[0m\u001b[0;34m(\u001b[0m\u001b[0minput\u001b[0m\u001b[0;34m,\u001b[0m \u001b[0mneighbors\u001b[0m\u001b[0;34m,\u001b[0m \u001b[0mbackground\u001b[0m\u001b[0;34m,\u001b[0m \u001b[0mreturn_num\u001b[0m\u001b[0;34m,\u001b[0m \u001b[0mconnectivity\u001b[0m\u001b[0;34m)\u001b[0m\u001b[0;34m\u001b[0m\u001b[0m\n\u001b[0m\u001b[1;32m      6\u001b[0m \u001b[0;34m\u001b[0m\u001b[0m\n\u001b[1;32m      7\u001b[0m \u001b[0mlabel\u001b[0m\u001b[0;34m.\u001b[0m\u001b[0m__doc__\u001b[0m \u001b[0;34m=\u001b[0m \u001b[0m_label\u001b[0m\u001b[0;34m.\u001b[0m\u001b[0m__doc__\u001b[0m\u001b[0;34m\u001b[0m\u001b[0m\n",
      "\u001b[0;32mskimage/measure/_ccomp.pyx\u001b[0m in \u001b[0;36mskimage.measure._ccomp.label (skimage/measure/_ccomp.c:3854)\u001b[0;34m()\u001b[0m\n",
      "\u001b[0;32mskimage/measure/_ccomp.pyx\u001b[0m in \u001b[0;36mskimage.measure._ccomp.reshape_array (skimage/measure/_ccomp.c:3428)\u001b[0;34m()\u001b[0m\n",
      "\u001b[0;31mAttributeError\u001b[0m: 'Image' object has no attribute 'shape'"
     ]
    }
   ],
   "source": [
    "compute_patch_areas(img)"
   ]
  },
  {
   "cell_type": "markdown",
   "metadata": {},
   "source": [
    "#### Set up batching"
   ]
  },
  {
   "cell_type": "code",
   "execution_count": 42,
   "metadata": {
    "collapsed": false
   },
   "outputs": [],
   "source": [
    "import sys\n",
    "sys.path.append(\"./../models/pytorch_utils\")\n",
    "from loader_dataframe import ImageDataFrame, grayscale_loader, WeightedRandomSampler\n",
    "\n",
    "from PIL import Image\n",
    "\n",
    "def fn_rotate(img):\n",
    "    theta = np.random.randn()*180\n",
    "    return img.rotate(theta, expand=True)\n",
    "\n",
    "pxCrop = 448\n",
    "\n",
    "dataset = ImageDataFrame(df=train_df, \n",
    "                         classCol=classCol,\n",
    "                         loader=grayscale_loader,\n",
    "                         transform=transforms.Compose([\n",
    "                               transforms.RandomHorizontalFlip(),\n",
    "                               # transforms.RandomCrop(pxCrop),\n",
    "                               transforms.CenterCrop(pxCrop),\n",
    "                               transforms.Lambda(lambda img: fn_rotate(img)),\n",
    "                               transforms.Scale(imageSize),\n",
    "                               transforms.ToTensor(),\n",
    "                               # transforms.Normalize((mu, mu, mu), (std, std, std)),\n",
    "                           ]))\n",
    "n_classes = len(dataset.classes)\n",
    "train_df['']\n",
    "weights = train_df['built pct']\n",
    "\n",
    "dataloader = torch.utils.data.DataLoader(dataset, batch_size=batchSize,\n",
    "                                         shuffle=True, \n",
    "                                         sampler=WeightedRandomSampler(weights, len(train_df)),\n",
    "                                         num_workers=int(workers))"
   ]
  },
  {
   "cell_type": "code",
   "execution_count": 46,
   "metadata": {
    "collapsed": false
   },
   "outputs": [
    {
     "data": {
      "text/plain": [
       "9    2499\n",
       "7    2499\n",
       "5    2499\n",
       "8    2498\n",
       "6    2498\n",
       "4    2497\n",
       "3    2310\n",
       "Name: decile, dtype: int64"
      ]
     },
     "execution_count": 46,
     "metadata": {},
     "output_type": "execute_result"
    }
   ],
   "source": [
    "train_df['decile'].value_counts()"
   ]
  },
  {
   "cell_type": "code",
   "execution_count": 43,
   "metadata": {
    "collapsed": false
   },
   "outputs": [
    {
     "data": {
      "text/plain": [
       "<matplotlib.image.AxesImage at 0x7f3751a29f10>"
      ]
     },
     "execution_count": 43,
     "metadata": {},
     "output_type": "execute_result"
    },
    {
     "data": {
      "image/png": "[encoded data removed]",
      "text/plain": [
       "<matplotlib.figure.Figure at 0x7f3752043890>"
      ]
     },
     "metadata": {},
     "output_type": "display_data"
    }
   ],
   "source": [
    "img = grayscale_loader(train_df['filename'].iloc[0])\n",
    "plt.imshow(fn_rotate(img))"
   ]
  },
  {
   "cell_type": "code",
   "execution_count": 44,
   "metadata": {
    "collapsed": false
   },
   "outputs": [],
   "source": [
    "for data in dataloader:\n",
    "    img_batch, _ = data\n",
    "    img_batch_np = img_batch.numpy()\n",
    "    stats = compute_stats(img_batch)\n",
    "    break"
   ]
  },
  {
   "cell_type": "code",
   "execution_count": 45,
   "metadata": {
    "collapsed": false
   },
   "outputs": [
    {
     "data": {
      "text/plain": [
       "(array([ 5.,  5.,  4.,  4.,  4.,  6.,  7.,  9.,  3.,  5.,  2.,  2.,  2.,\n",
       "         0.,  2.,  1.,  0.,  1.,  1.,  1.]),\n",
       " array([ 0.00751474,  0.01409721,  0.02067967,  0.02726213,  0.03384459,\n",
       "         0.04042705,  0.04700952,  0.05359198,  0.06017444,  0.0667569 ,\n",
       "         0.07333937,  0.07992183,  0.08650429,  0.09308675,  0.09966921,\n",
       "         0.10625168,  0.11283414,  0.1194166 ,  0.12599906,  0.13258152,\n",
       "         0.13916399]),\n",
       " <a list of 20 Patch objects>)"
      ]
     },
     "execution_count": 45,
     "metadata": {},
     "output_type": "execute_result"
    },
    {
     "data": {
      "image/png": "[encoded data removed]",
      "text/plain": [
       "<matplotlib.figure.Figure at 0x7f372442b4d0>"
      ]
     },
     "metadata": {},
     "output_type": "display_data"
    }
   ],
   "source": [
    "plt.hist(stats.numpy().squeeze(), bins=20)"
   ]
  },
  {
   "cell_type": "code",
   "execution_count": 14,
   "metadata": {
    "collapsed": false
   },
   "outputs": [
    {
     "data": {
      "text/plain": [
       "<matplotlib.axes._subplots.AxesSubplot at 0x7f368d38bb50>"
      ]
     },
     "execution_count": 14,
     "metadata": {},
     "output_type": "execute_result"
    },
    {
     "data": {
      "image/png": "[encoded data removed]",
      "text/plain": [
       "<matplotlib.figure.Figure at 0x7f368d38bd90>"
      ]
     },
     "metadata": {},
     "output_type": "display_data"
    }
   ],
   "source": [
    "train_df['built pct'].hist(bins=100)"
   ]
  },
  {
   "cell_type": "markdown",
   "metadata": {},
   "source": [
    "#### Set up models"
   ]
  },
  {
   "cell_type": "code",
   "execution_count": 47,
   "metadata": {
    "collapsed": false
   },
   "outputs": [
    {
     "name": "stdout",
     "output_type": "stream",
     "text": [
      "_netG (\n",
      "  (main): Sequential (\n",
      "    (0): ConvTranspose2d(101, 128, kernel_size=(4, 4), stride=(1, 1), bias=False)\n",
      "    (1): BatchNorm2d(128, eps=1e-05, momentum=0.1, affine=True)\n",
      "    (2): ReLU (inplace)\n",
      "    (3): ConvTranspose2d(128, 64, kernel_size=(4, 4), stride=(2, 2), padding=(1, 1), bias=False)\n",
      "    (4): BatchNorm2d(64, eps=1e-05, momentum=0.1, affine=True)\n",
      "    (5): ReLU (inplace)\n",
      "    (6): ConvTranspose2d(64, 32, kernel_size=(4, 4), stride=(2, 2), padding=(1, 1), bias=False)\n",
      "    (7): BatchNorm2d(32, eps=1e-05, momentum=0.1, affine=True)\n",
      "    (8): ReLU (inplace)\n",
      "    (9): ConvTranspose2d(32, 16, kernel_size=(4, 4), stride=(2, 2), padding=(1, 1), bias=False)\n",
      "    (10): BatchNorm2d(16, eps=1e-05, momentum=0.1, affine=True)\n",
      "    (11): ReLU (inplace)\n",
      "    (12): ConvTranspose2d(16, 1, kernel_size=(4, 4), stride=(2, 2), padding=(1, 1), bias=False)\n",
      "    (13): Tanh ()\n",
      "  )\n",
      ")\n",
      "_netD (\n",
      "  (main): Sequential (\n",
      "    (0): Conv2d(1, 16, kernel_size=(4, 4), stride=(2, 2), padding=(1, 1), bias=False)\n",
      "    (1): LeakyReLU (0.2, inplace)\n",
      "    (2): Conv2d(16, 32, kernel_size=(4, 4), stride=(2, 2), padding=(1, 1), bias=False)\n",
      "    (3): BatchNorm2d(32, eps=1e-05, momentum=0.1, affine=True)\n",
      "    (4): LeakyReLU (0.2, inplace)\n",
      "    (5): Conv2d(32, 64, kernel_size=(4, 4), stride=(2, 2), padding=(1, 1), bias=False)\n",
      "    (6): BatchNorm2d(64, eps=1e-05, momentum=0.1, affine=True)\n",
      "    (7): LeakyReLU (0.2, inplace)\n",
      "    (8): Conv2d(64, 128, kernel_size=(4, 4), stride=(2, 2), padding=(1, 1), bias=False)\n",
      "    (9): BatchNorm2d(128, eps=1e-05, momentum=0.1, affine=True)\n",
      "    (10): LeakyReLU (0.2, inplace)\n",
      "    (11): Conv2d(128, 1, kernel_size=(4, 4), stride=(1, 1), bias=False)\n",
      "    (12): Sigmoid ()\n",
      "  )\n",
      ")\n"
     ]
    }
   ],
   "source": [
    "netD_ckpt = '' # \"/home/nbserver/pytorch-workspace/DCGAN/16-weak-cond/\"\n",
    "netG_ckpt = '' # \"/home/nbserver/pytorch-workspace/DCGAN/16-weak-cond/\"\n",
    "\n",
    "# custom weights initialization called on netG and netD\n",
    "def weights_init(m):\n",
    "    classname = m.__class__.__name__\n",
    "    if classname.find('Conv') != -1:\n",
    "        m.weight.data.normal_(0.0, 0.02)\n",
    "    elif classname.find('BatchNorm') != -1:\n",
    "        m.weight.data.normal_(1.0, 0.02)\n",
    "        m.bias.data.fill_(0)\n",
    "\n",
    "# initialize generator\n",
    "netG = do._netG(ngpu, nc, nz + ncond, ngf)\n",
    "netG.apply(weights_init)\n",
    "if netG_ckpt != '':\n",
    "    netG.load_state_dict(torch.load(netG_ckpt))\n",
    "print(netG)\n",
    "\n",
    "# initialize discriminator\n",
    "netD = do._netD(ngpu, nc, ndf, n_classes=n_classes+1) # number of classes + fake/real\n",
    "netD.apply(weights_init)\n",
    "if netD_ckpt != '':\n",
    "    netD.load_state_dict(torch.load(netD_ckpt))\n",
    "print(netD)\n"
   ]
  },
  {
   "cell_type": "code",
   "execution_count": null,
   "metadata": {
    "collapsed": true
   },
   "outputs": [],
   "source": [
    "nn.parallel.data_parallel()"
   ]
  },
  {
   "cell_type": "markdown",
   "metadata": {},
   "source": [
    "#### Set up optimization"
   ]
  },
  {
   "cell_type": "code",
   "execution_count": 48,
   "metadata": {
    "collapsed": false
   },
   "outputs": [],
   "source": [
    "criterion = nn.BCELoss()\n",
    "penalty_MSE = torch.nn.MSELoss()\n",
    "penalty_CEL = torch.nn.CrossEntropyLoss()\n",
    "\n",
    "input = torch.FloatTensor(batchSize, nc, imageSize, imageSize)\n",
    "noise = torch.FloatTensor(batchSize, nz, 1, 1)\n",
    "fixed_noise = torch.FloatTensor(batchSize, nz, 1, 1).normal_(0, 1)\n",
    "fixed_cond  = torch.FloatTensor(batchSize, 1, 1, 1)\n",
    "fixed_cond.fill_(0.05)\n",
    "label = torch.FloatTensor(batchSize)\n",
    "target= torch.FloatTensor(batchSize, len(dataset.classes), 1, 1)\n",
    "real_label = 1\n",
    "fake_label = 0\n",
    "\n",
    "if torch.cuda.is_available():\n",
    "    netD.cuda()\n",
    "    netG.cuda()\n",
    "    criterion.cuda()\n",
    "    penalty_MSE.cuda()\n",
    "    penalty_CEL.cuda()\n",
    "    input, label, target = input.cuda(), label.cuda(), target.cuda()\n",
    "    noise, fixed_noise, fixed_cond = noise.cuda(), fixed_noise.cuda(), fixed_cond.cuda()\n",
    "\n",
    "input = Variable(input)\n",
    "label = Variable(label)\n",
    "noise = Variable(noise)\n",
    "target= Variable(target)\n",
    "\n",
    "fixed_noise = Variable(fixed_noise)\n",
    "fixed_cond  = Variable(fixed_cond)\n",
    "\n",
    "# setup optimizer\n",
    "optimizerD = optim.Adam(netD.parameters(), lr = lr, betas = (beta1, 0.999))\n",
    "optimizerG = optim.Adam(netG.parameters(), lr = lr, betas = (beta1, 0.999))"
   ]
  },
  {
   "cell_type": "markdown",
   "metadata": {},
   "source": [
    "#### Train"
   ]
  },
  {
   "cell_type": "code",
   "execution_count": 49,
   "metadata": {
    "collapsed": false,
    "scrolled": false
   },
   "outputs": [
    {
     "name": "stdout",
     "output_type": "stream",
     "text": [
      "[49/50][270/271] Loss_D: 1.3652 Loss_G: 3.3043 D(x): 0.4369 D(G(z)): 0.0408 / 0.2473 Penalty D: 0.0591 Penalty G: 1.1820 Penalty/Loss (D): 23.0984 Penalty/Loss (G): 2.7954 \n"
     ]
    }
   ],
   "source": [
    "outf = \"/home/data/pytorch-workspace/DCGAN/16-weak-cond-2pct-6/\"\n",
    "try:\n",
    "    os.makedirs(outf)\n",
    "except OSError:\n",
    "    pass\n",
    "\n",
    "niter = 50\n",
    "lamD  = 50 #10 # hyperparameter for tradeoff between objectives\n",
    "lamG  = 1000 #10 # hyperparameter for tradeoff between objectives\n",
    "\n",
    "lossED = []\n",
    "lossEG = []\n",
    "lossD = []\n",
    "lossG = []\n",
    "for epoch in range(niter):\n",
    "    lossD_epoch = []\n",
    "    lossG_epoch = []\n",
    "    lossED_epoch = []\n",
    "    lossEG_epoch = []\n",
    "    for i, data in enumerate(dataloader, 0):\n",
    "\n",
    "        clear_output(wait=True)\n",
    "        \n",
    "        ############################\n",
    "        # (1) Update D network: maximize log(D(x)) + log(1 - D(G(z)))\n",
    "        ###########################\n",
    "        \n",
    "        real_cpu, target_cpu = data\n",
    "        batch_size = real_cpu.size(0)\n",
    "                \n",
    "        input.data.resize_(real_cpu.size()).copy_(real_cpu)\n",
    "        target.data.resize_(target_cpu.size()).copy_(target_cpu)\n",
    "\n",
    "        # compute stats on real images\n",
    "        stats_real = compute_stats(input).detach() # just stats on input data, nothing to optimize here, so detach from computational graph\n",
    "\n",
    "        # forward pass in G\n",
    "        noise.data.resize_(batch_size, nz, 1, 1)\n",
    "        noise.data.normal_(0, 1) \n",
    "        conditions = stats_real\n",
    "        fake = netG(noise, cond=conditions)\n",
    "        \n",
    "        # compute stats on fake images\n",
    "        stats_fake = compute_stats(fake)\n",
    "        # err_stats = ((stats_fake - stats_real).abs()).mean() # lam can be a vector when more stats are used\n",
    "        err_stats = ((stats_fake - stats_real)**2).max() # / (stats_real**2).mean() # lam can be a vector when more stats are used\n",
    "        # err_stats = penalty_MSE(stats_fake, stats_real)\n",
    "        \n",
    "        # train with real\n",
    "        netD.zero_grad()\n",
    "        output = netD(input)\n",
    "        label.data.resize_(batch_size).fill_(real_label)\n",
    "        errD_real = criterion(output, label) \n",
    "        errD_real.backward(retain_variables=True)\n",
    "        D_x = output.data.mean()\n",
    "        \n",
    "        # train with fake   \n",
    "        label.data.fill_(fake_label)\n",
    "        output = netD(fake.detach())        \n",
    "        penaltyD = lamD * err_stats\n",
    "        errD_fake = criterion(output, label) + penaltyD\n",
    "        errD_fake.backward(retain_variables=True)\n",
    "        D_G_z1 = output.data.mean()\n",
    "        errD = errD_real + errD_fake\n",
    "        \n",
    "        # errD.backward()\n",
    "        optimizerD.step()\n",
    "        \n",
    "        ############################\n",
    "        # (2) Update G network: maximize log(D(G(z)))\n",
    "        ########################### \n",
    "        \n",
    "        netG.zero_grad()\n",
    "        label.data.fill_(real_label) # fake labels are real for generator cost\n",
    "        output = netD(fake)\n",
    "        targets= stats_fake.resize(batch_size).detach()\n",
    "        penaltyG = lamG * err_stats\n",
    "        errG = criterion(output, label) + penaltyG\n",
    "        errG.backward()\n",
    "        D_G_z2 = output.data.mean()\n",
    "        optimizerG.step()\n",
    "\n",
    "        lossEG_epoch.append(penaltyG.data[0])\n",
    "        lossED_epoch.append(penaltyD.data[0])\n",
    "        lossD_epoch.append(errD.data[0])\n",
    "        lossG_epoch.append(errG.data[0])\n",
    "        print('[%d/%d][%d/%d] Loss_D: %.4f Loss_G: %.4f D(x): %.4f D(G(z)): %.4f / %.4f Penalty D: %.4f Penalty G: %.4f Penalty/Loss (D): %.4f Penalty/Loss (G): %.4f '\n",
    "              % (epoch, niter, i, len(dataloader),\n",
    "                 errD.data[0], errG.data[0], D_x, D_G_z1, D_G_z2, \n",
    "                 penaltyD.mean().data[0], penaltyG.mean().data[0], \n",
    "                 errD.data[0] / penaltyD.mean().data[0], errG.data[0] / penaltyG.mean().data[0]))\n",
    "        if i % 100 == 0:\n",
    "            vutils.save_image(real_cpu,\n",
    "                    '%s/real_samples.png' % outf)\n",
    "            fake = netG(fixed_noise, cond=fixed_cond)\n",
    "            vutils.save_image(fake.data,\n",
    "                    '%s/fake_samples_epoch_%03d.png' % (outf, epoch))\n",
    "\n",
    "    # save plot of losses for G and D\n",
    "    lossED.append((np.mean(lossED_epoch), np.std(lossED_epoch)))\n",
    "    lossEG.append((np.mean(lossEG_epoch), np.std(lossEG_epoch)))\n",
    "    lossD.append((np.mean(lossD_epoch), np.std(lossD_epoch)))\n",
    "    lossG.append((np.mean(lossG_epoch), np.std(lossG_epoch)))\n",
    "\n",
    "    with gzip.open(outf + \"/training-loss.pickle.gz\", \"w\") as f:\n",
    "        pickle.dump([lossD, lossG, lossED, lossEG], f)\n",
    "\n",
    "    # plt.ioff()\n",
    "    fig = plt.figure()\n",
    "    plt.errorbar(range(len(lossD)), [x[0] for x in lossD], \n",
    "        yerr=[x[1] for x in lossD], label=\"D loss\")\n",
    "    plt.errorbar(range(len(lossG)), [x[0] for x in lossG], \n",
    "        yerr=[x[1] for x in lossG], label=\"G loss\")\n",
    "    plt.legend(loc=\"best\")\n",
    "    plt.title(\"DCGAN training on SAR urban patches\")\n",
    "    plt.savefig(\"%s/training_progress.jpg\"%outf)\n",
    "    plt.close(fig)\n",
    "\n",
    "    # do checkpointing\n",
    "    torch.save(netG.state_dict(), '%s/netG_epoch_%d.pth' % (outf, epoch))\n",
    "    torch.save(netD.state_dict(), '%s/netD_epoch_%d.pth' % (outf, epoch))\n"
   ]
  },
  {
   "cell_type": "code",
   "execution_count": null,
   "metadata": {
    "collapsed": false
   },
   "outputs": [],
   "source": [
    "output.size()"
   ]
  },
  {
   "cell_type": "code",
   "execution_count": null,
   "metadata": {
    "collapsed": false
   },
   "outputs": [],
   "source": [
    "input.size()"
   ]
  },
  {
   "cell_type": "code",
   "execution_count": null,
   "metadata": {
    "collapsed": false
   },
   "outputs": [],
   "source": [
    "noise_np = noise.data.cpu().numpy().squeeze()"
   ]
  },
  {
   "cell_type": "code",
   "execution_count": null,
   "metadata": {
    "collapsed": false
   },
   "outputs": [],
   "source": [
    "conditions.data.cpu().numpy().squeeze()"
   ]
  },
  {
   "cell_type": "code",
   "execution_count": null,
   "metadata": {
    "collapsed": true
   },
   "outputs": [],
   "source": [
    "Z = torch.cat([noise, conditions], 1)"
   ]
  },
  {
   "cell_type": "code",
   "execution_count": null,
   "metadata": {
    "collapsed": false
   },
   "outputs": [],
   "source": [
    "Z_np = Z.data.cpu().numpy().squeeze()\n",
    "Z_np.shape"
   ]
  },
  {
   "cell_type": "code",
   "execution_count": null,
   "metadata": {
    "collapsed": false
   },
   "outputs": [],
   "source": [
    "fake1 = netG(Z)"
   ]
  },
  {
   "cell_type": "code",
   "execution_count": null,
   "metadata": {
    "collapsed": false
   },
   "outputs": [],
   "source": [
    "fake1.abs().mean(2).mean(3).data.cpu().numpy().squeeze()"
   ]
  },
  {
   "cell_type": "code",
   "execution_count": null,
   "metadata": {
    "collapsed": false
   },
   "outputs": [],
   "source": [
    "stats_fake.data.cpu().numpy().squeeze()"
   ]
  },
  {
   "cell_type": "code",
   "execution_count": null,
   "metadata": {
    "collapsed": false
   },
   "outputs": [],
   "source": [
    "print ((stats_fake - stats_real).abs()).mean() \n",
    "print ((stats_fake - stats_real)**2).mean() \n"
   ]
  },
  {
   "cell_type": "code",
   "execution_count": null,
   "metadata": {
    "collapsed": false
   },
   "outputs": [],
   "source": [
    "errD, errG, err_stats*lam"
   ]
  },
  {
   "cell_type": "code",
   "execution_count": null,
   "metadata": {
    "collapsed": false
   },
   "outputs": [],
   "source": [
    "stats_real_np = stats_fake.data.cpu().numpy().squeeze()\n",
    "stats_fake_np = stats_real.data.cpu().numpy().squeeze()"
   ]
  },
  {
   "cell_type": "code",
   "execution_count": null,
   "metadata": {
    "collapsed": false
   },
   "outputs": [],
   "source": [
    "np.vstack([stats_real_np, stats_fake_np]).T"
   ]
  },
  {
   "cell_type": "code",
   "execution_count": null,
   "metadata": {
    "collapsed": false
   },
   "outputs": [],
   "source": [
    "fig, ax = plt.subplots()\n",
    "ax.scatter(stats_real_np, stats_fake_np)\n",
    "ax.plot(ax.get_xlim(), ax.get_ylim(), ls=\"--\", c=\".3\")"
   ]
  },
  {
   "cell_type": "code",
   "execution_count": null,
   "metadata": {
    "collapsed": true
   },
   "outputs": [],
   "source": []
  },
  {
   "cell_type": "markdown",
   "metadata": {},
   "source": [
    "# Plot fake and real samples"
   ]
  },
  {
   "cell_type": "code",
   "execution_count": null,
   "metadata": {
    "collapsed": true
   },
   "outputs": [],
   "source": [
    "# experiment_dir = \"/home/adalbert/nbserver/pytorch-workspace/DCGAN/25k-cities-128/\"\n",
    "\n",
    "experiment_dir = outf"
   ]
  },
  {
   "cell_type": "code",
   "execution_count": null,
   "metadata": {
    "collapsed": false,
    "scrolled": false
   },
   "outputs": [],
   "source": [
    "files_fake = glob.glob(experiment_dir + \"/fake*.png\")\n",
    "files_fake.sort(key=lambda x: int(os.path.basename(x).split(\"_\")[-1].replace(\".png\",\"\")))\n",
    "\n",
    "files_real = glob.glob(experiment_dir + \"/real*.png\")\n",
    "\n",
    "img_real = imread(files_real[0])\n",
    "img_real = img_real / float(img_real.max())\n",
    "plt.imshow(1-np.abs(img_real))\n",
    "plt.title(\"Real Samples\")\n",
    "plt.axis(\"off\")\n",
    "plt.show()\n",
    "\n",
    "for f in files_fake[-5:]:\n",
    "    img = imread(f)\n",
    "    img = img / float(img.max())\n",
    "    plt.imshow(1 - np.abs(img))\n",
    "    plt.title(os.path.basename(f))\n",
    "    plt.axis(\"off\")\n",
    "    plt.show()\n"
   ]
  },
  {
   "cell_type": "code",
   "execution_count": null,
   "metadata": {
    "collapsed": false
   },
   "outputs": [],
   "source": [
    "import cPickle as pickle\n",
    "import gzip\n",
    "\n",
    "with gzip.open(experiment_dir + \"./training-loss.pickle.gz\", \"r\") as f:\n",
    "    lossD, lossG = pickle.load(f)\n",
    "    \n",
    "lossD = np.array(lossD)\n",
    "lossG = np.array(lossG)\n",
    "\n",
    "# plot\n",
    "fig,ax = plt.subplots(1,2, figsize=(12,4))\n",
    "ax[0].plot(lossD[:,0], label=\"D loss\")\n",
    "ax[0].legend()\n",
    "ax[1].plot(lossG[:,0], label=\"G loss\")\n",
    "ax[1].legend()"
   ]
  },
  {
   "cell_type": "code",
   "execution_count": null,
   "metadata": {
    "collapsed": true
   },
   "outputs": [],
   "source": []
  }
 ],
 "metadata": {
  "kernelspec": {
   "display_name": "Python 2",
   "language": "python",
   "name": "python2"
  },
  "language_info": {
   "codemirror_mode": {
    "name": "ipython",
    "version": 2
   },
   "file_extension": ".py",
   "mimetype": "text/x-python",
   "name": "python",
   "nbconvert_exporter": "python",
   "pygments_lexer": "ipython2",
   "version": "2.7.6"
  }
 },
 "nbformat": 4,
 "nbformat_minor": 0
}
