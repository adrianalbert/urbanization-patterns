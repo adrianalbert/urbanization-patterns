{
 "cells": [
  {
   "cell_type": "markdown",
   "metadata": {},
   "source": [
    "# City lighting benchmarking"
   ]
  },
  {
   "cell_type": "markdown",
   "metadata": {},
   "source": [
    "This notebook presents an analysis of cities using remote-sensing data on macro-level socio-demographic indicators. In particular, we characterize cities by the dependence with distance (from the city center) of several macroeconomic quantities:\n",
    "* built areas $x_{bldg}(d)$ estimated from SAR/GUF data\n",
    "* population density $x_{pop}(d)$ estimated from LandScan data\n",
    "* luminosity $x_{lum}(d)$ estimated from VIIRS (nightlights) data.\n",
    "\n",
    "We model each quantity (population, luminosity, built area) by breaking it down into a scale component and a spatial profile component:\n",
    "\n",
    "<p><center> $\\displaystyle x(d) = c \\cdot \\hat{x}(d)$ </center></p>\n",
    "\n",
    "We analyze cities from the perspective of patterns in each of the components $c$ and $\\hat{x}(\\cdot)$. We'll have one such set of objects for each data source we consider (population, luminosity, building density).\n",
    "\n",
    "We expect (as shown empirically below) that the distribution of the scale factor $c$ across cities is heavily skewed towards small $c$, and is approximately a log-normal. \n",
    "\n",
    "At the same time, prior research on urban form typically models the relationship of $x (d)$ with distance $d$ using an exponential form:\n",
    "\n",
    "<p><center> $\\displaystyle x(d) = x_0 e^{-\\gamma d}$ </center></p>\n",
    "\n",
    "Above, $\\gamma$ is the _average (radial) spatial gradient_ which previous studies (e.g., Alain Bertaud's work) have investigated. This can be estimated readily via linear regression:\n",
    "\n",
    "<p><center> $\\displaystyle \\text{log } x(d) = \\text{log } x_0 -\\gamma d$ </center></p>\n",
    "\n",
    "(Note we will use 10-base logarithm, but still refer to it as _log_ for ease of notation.)\n",
    "\n",
    "The two expressions for $x(d)$ are equivalent, so $c$ could be identified as $\\text{log }x_0$, but we'll prefer to retain the scale factor $c$, because it has a more direct interpretation. \n",
    "\n",
    "Three questions are of interest:\n",
    "* what are \"classes\" of cities with respect to their average mass (pop, lum, bld) and its spatial distribution quantified by $\\hat x_{\\cdot} (d)$?\n",
    "* where is there \"less light\" than the population profile would imply? by how much? how much \"effort\" would it be to match the light distribution with the population distribution? \n",
    "* can we compare citie's luminosity profiles more objectively against those of \"similar cities\"? I.e., build a model to benchmark cities' luminosity distribution in space."
   ]
  },
  {
   "cell_type": "markdown",
   "metadata": {},
   "source": [
    "\n",
    "# Packages"
   ]
  },
  {
   "cell_type": "code",
   "execution_count": 2,
   "metadata": {},
   "outputs": [
    {
     "name": "stdout",
     "output_type": "stream",
     "text": [
      "The autoreload extension is already loaded. To reload it, use:\n",
      "  %reload_ext autoreload\n"
     ]
    }
   ],
   "source": [
    "import numpy as np\n",
    "import pandas as pd\n",
    "\n",
    "import geopandas as gpd\n",
    "import shapely.wkt\n",
    "from shapely import geometry\n",
    "import geojson\n",
    "from shapely.geometry import shape\n",
    "from shapely.wkt import loads\n",
    "\n",
    "import re\n",
    "\n",
    "import sys, os, time\n",
    "import glob\n",
    "\n",
    "from matplotlib import pyplot as plt\n",
    "from matplotlib.colors import ListedColormap\n",
    "import matplotlib.cm as cm\n",
    "\n",
    "%matplotlib inline\n",
    "\n",
    "# these magics ensure that external modules that are modified are also automatically reloaded\n",
    "%load_ext autoreload\n",
    "%autoreload 2\n",
    "\n",
    "# widgets and interaction\n",
    "from ipywidgets import FloatProgress\n",
    "from IPython.display import display, clear_output\n",
    "\n",
    "import seaborn as sns\n",
    "sns.set_style(\"whitegrid\", {'axes.grid' : False})\n",
    "\n",
    "from skimage.io import imread, imsave\n",
    "\n",
    "import warnings\n",
    "warnings.filterwarnings('ignore')\n",
    "\n",
    "import gzip\n",
    "import cPickle as pickle\n",
    "import copy\n",
    "\n",
    "colormap = {\"bldg\":\"black\", \"pop\":\"green\", \"lum\":\"orange\", \n",
    "            \"all\":\"blue\", \"bnds\":\"gray\"}\n",
    "\n",
    "cmap_bld = sns.light_palette(\"black\", n_colors=4)\n",
    "cmap_pop = sns.light_palette(\"green\", n_colors=10)\n",
    "cmap_lum = sns.light_palette(\"orange\",n_colors=10)\n",
    "\n",
    "\n",
    "cmap_dict = {\"bldg\":ListedColormap(cmap_bld), \n",
    "             \"pop\":ListedColormap(cmap_pop), \n",
    "             \"lum\":ListedColormap(cmap_lum)}\n"
   ]
  },
  {
   "cell_type": "markdown",
   "metadata": {},
   "source": [
    "# Load city feature data for analysis"
   ]
  },
  {
   "cell_type": "markdown",
   "metadata": {},
   "source": [
    "#### Data on raw variable profiles with distance"
   ]
  },
  {
   "cell_type": "code",
   "execution_count": 3,
   "metadata": {},
   "outputs": [
    {
     "name": "stdout",
     "output_type": "stream",
     "text": [
      "29850\n",
      "6936\n"
     ]
    }
   ],
   "source": [
    "# load pre-computed profile data\n",
    "\n",
    "dataroot = \"/home/data/world-cities/\"\n",
    "\n",
    "with gzip.open(dataroot + \"spatial-maps/stats_cities_over10kpop.pickle.gz\", \"r\") as f:\n",
    "    cities = pickle.load(f)\n",
    "print len(cities)  \n",
    "\n",
    "# load pruned list of cities\n",
    "cities_sel_df = pd.read_csv(dataroot + \"/selected_urban_areas_100k.csv\").drop(\"index\",axis=1)\n",
    "\n",
    "parse_location = lambda s: shape(loads(s))\n",
    "cities_sel_df['location'] = cities_sel_df['location'].apply(parse_location)\n",
    "cities_sel_df['population'] = cities_sel_df['population'].astype(int)\n",
    "\n",
    "def include(v):\n",
    "    return ((cities_sel_df.city.str.contains(v['city'])) & \\\n",
    "           (cities_sel_df.population==v['population']) & \\\n",
    "           (cities_sel_df.country.str.contains(v['country']))).sum()>0 \n",
    " \n",
    "cities_sel = {k:v for k,v in cities.iteritems() if include(v) and \\\n",
    "                v['sum area']['bldg']>0 and v['sum area']['pop']>0 and v['sum area']['pop']>0 and \\\n",
    "                v['profiles']['bldg'][0].sum()>0 and v['profiles']['pop'][0].sum()>0 and v['profiles']['lum'][0].sum()>0}\n",
    "print len(cities_sel)\n",
    "\n",
    "L = len(cities.values()[0]['profiles']['bldg'][0]) # length of profile in km\n",
    "distance_km = np.arange(L)"
   ]
  },
  {
   "cell_type": "code",
   "execution_count": null,
   "metadata": {
    "collapsed": true
   },
   "outputs": [],
   "source": [
    "cities_sel.drop(\"geometry\", 1).to_csv(dataroot + \"/cities_over_100k.csv\")"
   ]
  },
  {
   "cell_type": "markdown",
   "metadata": {},
   "source": [
    "#### Helper function to load image data"
   ]
  },
  {
   "cell_type": "code",
   "execution_count": 5,
   "metadata": {},
   "outputs": [
    {
     "name": "stdout",
     "output_type": "stream",
     "text": [
      "29850\n"
     ]
    }
   ],
   "source": [
    "import glob\n",
    "\n",
    "files = glob.glob(dataroot + \"spatial-maps/samples/*.tif\")\n",
    "files_dict = {}\n",
    "for f in files:\n",
    "    s = f.split(\"/\")\n",
    "    fname = s[-1]\n",
    "    country,province,city,pop_class,pop,lat,lon = fname.split(\"_\")\n",
    "    files_dict[(city.replace(\"-\",\" \"),country.replace(\"-\",\" \"), int(pop))] = f\n",
    "print len(files_dict)"
   ]
  },
  {
   "cell_type": "code",
   "execution_count": 6,
   "metadata": {
    "collapsed": true
   },
   "outputs": [],
   "source": [
    "from matplotlib.colors import hsv_to_rgb, rgb_to_hsv\n",
    "\n",
    "def get_image_data(city_info, imgSize=None, take_log=False):\n",
    "    fname = files_dict[city_info]\n",
    "    img = imread(fname)\n",
    "    if imgSize is not None:\n",
    "        img = resize(img, (imgSize, imgSize), preserve_range=True)\n",
    "    f = np.log if take_log else lambda x: x\n",
    "    mask = img[...,3]==0\n",
    "    for i in range(3):\n",
    "        img[...,i] = f(img[...,i]); img[...,i][mask] = np.nan\n",
    "        img[...,i] = (img[...,i] - np.nanmin(img[...,i])) / float((np.nanmax(img[...,i]) - np.nanmin(img[...,i])))\n",
    "    return {'bldg':img[...,0], \n",
    "            'pop':img[...,1], \n",
    "            'lum':img[...,2], \n",
    "            'wtr':mask,\n",
    "            'bnd':img[...,4]} \n",
    "\n",
    "def format_pop(pop):\n",
    "    if pop > 1e6:\n",
    "        div = 1e6\n",
    "        s = 'M'\n",
    "    else:\n",
    "        div = 1e3\n",
    "        s = 'k'\n",
    "    return \"%2.1f%s\"%(float(pop)/div, s)\n",
    "\n",
    "import matplotlib.cm as cm\n",
    "\n",
    "def overlay_mask(img, mask, ax, alpha=0.1, cmap=cm.GnBu):\n",
    "    masked_data = np.ma.masked_where(mask, img)\n",
    "    # Overlay the two images\n",
    "    ax.imshow(img, cmap=cmap)\n",
    "    ax.imshow(masked_data, cmap=cm.gray, interpolation='none', alpha=alpha)"
   ]
  },
  {
   "cell_type": "code",
   "execution_count": 57,
   "metadata": {},
   "outputs": [],
   "source": [
    "sys.path.append(\"/home/nbserver/urbanization-patterns/cityanalysis/\")\n",
    "from normalized_colorbar import shiftedColorMap\n",
    "from scipy import stats\n",
    "\n",
    "def create_diverging_colormap(arr, cmap, pmin=0.0, pmax=100):\n",
    "    # create a suitable colormap for display\n",
    "    vmin = np.percentile(arr, pmin)\n",
    "    vmax = np.percentile(arr, pmax)\n",
    "    pct_zero = 1 - vmax/(vmax + abs(vmin)) \n",
    "    cmap = shiftedColorMap(cmap, name='shiftedcmap_dis',\n",
    "                               start=0.0, midpoint=pct_zero, stop=1.0)\n",
    "    return cmap\n",
    "\n",
    "cmap_coolwarm = sns.diverging_palette(255, 0, sep=5, n=30, as_cmap=True)\n",
    "cmap_lumpop = sns.diverging_palette(55, 120, s=90, l=70, n=10, as_cmap=True)"
   ]
  },
  {
   "cell_type": "code",
   "execution_count": 59,
   "metadata": {},
   "outputs": [
    {
     "data": {
      "image/png": "[encoded data removed]",
      "text/plain": [
       "<matplotlib.figure.Figure at 0x7f13e9dc5890>"
      ]
     },
     "metadata": {},
     "output_type": "display_data"
    }
   ],
   "source": [
    "sns.palplot(sns.diverging_palette(55, 120, s=90, l=70, n=10))"
   ]
  },
  {
   "cell_type": "code",
   "execution_count": 60,
   "metadata": {},
   "outputs": [
    {
     "data": {
      "image/png": "[encoded data removed]",
      "text/plain": [
       "<matplotlib.figure.Figure at 0x7f13e9dc5510>"
      ]
     },
     "metadata": {},
     "output_type": "display_data"
    }
   ],
   "source": [
    "sns.palplot(sns.diverging_palette(255, 0, sep=5, n=30, ))"
   ]
  },
  {
   "cell_type": "markdown",
   "metadata": {},
   "source": [
    "# Analyze city scale"
   ]
  },
  {
   "cell_type": "markdown",
   "metadata": {},
   "source": [
    "#### Format scale data"
   ]
  },
  {
   "cell_type": "code",
   "execution_count": 11,
   "metadata": {},
   "outputs": [
    {
     "data": {
      "text/html": [
       "<div>\n",
       "<style>\n",
       "    .dataframe thead tr:only-child th {\n",
       "        text-align: right;\n",
       "    }\n",
       "\n",
       "    .dataframe thead th {\n",
       "        text-align: left;\n",
       "    }\n",
       "\n",
       "    .dataframe tbody tr th {\n",
       "        vertical-align: top;\n",
       "    }\n",
       "</style>\n",
       "<table border=\"1\" class=\"dataframe\">\n",
       "  <thead>\n",
       "    <tr style=\"text-align: right;\">\n",
       "      <th></th>\n",
       "      <th>city</th>\n",
       "      <th>country</th>\n",
       "      <th>population</th>\n",
       "      <th>scale-pop</th>\n",
       "      <th>subregion</th>\n",
       "      <th>region</th>\n",
       "      <th>bldg-in</th>\n",
       "      <th>pop-in</th>\n",
       "      <th>lum-in</th>\n",
       "      <th>bldg-tot</th>\n",
       "      <th>pop-tot</th>\n",
       "      <th>lum-tot</th>\n",
       "      <th>bldg-max</th>\n",
       "      <th>pop-max</th>\n",
       "      <th>lum-max</th>\n",
       "    </tr>\n",
       "  </thead>\n",
       "  <tbody>\n",
       "    <tr>\n",
       "      <th>0</th>\n",
       "      <td>shahdol</td>\n",
       "      <td>india</td>\n",
       "      <td>1237432</td>\n",
       "      <td>large</td>\n",
       "      <td>Southern Asia</td>\n",
       "      <td>Asia</td>\n",
       "      <td>0.006481</td>\n",
       "      <td>1237432.0</td>\n",
       "      <td>0.248668</td>\n",
       "      <td>0.005900</td>\n",
       "      <td>1.328246e+06</td>\n",
       "      <td>0.239223</td>\n",
       "      <td>0.021277</td>\n",
       "      <td>169.818182</td>\n",
       "      <td>0.365241</td>\n",
       "    </tr>\n",
       "    <tr>\n",
       "      <th>1</th>\n",
       "      <td>lafia</td>\n",
       "      <td>nigeria</td>\n",
       "      <td>364173</td>\n",
       "      <td>small-2</td>\n",
       "      <td>Western Africa</td>\n",
       "      <td>Africa</td>\n",
       "      <td>0.018068</td>\n",
       "      <td>364173.0</td>\n",
       "      <td>0.036361</td>\n",
       "      <td>0.011078</td>\n",
       "      <td>1.214261e+06</td>\n",
       "      <td>0.033401</td>\n",
       "      <td>0.066016</td>\n",
       "      <td>211.490566</td>\n",
       "      <td>0.514750</td>\n",
       "    </tr>\n",
       "    <tr>\n",
       "      <th>2</th>\n",
       "      <td>ibarapa central</td>\n",
       "      <td>nigeria</td>\n",
       "      <td>120329</td>\n",
       "      <td>small-1</td>\n",
       "      <td>Western Africa</td>\n",
       "      <td>Africa</td>\n",
       "      <td>0.013719</td>\n",
       "      <td>120329.0</td>\n",
       "      <td>0.003794</td>\n",
       "      <td>0.016098</td>\n",
       "      <td>1.693468e+06</td>\n",
       "      <td>0.049525</td>\n",
       "      <td>0.057143</td>\n",
       "      <td>181.828571</td>\n",
       "      <td>0.036187</td>\n",
       "    </tr>\n",
       "    <tr>\n",
       "      <th>3</th>\n",
       "      <td>hamilton</td>\n",
       "      <td>united states</td>\n",
       "      <td>360445</td>\n",
       "      <td>small-2</td>\n",
       "      <td>Northern America</td>\n",
       "      <td>Americas</td>\n",
       "      <td>0.091867</td>\n",
       "      <td>360445.0</td>\n",
       "      <td>6.460299</td>\n",
       "      <td>0.030764</td>\n",
       "      <td>7.966306e+05</td>\n",
       "      <td>2.176872</td>\n",
       "      <td>0.491170</td>\n",
       "      <td>249.800000</td>\n",
       "      <td>6.014977</td>\n",
       "    </tr>\n",
       "    <tr>\n",
       "      <th>4</th>\n",
       "      <td>purnia</td>\n",
       "      <td>india</td>\n",
       "      <td>3385281</td>\n",
       "      <td>large</td>\n",
       "      <td>Southern Asia</td>\n",
       "      <td>Asia</td>\n",
       "      <td>0.040247</td>\n",
       "      <td>3385281.0</td>\n",
       "      <td>0.440284</td>\n",
       "      <td>0.034887</td>\n",
       "      <td>1.017604e+07</td>\n",
       "      <td>0.412417</td>\n",
       "      <td>0.126283</td>\n",
       "      <td>833.989011</td>\n",
       "      <td>0.950606</td>\n",
       "    </tr>\n",
       "  </tbody>\n",
       "</table>\n",
       "</div>"
      ],
      "text/plain": [
       "              city        country  population scale-pop         subregion  \\\n",
       "0          shahdol          india     1237432     large     Southern Asia   \n",
       "1            lafia        nigeria      364173   small-2    Western Africa   \n",
       "2  ibarapa central        nigeria      120329   small-1    Western Africa   \n",
       "3         hamilton  united states      360445   small-2  Northern America   \n",
       "4           purnia          india     3385281     large     Southern Asia   \n",
       "\n",
       "     region   bldg-in     pop-in    lum-in  bldg-tot       pop-tot   lum-tot  \\\n",
       "0      Asia  0.006481  1237432.0  0.248668  0.005900  1.328246e+06  0.239223   \n",
       "1    Africa  0.018068   364173.0  0.036361  0.011078  1.214261e+06  0.033401   \n",
       "2    Africa  0.013719   120329.0  0.003794  0.016098  1.693468e+06  0.049525   \n",
       "3  Americas  0.091867   360445.0  6.460299  0.030764  7.966306e+05  2.176872   \n",
       "4      Asia  0.040247  3385281.0  0.440284  0.034887  1.017604e+07  0.412417   \n",
       "\n",
       "   bldg-max     pop-max   lum-max  \n",
       "0  0.021277  169.818182  0.365241  \n",
       "1  0.066016  211.490566  0.514750  \n",
       "2  0.057143  181.828571  0.036187  \n",
       "3  0.491170  249.800000  6.014977  \n",
       "4  0.126283  833.989011  0.950606  "
      ]
     },
     "execution_count": 11,
     "metadata": {},
     "output_type": "execute_result"
    }
   ],
   "source": [
    "scales_within = np.vstack([\n",
    "                    [v['avg area bnds']['bldg'] for k,v in cities_sel.iteritems()],\n",
    "                    [v['population'] for k,v in cities_sel.iteritems()],\n",
    "                    [v['avg area bnds']['lum'] for k,v in cities_sel.iteritems()]\n",
    "]).T\n",
    "\n",
    "scales_total = np.vstack([\n",
    "                    [v['avg area']['bldg'] for k,v in cities_sel.iteritems()],\n",
    "                    [v['sum area']['pop'] for k,v in cities_sel.iteritems()],\n",
    "                    [v['avg area']['lum'] for k,v in cities_sel.iteritems()]\n",
    " ]).T\n",
    "\n",
    "scales_max = np.vstack([\n",
    "                    [v['profiles']['bldg'][0].max() for k,v in cities_sel.iteritems()],\n",
    "                    [v['profiles']['pop'][0].max() for k,v in cities_sel.iteritems()],\n",
    "                    [v['profiles']['lum'][0].max() for k,v in cities_sel.iteritems()]   \n",
    "]).T\n",
    "\n",
    "scales = np.hstack([scales_within, scales_total, scales_max])\n",
    "columns_scales = [\"bldg-in\", \"pop-in\", \"lum-in\", \n",
    "                  \"bldg-tot\", \"pop-tot\", \"lum-tot\",\n",
    "                  \"bldg-max\", \"pop-max\", \"lum-max\"]\n",
    "scales_df = pd.DataFrame(scales, columns=columns_scales)\n",
    "scales_df.fillna(0, inplace=True)\n",
    "\n",
    "info_df = pd.DataFrame(np.array(\n",
    "                        [[v['city'] for k,v in cities_sel.iteritems()],\n",
    "                         [v['country'] for k,v in cities_sel.iteritems()],\n",
    "                         [int(float(v['population'])) for k,v in cities_sel.iteritems()],\n",
    "                         [v['size'] for k,v in cities_sel.iteritems()],\n",
    "                         [v['subregion'] for k,v in cities_sel.iteritems()],\n",
    "                         [v['region'] for k,v in cities_sel.iteritems()]]).T,\n",
    "                      columns=['city', \"country\", \"population\", 'scale-pop', 'subregion', 'region'])\n",
    "info_df['population'] = info_df['population'].astype(int)\n",
    "scales_df = pd.concat([info_df, scales_df], axis=1)\n",
    "\n",
    "scales_df.head()"
   ]
  },
  {
   "cell_type": "markdown",
   "metadata": {},
   "source": [
    "#### Create scale-based classifications for bld and lum\n",
    "\n",
    "For population we have a standard classification system (5 classes of cities by population). Let's create a simple classification for built density and for luminosity.\n",
    "\n",
    "For each dimension (lum, bld) we can try different statistics to classify by\n",
    "* average within bounds\n",
    "* average total (including city + 50km area around city center)\n",
    "* maximum density"
   ]
  },
  {
   "cell_type": "code",
   "execution_count": 93,
   "metadata": {},
   "outputs": [],
   "source": [
    "typ = \"tot\"\n",
    "classes = ['low', 'med', 'hi']\n",
    "classes_order = dict(zip(classes, range(len(classes))))\n",
    "\n",
    "q_bld = np.percentile(scales_df['bldg-%s'%typ].dropna(), (0,25, 75,100))\n",
    "scales_df['scale-bldg'] = ''\n",
    "for p in range(3):\n",
    "    idx = (scales_df['bldg-%s'%typ]>=q_bld[p]) & (scales_df['bldg-%s'%typ]<=q_bld[p+1])\n",
    "    scales_df.ix[idx,'scale-bldg'] = classes[p]\n",
    "\n",
    "q_lum = np.percentile(scales_df['lum-%s'%typ].dropna(), (0,25, 75,100))\n",
    "scales_df['scale-lum'] = ''\n",
    "for p in range(3):\n",
    "    idx = (scales_df['lum-%s'%typ]>=q_lum[p]) & (scales_df['lum-%s'%typ]<=q_lum[p+1])\n",
    "    scales_df.ix[idx,'scale-lum'] = classes[p]\n",
    "\n",
    "scales_df['scale-bldg-lum'] = map(lambda x,y: \"bldg:%d-%s,lum:%d-%s\"%(classes_order[x],x,classes_order[y],y),\n",
    "                             scales_df['scale-bldg'], scales_df['scale-lum'])"
   ]
  },
  {
   "cell_type": "code",
   "execution_count": 94,
   "metadata": {},
   "outputs": [
    {
     "data": {
      "text/plain": [
       "array(['bldg:0-low,lum:0-low', 'bldg:0-low,lum:1-med',\n",
       "       'bldg:0-low,lum:2-hi', 'bldg:1-med,lum:0-low',\n",
       "       'bldg:1-med,lum:1-med', 'bldg:1-med,lum:2-hi',\n",
       "       'bldg:2-hi,lum:1-med', 'bldg:2-hi,lum:2-hi'], dtype=object)"
      ]
     },
     "execution_count": 94,
     "metadata": {},
     "output_type": "execute_result"
    }
   ],
   "source": [
    "tmp = scales_df['scale-bldg-lum'].unique()\n",
    "tmp.sort()\n",
    "tmp"
   ]
  },
  {
   "cell_type": "code",
   "execution_count": 95,
   "metadata": {},
   "outputs": [
    {
     "data": {
      "text/html": [
       "<div>\n",
       "<style>\n",
       "    .dataframe thead tr:only-child th {\n",
       "        text-align: right;\n",
       "    }\n",
       "\n",
       "    .dataframe thead th {\n",
       "        text-align: left;\n",
       "    }\n",
       "\n",
       "    .dataframe tbody tr th {\n",
       "        vertical-align: top;\n",
       "    }\n",
       "</style>\n",
       "<table border=\"1\" class=\"dataframe\">\n",
       "  <thead>\n",
       "    <tr style=\"text-align: right;\">\n",
       "      <th></th>\n",
       "      <th>city</th>\n",
       "      <th>country</th>\n",
       "      <th>population</th>\n",
       "      <th>scale-pop</th>\n",
       "      <th>subregion</th>\n",
       "      <th>region</th>\n",
       "      <th>bldg-in</th>\n",
       "      <th>pop-in</th>\n",
       "      <th>lum-in</th>\n",
       "      <th>bldg-tot</th>\n",
       "      <th>pop-tot</th>\n",
       "      <th>lum-tot</th>\n",
       "      <th>bldg-max</th>\n",
       "      <th>pop-max</th>\n",
       "      <th>lum-max</th>\n",
       "      <th>scale-bldg</th>\n",
       "      <th>scale-lum</th>\n",
       "      <th>scale-bldg-lum</th>\n",
       "    </tr>\n",
       "  </thead>\n",
       "  <tbody>\n",
       "    <tr>\n",
       "      <th>0</th>\n",
       "      <td>shahdol</td>\n",
       "      <td>india</td>\n",
       "      <td>1237432</td>\n",
       "      <td>large</td>\n",
       "      <td>Southern Asia</td>\n",
       "      <td>Asia</td>\n",
       "      <td>0.006481</td>\n",
       "      <td>1237432.0</td>\n",
       "      <td>0.248668</td>\n",
       "      <td>0.005900</td>\n",
       "      <td>1.328246e+06</td>\n",
       "      <td>0.239223</td>\n",
       "      <td>0.021277</td>\n",
       "      <td>169.818182</td>\n",
       "      <td>0.365241</td>\n",
       "      <td>low</td>\n",
       "      <td>med</td>\n",
       "      <td>bldg:0-low,lum:1-med</td>\n",
       "    </tr>\n",
       "    <tr>\n",
       "      <th>1</th>\n",
       "      <td>lafia</td>\n",
       "      <td>nigeria</td>\n",
       "      <td>364173</td>\n",
       "      <td>small-2</td>\n",
       "      <td>Western Africa</td>\n",
       "      <td>Africa</td>\n",
       "      <td>0.018068</td>\n",
       "      <td>364173.0</td>\n",
       "      <td>0.036361</td>\n",
       "      <td>0.011078</td>\n",
       "      <td>1.214261e+06</td>\n",
       "      <td>0.033401</td>\n",
       "      <td>0.066016</td>\n",
       "      <td>211.490566</td>\n",
       "      <td>0.514750</td>\n",
       "      <td>med</td>\n",
       "      <td>low</td>\n",
       "      <td>bldg:1-med,lum:0-low</td>\n",
       "    </tr>\n",
       "    <tr>\n",
       "      <th>2</th>\n",
       "      <td>ibarapa central</td>\n",
       "      <td>nigeria</td>\n",
       "      <td>120329</td>\n",
       "      <td>small-1</td>\n",
       "      <td>Western Africa</td>\n",
       "      <td>Africa</td>\n",
       "      <td>0.013719</td>\n",
       "      <td>120329.0</td>\n",
       "      <td>0.003794</td>\n",
       "      <td>0.016098</td>\n",
       "      <td>1.693468e+06</td>\n",
       "      <td>0.049525</td>\n",
       "      <td>0.057143</td>\n",
       "      <td>181.828571</td>\n",
       "      <td>0.036187</td>\n",
       "      <td>med</td>\n",
       "      <td>low</td>\n",
       "      <td>bldg:1-med,lum:0-low</td>\n",
       "    </tr>\n",
       "    <tr>\n",
       "      <th>3</th>\n",
       "      <td>hamilton</td>\n",
       "      <td>united states</td>\n",
       "      <td>360445</td>\n",
       "      <td>small-2</td>\n",
       "      <td>Northern America</td>\n",
       "      <td>Americas</td>\n",
       "      <td>0.091867</td>\n",
       "      <td>360445.0</td>\n",
       "      <td>6.460299</td>\n",
       "      <td>0.030764</td>\n",
       "      <td>7.966306e+05</td>\n",
       "      <td>2.176872</td>\n",
       "      <td>0.491170</td>\n",
       "      <td>249.800000</td>\n",
       "      <td>6.014977</td>\n",
       "      <td>med</td>\n",
       "      <td>hi</td>\n",
       "      <td>bldg:1-med,lum:2-hi</td>\n",
       "    </tr>\n",
       "    <tr>\n",
       "      <th>4</th>\n",
       "      <td>purnia</td>\n",
       "      <td>india</td>\n",
       "      <td>3385281</td>\n",
       "      <td>large</td>\n",
       "      <td>Southern Asia</td>\n",
       "      <td>Asia</td>\n",
       "      <td>0.040247</td>\n",
       "      <td>3385281.0</td>\n",
       "      <td>0.440284</td>\n",
       "      <td>0.034887</td>\n",
       "      <td>1.017604e+07</td>\n",
       "      <td>0.412417</td>\n",
       "      <td>0.126283</td>\n",
       "      <td>833.989011</td>\n",
       "      <td>0.950606</td>\n",
       "      <td>med</td>\n",
       "      <td>med</td>\n",
       "      <td>bldg:1-med,lum:1-med</td>\n",
       "    </tr>\n",
       "  </tbody>\n",
       "</table>\n",
       "</div>"
      ],
      "text/plain": [
       "              city        country  population scale-pop         subregion  \\\n",
       "0          shahdol          india     1237432     large     Southern Asia   \n",
       "1            lafia        nigeria      364173   small-2    Western Africa   \n",
       "2  ibarapa central        nigeria      120329   small-1    Western Africa   \n",
       "3         hamilton  united states      360445   small-2  Northern America   \n",
       "4           purnia          india     3385281     large     Southern Asia   \n",
       "\n",
       "     region   bldg-in     pop-in    lum-in  bldg-tot       pop-tot   lum-tot  \\\n",
       "0      Asia  0.006481  1237432.0  0.248668  0.005900  1.328246e+06  0.239223   \n",
       "1    Africa  0.018068   364173.0  0.036361  0.011078  1.214261e+06  0.033401   \n",
       "2    Africa  0.013719   120329.0  0.003794  0.016098  1.693468e+06  0.049525   \n",
       "3  Americas  0.091867   360445.0  6.460299  0.030764  7.966306e+05  2.176872   \n",
       "4      Asia  0.040247  3385281.0  0.440284  0.034887  1.017604e+07  0.412417   \n",
       "\n",
       "   bldg-max     pop-max   lum-max scale-bldg scale-lum        scale-bldg-lum  \n",
       "0  0.021277  169.818182  0.365241        low       med  bldg:0-low,lum:1-med  \n",
       "1  0.066016  211.490566  0.514750        med       low  bldg:1-med,lum:0-low  \n",
       "2  0.057143  181.828571  0.036187        med       low  bldg:1-med,lum:0-low  \n",
       "3  0.491170  249.800000  6.014977        med        hi   bldg:1-med,lum:2-hi  \n",
       "4  0.126283  833.989011  0.950606        med       med  bldg:1-med,lum:1-med  "
      ]
     },
     "execution_count": 95,
     "metadata": {},
     "output_type": "execute_result"
    }
   ],
   "source": [
    "scales_df.head()"
   ]
  },
  {
   "cell_type": "code",
   "execution_count": 13,
   "metadata": {
    "scrolled": false
   },
   "outputs": [
    {
     "data": {
      "image/png": "[encoded data removed]",
      "text/plain": [
       "<matplotlib.figure.Figure at 0x7f141514a250>"
      ]
     },
     "metadata": {},
     "output_type": "display_data"
    }
   ],
   "source": [
    "sns.set_context(\"notebook\", font_scale=1.5)\n",
    "\n",
    "fig, ax = plt.subplots(3,3, figsize=(9,6),\n",
    "                      gridspec_kw={\"wspace\":0.1, \"hspace\":0.25},\n",
    "                      sharex=True, sharey=True)\n",
    "pop_scales = [\"small-1\", \"small-2\", \"medium\", \"large\", \"very-large\"]\n",
    "pop_colors = sns.color_palette(\"Set1\", n_colors=len(pop_scales), desat=.5)\n",
    "for i,l in enumerate([\"hi\", \"med\", \"low\"]):\n",
    "    for j,b in enumerate([\"low\", \"med\", \"hi\"]):\n",
    "        a = ax[i,j]\n",
    "        cur_df = scales_df[(scales_df['scale-lum']==l) & (scales_df['scale-bldg']==b)]\n",
    "        a.set_xlabel(''); a.set_ylabel('')\n",
    "        a.set_xticklabels(a.get_xticklabels(), rotation=60)\n",
    "        a.set_ylim([0, 1])\n",
    "\n",
    "        if i==0:\n",
    "            a.set_title(\"bldg: %s\"%b)\n",
    "        if j==0:\n",
    "            a.set_ylabel(\"lum: %s\"%l)\n",
    "        if len(cur_df) < 3:\n",
    "            continue\n",
    "#         pcts = cur_df.groupby(\"scale-pop\").apply(lambda x: x['region'].value_counts()/float(len(x)))\n",
    "#         pcts = pd.DataFrame(pcts).reset_index()\n",
    "#         pcts.columns = [\"scale-pop\", \"region\", \"pct\"]\n",
    "#         g = sns.barplot(x=\"region\", y=\"pct\", hue=\"scale-pop\", \n",
    "#                         data=pcts, ax=a)\n",
    "        pcts = cur_df['scale-pop'].value_counts() / float(len(cur_df))\n",
    "        g = sns.barplot(pcts.index, pcts.values, order=pop_scales, ax=a,\n",
    "                       palette=pop_colors)\n",
    "        # a.legend_.remove() #, bbox_to_anchor=(1.1, 1.05))\n",
    "  \n",
    "# fig.delaxes(ax[2,0])\n",
    "# ax[2,0].set_xticks([]); ax[2,0].set_yticks([])\n",
    "\n",
    "import matplotlib.patches as mpatches\n",
    "\n",
    "legend_patches = [mpatches.Patch(color=c, label=l) \\\n",
    "                  for l,c in zip(pop_scales, pop_colors)]\n",
    "\n",
    "ax[-1,-1].legend(handles=legend_patches, bbox_to_anchor=(1,1),\n",
    "           ncol=1, labelspacing=0., fontsize=12)\n",
    "\n",
    "fig.subplots_adjust(bottom=0.2)\n",
    "fig.savefig('../figures/scale_classification.svg', format='svg', dpi=1200)"
   ]
  },
  {
   "cell_type": "code",
   "execution_count": 14,
   "metadata": {},
   "outputs": [
    {
     "data": {
      "text/plain": [
       "<matplotlib.text.Annotation at 0x7f14152fad50>"
      ]
     },
     "execution_count": 14,
     "metadata": {},
     "output_type": "execute_result"
    },
    {
     "data": {
      "image/png": "[encoded data removed]",
      "text/plain": [
       "<matplotlib.figure.Figure at 0x7f14151a1dd0>"
      ]
     },
     "metadata": {},
     "output_type": "display_data"
    }
   ],
   "source": [
    "sns.set_context(\"notebook\", font_scale=1.5)\n",
    "\n",
    "fig, ax = plt.subplots()\n",
    "scales_df['bldg-in'].apply(lambda x: np.log10(x) if x>0 else np.nan).hist(bins=100, log=True, figsize=(6,4), alpha=0.5, ax=ax)\n",
    "for q in q_bld[1:-1]:\n",
    "    ax.axvline(x=np.log10(q), color=colormap[\"bldg\"])\n",
    "ax.set_title(\"Building density classes\")\n",
    "ax.set_xlabel(\"$c_{bld}$\")\n",
    "ax.set_ylabel(\"# cities\")\n",
    "ax.grid(False)\n",
    "fig.canvas.draw()\n",
    "new_labels = [\"$10^{%s}$\"%x.get_text() for x in ax.get_xticklabels()]\n",
    "ax.set_xticklabels(new_labels)\n",
    "ax.annotate(\"low\", xy=(-3,1))\n",
    "ax.annotate(\"med\", xy=(-2,1))\n",
    "ax.annotate(\"hi\", xy=(-1,1))"
   ]
  },
  {
   "cell_type": "code",
   "execution_count": 15,
   "metadata": {},
   "outputs": [
    {
     "data": {
      "text/plain": [
       "<matplotlib.text.Annotation at 0x7f14308fed90>"
      ]
     },
     "execution_count": 15,
     "metadata": {},
     "output_type": "execute_result"
    },
    {
     "data": {
      "image/png": "[encoded data removed]",
      "text/plain": [
       "<matplotlib.figure.Figure at 0x7f1430f120d0>"
      ]
     },
     "metadata": {},
     "output_type": "display_data"
    }
   ],
   "source": [
    "sns.set_context(\"notebook\", font_scale=1.5)\n",
    "\n",
    "fig, ax = plt.subplots()\n",
    "scales_df['lum-in'].apply(lambda x: np.log10(x) if x>0 else np.nan).hist(bins=100, log=True, figsize=(6,4), alpha=0.5, ax=ax)\n",
    "for q in q_bld[1:-1]:\n",
    "    ax.axvline(x=np.log10(q), color=colormap[\"lum\"])\n",
    "ax.set_title(\"Luminosity density classes\")\n",
    "ax.set_xlabel(\"$c_{lum}$\")\n",
    "ax.set_ylabel(\"# cities\")\n",
    "ax.grid(False)\n",
    "fig.canvas.draw()\n",
    "new_labels = [\"$10^{%s}$\"%x.get_text() for x in ax.get_xticklabels()]\n",
    "ax.set_xticklabels(new_labels)\n",
    "ax.annotate(\"low\", xy=(-3.2,1), color=colormap[\"lum\"])\n",
    "ax.annotate(\"med\", xy=(-2.2,1), color=colormap[\"lum\"])\n",
    "ax.annotate(\"hi\", xy=(-1,1), color=colormap[\"lum\"])"
   ]
  },
  {
   "cell_type": "markdown",
   "metadata": {},
   "source": [
    "Let's segment the built-area normalized city scales into _low_, _medium_, and _high_ categories by the percentiles of the marginal distributions for population and density."
   ]
  },
  {
   "cell_type": "code",
   "execution_count": 45,
   "metadata": {},
   "outputs": [
    {
     "data": {
      "text/html": [
       "<div>\n",
       "<style>\n",
       "    .dataframe thead tr:only-child th {\n",
       "        text-align: right;\n",
       "    }\n",
       "\n",
       "    .dataframe thead th {\n",
       "        text-align: left;\n",
       "    }\n",
       "\n",
       "    .dataframe tbody tr th {\n",
       "        vertical-align: top;\n",
       "    }\n",
       "</style>\n",
       "<table border=\"1\" class=\"dataframe\">\n",
       "  <thead>\n",
       "    <tr style=\"text-align: right;\">\n",
       "      <th></th>\n",
       "      <th>city</th>\n",
       "      <th>country</th>\n",
       "      <th>population</th>\n",
       "      <th>scale-pop</th>\n",
       "      <th>subregion</th>\n",
       "      <th>region</th>\n",
       "      <th>bldg-in</th>\n",
       "      <th>pop-in</th>\n",
       "      <th>lum-in</th>\n",
       "      <th>bldg-tot</th>\n",
       "      <th>pop-tot</th>\n",
       "      <th>lum-tot</th>\n",
       "      <th>bldg-max</th>\n",
       "      <th>pop-max</th>\n",
       "      <th>lum-max</th>\n",
       "      <th>scale-bldg</th>\n",
       "      <th>scale-lum</th>\n",
       "      <th>scale-bldg-lum</th>\n",
       "    </tr>\n",
       "  </thead>\n",
       "  <tbody>\n",
       "    <tr>\n",
       "      <th>0</th>\n",
       "      <td>shahdol</td>\n",
       "      <td>india</td>\n",
       "      <td>1237432</td>\n",
       "      <td>large</td>\n",
       "      <td>Southern Asia</td>\n",
       "      <td>Asia</td>\n",
       "      <td>0.006481</td>\n",
       "      <td>1237432.0</td>\n",
       "      <td>0.248668</td>\n",
       "      <td>0.005900</td>\n",
       "      <td>1.328246e+06</td>\n",
       "      <td>0.239223</td>\n",
       "      <td>0.021277</td>\n",
       "      <td>169.818182</td>\n",
       "      <td>0.365241</td>\n",
       "      <td>low</td>\n",
       "      <td>med</td>\n",
       "      <td>bldg:low,lum:med</td>\n",
       "    </tr>\n",
       "    <tr>\n",
       "      <th>1</th>\n",
       "      <td>lafia</td>\n",
       "      <td>nigeria</td>\n",
       "      <td>364173</td>\n",
       "      <td>small-2</td>\n",
       "      <td>Western Africa</td>\n",
       "      <td>Africa</td>\n",
       "      <td>0.018068</td>\n",
       "      <td>364173.0</td>\n",
       "      <td>0.036361</td>\n",
       "      <td>0.011078</td>\n",
       "      <td>1.214261e+06</td>\n",
       "      <td>0.033401</td>\n",
       "      <td>0.066016</td>\n",
       "      <td>211.490566</td>\n",
       "      <td>0.514750</td>\n",
       "      <td>med</td>\n",
       "      <td>low</td>\n",
       "      <td>bldg:med,lum:low</td>\n",
       "    </tr>\n",
       "    <tr>\n",
       "      <th>2</th>\n",
       "      <td>ibarapa central</td>\n",
       "      <td>nigeria</td>\n",
       "      <td>120329</td>\n",
       "      <td>small-1</td>\n",
       "      <td>Western Africa</td>\n",
       "      <td>Africa</td>\n",
       "      <td>0.013719</td>\n",
       "      <td>120329.0</td>\n",
       "      <td>0.003794</td>\n",
       "      <td>0.016098</td>\n",
       "      <td>1.693468e+06</td>\n",
       "      <td>0.049525</td>\n",
       "      <td>0.057143</td>\n",
       "      <td>181.828571</td>\n",
       "      <td>0.036187</td>\n",
       "      <td>med</td>\n",
       "      <td>low</td>\n",
       "      <td>bldg:med,lum:low</td>\n",
       "    </tr>\n",
       "    <tr>\n",
       "      <th>3</th>\n",
       "      <td>hamilton</td>\n",
       "      <td>united states</td>\n",
       "      <td>360445</td>\n",
       "      <td>small-2</td>\n",
       "      <td>Northern America</td>\n",
       "      <td>Americas</td>\n",
       "      <td>0.091867</td>\n",
       "      <td>360445.0</td>\n",
       "      <td>6.460299</td>\n",
       "      <td>0.030764</td>\n",
       "      <td>7.966306e+05</td>\n",
       "      <td>2.176872</td>\n",
       "      <td>0.491170</td>\n",
       "      <td>249.800000</td>\n",
       "      <td>6.014977</td>\n",
       "      <td>med</td>\n",
       "      <td>hi</td>\n",
       "      <td>bldg:med,lum:hi</td>\n",
       "    </tr>\n",
       "    <tr>\n",
       "      <th>4</th>\n",
       "      <td>purnia</td>\n",
       "      <td>india</td>\n",
       "      <td>3385281</td>\n",
       "      <td>large</td>\n",
       "      <td>Southern Asia</td>\n",
       "      <td>Asia</td>\n",
       "      <td>0.040247</td>\n",
       "      <td>3385281.0</td>\n",
       "      <td>0.440284</td>\n",
       "      <td>0.034887</td>\n",
       "      <td>1.017604e+07</td>\n",
       "      <td>0.412417</td>\n",
       "      <td>0.126283</td>\n",
       "      <td>833.989011</td>\n",
       "      <td>0.950606</td>\n",
       "      <td>med</td>\n",
       "      <td>med</td>\n",
       "      <td>bldg:med,lum:med</td>\n",
       "    </tr>\n",
       "  </tbody>\n",
       "</table>\n",
       "</div>"
      ],
      "text/plain": [
       "              city        country  population scale-pop         subregion  \\\n",
       "0          shahdol          india     1237432     large     Southern Asia   \n",
       "1            lafia        nigeria      364173   small-2    Western Africa   \n",
       "2  ibarapa central        nigeria      120329   small-1    Western Africa   \n",
       "3         hamilton  united states      360445   small-2  Northern America   \n",
       "4           purnia          india     3385281     large     Southern Asia   \n",
       "\n",
       "     region   bldg-in     pop-in    lum-in  bldg-tot       pop-tot   lum-tot  \\\n",
       "0      Asia  0.006481  1237432.0  0.248668  0.005900  1.328246e+06  0.239223   \n",
       "1    Africa  0.018068   364173.0  0.036361  0.011078  1.214261e+06  0.033401   \n",
       "2    Africa  0.013719   120329.0  0.003794  0.016098  1.693468e+06  0.049525   \n",
       "3  Americas  0.091867   360445.0  6.460299  0.030764  7.966306e+05  2.176872   \n",
       "4      Asia  0.040247  3385281.0  0.440284  0.034887  1.017604e+07  0.412417   \n",
       "\n",
       "   bldg-max     pop-max   lum-max scale-bldg scale-lum    scale-bldg-lum  \n",
       "0  0.021277  169.818182  0.365241        low       med  bldg:low,lum:med  \n",
       "1  0.066016  211.490566  0.514750        med       low  bldg:med,lum:low  \n",
       "2  0.057143  181.828571  0.036187        med       low  bldg:med,lum:low  \n",
       "3  0.491170  249.800000  6.014977        med        hi   bldg:med,lum:hi  \n",
       "4  0.126283  833.989011  0.950606        med       med  bldg:med,lum:med  "
      ]
     },
     "execution_count": 45,
     "metadata": {},
     "output_type": "execute_result"
    }
   ],
   "source": [
    "scales_df.head()"
   ]
  },
  {
   "cell_type": "code",
   "execution_count": 19,
   "metadata": {},
   "outputs": [
    {
     "data": {
      "image/png": "[encoded data removed]",
      "text/plain": [
       "<matplotlib.figure.Figure at 0x7f13f46bb410>"
      ]
     },
     "metadata": {},
     "output_type": "display_data"
    }
   ],
   "source": [
    "sns.set_context(\"notebook\", font_scale=1.5)\n",
    "sns.set(style=\"ticks\")\n",
    "\n",
    "idx_ok = (scales_df['bldg-in']>0) & (scales_df['lum-in']>0)\n",
    "\n",
    "g = sns.jointplot(np.log10(scales_df['bldg-tot'][idx_ok]), \n",
    "                  np.log10(scales_df['lum-tot'][idx_ok]), \n",
    "                  kind=\"hex\", color=\"black\", size=5, xlim=(-4,0), ylim=(-4,2.1))\n",
    "g.fig.suptitle(\"$bld$ vs $lum$ scale\", fontsize=16)\n",
    "g.ax_joint.set_xlabel(\"$log_{10} \\ c_{bld}$\", fontsize=16)\n",
    "g.ax_joint.set_ylabel(\"$log_{10} \\ c_{lum}$\", fontsize=16)\n",
    "\n",
    "for q in q_bld[1:-1]:\n",
    "    g.ax_joint.axvline(x=np.log10(q), color=colormap[\"bldg\"])\n",
    "    \n",
    "for q in q_lum[1:-1]:\n",
    "    g.ax_joint.axhline(y=np.log10(q), color=colormap[\"lum\"])\n",
    "    \n",
    "for qp,sp in zip([-2.8,-1.9, -0.8], [\"low\", \"med\", \"hi\"]):\n",
    "    g.ax_joint.annotate(sp, xy=(qp, 1.2), color=colormap[\"bldg\"], weight='bold')   \n",
    "for qp,sp in zip([0.6, -0.6, -2], [\"hi\", \"med\", \"low\"]):\n",
    "    g.ax_joint.annotate(sp, xy=(-3.5, qp), color=colormap[\"lum\"], weight='bold')     \n",
    "    \n",
    "g.fig.subplots_adjust(bottom=0.2)\n",
    "g.fig.savefig('../figures/scale_classification_bld_lum.svg', format='svg', dpi=1200)"
   ]
  },
  {
   "cell_type": "markdown",
   "metadata": {},
   "source": [
    "##### Plot the 8 classes of cities (by scale) on a map"
   ]
  },
  {
   "cell_type": "code",
   "execution_count": 98,
   "metadata": {},
   "outputs": [
    {
     "data": {
      "image/png": "[encoded data removed]",
      "text/plain": [
       "<matplotlib.figure.Figure at 0x7f13e2c3acd0>"
      ]
     },
     "metadata": {},
     "output_type": "display_data"
    }
   ],
   "source": [
    "from matplotlib.colors import ListedColormap\n",
    "import matplotlib\n",
    "\n",
    "# define a custom color palette\n",
    "my_colors = [\n",
    " (189, 225, 237),\n",
    " (159, 205, 237),\n",
    " (79, 195, 237),\n",
    " # (179, 99, 149),\n",
    " # (215, 187, 208),\n",
    " # (218, 198, 199),\n",
    " (225, 250, 182),\n",
    " (161, 185, 59),\n",
    " # (214, 227, 140),\n",
    " (25, 101, 64),\n",
    " (249, 171, 174),\n",
    " (218, 96, 75),\n",
    " (102, 48, 52),\n",
    "#  (60, 60, 60),\n",
    "#  (214, 227, 140),\n",
    "#  (135, 100, 83),\n",
    "#  (236, 174, 128)\n",
    "]\n",
    "\n",
    "my_colors = [(np.array(v)/float(255)).tolist() + [1.0] for v in my_colors]\n",
    "\n",
    "cmap_scale = matplotlib.colors.ListedColormap(my_colors)\n",
    "\n",
    "sns.palplot(sns.color_palette(my_colors))"
   ]
  },
  {
   "cell_type": "code",
   "execution_count": 106,
   "metadata": {},
   "outputs": [
    {
     "data": {
      "image/png": "[encoded data removed]",
      "text/plain": [
       "<matplotlib.figure.Figure at 0x7f13f3cbb410>"
      ]
     },
     "metadata": {},
     "output_type": "display_data"
    }
   ],
   "source": [
    "fig, ax = plt.subplots()\n",
    "ax.imshow(np.flip(np.arange(0, 9).reshape((3,3)),0), cmap=cmap_scale)\n",
    "ax.set_xlabel(\"avg. bldg. scale\")\n",
    "ax.set_ylabel(\"avg. lum. scale\")\n",
    "ax.set_xticks(range(3)); ax.set_xticklabels([\"low\", \"med.\", \"high\"])\n",
    "ax.set_yticks(range(3)); ax.set_yticklabels([\"high\", \"med.\", \"low\"])\n",
    "plt.savefig('../figures/colormap_scales.svg', \n",
    "            format='svg', dpi=1200, bbox_inches='tight')"
   ]
  },
  {
   "cell_type": "code",
   "execution_count": 79,
   "metadata": {
    "collapsed": true
   },
   "outputs": [],
   "source": [
    "def plot_map(gdf, column=\"lum\", title=\"\", cmap=None, add_colorbar=True):\n",
    "    sns.set_context(\"notebook\", font_scale=2)\n",
    "    sns.set(style=\"ticks\", font_scale=2)\n",
    "\n",
    "    if cmap is None:\n",
    "        cmap = create_diverging_colormap(gdf[column])\n",
    "    \n",
    "    # plot the world map\n",
    "    fig, ax = plt.subplots(figsize=(18,8))\n",
    "    world = gpd.read_file(gpd.datasets.get_path('naturalearth_lowres'))\n",
    "    ax = world.plot(ax=ax, \n",
    "                    color=[0.99,0.99,0.9,0.1], \n",
    "                    edgecolor=[0.8,0.8,0.8,0.9])\n",
    "\n",
    "    # plot cities\n",
    "    gdf.plot(ax=ax, marker='.', markersize=7, alpha=0.8, \n",
    "                 column=column, cmap=cmap)\n",
    "    ax.set_title(title)\n",
    "    ax.set_xlabel(\"longitude\")\n",
    "    ax.set_ylabel(\"latitude\")\n",
    "\n",
    "    # add color bar\n",
    "    if add_colorbar:\n",
    "        cax = fig.add_axes([0.92, 0.1, 0.03, 0.8])\n",
    "        sm = plt.cm.ScalarMappable(cmap=cmap, norm=plt.Normalize(vmin=vmin, vmax=vmax))\n",
    "        # fake up the array of the scalar mappable. Urgh...\n",
    "        sm._A = []\n",
    "        fig.colorbar(sm, cax=cax)    "
   ]
  },
  {
   "cell_type": "code",
   "execution_count": 107,
   "metadata": {},
   "outputs": [
    {
     "data": {
      "text/plain": [
       "6936"
      ]
     },
     "execution_count": 107,
     "metadata": {},
     "output_type": "execute_result"
    }
   ],
   "source": [
    "scales_gdf = gpd.GeoDataFrame(pd.merge(scales_df, cities_sel_df[[\"city\", \"province\", \"country\", \"subregion\", \"location\", \"population\"]], \n",
    "                                   on=[\"city\", \"country\", \"subregion\", \"population\"])).rename(columns={\"location\":\"geometry\"})\n",
    "len(scales_gdf)"
   ]
  },
  {
   "cell_type": "code",
   "execution_count": 108,
   "metadata": {},
   "outputs": [
    {
     "data": {
      "image/png": "[encoded data removed]",
      "text/plain": [
       "<matplotlib.figure.Figure at 0x7f13eceda410>"
      ]
     },
     "metadata": {},
     "output_type": "display_data"
    }
   ],
   "source": [
    "plot_map(scales_gdf, column=\"scale-bldg-lum\", cmap=cmap_scale, add_colorbar=False,\n",
    "         title=\"Distribution of world cities by avg. built areas and luminosity\")\n",
    "plt.savefig('../figures/map_distribution_scales_bldg_lum.svg', \n",
    "            format='svg', dpi=1200, bbox_inches='tight')"
   ]
  },
  {
   "cell_type": "markdown",
   "metadata": {},
   "source": [
    "# Analyze profile data"
   ]
  },
  {
   "cell_type": "markdown",
   "metadata": {},
   "source": [
    "#### Format spatial profile data"
   ]
  },
  {
   "cell_type": "code",
   "execution_count": null,
   "metadata": {
    "collapsed": true
   },
   "outputs": [],
   "source": [
    "# extract profile data\n",
    "\n",
    "Xbld = np.vstack([v['profiles']['bldg'][0] for k,v in cities_sel.iteritems()])\n",
    "Xpop = np.vstack([v['profiles']['pop'][0] for k,v in cities_sel.iteritems()])\n",
    "Xlum = np.vstack([v['profiles']['lum'][0] for k,v in cities_sel.iteritems()])\n",
    "Xbnd = np.vstack([v['profiles']['bnds'][0] for k,v in cities_sel.iteritems()])\n",
    "Xpop[np.isnan(Xpop)] = 0; Xlum[np.isnan(Xlum)] = 0; Xbld[np.isnan(Xbld)] = 0\n",
    "\n",
    "# normalize profiles by the scale\n",
    "\n",
    "Xpop_hat = Xpop / Xpop.max(1)[:,None]\n",
    "Xlum_hat = Xlum / Xlum.max(1)[:,None]\n",
    "Xbld_hat = Xbld / Xbld.max(1)[:,None]\n",
    "Xall_hat = np.hstack([Xbld_hat, Xpop_hat, Xlum_hat])\n",
    "Xpop_hat[np.isnan(Xpop_hat)] = 0; Xlum[np.isnan(Xlum)] = 0; Xbld[np.isnan(Xbld)] = 0\n",
    "\n",
    "# convert to logarithmic space\n",
    "\n",
    "Xpop_hat_log = np.log10(Xpop_hat)\n",
    "Xlum_hat_log = np.log10(Xlum_hat)\n",
    "Xbld_hat_log = np.log10(Xbld_hat)\n",
    "Xpop_hat_log[np.isnan(Xpop_hat_log)] = 0; \n",
    "Xlum_hat_log[np.isnan(Xlum_hat_log)] = 0; \n",
    "Xbld_hat_log[np.isnan(Xbld_hat_log)] = 0\n",
    "Xpop_hat_log[np.isneginf(Xpop_hat_log) | np.isinf(Xpop_hat_log)] = 0\n",
    "Xlum_hat_log[np.isneginf(Xlum_hat_log) | np.isinf(Xlum_hat_log)] = 0\n",
    "Xbld_hat_log[np.isneginf(Xbld_hat_log) | np.isinf(Xbld_hat_log)] = 0\n",
    "Xall_hat_log = np.hstack([Xbld_hat_log, Xpop_hat_log, Xlum_hat_log])\n"
   ]
  },
  {
   "cell_type": "markdown",
   "metadata": {},
   "source": [
    "# Analyze \"discrepancy\" between $x_{bld}(d)$, $x_{pop}(d)$, and $x_{lum}(d)$ profiles\n",
    "\n",
    "We take as reference the population distribution profile $x_{pop}$. We then define discrepancy through Earth Mover's Distance, i.e., the amount of work needed to transform $x_{bld}$ and $x_{lum}$ into $x_{pop}$."
   ]
  },
  {
   "cell_type": "code",
   "execution_count": null,
   "metadata": {},
   "outputs": [],
   "source": [
    "from pyemd import emd, emd_with_flow\n",
    "from scipy.linalg import toeplitz\n",
    "\n",
    "def find_sign_change_array(a):\n",
    "    asign = np.sign(a)\n",
    "    sz = asign == 0\n",
    "    if sz.any():\n",
    "        asign[sz] = np.roll(asign, 1)[sz]\n",
    "        sz = asign == 0\n",
    "    signchange = ((np.roll(asign, 1) - asign) != 0).astype(int)\n",
    "    signchange[0] = 0\n",
    "    return signchange\n",
    "\n",
    "def get_regions(a):\n",
    "    sgn = find_sign_change_array(a)\n",
    "    regs= []\n",
    "    i = 0\n",
    "    for j,s in enumerate(sgn):\n",
    "        if s==1:\n",
    "            regs += [(i,j,np.sign(a[i]))]\n",
    "            i = j\n",
    "    if i<j:\n",
    "        regs += [(i,j,np.sign(a[i]))]\n",
    "    return regs\n",
    "\n",
    "a = np.array([1,1,-1,0, -2,-3,4,5])\n",
    "print a\n",
    "print find_sign_change_array(a)\n",
    "print get_regions(a)"
   ]
  },
  {
   "cell_type": "code",
   "execution_count": null,
   "metadata": {},
   "outputs": [],
   "source": [
    "def compute_discrepancy(source0, target0, weights=None):\n",
    "    weights = np.ones(len(source0)) if weights is None else weights\n",
    "    source = weights * source0\n",
    "    target = weights * target0\n",
    "    dif = source - target\n",
    "    reg = get_regions(dif)\n",
    "    top = np.array([max([i,j]) for i,j in zip(source,target)])\n",
    "    tot_disc = dif.sum()/float(target.sum())\n",
    "    disc=[]\n",
    "    for (i,j,s) in reg:\n",
    "        d = dif[i:j].sum() / float(top[i:j].sum())\n",
    "        disc += [(i,j,d)]\n",
    "    return tot_disc, disc\n",
    "\n",
    "src = 0.5*(1 + np.sin(np.arange(0,5,0.1)))\n",
    "trg = 0.5*(1 + np.cos(np.arange(0,5,0.1)))\n",
    "discr = compute_discrepancy(src, trg)\n",
    "print discr\n",
    "plt.plot(src, label=\"source\")\n",
    "plt.plot(trg, label=\"target\")\n",
    "plt.legend(loc=\"best\")"
   ]
  },
  {
   "cell_type": "code",
   "execution_count": null,
   "metadata": {
    "collapsed": true
   },
   "outputs": [],
   "source": [
    "from scipy.stats import wasserstein_distance\n",
    "\n",
    "def compute_effort_emd(source, target, weights=None):\n",
    "    return wasserstein_distance(source, target, u_weights=weights, v_weights=weights)\n",
    "\n",
    "def compute_effort_emd2(source0, target0, weights=None):\n",
    "    weights = np.ones(len(source0)) if weights is None else weights\n",
    "    dist_mat = toeplitz(np.arange(len(target0))).astype(float)\n",
    "    source = weights * source0\n",
    "    target = weights * target0\n",
    "    # dist_mat = (-np.tril(dist_mat) + np.triu(dist_mat)).astype(float)\n",
    "    # dist_mat = np.ones((len(source), len(target)))\n",
    "    dist_emd, flow_emd = emd_with_flow(source, target, dist_mat)\n",
    "    return dist_emd\n",
    "\n",
    "def compute_emd_regions(source, target, weights=None):\n",
    "    weights = np.ones(len(source)) if weights is None else weights\n",
    "    reg = get_regions(source-target)\n",
    "    emd = []\n",
    "    for i,j,s in reg:\n",
    "        d = compute_effort_emd(source[i:j], target[i:j], weights=weights[i:j])\n",
    "        d = d*s if d !=0 else d\n",
    "        emd.append((i,j,d))\n",
    "    return emd"
   ]
  },
  {
   "cell_type": "markdown",
   "metadata": {},
   "source": [
    "### Show example discrepancy computation"
   ]
  },
  {
   "cell_type": "code",
   "execution_count": null,
   "metadata": {
    "collapsed": true
   },
   "outputs": [],
   "source": [
    "mycities = [(\"paris\", \"france\"), \n",
    "            (\"rio de janeiro\", \"brazil\"), \n",
    "            (\"san francisco\", \"united states\"), \n",
    "            (\"barcelona\", \"spain\"),\n",
    "            (\"mumbai city\", \"india\"), \n",
    "            (\"shanghai\", \"china\"), \n",
    "            (\"hyderabad\", \"pakistan\"),\n",
    "            (\"chongqing\", \"china\"), \n",
    "            (\"casablanca\", \"morocco\"),\n",
    "            (\"brazzaville\", \"republic of congo\")]\n",
    "\n",
    "cities_smpl = {}\n",
    "for c in mycities:\n",
    "    for k,v in cities.iteritems():\n",
    "        if v['city'] == c[0] and v['country']== c[1]:\n",
    "            cities_smpl[v['city']] = (v,k)\n",
    "            break\n",
    "        \n",
    "colormap_cities = dict(zip(cities_smpl.keys(), \n",
    "                           sns.color_palette(\"Set2\", len(mycities))))"
   ]
  },
  {
   "cell_type": "code",
   "execution_count": null,
   "metadata": {},
   "outputs": [],
   "source": [
    "dif_lum_pop_cmap = sns.diverging_palette(55, 120, s=90, l=70, n=20, as_cmap=True)\n",
    "\n",
    "# bld_cmap = sns.diverging_palette(300, 120, s=90, l=70, n=20, as_cmap=True)\n",
    "sns.palplot(sns.diverging_palette(55, 120, s=90, l=70, n=10))"
   ]
  },
  {
   "cell_type": "code",
   "execution_count": null,
   "metadata": {},
   "outputs": [],
   "source": [
    "sns.palplot(sns.color_palette(\"coolwarm\", 10))"
   ]
  },
  {
   "cell_type": "code",
   "execution_count": null,
   "metadata": {},
   "outputs": [],
   "source": [
    "sns.palplot(sns.color_palette(\"Greens\", 10))"
   ]
  },
  {
   "cell_type": "code",
   "execution_count": null,
   "metadata": {},
   "outputs": [],
   "source": [
    "sns.palplot(sns.color_palette(\"copper\", 10))"
   ]
  },
  {
   "cell_type": "code",
   "execution_count": null,
   "metadata": {},
   "outputs": [],
   "source": [
    "sns.palplot(sns.color_palette(\"gray_r\", 10))"
   ]
  },
  {
   "cell_type": "code",
   "execution_count": null,
   "metadata": {},
   "outputs": [],
   "source": [
    "import matplotlib.cm as cm\n",
    "import matplotlib.gridspec as gridspec\n",
    "\n",
    "\n",
    "nimg = 2\n",
    "ncol = 5\n",
    "\n",
    "mycities = [(\"paris\", \"france\"), \n",
    "#             (\"rio de janeiro\", \"brazil\"), \n",
    "#             (\"san francisco\", \"united states\"), \n",
    "#             (\"barcelona\", \"spain\"),\n",
    "#             (\"mumbai city\", \"india\"), \n",
    "            (\"shanghai\", \"china\")]\n",
    "\n",
    "sns.set_context(\"notebook\", font_scale=1.5, rc={\"lines.linewidth\": 1})\n",
    "fig = plt.figure(figsize=(16,6))\n",
    "gs1 = gridspec.GridSpec(nimg,ncol)\n",
    "gs1.update(wspace=0.01, hspace=0.04) # set the spacing between axes. \n",
    "\n",
    "for i,c in enumerate(mycities):\n",
    "    r = scales_df[(scales_df.city == c[0]) & (scales_df.country==c[1])].iloc[0]\n",
    "    img = get_image_data((r['city'], r['country'], r['population']))\n",
    "    bounds_mask = img['bnd']\n",
    "    city_pop = r['population']\n",
    "    cityname = c[0]\n",
    "    \n",
    "    city,smpl_name = cities_smpl[c[0]]\n",
    "    mu_pop = city['profiles']['pop'][0]\n",
    "    mu_pop = mu_pop/mu_pop.max()\n",
    "    mu_lum = city['profiles']['lum'][0]\n",
    "    mu_lum = mu_lum/mu_lum.max()\n",
    "    mu_bnd = city['profiles']['bnds'][0]\n",
    "    \n",
    "    # compute discrepancy\n",
    "    dis_lum, dis_lum_reg = compute_discrepancy(mu_lum, mu_pop)\n",
    "\n",
    "    # plot built areas\n",
    "    ax0 = plt.subplot(gs1[i,0]); ax0.set_xticks([]); ax0.set_yticks([])\n",
    "    overlay_mask(img['bldg'], bounds_mask>0, ax0, cmap=\"gray_r\"); ax0.set_title(\"built areas \\n (SAR)\") if i==0 else None\n",
    "    # plot Nightlights\n",
    "    ax1 = plt.subplot(gs1[i,1]); ax1.set_xticks([]); ax1.set_yticks([])\n",
    "    ax1.imshow(img['lum'], cmap=\"copper\"); ax1.set_title(\"nightlights \\n (VIIRS)\") if i==0 else None\n",
    "    # plot population\n",
    "    ax2 = plt.subplot(gs1[i,2]); ax2.set_xticks([]); ax2.set_yticks([])\n",
    "    ax2.imshow(img['pop'],cmap=\"Greens\"); ax2.set_title(\"population \\n (LandScan)\") if i==0 else None\n",
    "    ax0.set_ylabel(\"%s\\n(pop %s)\"%(cityname, format_pop(city_pop)))\n",
    "    \n",
    "    # plot difference lum - pop\n",
    "    ax4 = plt.subplot(gs1[i,3]); ax4.set_xticks([]); ax4.set_yticks([])\n",
    "    ax4.imshow(img['lum']/float(np.nanmax(img['lum']))-img['pop']/float(np.nanmax(img['pop'])),\n",
    "               cmap=\"bwr\"); \n",
    "    ax4.set_title(\"normalized difference\\n $\\hat x_{lum}-\\hat x_{pop}$\") if i==0 else None\n",
    "    \n",
    "    \n",
    "    # plot profiles\n",
    "    ax3 = plt.subplot(gs1[i,4]); ax3.set_xticks([]); ax3.set_yticks([])\n",
    "    for s in ['bldg', 'pop', 'lum', 'bnds']:\n",
    "        mu = city['profiles'][s][0][2:]\n",
    "        scale = mu.max() #v['sum area'][s]\n",
    "        ax3.plot(distance_km[2:], mu / scale, lw=3, label=s, color=colormap[s])\n",
    "    if i == 0:\n",
    "        ax3.set_title(\"$\\hat x_{\\cdot}(d)$\")\n",
    "        ax3.legend(loc=\"best\", prop={'size': 8})\n",
    "    ax3.set_xlabel(\"$d \\ [km]$\")    \n",
    "    \n",
    "    for p,q,d in dis_lum_reg:\n",
    "        ax3.fill_between(distance_km[p:q], mu_lum[p:q], mu_pop[p:q], \n",
    "                             facecolor=\"red\" if d<0 else \"cornflowerblue\",\n",
    "                             interpolate=True, alpha=0.4)\n",
    "fig.savefig('../figures/paper_figure_1.svg', \n",
    "            format='svg', dpi=1200, bbox_inches='tight')\n",
    "fig.show()\n"
   ]
  },
  {
   "cell_type": "markdown",
   "metadata": {},
   "source": [
    "### Compute EMD effort/discrepancy (bld->pop, lum->pop) for all cities"
   ]
  },
  {
   "cell_type": "code",
   "execution_count": null,
   "metadata": {},
   "outputs": [],
   "source": [
    "discrepancy = []\n",
    "effort_emd = []\n",
    "for i in range(Xbld_hat.shape[0]):\n",
    "    clear_output(True)\n",
    "    print i, \"/\", len(Xbld_hat)\n",
    "    mu_bld = Xbld_hat[i,:]\n",
    "    mu_pop = Xpop_hat[i,:]\n",
    "    mu_lum = Xlum_hat[i,:]\n",
    "    mu_bnd = Xbnd[i,:];\n",
    "    if mu_bnd.sum()==0:\n",
    "        weights_in = None\n",
    "        weights_out=None\n",
    "    else:\n",
    "        weights_in = mu_bnd\n",
    "        weights_out = 1 - mu_bnd\n",
    "    \n",
    "    # compute normalized discrepancy\n",
    "    dis_bld_tot, dis_bld_reg = compute_discrepancy(mu_bld, mu_pop)\n",
    "    dis_lum_tot, dis_lum_reg = compute_discrepancy(mu_lum, mu_pop)\n",
    "    dis_bld_tot_in, dis_bld_reg_in = compute_discrepancy(mu_bld, mu_pop, weights=weights_in)\n",
    "    dis_lum_tot_in, dis_lum_reg_in = compute_discrepancy(mu_lum, mu_pop, weights=weights_in)\n",
    "    dis_bld_tot_out, dis_bld_reg_out = compute_discrepancy(mu_bld, mu_pop, weights=weights_out)\n",
    "    dis_lum_tot_out, dis_lum_reg_out = compute_discrepancy(mu_lum, mu_pop, weights=weights_out)\n",
    "    discrepancy.append([dis_bld_tot, dis_bld_tot_in, dis_bld_tot_out, \n",
    "                        dis_lum_tot, dis_lum_tot_in, dis_lum_tot_out])\n",
    "    \n",
    "    # compute EMD effort\n",
    "    emd_bld = compute_effort_emd(mu_bld, mu_pop)\n",
    "    emd_lum = compute_effort_emd(mu_lum, mu_pop)\n",
    "    emd_bld_in = compute_effort_emd(mu_bld, mu_pop, weights=weights_in)\n",
    "    emd_lum_in = compute_effort_emd(mu_lum, mu_pop, weights=weights_in)\n",
    "    emd_bld_out = compute_effort_emd(mu_bld, mu_pop, weights=weights_out)\n",
    "    emd_lum_out = compute_effort_emd(mu_lum, mu_pop, weights=weights_out)\n",
    "    effort_emd.append([emd_bld, emd_bld_in, emd_bld_out, emd_lum, emd_lum_in, emd_lum_out])\n",
    "    #emd_bld_reg = compute_emd_regions(mu_bld, mu_pop)\n",
    "    # emd_lum_reg = compute_emd_regions(mu_lum, mu_pop)\n",
    "    \n",
    "effort_emd = pd.DataFrame(np.array(effort_emd), \n",
    "                          columns=[\"bldg\", \"bldg-in\", \"bldg-out\", \"lum\", \"lum-in\", \"lum-out\"])\n",
    "effort_emd = pd.concat([info_df, effort_emd], axis=1)\n",
    "discrepancy = pd.DataFrame(np.array(discrepancy), \n",
    "                           columns=[\"bldg\", \"bldg-in\", \"bldg-out\", \"lum\", \"lum-in\", \"lum-out\"])\n",
    "discrepancy = pd.concat([info_df, discrepancy], axis=1)"
   ]
  },
  {
   "cell_type": "code",
   "execution_count": null,
   "metadata": {},
   "outputs": [],
   "source": [
    "fig, ax = plt.subplots(1,2, figsize=(8,3), \n",
    "                       gridspec_kw={\"wspace\":0.05, \"hspace\":0.1},\n",
    "                       sharex=True, sharey=True)\n",
    "\n",
    "for a,src in zip(ax, ['bldg', \"lum\"]):\n",
    "    sns.boxplot(x=\"region\", y=src, hue=\"scale-pop\", palette=pop_colors,\n",
    "                data=discrepancy, ax=a, hue_order=pop_scales)\n",
    "    a.set_xlabel(\"\"); a.set_ylabel(\"\"); \n",
    "    a.set_xticklabels(a.get_xticklabels(), rotation=30)\n",
    "    a.set_title(src)\n",
    "    a.legend_.remove()\n",
    "    \n",
    "ax[0].set_ylabel(\"discrepancy $\\delta$\")\n",
    "ax[-1].legend(borderaxespad=0., fontsize=16, bbox_to_anchor=(1,1))\n",
    "fig.subplots_adjust(top=0.75)\n",
    "fig.suptitle(\"Discrepancy vs population distribution\")"
   ]
  },
  {
   "cell_type": "code",
   "execution_count": null,
   "metadata": {},
   "outputs": [],
   "source": [
    "fig, ax = plt.subplots(1,2, figsize=(8,3), \n",
    "                       gridspec_kw={\"wspace\":0.05, \"hspace\":0.1},\n",
    "                       sharex=True, sharey=True)\n",
    "\n",
    "for a,src in zip(ax, ['bldg', \"lum\"]):\n",
    "    cur_df = effort_emd\n",
    "    sns.boxplot(x=\"region\", y=src, hue=\"scale-pop\", palette=pop_colors,\n",
    "                data=effort_emd, ax=a, hue_order=pop_scales)\n",
    "    a.set_xlabel(\"\"); a.set_ylabel(\"\"); \n",
    "    a.set_xticklabels(a.get_xticklabels(), rotation=30)\n",
    "    a.set_title(src)\n",
    "    a.legend_.remove()\n",
    "    \n",
    "ax[0].set_ylabel(\"effort $\\eta$\")\n",
    "ax[-1].legend(borderaxespad=0., fontsize=16, bbox_to_anchor=(1,1))\n",
    "fig.subplots_adjust(top=0.75)\n",
    "fig.suptitle(\"Effort (earth mover's distance) vs pop. distribution\")"
   ]
  },
  {
   "cell_type": "markdown",
   "metadata": {},
   "source": [
    "##### Effort $\\eta$ vs discrepancy $\\delta$ for normalized profiles $\\hat x_{\\cdot}(d)$"
   ]
  },
  {
   "cell_type": "code",
   "execution_count": null,
   "metadata": {
    "scrolled": false
   },
   "outputs": [],
   "source": [
    "sns.set_context(\"notebook\", font_scale=2)\n",
    "sns.set(style=\"ticks\")\n",
    "\n",
    "cities_region = {\n",
    "    \"Africa\":[\"kinshasa\", 'casablanca'],\n",
    "    \"Americas\":[\"san francisco\", \"rio de janeiro\"],\n",
    "    \"Asia\":[\"mumbai city\", \"shanghai\"],\n",
    "    \"Europe\":['paris', 'barcelona']\n",
    "}\n",
    "\n",
    "for src in [\"bldg\", \"lum\"]:\n",
    "    for r in ['Africa', 'Americas', 'Asia', 'Europe']:\n",
    "        idx = info_df['region']==r\n",
    "        # pop = info_df['population'][idx].astype(float)\n",
    "        pop = scales_df['pop-max'][idx].astype(float)\n",
    "        scl = scales_df['%s-max'%src][idx].astype(float)\n",
    "        emd = effort_emd[\"%s\"%src][idx]\n",
    "        eta = np.log10(emd)# *scl*pop)\n",
    "        eta[np.isinf(eta) | np.isneginf(eta)] = 0\n",
    "        delta = discrepancy[\"%s\"%src][idx]\n",
    "        delta[np.isinf(delta)] = 0\n",
    "        g = sns.jointplot(delta, eta, \n",
    "                          kind=\"hex\", color=colormap[src], size=4.5, stat_func=None,\n",
    "                          xlim=(-1.2,2), \n",
    "                          # ylim=(-100,1200), \n",
    "                          cmap=cm.gray_r)\n",
    "        g.ax_joint.set_xlabel(\"discrepancy $\\delta$\", fontsize=14)\n",
    "        g.ax_joint.set_ylabel(\"effort (EMD) $log \\ \\eta$\", fontsize=14)\n",
    "        g.ax_marg_x.set_title(r, fontsize=16)\n",
    "        g.ax_joint.axvline(x=0, color=colormap[\"bldg\"])\n",
    "        g.ax_joint.annotate(\"defficient\", xy=(-0.3, 1.3+min(eta)*1.1), color=\"red\", \n",
    "                            weight='bold', rotation=90)\n",
    "        g.ax_joint.annotate(\"excess\", xy=(0.1, 1+min(eta)*1.1), color=\"blue\", \n",
    "                            weight='bold', rotation=-90)\n",
    "        g.ax_joint.annotate(src, xy=(1.4, 0.5+min(eta)*1.1), fontsize=14,\n",
    "                            weight='bold') \n",
    "                            #color=colormap[src])\n",
    "        for c,m in zip(cities_region[r], [\"*\", 'o']):\n",
    "            idx_c = (info_df['city']==c) & (info_df['region']==r)\n",
    "            x,y = delta[idx_c].iloc[0], eta[idx_c].iloc[0]\n",
    "            print c, x, y\n",
    "            g.ax_joint.scatter(x, y, label=c, marker=m, s=100, color='red')\n",
    "        g.ax_joint.legend(loc=\"best\", bbox_to_anchor=(0.43, 0.8), fontsize=12)\n",
    "        plt.colorbar()\n",
    "        plt.show()\n",
    "        \n",
    "        g.fig.savefig('../figures/density_discrepancy_effort_%s_%s.svg' % (src, r), \n",
    "                      format='svg', dpi=1200, bbox_inches='tight')\n",
    "        g.fig.show()\n"
   ]
  },
  {
   "cell_type": "markdown",
   "metadata": {},
   "source": [
    "##### Effort $\\eta$ vs discrepancy $\\delta$ scaled by $max \\ x_{pop}(d)$ and  $max \\ x_{lum}(d)$ "
   ]
  },
  {
   "cell_type": "code",
   "execution_count": null,
   "metadata": {
    "scrolled": false
   },
   "outputs": [],
   "source": [
    "sns.set_context(\"notebook\", font_scale=2)\n",
    "sns.set(style=\"ticks\")\n",
    "\n",
    "cities_region = {\n",
    "    \"Africa\":[\"kinshasa\", 'casablanca'],\n",
    "    \"Americas\":[\"san francisco\", \"rio de janeiro\"],\n",
    "    \"Asia\":[\"mumbai city\", \"shanghai\"],\n",
    "    \"Europe\":['paris', 'barcelona']\n",
    "}\n",
    "\n",
    "for src in [\"bldg\", \"lum\"]:\n",
    "    for r in ['Africa', 'Americas', 'Asia', 'Europe']:\n",
    "        idx = info_df['region']==r\n",
    "        pop = scales_df['pop-max'][idx].astype(float)\n",
    "        scl = scales_df['%s-max'%src][idx].astype(float)\n",
    "        emd = effort_emd[\"%s\"%src][idx]\n",
    "        eta = np.log10(emd *scl*pop)\n",
    "        eta[np.isinf(eta) | np.isneginf(eta)] = 0\n",
    "        delta = discrepancy[\"%s\"%src][idx]\n",
    "        delta[np.isinf(delta)] = 0\n",
    "        g = sns.jointplot(delta, eta, \n",
    "                          kind=\"hex\", color=colormap[src], size=4.5, stat_func=None,\n",
    "                          xlim=(-1.2,2), \n",
    "                          # ylim=(-100,1200), \n",
    "                          cmap=cm.gray_r)\n",
    "        g.ax_joint.set_xlabel(\"discrepancy $\\delta$\", fontsize=14)\n",
    "        g.ax_joint.set_ylabel(\"scaled effort (EMD) $log \\ \\eta^*$\", fontsize=14)\n",
    "        g.ax_marg_x.set_title(r, fontsize=16)\n",
    "        g.ax_joint.axvline(x=0, color=colormap[\"bldg\"])\n",
    "        g.ax_joint.annotate(\"defficient\", xy=(-0.3, 2.3+min(eta)), color=\"red\", \n",
    "                            weight='bold', rotation=90)\n",
    "        g.ax_joint.annotate(\"excess\", xy=(0.1, 1.6+min(eta)), color=\"blue\", \n",
    "                            weight='bold', rotation=-90)\n",
    "        g.ax_joint.annotate(src, xy=(1.4, 0.5+min(eta)*1.1), fontsize=14,\n",
    "                            weight='bold') \n",
    "                            #color=colormap[src])\n",
    "        for c,m in zip(cities_region[r], [\"*\", 'o']):\n",
    "            idx_c = (info_df['city']==c) & (info_df['region']==r)\n",
    "            x,y = delta[idx_c].iloc[0], eta[idx_c].iloc[0]\n",
    "            print c, x, y\n",
    "            g.ax_joint.scatter(x, y, label=c, marker=m, s=100, color='red')\n",
    "        g.ax_joint.legend(loc=\"best\", bbox_to_anchor=(0.43, 0.8), fontsize=12)\n",
    "        plt.colorbar()\n",
    "        plt.show()\n",
    "        \n",
    "        g.fig.savefig('../figures/density_discrepancy_effort_scaled_%s_%s.svg' % (src, r), format='svg', dpi=1200)\n",
    "        g.fig.show()"
   ]
  },
  {
   "cell_type": "markdown",
   "metadata": {},
   "source": [
    "# Benchmark target variable (luminosity) against others "
   ]
  },
  {
   "cell_type": "markdown",
   "metadata": {},
   "source": [
    "### Exponential model across all cities via linear regression\n",
    "\n",
    "Let's set up a regression model across all cities similar to the exponential model for a given city, with fixed effects for regions, subregions, scales etc. and different coefficients for $\\gamma$ across subregions. \n"
   ]
  },
  {
   "cell_type": "code",
   "execution_count": null,
   "metadata": {},
   "outputs": [],
   "source": [
    "N, D = Xbld_hat_log.shape\n",
    "regions = scales_df['region'].unique()\n",
    "scales_df['population'] = scales_df['population'].apply(lambda x: int(float(x)))\n",
    "R = len(regions)\n",
    "subregions = scales_df['subregion'].unique().tolist()\n",
    "SR = len(subregions)\n",
    "\n",
    "features_X = np.vstack([Xbld_hat_log.flatten(), \n",
    "                        Xpop_hat_log.flatten(), \n",
    "                        Xbnd.flatten()]).T\n",
    "\n",
    "# TODO: implement interaction terms via the statsmodels interface\n",
    "# this is R-like: y ~ a*b + c + d ... (a interacts with b)\n",
    "# construct distance features, one per subregion\n",
    "features_D = np.vstack([np.tile(range(D), N) for _ in range(SR+1)]).T\n",
    "for i,r in scales_df.iterrows():\n",
    "    features_D[(i*D):((i+1)*D),subregions.index(r['subregion'])] = 0\n",
    "\n",
    "categ_df = pd.get_dummies(scales_df.drop(\"city\", 1))\n",
    "features_S = np.tile(categ_df, (D,1))\n",
    "features = np.hstack([features_X, features_D, features_S])\n",
    "\n",
    "feat_names = [\"log_bld\", \"log_pop\", \"bnd\"] + \\\n",
    "            [\"d_%s\"%(s) for s in subregions] + [\"d\"] + \\\n",
    "            categ_df.columns.values.tolist()\n",
    "target = Xlum_hat_log.flatten()\n",
    "\n",
    "features_X.shape, features_D.shape, features_S.shape, target.shape\n"
   ]
  },
  {
   "cell_type": "code",
   "execution_count": null,
   "metadata": {},
   "outputs": [],
   "source": [
    "import statsmodels.api as sm\n",
    "X_ols = pd.DataFrame(sm.add_constant(features), columns=feat_names+[\"intercept\"])\n",
    "ols_model = sm.OLS(target,X_ols)\n",
    "res_ols = ols_model.fit()\n",
    "\n",
    "# get statistically significant coefficients\n",
    "ols_stats = res_ols.summary()\n",
    "ols_coefs_tab = ols_stats.tables[1]\n",
    "feats_signif = res_ols.pvalues[res_ols.pvalues<0.05].index\n",
    "coefs_signif = res_ols.params[feats_signif]\n",
    "feats_signif"
   ]
  },
  {
   "cell_type": "code",
   "execution_count": null,
   "metadata": {},
   "outputs": [],
   "source": [
    "sns.set_context(\"notebook\", font_scale=2)\n",
    "sns.set(style=\"ticks\")\n",
    "\n",
    "gamma_vars = [c for c in coefs_signif.index if 'd_' in c or c=='d']\n",
    "gamma_coefs = coefs_signif[gamma_vars]\n",
    "ax = gamma_coefs.plot(kind=\"bar\", figsize=(6,3), fontsize=12)\n",
    "_ = ax.set_xticklabels([\"$\\gamma_{%s}$\"%(s.split(\"_\")[1].replace(\" \", \" \\ \") if \"_\" in s else \"\") \n",
    "                    for s in gamma_vars], fontsize=14)\n",
    "ax.set_title(\"Exponent $\\gamma_{lum}$ across regions (luminosity)\", fontsize=16)\n",
    "ax.set_ylabel(\"$\\gamma_{lum}$\", fontsize=14)\n",
    "\n",
    "plt.savefig('../figures/benchmark_gamma_coefs.svg', format='svg', dpi=1200)\n",
    "plt.show()\n"
   ]
  },
  {
   "cell_type": "code",
   "execution_count": null,
   "metadata": {},
   "outputs": [],
   "source": [
    "sns.set_context(\"notebook\", font_scale=2)\n",
    "sns.set(style=\"ticks\")\n",
    "\n",
    "other_vars = [c for c in coefs_signif.index if c not in gamma_vars]\n",
    "other_coefs = coefs_signif[other_vars]\n",
    "ax = other_coefs.plot(kind=\"bar\", figsize=(6,3), fontsize=12)\n",
    "ax.set_title(\"Statistically-significant effects for luminosity\", fontsize=16)\n",
    "_ = ax.set_xticklabels([s.replace(\"subregion_\", \"\").replace(\"region_\", \"\").replace(\"scale-\", \"\") for s in other_vars])\n",
    "ax.set_ylabel(\"value\")"
   ]
  },
  {
   "cell_type": "markdown",
   "metadata": {},
   "source": [
    "### Build a tree-based regression model to benchmark profiles\n",
    "\n",
    "The goal here is predictive power, as opposed to interpretability as above. "
   ]
  },
  {
   "cell_type": "code",
   "execution_count": null,
   "metadata": {
    "collapsed": true
   },
   "outputs": [],
   "source": [
    "from sklearn.tree import DecisionTreeRegressor, ExtraTreeRegressor\n",
    "from sklearn.model_selection import cross_val_score\n",
    "from sklearn.linear_model import LinearRegression\n",
    "from sklearn.ensemble import RandomForestRegressor, ExtraTreesRegressor, GradientBoostingRegressor\n",
    "from sklearn.neighbors import KNeighborsRegressor\n",
    "from sklearn.multioutput import MultiOutputRegressor\n",
    "from sklearn.model_selection import train_test_split"
   ]
  },
  {
   "cell_type": "code",
   "execution_count": null,
   "metadata": {},
   "outputs": [],
   "source": [
    "# format features: vector regression case\n",
    "N, D = Xbld_hat.shape\n",
    "features_X = np.hstack([Xbld_hat_log, Xpop_hat_log, Xbnd])\n",
    "features_S = pd.get_dummies(scales_df.drop(\"city\", 1))\n",
    "features = np.hstack([features_X, features_S.values])\n",
    "feat_names = [\"bld_%d\"%i for i in range(D)] + \\\n",
    "            [\"pop_%d\"%i for i in range(D)] + \\\n",
    "            [\"bnd_%d\"%i for i in range(D)] + \\\n",
    "            features_S.columns.values.tolist()\n",
    "target = Xlum_hat_log\n",
    "\n",
    "# split into train/test\n",
    "X_train, X_test, y_train, y_test = train_test_split(features, target, \n",
    "                                                    test_size=0.2)\n",
    "print X_train.shape, X_test.shape, y_train.shape"
   ]
  },
  {
   "cell_type": "code",
   "execution_count": null,
   "metadata": {
    "collapsed": true
   },
   "outputs": [],
   "source": [
    "# regmodel = MultiOutputRegressor(GradientBoostingRegressor(max_depth=20), n_jobs=-1)\n",
    "# 0.155258665025\n",
    "\n",
    "# regmodel = MultiOutputRegressor(LinearRegression(), n_jobs=-1)\n",
    "# 0.356485903159\n",
    "\n",
    "regmodel = MultiOutputRegressor(RandomForestRegressor(n_estimators=100, n_jobs=-1))\n",
    "# 0.453858683607\n",
    "\n",
    "# regmodel = MultiOutputRegressor(DecisionTreeRegressor(max_depth=12), n_jobs=-1)\n",
    "# 0.0914787216912\n",
    "\n",
    "# scores = cross_val_score(regmodel, features, target, cv=5)\n",
    "# print np.mean(scores)"
   ]
  },
  {
   "cell_type": "code",
   "execution_count": null,
   "metadata": {
    "collapsed": true
   },
   "outputs": [],
   "source": [
    "regmodel.fit(features, target)\n",
    "y_pred = regmodel.predict(features)"
   ]
  },
  {
   "cell_type": "code",
   "execution_count": null,
   "metadata": {},
   "outputs": [],
   "source": [
    "feat_imp_df = pd.DataFrame(np.vstack([regmodel.estimators_[i].feature_importances_ for i in range(D)]),\n",
    "                           columns=feat_names)\n",
    "feat_bldg = feat_imp_df.iloc[:,:D]\n",
    "feat_pop = feat_imp_df.iloc[:,D:(2*D)]\n",
    "feat_other = feat_imp_df.iloc[:,(3*D):].mean(0).sort_values(ascending=False)\n",
    "\n",
    "fig, ax = plt.subplots(figsize=(6,6))\n",
    "feat_other.head(30)[::-1].plot(kind=\"barh\", ax=ax)"
   ]
  },
  {
   "cell_type": "code",
   "execution_count": null,
   "metadata": {},
   "outputs": [],
   "source": [
    "plt.imshow(feat_bldg, cmap=cm.gray_r, vmin=0, vmax=0.3)\n",
    "plt.colorbar()\n",
    "plt.title(\"Dependence of $x_{lum}(d)$ on $x_{bld}(d)$\", fontsize=16)\n",
    "plt.xlabel(\"$x_{lum}(d)$\", fontsize=16)\n",
    "plt.ylabel(\"$x_{bld}(d)$ \", fontsize=16)\n",
    "_ = plt.xticks(fontsize=14)\n",
    "_ = plt.yticks(fontsize=12)"
   ]
  },
  {
   "cell_type": "code",
   "execution_count": null,
   "metadata": {},
   "outputs": [],
   "source": [
    "plt.imshow(feat_pop, cmap=cm.gray_r, vmin=0, vmax=0.3)\n",
    "plt.colorbar()\n",
    "plt.title(\"Dependence of $x_{lum}(d)$ on $x_{pop}(d)$\", fontsize=16)\n",
    "plt.xlabel(\"$x_{lum}(d)$\", fontsize=16)\n",
    "plt.ylabel(\"$x_{pop}(d)$ \", fontsize=16)\n",
    "_ = plt.xticks(fontsize=14)\n",
    "_ = plt.yticks(fontsize=12)"
   ]
  },
  {
   "cell_type": "code",
   "execution_count": null,
   "metadata": {},
   "outputs": [],
   "source": [
    "from matplotlib.colors import ListedColormap, Normalize\n",
    "import matplotlib.cm as cm\n",
    "\n",
    "sns.set_context(\"notebook\", font_scale=1.3)\n",
    "fig, ax = plt.subplots(2,1, figsize=(3,7), \n",
    "                       gridspec_kw={\"wspace\":0.05, \"hspace\":0.35},\n",
    "                       sharex=True, sharey=True)\n",
    "\n",
    "mycities = [(\"rio de janeiro\", \"South America\"),\n",
    "            (\"san francisco\", \"Northern America\")]\n",
    "\n",
    "for a,(j,(city, region)) in zip(ax.flatten(),enumerate(mycities)):\n",
    "    idx = (scales_df.city==city) & (scales_df.subregion==region)\n",
    "    mu_bld = Xbld_hat[idx,:].squeeze()\n",
    "    mu_pop = Xpop_hat[idx,:].squeeze()\n",
    "    mu_lum = Xlum_hat[idx,:].squeeze()\n",
    "    mu_lum_pred = np.power(10,y_pred[idx,:].squeeze())\n",
    "    \n",
    "    # compute benchmark luminosity profile\n",
    "    \n",
    "    a.plot(distance_km, mu_bld, lw=2, color=colormap['bldg'], label=\"bldg\", alpha=0.4)\n",
    "    a.plot(distance_km, mu_pop, lw=2, color=colormap['pop'], label=\"pop\", alpha=0.4)\n",
    "    a.plot(distance_km, mu_lum, lw=2, color=colormap['lum'], label=\"lum\", alpha=0.9)\n",
    "    a.plot(distance_km, mu_lum_pred, lw=3, color=colormap['lum'], linestyle=\"--\", label=\"lum-pred\")\n",
    "    a.set_title(city)\n",
    "    if j in [2,3]: a.set_xlabel(\"$d \\ [km]$\")\n",
    "\n",
    "ax[0].legend(loc=\"best\", borderaxespad=0., fontsize=10)\n",
    "ax[0].set_ylabel(\"$\\hat x_{\\cdot}(d)$\")\n",
    "ax[1].set_ylabel(\"$\\hat x_{\\cdot}(d)$\")\n",
    "fig.savefig('../figures/benchmark_profiles_examples.svg', \n",
    "            format='svg', dpi=1200, bbox_inches='tight')\n",
    "fig.show()\n"
   ]
  },
  {
   "cell_type": "code",
   "execution_count": null,
   "metadata": {
    "collapsed": true
   },
   "outputs": [],
   "source": [
    "discrepancy_bench = []\n",
    "effort_emd_bench = []\n",
    "for i in range(Xbld_hat.shape[0]):\n",
    "    mu_lum = Xlum_hat[i,:]\n",
    "    mu_lum_pred = np.power(10, y_pred[i,:])\n",
    "    \n",
    "    # compute normalized discrepancy\n",
    "    dis_lum_tot, dis_lum_reg = compute_discrepancy(mu_lum, mu_lum_pred)\n",
    "    dis_lum_tot_in, dis_lum_reg_in = compute_discrepancy(mu_lum, mu_pop, weights=mu_bnd)\n",
    "    discrepancy_bench.append([dis_lum_tot, dis_lum_tot_in])\n",
    "    \n",
    "    # compute EMD effort\n",
    "    emd_lum = compute_effort_emd(mu_lum, mu_lum_pred)\n",
    "    emd_lum_in = compute_effort_emd(mu_lum, mu_lum_pred, weights=mu_bnd)\n",
    "    effort_emd_bench.append([emd_lum, emd_lum_in])\n",
    "    \n",
    "effort_emd_bench = pd.DataFrame(np.array(effort_emd_bench), columns=[\"lum\", \"lum-in\"])\n",
    "effort_emd_bench = pd.concat([info_df, effort_emd_bench], axis=1)\n",
    "discrepancy_bench = pd.DataFrame(np.array(discrepancy_bench), columns=[\"lum\", \"lum-in\"])\n",
    "discrepancy_bench = pd.concat([info_df, discrepancy_bench], axis=1)"
   ]
  },
  {
   "cell_type": "code",
   "execution_count": null,
   "metadata": {
    "scrolled": false
   },
   "outputs": [],
   "source": [
    "sns.set_context(\"notebook\", font_scale=2)\n",
    "sns.set(style=\"ticks\")\n",
    "\n",
    "cities_region = {\n",
    "    \"Africa\":[\"brazzaville\", 'casablanca'],\n",
    "    \"Americas\":[\"san francisco\", \"rio de janeiro\"],\n",
    "    \"Asia\":[\"mumbai city\", \"shanghai\"],\n",
    "    \"Europe\":['paris', 'barcelona']\n",
    "}\n",
    "\n",
    "for src in [\"lum\"]:\n",
    "    for r in ['Africa', 'Americas', 'Asia', 'Europe']:\n",
    "        idx = info_df['region']==r\n",
    "        pop = scales_df['pop-max'][idx].astype(float)\n",
    "        scl = scales_df['%s-max'%src][idx].astype(float)\n",
    "        emd = effort_emd_bench[\"%s\"%src][idx]\n",
    "        eta = np.log10(emd) # *scl*pop)\n",
    "        eta[np.isinf(eta) | np.isneginf(eta)] = 0\n",
    "        delta = discrepancy_bench[\"%s\"%src][idx]\n",
    "        delta[np.isinf(delta)] = 0\n",
    "        g = sns.jointplot(delta, eta, \n",
    "                          kind=\"hex\", color=colormap[src], size=4.5, stat_func=None,\n",
    "                          xlim=(-1.2,1.2), \n",
    "                          # ylim=(-100,1200), \n",
    "                          cmap=cm.gray_r)\n",
    "        g.ax_joint.set_xlabel(\"discrepancy $\\delta$\", fontsize=14)\n",
    "        g.ax_joint.set_ylabel(\"scaled effort (EMD) $log \\ \\eta^*$\", fontsize=14)\n",
    "        g.ax_marg_x.set_title(r, fontsize=16)\n",
    "        g.ax_joint.axvline(x=0, color=colormap[\"bldg\"])\n",
    "        g.ax_joint.annotate(\"defficient\", xy=(-0.3, 0.5+min(eta)), color=\"red\", \n",
    "                            weight='bold', rotation=90)\n",
    "        g.ax_joint.annotate(\"excess\", xy=(0.1, 0.4+min(eta)), color=\"blue\", \n",
    "                            weight='bold', rotation=-90)\n",
    "        g.ax_joint.annotate(src, xy=(1.4, 0.5+min(eta)*1.1), fontsize=14,\n",
    "                            weight='bold') \n",
    "                            #color=colormap[src])\n",
    "        for c,m in zip(cities_region[r], [\"*\", 'o']):\n",
    "            idx_c = (info_df['city']==c) & (info_df['region']==r)\n",
    "            x,y = delta[idx_c].iloc[0], eta[idx_c].iloc[0]\n",
    "            print c, x, y\n",
    "            g.ax_joint.scatter(x, y, label=c, marker=m, s=100, color='red')\n",
    "        g.ax_joint.legend(loc=\"best\", bbox_to_anchor=(0.525, 1.05), fontsize=12)\n",
    "        plt.colorbar()\n",
    "        g.fig.show()\n",
    "        \n",
    "        g.fig.savefig('../figures/benchmark_density_discrepancy_effort_%s_%s.svg' % (src, r), \n",
    "                    format='svg', dpi=1200, bbox_inches='tight')\n"
   ]
  },
  {
   "cell_type": "code",
   "execution_count": null,
   "metadata": {},
   "outputs": [],
   "source": [
    "idx = (discrepancy_bench['lum']<0)\n",
    "tmp_dis = discrepancy_bench[idx]\n",
    "tmp_emd = effort_emd_bench[idx]\n",
    "tmp_emd[(tmp_dis.lum>-0.7) & (tmp_dis.lum<-0.50) & \\\n",
    "        (tmp_dis['scale-pop'].isin([\"very-large\", \"large\"])) & \\\n",
    "        (tmp_dis.region=='Africa')]\n"
   ]
  },
  {
   "cell_type": "code",
   "execution_count": null,
   "metadata": {
    "scrolled": false
   },
   "outputs": [],
   "source": [
    "tmp_dis[(tmp_dis.lum>-0.7) & (tmp_dis.lum<-0.50) & \\\n",
    "        (tmp_dis['scale-pop'].isin([\"very-large\", \"large\"])) & \\\n",
    "        (tmp_dis.region=='Africa')]\n"
   ]
  },
  {
   "cell_type": "code",
   "execution_count": null,
   "metadata": {},
   "outputs": [],
   "source": [
    "c"
   ]
  },
  {
   "cell_type": "code",
   "execution_count": null,
   "metadata": {},
   "outputs": [],
   "source": [
    "import matplotlib.cm as cm\n",
    "import matplotlib.gridspec as gridspec\n",
    "\n",
    "\n",
    "nimg = 3\n",
    "nrow = 2\n",
    "\n",
    "mycities = [(\"brazzaville\", \"republic of congo\"), \n",
    "#             (\"rio de janeiro\", \"brazil\"), \n",
    "#             (\"san francisco\", \"united states\"), \n",
    "#             (\"barcelona\", \"spain\"),\n",
    "#             (\"mumbai city\", \"india\"), \n",
    "            (\"casablanca\", \"morocco\")]\n",
    "\n",
    "sns.set_context(\"notebook\", font_scale=1.5, rc={\"lines.linewidth\": 1})\n",
    "fig = plt.figure(figsize=(9,6))\n",
    "gs1 = gridspec.GridSpec(nrow,nimg)\n",
    "gs1.update(wspace=0.05, hspace=0.04) # set the spacing between axes. \n",
    "\n",
    "for i,c in enumerate(mycities):\n",
    "    r = scales_df[(scales_df.city == c[0]) & (scales_df.country==c[1])].iloc[0]\n",
    "    img = get_image_data((r['city'], r['country'], r['population']))\n",
    "    bounds_mask = img['bnd']\n",
    "    city_pop = r['population']\n",
    "    cityname = c[0]\n",
    "    \n",
    "    city,smpl_name = cities_smpl[c[0]]\n",
    "    mu_pop = city['profiles']['pop'][0]\n",
    "    mu_pop = mu_pop/mu_pop.max()\n",
    "    mu_lum = city['profiles']['lum'][0]\n",
    "    mu_lum = mu_lum/mu_lum.max()\n",
    "    mu_bnd = city['profiles']['bnds'][0]\n",
    "    \n",
    "    # compute discrepancy\n",
    "    dis_lum, dis_lum_reg = compute_discrepancy(mu_lum, mu_pop)\n",
    "\n",
    "    # plot built areas\n",
    "    ax0 = plt.subplot(gs1[i,0]); ax0.set_xticks([]); ax0.set_yticks([])\n",
    "    overlay_mask(img['bldg'], bounds_mask>0, ax0, cmap=\"gray_r\"); ax0.set_title(\"built areas \\n (SAR)\") if i==0 else None\n",
    "#     # plot Nightlights\n",
    "#     ax1 = plt.subplot(gs1[1,i]); ax1.set_xticks([]); ax1.set_yticks([])\n",
    "#     ax1.imshow(img['lum'], cmap=\"copper\"); ax1.set_ylabel(\"nightlights \\n (VIIRS)\") if i==0 else None\n",
    "#     # plot population\n",
    "#     ax2 = plt.subplot(gs1[2,i]); ax2.set_xticks([]); ax2.set_yticks([])\n",
    "#     ax2.imshow(img['pop'],cmap=\"Greens\"); ax2.set_ylabel(\"population \\n (LandScan)\") if i==0 else None\n",
    "    ax0.set_ylabel(\"%s\\n(pop %s)\"%(cityname, format_pop(city_pop)))\n",
    "    \n",
    "    # plot difference lum - pop\n",
    "    ax4 = plt.subplot(gs1[i,1]); ax4.set_xticks([]); ax4.set_yticks([])\n",
    "    ax4.imshow(img['lum']/float(np.nanmax(img['lum']))-img['pop']/float(np.nanmax(img['pop'])),\n",
    "               cmap=\"bwr\"); \n",
    "    ax4.set_title(\"normalized difference\\n $\\hat x_{lum}-\\hat x_{pop}$\") if i==0 else None\n",
    "    \n",
    "    # plot profiles\n",
    "    ax3 = plt.subplot(gs1[i,2]); ax3.set_xticks([]); ax3.set_yticks([])\n",
    "    for s in ['bldg', 'pop', 'lum', 'bnds']:\n",
    "        mu = city['profiles'][s][0][2:]\n",
    "        scale = mu.max() #v['sum area'][s]\n",
    "        ax3.plot(distance_km[2:], mu / scale, lw=3, label=s, color=colormap[s])\n",
    "    if i == 0:\n",
    "        ax3.set_title(\"$\\hat x_{\\cdot}(d)$\")\n",
    "        ax3.legend(loc=\"best\", prop={'size': 8})\n",
    "    ax3.set_xlabel(\"$d \\ [km]$\")    \n",
    "    \n",
    "    for p,q,d in dis_lum_reg:\n",
    "        ax3.fill_between(distance_km[p:q], mu_lum[p:q], mu_pop[p:q], \n",
    "                             facecolor=\"red\" if d<0 else \"cornflowerblue\",\n",
    "                             interpolate=True, alpha=0.4)\n",
    "fig.savefig('../figures/paper_figure_2.svg', \n",
    "            format='svg', dpi=1200, bbox_inches='tight')\n",
    "fig.show()\n"
   ]
  },
  {
   "cell_type": "code",
   "execution_count": null,
   "metadata": {},
   "outputs": [],
   "source": [
    "sns.set_context(\"notebook\", font_scale=3)\n",
    "sns.set(style=\"ticks\")\n",
    "\n",
    "fig, ax = plt.subplots(1,2, figsize=(8,3), \n",
    "                       gridspec_kw={\"wspace\":0.35, \"hspace\":0.1},\n",
    "                       sharex=True, sharey=False)\n",
    "\n",
    "sns.boxplot(x=\"region\", y='lum', hue=\"scale-pop\", palette=pop_colors,\n",
    "            data=effort_emd_bench, ax=ax[0], hue_order=pop_scales)\n",
    "ax[0].set_xlabel(\"\"); ax[0].set_ylabel(\"\"); \n",
    "# ax[0].set_yticklabels(ax[0].get_yticklabels(), fontsize=12)\n",
    "ax[0].set_xticklabels(ax[0].get_xticklabels(), rotation=30, fontsize=12)\n",
    "ax[0].set_title(\"effort $\\eta$\", fontsize=16) \n",
    "ax[0].set_ylabel(\"effort $\\eta$\", fontsize=14)\n",
    "ax[0].legend_.remove()\n",
    "\n",
    "sns.boxplot(x=\"region\", y='lum', hue=\"scale-pop\", palette=pop_colors,\n",
    "            data=discrepancy_bench, ax=ax[1], hue_order=pop_scales)\n",
    "ax[1].set_xlabel(\"\"); ax[1].set_ylabel(\"\"); \n",
    "ax[1].set_xticklabels(ax[1].get_xticklabels(), rotation=30, fontsize=12)\n",
    "# ax[1].set_yticklabels(ax[1].get_yticklabels(), fontsize=12)\n",
    "ax[1].set_title(\"discrepancy $\\delta$\", fontsize=16)\n",
    "ax[1].set_ylabel(\"discrepancy $\\delta$\", fontsize=14)\n",
    "ax[1].legend(borderaxespad=0., fontsize=16, bbox_to_anchor=(1,1))\n",
    "\n",
    "fig.subplots_adjust(top=0.8)\n",
    "fig.suptitle(\"Discrepancy and effort wrt benchmark for $x_{lum}(d)$\")\n",
    "\n",
    "fig.savefig('../figures/benchmark_discrepancy_effort_distribution.svg', \n",
    "            format='svg', dpi=1200, bbox_inches='tight')\n"
   ]
  },
  {
   "cell_type": "markdown",
   "metadata": {},
   "source": [
    "#### Plot geographical distribution of effort/discrepancy"
   ]
  },
  {
   "cell_type": "code",
   "execution_count": null,
   "metadata": {},
   "outputs": [],
   "source": [
    "discrepancy['population'] = discrepancy['population'].apply(lambda x: int(float(x)))\n",
    "discrepancy_gdf = gpd.GeoDataFrame(pd.merge(discrepancy, cityinfo_df, \n",
    "                                   on=[\"city\", \"country\", \"subregion\", \"population\"])).rename(columns={\"location\":\"geometry\"})\n",
    "effort_emd['population'] = effort_emd['population'].apply(lambda x: int(float(x)))\n",
    "effort_emd_gdf = gpd.GeoDataFrame(pd.merge(effort_emd, cityinfo_df, \n",
    "                                    on=[\"city\", \"country\", \"subregion\", \"population\"])).rename(columns={\"location\":\"geometry\"})\n",
    "discrepancy_bench['population'] = discrepancy_bench['population'].apply(lambda x: int(float(x)))\n",
    "discrepancy_bench_gdf = gpd.GeoDataFrame(pd.merge(discrepancy_bench, cityinfo_df, \n",
    "                                   on=[\"city\", \"country\", \"subregion\", \"population\"])).rename(columns={\"location\":\"geometry\"})\n",
    "effort_emd_bench['population'] = effort_emd_bench['population'].apply(lambda x: int(float(x)))\n",
    "effort_emd_bench_gdf = gpd.GeoDataFrame(pd.merge(effort_emd_bench, cityinfo_df, \n",
    "                                    on=[\"city\", \"country\", \"subregion\", \"population\"])).rename(columns={\"location\":\"geometry\"})\n",
    "print discrepancy_gdf.shape, effort_emd_gdf.shape\n"
   ]
  },
  {
   "cell_type": "code",
   "execution_count": null,
   "metadata": {},
   "outputs": [],
   "source": [
    "plot_map(discrepancy_gdf, column=\"lum\", \n",
    "         title=\"discrepancy $\\delta_{lum}$ across the world\")\n",
    "plt.savefig('../figures/discrepancy_lum.svg', \n",
    "            format='svg', dpi=1200, bbox_inches='tight')"
   ]
  },
  {
   "cell_type": "code",
   "execution_count": null,
   "metadata": {},
   "outputs": [],
   "source": [
    "plot_map(discrepancy_gdf, column=\"bldg\", \n",
    "         title=\"discrepancy $\\delta_{bldg}$ across the world\")\n",
    "plt.savefig('../figures/discrepancy_bldg.svg', \n",
    "            format='svg', dpi=1200, bbox_inches='tight')"
   ]
  },
  {
   "cell_type": "code",
   "execution_count": null,
   "metadata": {},
   "outputs": [],
   "source": [
    "plot_map(discrepancy_bench_gdf, column=\"lum\", \n",
    "         title=\"discrepancy $\\hat \\delta_{lum}$ across the world\")\n",
    "plt.savefig('../figures/benchmark_discrepancy_lum.svg', \n",
    "            format='svg', dpi=1200, bbox_inches='tight')"
   ]
  },
  {
   "cell_type": "code",
   "execution_count": null,
   "metadata": {},
   "outputs": [],
   "source": [
    "plot_map(effort_emd_gdf, column=\"lum\", \n",
    "         title=\"effort $\\eta_{lum}$ across the world\")\n",
    "plt.savefig('../figures/effort_lum.svg', \n",
    "            format='svg', dpi=1200, bbox_inches='tight')"
   ]
  },
  {
   "cell_type": "code",
   "execution_count": null,
   "metadata": {},
   "outputs": [],
   "source": [
    "plot_map(effort_emd_gdf, column=\"bldg\", \n",
    "         title=\"effort $\\eta_{bldg}$ across the world\")\n",
    "plt.savefig('../figures/effort_bldg.svg', \n",
    "            format='svg', dpi=1200, bbox_inches='tight')"
   ]
  },
  {
   "cell_type": "code",
   "execution_count": null,
   "metadata": {},
   "outputs": [],
   "source": [
    "plot_map(effort_emd_bench_gdf, column=\"lum\", \n",
    "         title=\"effort $\\hat \\eta_{lum}$ across the world\")\n",
    "plt.savefig('../figures/benchmark_effort_lum.svg', \n",
    "            format='svg', dpi=1200, bbox_inches='tight')"
   ]
  },
  {
   "cell_type": "markdown",
   "metadata": {},
   "source": [
    "# Cluster cities by spatial profiles\n",
    "\n",
    "The examples above invite the following questions:\n",
    "* can we identify \"classes\" of cities by their general macroeconomic urban form (population density, built area density, luminosity), as described by the average profiles $\\hat{x}_\\cdot (d)$?\n",
    "* how do we model the large amount of variance around these profiles observed in the real data? In particular, can we arrive at a 'functional' model that can, in practice, emulate the real data without the need of complex modeling assumptions?"
   ]
  },
  {
   "cell_type": "markdown",
   "metadata": {},
   "source": [
    "### Compute classes of profiles\n",
    "\n",
    "For this, we stack all the normalized profiles $\\hat x_{\\cdot}(d)$ in one matrix that we cluster via K-Means. We find the 'optimal' number of classes via the gap statistic."
   ]
  },
  {
   "cell_type": "code",
   "execution_count": null,
   "metadata": {
    "collapsed": true
   },
   "outputs": [],
   "source": [
    "from sklearn.cluster import KMeans, MiniBatchKMeans\n",
    "from numpy.random import random_sample\n",
    "from math import sqrt, log\n",
    "\n",
    "# returns series of random values sampled between min and max values of passed col\n",
    "def get_rand_data(col):\n",
    "\trng = col.max() - col.min()\n",
    "\treturn pd.Series(random_sample(len(col))*rng + col.min())\n",
    "\n",
    "def iter_kmeans(df, n_clusters, num_iters=10):\n",
    "    rng =  range(1, num_iters + 1)\n",
    "    vals = pd.Series(index=rng)\n",
    "    for i in rng:\n",
    "        k = MiniBatchKMeans(n_clusters=n_clusters, n_init=10, batch_size=1000)\n",
    "        k.fit(df)\n",
    "        vals[i] = k.inertia_\n",
    "    return vals\n",
    "\n",
    "def gap_statistic(df, max_k=10):\n",
    "    gaps = pd.Series(index = range(1, max_k + 1))\n",
    "    for k in range(1, max_k + 1):\n",
    "        print k,\n",
    "        km_act = MiniBatchKMeans(n_clusters=k, n_init=10, batch_size=1000)\n",
    "        km_act.fit(df)\n",
    "\n",
    "        # get ref dataset\n",
    "        ref = df.apply(get_rand_data)\n",
    "        ref_inertia = iter_kmeans(ref, n_clusters=k).mean()\n",
    "\n",
    "        gap = log(ref_inertia - km_act.inertia_)\n",
    "        gaps[k] = gap\n",
    "    print \"Done!\"\n",
    "\n",
    "    return gaps"
   ]
  },
  {
   "cell_type": "code",
   "execution_count": null,
   "metadata": {
    "collapsed": true
   },
   "outputs": [],
   "source": [
    "X = np.vstack([Xbld_hat, Xpop_hat, Xlum_hat])\n",
    "print X.shape"
   ]
  },
  {
   "cell_type": "code",
   "execution_count": null,
   "metadata": {
    "collapsed": true
   },
   "outputs": [],
   "source": [
    "# gap statistic analysis to find optimum number of clusters\n",
    "\n",
    "gaps = gap_statistic(pd.DataFrame(X), max_k=50)\n",
    "K_star = np.argmax(gaps)"
   ]
  },
  {
   "cell_type": "code",
   "execution_count": null,
   "metadata": {
    "collapsed": true
   },
   "outputs": [],
   "source": [
    "plt.figure(figsize=(6,4))\n",
    "plt.plot(gaps/gaps.max(), lw=3, label=\"gap statistic\", color=colormap['all'])\n",
    "plt.title(\"Optimum # clusters $K^*$\")\n",
    "plt.xlabel(\"# clusters K\")\n",
    "plt.ylabel(\"gap statistic\")\n",
    "plt.legend(loc=\"best\")\n",
    "plt.show()\n"
   ]
  },
  {
   "cell_type": "code",
   "execution_count": null,
   "metadata": {
    "collapsed": true
   },
   "outputs": [],
   "source": [
    "from scipy.spatial.distance import cdist, pdist\n",
    "\n",
    "def kmeans_var_expl(data, n):\n",
    "    kMeansVar = [MiniBatchKMeans(n_clusters=k, batch_size=1000).fit(data) for k in range(1, n)]\n",
    "    centroids = [X.cluster_centers_ for X in kMeansVar]\n",
    "    k_euclid = [cdist(data, cent) for cent in centroids]\n",
    "    dist = [np.min(ke, axis=1) for ke in k_euclid]\n",
    "    wcss = [sum(d**2) for d in dist]\n",
    "    tss = sum(pdist(data)**2)/data.shape[0]\n",
    "    bss = tss - wcss\n",
    "    return tss, bss, wcss"
   ]
  },
  {
   "cell_type": "code",
   "execution_count": null,
   "metadata": {
    "collapsed": true
   },
   "outputs": [],
   "source": [
    "tss, bss, wcss = kmeans_var_expl(X, 50)\n",
    "var_expl = bss/tss"
   ]
  },
  {
   "cell_type": "code",
   "execution_count": null,
   "metadata": {},
   "outputs": [],
   "source": [
    "plt.figure(figsize=(4,3))\n",
    "plt.plot(np.diff(var_expl), lw=3, label=\"dif. pct. \\nvar. expl.\\n $V_k-V_{k-1}$\", color=colormap['all'])\n",
    "plt.axvline(x=12, color='red')\n",
    "plt.title(\"Optimum # clusters $K^*$\")\n",
    "plt.xlabel(\"# clusters K\")\n",
    "plt.ylabel(\"pct. var. expl\")\n",
    "plt.legend(loc=\"best\")\n",
    "plt.text(12, 0.05, \"$|V_k-V_{k-1}|<10^{-3}$\")\n",
    "plt.savefig('../figures/profiles_kmeans_optimal_K.svg', \n",
    "            format='svg', dpi=1200, bbox_inches='tight')"
   ]
  },
  {
   "cell_type": "code",
   "execution_count": null,
   "metadata": {
    "collapsed": true
   },
   "outputs": [],
   "source": [
    "K_star = 12\n",
    "mod = KMeans(n_clusters=K_star, n_init=10)\n",
    "mod.fit(X)\n",
    "centroids = mod.cluster_centers_\n",
    "\n",
    "C = mod.predict(X)\n",
    "C_bld = mod.predict(Xbld)\n",
    "C_pop = mod.predict(Xpop)\n",
    "C_lum = mod.predict(Xlum)"
   ]
  },
  {
   "cell_type": "code",
   "execution_count": null,
   "metadata": {
    "collapsed": true
   },
   "outputs": [],
   "source": [
    "def plot_clusters(X, C, centroids, \n",
    "                  nrow=1, text=\"\", figsize=(6,4), top=0.75,\n",
    "                  xlabels=True):\n",
    "    K = len(np.unique(C))\n",
    "    clust_sizes = pd.Series(C).value_counts().values\n",
    "    nx = nrow\n",
    "    ny = K / nx\n",
    "    fig, ax = plt.subplots(nx,ny, \n",
    "                           gridspec_kw={\"wspace\":0.15, \"hspace\":0.3},\n",
    "                           figsize=figsize, sharex=True, sharey=True)\n",
    "    if len(ax.shape)==1:\n",
    "        ax = np.expand_dims(ax, axis=0)\n",
    "    for k,a in zip(range(K), ax.flatten()):\n",
    "        idx = np.where(C == k)[0]\n",
    "        std = X[idx,:].std(0)\n",
    "        cntr = centroids[k,:]\n",
    "        cntr = cntr / cntr.max()\n",
    "        a.fill_between(distance_km, cntr-std, cntr+std, \n",
    "           color=colormap[text], alpha=0.3)\n",
    "        a.plot(distance_km, cntr, lw=5, color=colormap[text])\n",
    "        a.set_ylim((0,1.1))\n",
    "        # a.axis(\"off\")\n",
    "        a.set_title(\"C%d: %2.1f%%\"%(k,100*float(clust_sizes[k])/clust_sizes.sum()))\n",
    "        if k / ny == nx-1:\n",
    "            if xlabels: a.set_xlabel(\"d [km]\")\n",
    "            a.set_xticks(distance_km[::6])\n",
    "            a.set_xticklabels(distance_km[::6], rotation=30)\n",
    "        if k % ny == 0:\n",
    "            a.set_ylabel(\"$x_{\\cdot}(d)$\")\n",
    "\n",
    "    fig.suptitle(\"Classes of normalized profiles $x_{\\cdot}(d)$: centroids\")\n",
    "    fig.subplots_adjust(top=top)"
   ]
  },
  {
   "cell_type": "code",
   "execution_count": null,
   "metadata": {},
   "outputs": [],
   "source": [
    "sns.set_context(\"notebook\", font_scale=1.5)\n",
    "\n",
    "plot_clusters(X, C, centroids, text=\"all\", \n",
    "              nrow=3, figsize=(14,7), top=0.88, xlabels=False)\n",
    "\n",
    "plt.savefig('../figures/profiles_kmeans.svg', \n",
    "            format='svg', dpi=1200, bbox_inches='tight')"
   ]
  },
  {
   "cell_type": "code",
   "execution_count": null,
   "metadata": {},
   "outputs": [],
   "source": [
    "clust_df = pd.concat([info_df, \n",
    "                      pd.DataFrame(np.vstack([C_bld, C_pop, C_lum]).T, \n",
    "                                   columns=[\"bldg\", \"pop\", \"lum\"])], axis=1)\n",
    "clust_df['pattern'] = map(lambda x,y,z: \"bldg:%s; pop:%s; lum:%s\"%(x,y,z), clust_df[\"bldg\"], clust_df[\"pop\"], clust_df[\"lum\"])\n",
    "clust_df.head()"
   ]
  },
  {
   "cell_type": "markdown",
   "metadata": {},
   "source": [
    "##### How many different patterns are there in which cities \"select\" from these cluster centers?"
   ]
  },
  {
   "cell_type": "code",
   "execution_count": null,
   "metadata": {},
   "outputs": [],
   "source": [
    "pattern_coverage = clust_df['pattern'].value_counts() / float(len(clust_df))\n",
    "\n",
    "fig, ax = plt.subplots(figsize=(4,3))\n",
    "ax.plot(pattern_coverage.cumsum().values, lw=3)\n",
    "ax.set_title(\"Pattern coverage\")\n",
    "ax.set_xlabel(\"# patterns\")\n",
    "ax.set_ylabel(\"pct. coverage\")\n",
    "ax.axvline(x=48, lw=2, color=\"red\")\n",
    "ax.text(50, 0.8, \"$95\\%$ coverage\")\n",
    "\n",
    "plt.savefig('../figures/patterns_profiles_coverage.svg', \n",
    "            format='svg', dpi=1200, bbox_inches='tight')"
   ]
  },
  {
   "cell_type": "code",
   "execution_count": null,
   "metadata": {},
   "outputs": [],
   "source": [
    "pattern_coverage.head(15)[::-1].plot(kind='barh', figsize=(5,4))\n",
    "plt.title(\"Top 15 radial profile patterns\")\n",
    "plt.xlabel(\"pct. coverage\")\n",
    "\n",
    "plt.savefig('../figures/top_patterns.svg', format='svg', dpi=1200, bbox_inches='tight')"
   ]
  },
  {
   "cell_type": "markdown",
   "metadata": {},
   "source": [
    "##### Define a \"cost matrix\" via EMD between cluster centroids"
   ]
  },
  {
   "cell_type": "code",
   "execution_count": null,
   "metadata": {},
   "outputs": [],
   "source": [
    "from sklearn.metrics.pairwise import rbf_kernel, euclidean_distances\n",
    "from scipy.spatial.distance import pdist\n",
    "from sklearn.metrics.pairwise import pairwise_distances\n",
    "from scipy.stats import wasserstein_distance\n",
    "from scipy.spatial.distance import squareform\n",
    "\n",
    "centr_cost_emd = pairwise_distances(centroids, metric = wasserstein_distance)\n",
    "\n",
    "plt.imshow(centr_cost_emd, cmap=cm.GnBu)\n",
    "plt.colorbar()\n",
    "plt.title(\"Effort $\\eta$ between centroids\")\n",
    "plt.xlabel(\"Cluster ID\")\n",
    "plt.ylabel(\"Cluster ID\")\n",
    "_ = plt.xticks(range(K_star))\n",
    "_ = plt.yticks(range(K_star))\n",
    "\n",
    "plt.savefig('../figures/cost_matrix_profiles.svg', \n",
    "            format='svg', dpi=1200, bbox_inches='tight')"
   ]
  },
  {
   "cell_type": "code",
   "execution_count": null,
   "metadata": {},
   "outputs": [],
   "source": [
    "pattern_df = pd.DataFrame(pattern_coverage.values, index=pattern_coverage.index, \n",
    "                          columns=[\"coverage\"])\n",
    "pattern_df['eta_lum'] = map(lambda s: centr_cost_emd[int(s.split(\"; \")[2].split(\":\")[1]),int(s.split(\"; \")[1].split(\":\")[1])],\n",
    "                            pattern_df.index)\n",
    "pattern_df['eta_bldg'] = map(lambda s: centr_cost_emd[int(s.split(\"; \")[0].split(\":\")[1]),int(s.split(\"; \")[1].split(\":\")[1])],\n",
    "                            pattern_df.index)\n",
    "pattern_df.head()"
   ]
  },
  {
   "cell_type": "code",
   "execution_count": null,
   "metadata": {
    "collapsed": true
   },
   "outputs": [],
   "source": [
    "mycities = [(\"paris\", \"france\"), \n",
    "            (\"rio de janeiro\", \"brazil\"), \n",
    "            (\"san francisco\", \"united states\"), \n",
    "            (\"barcelona\", \"spain\"),\n",
    "            (\"mumbai city\", \"india\"), \n",
    "            (\"shanghai\", \"china\")]\n"
   ]
  },
  {
   "cell_type": "code",
   "execution_count": null,
   "metadata": {},
   "outputs": [],
   "source": [
    "fig, ax = plt.subplots(figsize=(6,4))\n",
    "ax.scatter(pattern_df['eta_lum'], pattern_df['eta_bldg'], color=\"gray\", \n",
    "            s = np.log(pattern_df['coverage']*5000)*20, label=\"pattern\")\n",
    "diag_line, = ax.plot(ax.get_xlim(), ax.get_ylim(), ls=\"--\", c=\".3\")\n",
    "ax.set_xlabel(\"$\\eta_{lum}$\")\n",
    "ax.set_ylabel(\"$\\eta_{bldg}$\")\n",
    "ax.set_title(\"Radial profile patterns and effort $\\eta$\")\n",
    "\n",
    "markers = [\"*\", '.', 'o', 'x', '^', '+']\n",
    "for m,c in zip(markers,mycities):\n",
    "    r = clust_df[(clust_df.city==c[0]) & (clust_df.country==c[1])].iloc[0]\n",
    "    s = \"%s: bldg:%d; pop:%d; lum:%d\" % (r['city'], r['bldg'], r['pop'], r['lum'])\n",
    "    p = pattern_df.ix[\"bldg:%d; pop:%d; lum:%d\"%(r['bldg'], r['pop'], r['lum'])]\n",
    "    plt.scatter(p['eta_lum'], p['eta_bldg'], label=s, marker=m, s=200)   \n",
    "plt.legend(loc=\"best\", bbox_to_anchor=(1., 1.08))\n",
    "\n",
    "plt.savefig('../figures/pattern_effort_bldg_lum.svg', \n",
    "            format='svg', dpi=1200, bbox_inches='tight')"
   ]
  },
  {
   "cell_type": "code",
   "execution_count": null,
   "metadata": {},
   "outputs": [],
   "source": [
    "r"
   ]
  },
  {
   "cell_type": "code",
   "execution_count": null,
   "metadata": {},
   "outputs": [],
   "source": [
    "(r['city'], r['country'], r['population'])"
   ]
  },
  {
   "cell_type": "code",
   "execution_count": null,
   "metadata": {},
   "outputs": [],
   "source": [
    "fig, ax = plt.subplots(2,len(mycities), figsize=(14,6), \n",
    "                        gridspec_kw={\"wspace\":0.01, \"hspace\":0.01})\n",
    "for j,c in enumerate(mycities):\n",
    "    r = clust_df[(clust_df.city==c[0]) & (clust_df.country==c[1])].iloc[0]\n",
    "    \n",
    "    # plot city map\n",
    "    img = get_image_data((r['city'], r['country'], r['population']))\n",
    "    s = \"%s: bldg:%d; pop:%d; lum:%d\" % (r['city'], r['bldg'], r['pop'], r['lum'])\n",
    "    title = \"%s\\npop. %s\"%(r['city'], format_pop(r['population']))\n",
    "    ax[0,j].imshow(frame_image(img['lum'] - img['pop']), cmap=lum_cmap)\n",
    "    ax[0,j].axis(\"off\") \n",
    "    ax[0,j].set_title(\"%s\\n%s\"%(r['city'],r['country']))\n",
    "    \n",
    "    # plot profile patterns\n",
    "    for src in ['pop', 'lum']:\n",
    "        cntr = centroids[r[src],:]\n",
    "        ax[1,j].plot(distance_km, cntr / cntr.max(), \n",
    "                     color=colormap[src], lw=3, label=\"%s:C%d\"%(src,r[src]))\n",
    "    ax[1,j].legend(loc=\"best\")\n",
    "    ax[1,j].axis(\"off\")\n"
   ]
  }
 ],
 "metadata": {
  "kernelspec": {
   "display_name": "Python 2",
   "language": "python",
   "name": "python2"
  },
  "language_info": {
   "codemirror_mode": {
    "name": "ipython",
    "version": 2
   },
   "file_extension": ".py",
   "mimetype": "text/x-python",
   "name": "python",
   "nbconvert_exporter": "python",
   "pygments_lexer": "ipython2",
   "version": "2.7.12"
  }
 },
 "nbformat": 4,
 "nbformat_minor": 1
}
